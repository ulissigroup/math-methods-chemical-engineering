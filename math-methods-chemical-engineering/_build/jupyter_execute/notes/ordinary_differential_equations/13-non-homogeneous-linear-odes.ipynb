{
 "cells": [
  {
   "cell_type": "markdown",
   "metadata": {
    "id": "G_J7FG_27Yn4"
   },
   "source": [
    "{{ badge }}\n",
    "$$\\newcommand{\\arr}[1]{\\underline{\\underline{#1}}}$$    \n",
    "$$\\newcommand{\\vec}[1]{\\underline{#1}}$$   \n",
    "$$\\require{mhchem}$$"
   ]
  },
  {
   "cell_type": "markdown",
   "metadata": {
    "id": "AYGFiXqecfhz"
   },
   "source": [
    "# Recap from last class \n",
    "\n",
    "For the 2nd order, linear, constant coefficients, homogeneous differential equation $y'' + ay' + by = 0$ where $a^2-4b<0$, the general solution is:\n",
    "\\begin{align*}\n",
    "y(x) &= e^{-\\frac{a}{2}x}[A\\sin(\\omega x) + B\\cos(\\omega x)] && \\omega = \\sqrt{b - \\frac{1}{4}a^2}\n",
    "\\end{align*}\n",
    "where $A$ and $B$ are our arbitrary constants. All components of the solution are real.\n"
   ]
  },
  {
   "cell_type": "markdown",
   "metadata": {
    "id": "OORAnGil7bj3"
   },
   "source": [
    "## Example\n",
    "\n",
    "$y'' + 2y' + 3y = 0$ ; $\\hspace{0.5cm}y(0) = 2$ and $y'(0) = -3$\\\n",
    "\n"
   ]
  },
  {
   "cell_type": "markdown",
   "metadata": {
    "id": "T9IJoRzKAChS"
   },
   "source": [
    "Characteristic equation:\n",
    "\\begin{align}\n",
    "\\lambda^2 + 2\\lambda + 3 = 0\\\\\n",
    "a = 2, \\hspace{1cm} b = 3\n",
    "\\end{align}\n",
    "* Since $a^2 - 4b = -8$, we have complex roots\n",
    "\\begin{align}\n",
    "\\lambda &= -\\frac{1}{2}a \\pm i\\sqrt{b - \\frac{1}{4}a^2}\\\\\n",
    "&= -\\frac{1}{2}a \\pm i \\omega \\implies \\omega = \\sqrt{2}\\\\\n",
    "\\lambda &= -1 \\pm i\\sqrt{2}\n",
    "\\end{align}\n",
    "* Great, so we know our general solution is:\n",
    "\\begin{align}\n",
    "y(x) &= e^{-\\frac{a}{2}x} [A\\cos(\\omega x) + B\\sin(\\omega x)]\\\\\n",
    "&= e^{-x}[A\\cos(\\sqrt{2}x) + B \\sin(\\sqrt{2}x)]\n",
    "\\end{align}\n",
    "* To find $A$ and $B$, we will also need an expression for $y'(x)$\n",
    "\\begin{align}\n",
    "y'(x) &= -e^{-x}[A\\cos(\\sqrt{2}x) + B\\sin(\\sqrt{2}x)] + + e^{-x}[-\\sqrt{2} A\\sin(\\sqrt{2}x) + \\sqrt{2} B\\cos(\\sqrt{2}x)]\\\\\n",
    "&= e^{-x}[(\\sqrt{2} B - A) \\cos(\\sqrt{2}x) - (\\sqrt{2}A + B)\\sin(\\sqrt{2}x)]\n",
    "\\end{align}\n",
    "\n",
    "Using Initial Conditions:\n",
    "\\begin{align}\n",
    "y(0) = 2 &= e^{-0}[A\\cos(0) + B\\sin(0)]\\\\\n",
    "2&=A\n",
    "\\end{align}\n",
    "and,\n",
    "\\begin{align}\n",
    "y'(0) = -3 &= e^{-0}[(\\sqrt{2}B - A) \\cos(0) - (\\sqrt{2}A + B) \\sin(0)]\\\\\n",
    "-3&=\\sqrt{2}B - A\\\\\n",
    "B &=\\frac{1}{\\sqrt{2}}(-3 + A) = \\frac{1}{\\sqrt{2}}(-3+2)\\\\\n",
    "B &= -\\frac{1}{\\sqrt{2}} = -\\frac{\\sqrt{2}}{2}\n",
    "\\end{align}\n",
    "\\begin{align}\n",
    "\\therefore y(x) = e^{-x}[2 \\cos(\\sqrt{2}x) -\\frac{\\sqrt{2}}{2}\\sin(\\sqrt{2}x)] \\implies \\text{particular solution}\n",
    "\\end{align}"
   ]
  },
  {
   "cell_type": "markdown",
   "metadata": {
    "id": "hZbf7ENnAGPu"
   },
   "source": [
    "$\\underline{\\text{Summary}}$: Homogeneous, linear $2^\\circ$ ODEs with constant coefficients\n",
    "\\begin{align}\n",
    "y'' + ay' + by = 0\n",
    "\\end{align}\n",
    "* Three types of solutions, arising from three cases for the characteristic equation $\\lambda^2 + a\\lambda + b = 0$\n",
    "  1. Two real and different roots\n",
    "  \\begin{align}\n",
    "  y(x) = c_1 ^{\\lambda_1x} + c_2 e^{\\lambda_2x} && \\text{where } \\lambda = \\frac{1}{2}(-a \\pm \\sqrt{a^2 - 4b})\n",
    "  \\end{align}\n",
    "  2. Real, double roots\n",
    "  \\begin{align}\n",
    "  y(x) = c_1 e^{\\lambda x} + c_2 x e^{\\lambda x}\n",
    "  \\end{align}\n",
    "  3. Complex roots\n",
    "  \\begin{align}\n",
    "  y(x) = c_1 e^{-\\frac{a}{2}x}[A \\sin(\\omega x) + B \\cos(\\omega x)] && \\text{where } \\omega = \\sqrt{b - \\frac{1}{4}a^2}\n",
    "  \\end{align}\n",
    "\n",
    "In each case, we have a basis of $\\underline{\\text{two}}$ linearly independent solutions (for $2^{nd}$ order). \n",
    "$\\rightarrow$ in case there's just one, this necessitates that $\\lambda_1 \\neq \\lambda_2$, which is the definition of the case"
   ]
  },
  {
   "cell_type": "markdown",
   "metadata": {
    "id": "rOr3RLv3DnsN"
   },
   "source": [
    "## Non-homogeneous Linear $2^\\circ$ ODEs (sec 2.8)\n",
    "\\begin{align}\n",
    "y'' + p(x) y' + q(x) y = r(x)\n",
    "\\end{align}\n",
    "* We build upon our knowledge of solving the homogenous case to solve non-homogeneous case.\\\n",
    "$\\underline{\\text{General solution}}$:\n",
    "\\begin{align}\n",
    "y(x) = y_H(x) + y_P(x)\n",
    "\\end{align}\n",
    "where $y_H(x) = c_1y_1(x) + c_2y_2(x)$, which is the \"homogeneous solution\" for $r(x)\\equiv 0$ and $y_P(x)$ is the \"particular solution\" which accounts for non-homogeneous part and has no arbitrary constants (we need only two for a $2^\\circ$ ODE)\n",
    "* $\\underline{\\text{NOTE}}$: $c_1$ and $c_2$ must be found using $y(x) = y_H(x) + y_P(x)$, not just $y_H(x)$\n",
    "* We will do an example first and then describe the general method to find $y_P(x)$"
   ]
  },
  {
   "cell_type": "markdown",
   "metadata": {
    "id": "NeymA00NGQZ8"
   },
   "source": [
    "### Example\n",
    " $y'' + 4y = e^x $ ; $\\hspace{0.5cm}y(0) = \\frac{3}{5} $ and $y'(0)=\\frac{4}{5}$\n",
    "\n"
   ]
  },
  {
   "cell_type": "markdown",
   "metadata": {
    "id": "Hdp6WXQakYU2"
   },
   "source": [
    "\n",
    "* First, solve the homogeneous case:\n",
    "\\begin{align}\n",
    "y'' + 4y = 0 \\implies \\text{assume solution of form $e^{\\lambda x}$}\n",
    "\\end{align}\n",
    "characteristic equation:\n",
    "\\begin{align}\n",
    "\\lambda ^ 2 + 4 = 0 \\implies \\lambda = \\pm 2i\\\\\n",
    "a = 0, b = 4 \\implies \\omega = \\sqrt{b - \\frac{1}{4}a^2} = 2\n",
    "\\end{align}\n",
    "$\\implies$ for imaginary roots, we know the solution is:\n",
    "\\begin{align}\n",
    "y_H(x) &= [c_1 \\sin(\\omega x) + c_2 \\cos(\\omega x)] e^{-\\frac{a}{2}x}\\\\\n",
    "&= c_1 \\sin(2x) + c_2 \\cos(2x) \\implies \\text{solution to homogeneous equation} \n",
    "\\end{align}\n",
    "Now, I will tell you that\n",
    "\\begin{align}\n",
    "y_P(x) &= \\frac{1}{5}e^x\\\\\n",
    "\\therefore y(x) &= y_H(x) + \\frac{1}{5}e^x\\\\\n",
    "y'(x) &= y_H'(x) + \\frac{1}{5}e^x\\\\\n",
    "y''(x) &= y_H''(x) + \\frac{1}{5}e^x\n",
    "\\end{align}\n",
    "Plugging these into original non-homogeneous equation:\n",
    "\\begin{align}\n",
    "y_H'' + \\frac{1}{5}e^x + 4(y_H + \\frac{1}{5}e^x) = e^x\\\\\n",
    "y_H'' + \\frac{1}{5}e^x + 4y_H + \\frac{4}{5}e^x = e^x\\\\\n",
    "y_H'' + 4y_H + e^x = e^x && \\implies \\text{equation holds and } y_P(x) = \\frac{1}{5}e^x \\text{is correct}\n",
    "\\end{align}\n",
    "\n",
    "* Now we need the particular solution to the general solution of non-homogeneous equation using initial conditions.\n",
    "  1. \n",
    "  \\begin{align}\n",
    "  y(0) = \\frac{3}{5} &= c_1 \\sin(2\\cdot 0) + c_2 \\cos (2\\cdot 0) + \\frac{1}{5} e^0\\\\\n",
    "  \\frac{3}{5} &= c_2 + \\frac{1}{5}\\\\\n",
    "  c_2 &= \\frac{2}{5}\n",
    "  \\end{align}\n",
    "  2. We need expression for $y'(x)$ for $2^{nd}$ I.C.\n",
    "  \\begin{align}\n",
    "  y'(x) &= 2c_1\\cos(2x) - 2c_2 \\sin(2x) + \\frac{1}{5}e^x\\\\\n",
    "  y'(0) = \\frac{4}{5} &= 2c_1 \\cos(2\\cdot 0) - 2c_2 \\sin(2\\cdot 0) + \\frac{1}{5}e^0\\\\\n",
    "  \\frac{4}{5} &= 2c_1 + \\frac{1}{5}\\\\\n",
    "  c_1 &= \\frac{3}{10}\n",
    "  \\end{align}\n",
    "  \\begin{align}\n",
    "  \\therefore y(x) = \\frac{3}{10} \\sin(2x) + \\frac{2}{5} \\cos(2x) + \\frac{1}{5} e^x \\implies \\text{particular solution to non-homogeneous linear $2^\\circ$ ODE}\n",
    "  \\end{align}\n",
    "\n",
    "* How do we determine $y_P(x)$?\n"
   ]
  },
  {
   "cell_type": "markdown",
   "metadata": {
    "id": "q4IExGVSQ0ap"
   },
   "source": [
    "## Method of Undetermined Coefficients (sec 2.9)\n",
    "\\begin{align}\n",
    "y'' + ay' + by = r(x)\n",
    "\\end{align}\n",
    "* If $r(x)$ is a function s.t. $r'(x)$ is like $r(x)$, e.g. $e^{\\lambda x}$, $\\sin(\\omega x)$, $\\cos(\\omega x)$, $x^n$... we can choose $y_P(x)$ based on $r(x)$ \\\n",
    " "
   ]
  },
  {
   "cell_type": "markdown",
   "metadata": {
    "id": "ovycE4yxVtcx"
   },
   "source": [
    "## Rules (from textbook)\n",
    "\n",
    "\n",
    "Table 2.1: \n",
    "\n",
    "If $r(x)=$ | Choose $y_P(x)=$\n",
    "--- | ---\n",
    "$$ke^{rx}$$ | $$ce^{rx}$$\n",
    "$kx^n$ ($n=0,1,2...$)| $K_nx^n + K_{n-1}x^{n-1} + ... + K_1x + K_0$\n",
    "$k\\cos(\\omega x)$ or $k\\sin(\\omega x)$ | $K\\cos(\\omega x) + M\\sin(\\omega x)$\n",
    "$ke^{\\alpha x}\\cos(\\omega x)$ or $ke^{\\alpha x}\\sin(\\omega x)$ | $e^{\\alpha x}(K\\cos(\\omega x) + M\\sin(\\omega x))$\n",
    "\n",
    "\n",
    "Here are some additional rules; we'll see why these are important later:\n",
    "\n",
    "* **Basic Rule**. If $r(x)$ is one of the functions in the first column in Table 2.1, choose in the same line and determine its undetermined coefficients by substituting $y_p$ and its derivatives into the differential equation.\n",
    "* **Modification Rule**. If a term in your choice for $y_p$ happens to be a solution of the homogeneous ODE corresponding to (4), multiply this term by x (or by  $x^2$ if this solution corresponds to a double root of the characteristic equation of the homogeneous ODE).\n",
    "* **Sum Rule**. If is a sum of functions in the first column of Table 2.1, choose for the sum of the functions in the corresponding lines of the\n",
    "second column."
   ]
  },
  {
   "cell_type": "markdown",
   "metadata": {
    "id": "0SL_qwYnZxDY"
   },
   "source": [
    "$\\underline{\\text{Recap}}$:\n",
    "* Given $y'' + ay' + by = r(x) \\hspace{3cm} (*)$\n",
    "* Solve $y'' + ay' + by = 0$ to get $y_H(x) = c_1y_1 + c_2y_2$\n",
    "* Then choose $y_P(x)$ based on $r(x)$\n",
    "\\begin{align}\n",
    "y(x) = c_1y_1 + c_2y_2 + y_P\\\\\n",
    "y'(x) = c_1y_1' + c_2y_2' + y_p'\\\\\n",
    "y''(x) = c_1y_1'' + c_2y_2'' + y_p''\n",
    "\\end{align}\n",
    "* Plug back into $(*)$ to check:\n",
    "\\begin{align}\n",
    "(c_1y_1'' + c_2y_2'' + y_P'') + a(c_1y_1' + c_2y_2' + y_P') + b(c_1y_1 + c_2y_2 + y_P) = r(x)\\\\\n",
    "c_1(y_1'' + ay_1' + by_1) + c_2(y_2'' + ay_2' + by_2) + y_P'' + ay_P' + by_P = r(x)\n",
    "\\end{align}\n",
    "Therefore, $y_P'' + ay_P' + by_P = r(x)$ and $y_P$ is a linear solution to the problem (which is why only some functions work)"
   ]
  },
  {
   "cell_type": "markdown",
   "metadata": {
    "id": "-JvrHlbtcKF1"
   },
   "source": [
    "### Example: $y'' + 2y' - 3y = 4e^{2x}$\n"
   ]
  },
  {
   "cell_type": "markdown",
   "metadata": {
    "id": "5AUk87UCkvP9"
   },
   "source": [
    "\n",
    "\\begin{align}\n",
    "y(x) = y_H(x) + y_P(x)\n",
    "\\end{align}\n",
    "1. Find $y_H(x)$\n",
    "\\begin{align}\n",
    "\\lambda^2 + 2\\lambda - 3 &= 0\\\\\n",
    "(\\lambda + 3)(\\lambda - 1) &= 0 \\implies \\lambda_1 = 1; \\hspace{0.5cm} \\lambda_2 = -3\n",
    "\\end{align}\n",
    "\\begin{align}\n",
    "\\therefore y_H(x) = c_1e^x + c_2 e^{-3x}\n",
    "\\end{align}\n",
    "2. Choose $y_P(x)$ based on $r(x)$\\\n",
    "$\\implies$ Since $r(x) = 4e^{2x}$, let's pick $y_p(x) = Ke^{2x}$, where $K$ is the undetermined coefficient (not arbitrary)\n",
    "3. Find $K$ from non-homogeneous ODE\n",
    "\\begin{align}\n",
    "y_P'' + 2y_p' - 3y_p = 4e^{2x}\\\\\n",
    "y_p' = 2Ke^{2x}\\\\\n",
    "y_P'' = 4Ke^{2x}\n",
    "\\end{align}\n",
    "\\begin{align}\n",
    "\\implies 4Ke^{2x} + 4Ke^{2x} - 3Ke^{2x} = 4e^{2x}\\\\\n",
    "5K = 4\\\\\n",
    "K = \\frac{4}{5}\n",
    "\\end{align}\n",
    "4. Write down general solution\n",
    "\\begin{align}\n",
    "y(x) = y_H(x) + y_P(x)\\\\\n",
    "y(x) = c_1e^x + c_2e^{-3x} + \\frac{4}{5}e^{2x}\n",
    "\\end{align}\n",
    "Still need 2 IC's to find $c_1$ and $c_2$"
   ]
  },
  {
   "cell_type": "markdown",
   "metadata": {
    "id": "nz23TE2ddAB8"
   },
   "source": [
    "# In-class problem\n",
    "\n",
    "Consider the differential equation $$y''+y=0.001x^2$$ The homogeneous solution is $$y_h=A\\cos x+B\\sin x$$, as we saw in class last week. Find a particular solution to this differential equation using the MoUC rules above."
   ]
  },
  {
   "cell_type": "markdown",
   "metadata": {
    "id": "jYFvAv4lzDGc"
   },
   "source": [
    "## Non-homogeneous Linear $2^\\circ$ ODEs Continued"
   ]
  },
  {
   "cell_type": "markdown",
   "metadata": {
    "id": "1Gpmw0jOI8HE"
   },
   "source": [
    "$\\underline{\\text{Caution}}$: If you choose a $y_P(x)$ that is not linearly independent of $y_1$ and $y_2$, things will go wrong.\n",
    "\n",
    "### Example: $y'' - 4y = 4e^{2x}$\n"
   ]
  },
  {
   "cell_type": "markdown",
   "metadata": {
    "id": "ojUsrlmbk3jw"
   },
   "source": [
    "1. Solve $y'' - 4y = 0$\n",
    "\\begin{align}\n",
    "\\lambda^2 - 4 &= 0 \\implies \\lambda_1 = 2; \\hspace{0.5cm} \\lambda_2 = -2\\\\\n",
    "y_H(x) &= c_1e^{2x} + c_2 e^{-2x}\n",
    "\\end{align}\n",
    "2. Choose $y_P(x)$ based on $r(x)$\\\n",
    "Since $r(x) = 4e^{2x}$, choose $y_P(x) = Ke^{2x}$ as before.\\\n",
    "SPOILER: $Ke^{2x}$ is not linearly independent of $y_1(x) = e^{2x}$\n",
    "3. Find $K$ from non-homogeneous ODE\n",
    "\\begin{align}\n",
    "y_P'' - 4y_P = 4e^{2x}\\\\\n",
    "y_P' = 2Ke^{2x}\\\\\n",
    "y_P'' = 4Ke^{2x}\\\\\n",
    "\\implies 4Ke^{2x} - 4Ke^{2x} = 4e^{2x}\\\\\n",
    "0 = 4e^{2x} \\hspace{2cm} ??\n",
    "\\end{align}\n",
    "Step back:\n",
    "* If $y(p)$ isn't linearly independent, it can't be absorbed into $y_H(x)$.\n",
    "\n",
    "\\begin{align}\n",
    "y(x) &= c_1e^{2x} + c_2e^{-2x} + Ke^{2x}\\\\\n",
    "&= (c_1 + K)e^{2x} + c_2 e^{-2x} \\implies \\text{no undefined coefficient}\n",
    "\\end{align}\n",
    "* Solution: If $y_P(x)$ is linearly dependent on $y_1(x)$ or $y_2(x)$, multiply $y_P(x)$ by $x$ to obtain a linearly independent new $y_P(x)$ based on Reduction of Order.\\\n",
    "Therefore, choose $y_P(x) = Kxe^{2x}$. Then,\n",
    "\\begin{align}\n",
    "y_P'(x) &= Ke^{2x} + 2Kxe^{2x}\\\\\n",
    "y_P''(x) &= 2Ke^{2x} + 2Ke^{2x} + 4Kxe^{2x}\\\\\n",
    "&= 4Ke^{2x} + 4Kxe^{2x}\n",
    "\\end{align}\n",
    "\n",
    "3. Find $K$ \n",
    "\\begin{align}\n",
    "y_P'' - 4y_P = 4e^{2x}\\\\\n",
    "4Ke^{2x} + 4Kxe^{2x} - 4Kxe^{2x} = 4e^{2x}\\\\\n",
    "4K = 4\\\\\n",
    "K=1\\\\\n",
    "\\therefore y_P(x) = xe^{2x}\n",
    "\\end{align}\n",
    "4. General Solution\n",
    "\\begin{align}\n",
    "y(x) &= y_H(x) + y_P(x)\\\\\n",
    "y(x) &= c_1e^{2x} + c_2e^{-2x} + xe^{2x}\n",
    "\\end{align}"
   ]
  },
  {
   "cell_type": "markdown",
   "metadata": {
    "id": "TkGMb0jlNYTF"
   },
   "source": [
    "* Another place to be careful:\\\n",
    "$\\implies$ Double roots yields a homogeneous solution\n",
    "\\begin{align}\n",
    "y_H(x) = c_1e^{\\lambda x} + c_2xe^{\\lambda x}\n",
    "\\end{align}\n",
    "$\\implies$ Again, you must be careful to select $y_P(x)$ s.t. it is linearly independent.\\\n",
    "$\\implies$ if $r(x) \\propto e^{\\lambda x} $ or $xe^{\\lambda x}$, then $y_P(x) = Kx^2e^{\\lambda x}$ (Obtained from a second reduction of order)"
   ]
  },
  {
   "cell_type": "markdown",
   "metadata": {
    "id": "j2iYgDoIOpvB"
   },
   "source": [
    "### More complex example: $y'' + 2y' -3y = -3x^2 + \\sin(x)$\n",
    "\n"
   ]
  },
  {
   "cell_type": "markdown",
   "metadata": {
    "id": "WSCAWvZHlKtN"
   },
   "source": [
    "\n",
    "1. Solve the homogeneous ODE\n",
    "\\begin{align}\n",
    "y'' + 2y' - 3y = 0\\\\\n",
    "\\lambda^2 + 2\\lambda -3 = 0\\\\\n",
    "(\\lambda+3)(\\lambda-1) = 0 && \\implies \\lambda_1 = 1, \\hspace{0.5cm} \\lambda_2 = -3\\\\\n",
    "y_H(x) = c_1e^x + c_2e^{-3x}\n",
    "\\end{align}\n",
    "2. Choose $y_P(x)$ based on $r(x)$\\\n",
    "$\\underline{\\text{Rule}}$: If $r(X)$ is a sum of wo functions, then $y_P(x)$ should be a sum of the corresponding functions.\n",
    "\\begin{align}\n",
    "r(x) &= -3x^2 + \\sin(x)\\\\\n",
    "\\therefore y_P(x) &= Ax^2 + Bx + C + K\\sin(x) + M\\cos(x)\n",
    "\\end{align}\n",
    "3. Find undetermined coefficients from ODE\n",
    "\\begin{align}\n",
    "y_P' &= 2Ax + B + K\\cos(x) - M\\sin(x)\\\\\n",
    "y_P'' &= 2A - K\\sin(x) - M\\cos(x)\n",
    "\\end{align}\n",
    "* Plugging into ODE:\n",
    "\\begin{align}\n",
    "2A - K\\sin(x) - M\\cos(x) + 2[2Ax + B + K\\cos(x) - M\\sin(x)] - 3[Ax^2 + Bx + C + K\\sin(x) + M\\cos(x)] = -3x^2 + \\sin(x)\n",
    "\\end{align}\n",
    "* Rearrange to collect 'like' terms\n",
    "\\begin{align}\n",
    "-3Ax^2 + (4A - 3B)x + (2A + 2B - 3C) + (-K -2M -3K)\\sin(x) + (-M + 2K -3M)\\cos(x) = -3x^2 + \\sin(x)\n",
    "\\end{align}\n",
    "\n",
    "* Determine the values of the coefficients on each $f(x)$ that will solve the equation\n",
    "  1. $-3Ax^2 = -3x^2 \\implies A = 1$ \n",
    "  2. $(4A-3B)x - 0$ because $r(x)$ has no '$x$' term . Hence, $4-3B = 0 \\implies B = \\frac{4}{3}$\n",
    "  3. $2A + 2B - 3C = 0 \\implies 2+\\frac{8}{3} - 3C = 0 \\implies C=\\frac{14}{9}$\n",
    "  4.  $-K -2M -3K = 1 \\implies 2M = -4K -1 \\implies M = -2K -\\frac{1}{2}$\n",
    "  5. \n",
    "  \\begin{align}\n",
    "  -M + 2K -3M = 0\\\\\n",
    "  2K = 4M\\\\\n",
    "  K = 2(-2K-\\frac{1}{2}) = -4K-1\\\\\n",
    "  \\implies K = -\\frac{1}{5}\\\\\n",
    "  \\implies M = -\\frac{1}{10}\n",
    "  \\end{align} \n",
    "  \\begin{align}\n",
    "  \\therefore y_P(x) = -3x^2 + \\frac{4}{3}x + \\frac{14}{9}-\\frac{1}{10}(2\\sin x + \\cos x)\n",
    "  \\end{align}\n",
    "\n",
    "4. Write down the general solution\n",
    "\\begin{align}\n",
    "y(x) &= y_H(x) + y_P(x)\\\\\n",
    "&= c_1e^x + c_2e^{-3x} + y_P(x)\n",
    "\\end{align}"
   ]
  }
 ],
 "metadata": {
  "colab": {
   "collapsed_sections": [
    "-JvrHlbtcKF1",
    "1Gpmw0jOI8HE",
    "j2iYgDoIOpvB"
   ],
   "name": "13-non-homogeneous-linear-odes.ipynb",
   "provenance": []
  },
  "kernelspec": {
   "display_name": "Python 3",
   "name": "python3"
  }
 },
 "nbformat": 4,
 "nbformat_minor": 0
}