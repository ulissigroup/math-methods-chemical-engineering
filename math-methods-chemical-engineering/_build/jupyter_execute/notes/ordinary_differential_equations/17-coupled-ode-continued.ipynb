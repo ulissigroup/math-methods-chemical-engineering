{
 "cells": [
  {
   "cell_type": "markdown",
   "metadata": {
    "id": "VazG0_L_BOyg"
   },
   "source": [
    "{{ badge }}\n",
    "$$\\newcommand{\\arr}[1]{\\underline{\\underline{#1}}}$$    \n",
    "$$\\newcommand{\\vec}[1]{\\underline{#1}}$$   \n",
    "$$\\require{mhchem}$$"
   ]
  },
  {
   "cell_type": "markdown",
   "metadata": {
    "id": "3LLNogaWh7c7"
   },
   "source": [
    "# Recap for coupled differential equations:\n",
    "Coupled homogeneous 1st order ODEs:\n",
    "* $\\vec{y'} = \\arr{A} \\vec{y}$ where $\\vec{y}$ is a vector of unknown functions. \n",
    "* $\\vec{y} = [y_1, y_2, y_3, ... y_n]^T$ represents an $n^{th}$ order system with $n\\times n \\ \\arr{A}$ \n",
    "* We assumed that $\\vec{x}e^{\\lambda t}$ was a solution, then showed that it was. \n",
    "* We proved that the eigenvalues and eigenvectors of $\\arr{A}$ yield the solution\n",
    "\\begin{align}\n",
    "\\vec{y} = c_1\\vec{x}^{(1)}e^{\\lambda_1t} + c_2\\vec{x}^{(2)}e^{\\lambda_2t} + ... + c_n\\vec{x}^{(n)}e^{\\lambda_n t}\n",
    "\\end{align}\n",
    "* In the last class, we looked at examples of coupled $1^\\circ$ ODEs with real, distict eigenvalues.\n"
   ]
  },
  {
   "cell_type": "markdown",
   "metadata": {
    "id": "K0R8pev9vwg2"
   },
   "source": [
    "## Now let's look at complex eigenvalues\n",
    "\n",
    "$\\underline{\\text{Ex}}$:\n",
    "\\begin{align}\n",
    "y_1' &= 2y_2\\\\\n",
    "y_2' &= -2y_1\\\\\n",
    "\\begin{bmatrix}y_1' \\\\ y_2' \\end{bmatrix} &= \\begin{bmatrix} 0 & 2 \\\\ -2 & 0 \\end{bmatrix} \\begin{bmatrix} y_1 \\\\ y_2 \\end{bmatrix}\\\\\n",
    "\\implies \\vec{y}' &= \\arr{A}\\vec{y} \\text{  where } \\arr{A} = \\begin{bmatrix} 0 & 2 \\\\ -2 & 0 \\end{bmatrix}\n",
    "\\end{align}\n",
    "\n",
    "Can you guess what the solutions are going to look like? "
   ]
  },
  {
   "cell_type": "markdown",
   "metadata": {
    "id": "LQu0XSLJmWC2"
   },
   "source": [
    "1. Find eigenvalues of $\\arr{A}$:\n",
    "\\begin{align}\n",
    "\\det(\\arr{A} - \\lambda\\arr{I}) = 0\\\\\n",
    "\\left| \\begin{array}{}0 - \\lambda & 2 \\\\ -2 & 0-\\lambda \\end{array}\\right| = 0 = \\lambda^2 + 4\\\\\n",
    "\\lambda = \\pm 2i \\rightarrow \\lambda_1 = 2i, \\  \\lambda_2 = -2i\n",
    "\\end{align}\n",
    "2. Find eigenvectors\\\n",
    "Set $(\\arr{A} - \\lambda\\arr{I})\\vec{x}^{(1)} = \\vec{0}$\n",
    "  * For $\\lambda_1 = 2i$\n",
    "  \\begin{align}\n",
    "  \\begin{bmatrix} -2i & 2 \\\\ -2 & -2i\\end{bmatrix} \\begin{bmatrix} x_1 \\\\ x_2 \\end{bmatrix} = \\begin{bmatrix} 0 \\\\ 0 \\end{bmatrix}\\\\\n",
    "  \\implies -2ix_1 + 2x_2 = 0\\\\\n",
    "  [-2x_1 - 2ix_2 = 0]i && \\text{(redundant)}\n",
    "  \\rightarrow -2ix_1 + 2x_2 = 0\\\\\n",
    "  ix_1 = x_2 \\implies \\vec{x}^{(1)} = \\begin{bmatrix} 1 \\\\ i \\end{bmatrix}\n",
    "  \\end{align}\n",
    "  * For $\\lambda_2 = -2i$ \n",
    "  \\begin{align}\n",
    "\\begin{bmatrix} 2i & 2 \\\\ -2 & 2i \\end{bmatrix} \\begin{bmatrix} x_1 \\\\ x_2 \\end{bmatrix} = \\begin{bmatrix} 0 \\\\ 0 \\end{bmatrix}\\\\\n",
    "\\implies 2ix_1 + 2x_2 = 0\\\\\n",
    "-ix_1 = x_2 \\implies \\vec{x}^{(2)} = \\begin{bmatrix} 1 \\\\ i \\end{bmatrix} = \\begin{bmatrix} i \\\\ 1 \\end{bmatrix}\n",
    "  \\end{align}\n",
    "$\\therefore$ General solution is:\n",
    "\\begin{align}\n",
    "\\vec{y} = c_1 \\begin{bmatrix} 1 \\\\ i \\end{bmatrix}e^{2it} + c_2 \\begin{bmatrix} 1 \\\\ -i \\end{bmatrix} e^{-2it}\n",
    "\\end{align}\n",
    "Not very useful since it's imaginary\n",
    "* We will again use Euler's Formula:\n",
    "\\begin{align}\n",
    "e^{2it} &= \\cos(2t) + i\\sin(2t)\\\\\n",
    "e^{-2it} &= \\cos(-2t) + i\\sin(-2t)\\\\\n",
    "&= \\cos(2t) - i\\sin(2t)\n",
    "\\end{align}\n",
    "* Looking at part of the solution:\n",
    "\\begin{align}\n",
    "\\begin{bmatrix} 1 \\\\ i \\end{bmatrix} e^{2it} &= \\begin{bmatrix} 1 \\\\ i \\end{bmatrix} (\\cos 2t + i\\sin 2t)\\\\\n",
    "&= \\begin{bmatrix} \\cos 2t + i\\sin 2t \\\\ i\\cos 2t - \\sin 2t \\end{bmatrix}\\\\\n",
    "&= \\begin{bmatrix} \\cos 2t \\\\ -\\sin 2t \\end{bmatrix} + i \\begin{bmatrix} \\sin 2t \\\\ \\cos 2t\\end{bmatrix}\\\\\n",
    "&= \\vec{a} + i\\vec{b}\\\\\n",
    "\\begin{bmatrix} 1 \\\\ -i \\end{bmatrix} e^{-2it} &= \\begin{bmatrix} 1 \\\\ -i \\end{bmatrix} (\\cos 2t - i\\sin 2t)\\\\\n",
    "&= \\begin{bmatrix} \\cos 2t - i\\sin 2t \\\\ -i\\cos 2t - \\sin 2t \\end{bmatrix}\\\\\n",
    "&= \\begin{bmatrix} \\cos 2t \\\\ -\\sin 2t \\end{bmatrix} - i \\begin{bmatrix} \\sin 2t \\\\ \\cos 2t\\end{bmatrix}\\\\\n",
    "&= \\vec{a} - i\\vec{b}\n",
    "\\end{align}"
   ]
  },
  {
   "cell_type": "markdown",
   "metadata": {
    "id": "nLX2VCfztfAb"
   },
   "source": [
    "* Can we form real solutions from the imaginary solutions?\\\n",
    "$\\implies$ Let's try multiplying sum of imaginary solutions by $\\frac{1}{2}$\n",
    "\\begin{align}\n",
    "\\frac{1}{2} \\left\\{\\begin{bmatrix} 1 \\\\ i \\end{bmatrix} e^{2it} + \\begin{bmatrix} 1 \\\\ -i\\end{bmatrix}e^{-2it} \\right\\} &= \\frac{1}{2}(\\vec{a} + i\\vec{b} + \\vec{a} - i\\vec{b})\\\\\n",
    "&= \\frac{1}{2}(2\\vec{a})\\\\\n",
    "&= \\vec{a} && \\rightarrow\\text{the sum of two linearly independent solutions is also a solution}\\\\\n",
    "-\\frac{i}{2} \\left\\{\\begin{bmatrix} 1 \\\\ i \\end{bmatrix} e^{2it} - \\begin{bmatrix} 1 \\\\ -i\\end{bmatrix}e^{-2it} \\right\\} &= -\\frac{i}{2}(\\vec{a} + i\\vec{b} - \\vec{a} + i\\vec{b})\\\\\n",
    "&= -\\frac{i}{2}\\cdot 2i\\vec{b}\\\\\n",
    "&= \\vec{b} && \\rightarrow\\text{the difference of two linearly independent solutions is also a solution}\n",
    "\\end{align}\n",
    "$\\therefore \\vec{y} = c_1 \\vec{a} + c_2 \\vec{b}$ is a real representation of the general solution\n",
    "\\begin{align}\n",
    "\\vec{y} = c_1 \\begin{bmatrix} \\cos 2t \\\\ -\\sin 2t \\end{bmatrix} + c_2 \\begin{bmatrix} \\sin 2t \\\\ \\cos 2t \\end{bmatrix}\n",
    "\\end{align}\n",
    "OR \n",
    "\\begin{align}\n",
    "y_1(t) &= c_1 \\cos 2t + c_2 \\sin 2t\\\\\n",
    "y_2(t) &= -c_1\\sin 2t + c_2\\cos 2t\n",
    "\\end{align}\n",
    "\n",
    "## General solution for complex eigenvalues\n",
    "\n",
    "We don't have to go through all of this work every time! \n",
    "\n",
    "\n",
    "* For pairs of complex conjugate eigenvalues $\\lambda\\pm  \\omega i$ with eigenvectors $\\vec{x}=\\vec{a}\\pm \\vec{b}i$ (the eigenvectors are also complex conjugates), the form will be:\n",
    "\\begin{align}\n",
    "\\vec{y}=e^\\lambda t\\left[c_1(\\vec{a}\\cos\\omega t-\\vec{b}\\sin \\omega t)+c_2(\\vec{a}\\sin\\omega t+\\vec{b}\\cos \\omega t)\\right]\n",
    "\\end{align}\n",
    "* To be clear, here $\\vec{a}$ is the real part of the eigenvector, and $\\vec{b}$ is the imaginary part of the eigenvector. \n",
    "\n",
    "* For the above example ($\\lambda=\\pm 2i$, eigenvector $\\vec{x}=[1,\\pm i]$, this yields\n",
    "\\begin{align}\n",
    "\\vec{y}&=e^0 t\\left[c_1\\left(\\begin{bmatrix}1\\\\0\\end{bmatrix}\\cos2 t-\\begin{bmatrix}0\\\\1\\end{bmatrix}\\sin 2 t\\right)+c_2\\left(\\begin{bmatrix}1\\\\0\\end{bmatrix}\\sin2 t+\\begin{bmatrix}0\\\\1\\end{bmatrix}\\cos 2 t\\right)\\right]\\\\\n",
    "y_1&=c_1\\cos2t +c_2 \\sin2t\\\\\n",
    "y_2&=-c_1\\sin 2t+c_2\\cos2t\n",
    "\\end{align}"
   ]
  },
  {
   "cell_type": "markdown",
   "metadata": {
    "id": "zNpMZN9Fv_IM"
   },
   "source": [
    "### Numerical solution to this example\n",
    "\n",
    "Remember, when we solve this numerically, we also need initial conditions. So let's say that $y_1(t=0)=2$ and $y_2(t=0)=0.5$"
   ]
  },
  {
   "cell_type": "code",
   "execution_count": null,
   "metadata": {
    "colab": {
     "base_uri": "https://localhost:8080/",
     "height": 296
    },
    "executionInfo": {
     "elapsed": 765,
     "status": "ok",
     "timestamp": 1647953304770,
     "user": {
      "displayName": "Zachary Ulissi",
      "photoUrl": "https://lh3.googleusercontent.com/a/default-user=s64",
      "userId": "07633171379186475882"
     },
     "user_tz": 240
    },
    "id": "hgrncdz1wLEz",
    "outputId": "0997385d-bc28-4080-d037-7f289f98026a"
   },
   "outputs": [
    {
     "data": {
      "text/plain": [
       "Text(0, 0.5, 'y')"
      ]
     },
     "execution_count": 3,
     "metadata": {},
     "output_type": "execute_result"
    },
    {
     "data": {
      "image/png": "[encoded data removed]",
      "text/plain": [
       "<Figure size 432x288 with 1 Axes>"
      ]
     },
     "metadata": {
      "filenames": {
       "image/png": "/home/jovyan/math-methods-chemical-engineering/math-methods-chemical-engineering/_build/jupyter_execute/notes/ordinary_differential_equations/17-coupled-ode-continued_6_1.png"
      },
      "needs_background": "light"
     },
     "output_type": "display_data"
    }
   ],
   "source": [
    "import numpy as np\n",
    "from scipy.integrate import solve_ivp\n",
    "import matplotlib.pyplot as plt\n",
    "\n",
    "A = np.array([[0, 2],\n",
    "              [-2,0]])\n",
    "\n",
    "def linear_homogeneous_diffeq(t, y):\n",
    "  return A@y\n",
    "\n",
    "def linear_diffeq(t, y):\n",
    "  return [2*y[1],\n",
    "          -2*y[0]]\n",
    "\n",
    "\n",
    "tspan = [0, 10]\n",
    "y0 = [2, 0.5]\n",
    "t_eval = np.linspace(0,10,100)\n",
    "\n",
    "sol = solve_ivp(linear_homogeneous_diffeq, tspan, y0, t_eval=t_eval)\n",
    "\n",
    "plt.plot(sol.t, sol.y.T,'o-')\n",
    "plt.xlabel('Time t')\n",
    "plt.ylabel('y')\n"
   ]
  },
  {
   "cell_type": "markdown",
   "metadata": {
    "id": "5GJ5X1x7B4c7"
   },
   "source": [
    "## More than two coupled linear equations:\n",
    "\n",
    "Very easy to add more to our systems\n",
    "\n",
    "\n",
    "$\\underline{\\text{Ex}}$: \n",
    "\\begin{align}\n",
    "y_1' &= 3y_1 + 5y_2 + 3y_3\\\\\n",
    "y_2' &= 4y_2 + 6y_3\\\\\n",
    "y_3' &= y_3\n",
    "\\end{align}\n",
    "* Note that equation 3 isn't coupled, so in this case we can either solve that separately and plug into first two, or treat as 3D system:\n",
    "\\begin{align}\n",
    "\\vec{y}' = \\arr{A}\\vec{y} \\ \\text{ where } \\vec{y} = \\begin{bmatrix} y_1 \\\\ y_2 \\\\ y_3 \\end{bmatrix} \\text{ and } \\arr{A} = \\begin{bmatrix} 3 & 5 & 3 \\\\ 0 & 4 & 6 \\\\ 0 & 0 & 1 \\end{bmatrix}\n",
    "\\end{align}\n",
    "* The solution will be of the form:\n",
    "\\begin{align}\n",
    "\\vec{y} = c_1 \\vec{x}^{(1)}e^{\\lambda_1 t} + c_2 \\vec{x}^{(2)}e^{\\lambda_2 t} + c_3 \\vec{x}^{(3)}e^{\\lambda_3 t} \n",
    "\\end{align}\n",
    "where $\\lambda$'s are the eigenvalues of $\\arr{A}$ and $\\vec{x}^{(i)}$'s are the eigenvectors of $\\arr{A}$\n",
    "\\begin{align}\n",
    "\\arr{A} &= \\begin{bmatrix} 3 & 5 & 3 \\\\ 0 & 4 & 6 \\\\ 0 & 0 & 1 \\end{bmatrix} \\\\\n",
    "\\implies \\lambda_1 &= 3,\\ \\vec{x}^{(1)} = \\begin{bmatrix} 1 & 0 & 0 \\end{bmatrix}^T\\\\\n",
    "\\lambda_2 &= 4,\\ \\vec{x}^{(2)} = \\begin{bmatrix} 5 & 1 & 0 \\end{bmatrix}^T\\\\\n",
    "\\lambda_3 &= 1,\\ \\vec{x}^{(3)} = \\begin{bmatrix} 7 & -4 & 2 \\end{bmatrix}^T\n",
    "\\end{align}\n",
    "\\begin{align}\n",
    "\\therefore \\vec{y} = c_1 \\begin{bmatrix} 1 \\\\ 0 \\\\ 0 \\end{bmatrix} e^{3t} + c_2 \\begin{bmatrix} 5 \\\\ 1 \\\\ 0 \\end{bmatrix} e^{4t} + c_3 \\begin{bmatrix} 7 \\\\ -4 \\\\ 2 \\end{bmatrix} e^{t} \n",
    "\\end{align}\n",
    "OR:\n",
    "\\begin{align}\n",
    "y_1(t) &= c_1 e^{3t} + 5c_2e^{4t} + 7c_3e^t\\\\\n",
    "y_2(t) &= c_2e^{4t} - 4c_3e^t\\\\\n",
    "y_3(t) &= 2c_3e^t \n",
    "\\end{align}\n",
    "* It's easy to check the solution to $y_3$ as it can be decoupled and is a solution to $y_3' = y_3$. \n",
    "* Will need three initial conditions to find particular solution.\n"
   ]
  },
  {
   "cell_type": "code",
   "execution_count": null,
   "metadata": {
    "colab": {
     "base_uri": "https://localhost:8080/"
    },
    "executionInfo": {
     "elapsed": 119,
     "status": "ok",
     "timestamp": 1647953486303,
     "user": {
      "displayName": "Zachary Ulissi",
      "photoUrl": "https://lh3.googleusercontent.com/a/default-user=s64",
      "userId": "07633171379186475882"
     },
     "user_tz": 240
    },
    "id": "PUMgSbt5P7kz",
    "outputId": "92574aee-7d63-4b96-ae7c-3c301fa46948"
   },
   "outputs": [
    {
     "name": "stdout",
     "output_type": "stream",
     "text": [
      "[3. 4. 1.]\n",
      "[ 0.84270097 -0.48154341  0.24077171]\n",
      "[ 7. -4.  2.]\n"
     ]
    }
   ],
   "source": [
    "import numpy as np\n",
    "\n",
    "# Quick numerical check to convince us that the eigenvalues/eigenvectors \n",
    "# are correct above\n",
    "A = np.array([[3,5,3],\n",
    "              [0,4,6],\n",
    "              [0,0,1]])\n",
    "\n",
    "eigval,eigvec = np.linalg.eig(A)\n",
    "\n",
    "print(eigval)\n",
    "print(eigvec[:,2])\n",
    "print(eigvec[:,2]*7/eigvec[0,2])"
   ]
  },
  {
   "cell_type": "markdown",
   "metadata": {
    "id": "GFwx8CZBxxPS"
   },
   "source": [
    "### Numerical solution\n",
    "We need three initial conditions now. Let's say $y_1(0)=4, y_2(0)=2, y_3(0)=6$. Almost no changes from the above code"
   ]
  },
  {
   "cell_type": "code",
   "execution_count": null,
   "metadata": {
    "colab": {
     "base_uri": "https://localhost:8080/",
     "height": 296
    },
    "executionInfo": {
     "elapsed": 258,
     "status": "ok",
     "timestamp": 1647953489292,
     "user": {
      "displayName": "Zachary Ulissi",
      "photoUrl": "https://lh3.googleusercontent.com/a/default-user=s64",
      "userId": "07633171379186475882"
     },
     "user_tz": 240
    },
    "id": "hj4Ta0IQxomD",
    "outputId": "f889cb91-47e4-41cd-93c7-80750c75c9f4"
   },
   "outputs": [
    {
     "data": {
      "text/plain": [
       "Text(0, 0.5, 'y')"
      ]
     },
     "execution_count": 5,
     "metadata": {},
     "output_type": "execute_result"
    },
    {
     "data": {
      "image/png": "[encoded data removed]",
      "text/plain": [
       "<Figure size 432x288 with 1 Axes>"
      ]
     },
     "metadata": {
      "filenames": {
       "image/png": "/home/jovyan/math-methods-chemical-engineering/math-methods-chemical-engineering/_build/jupyter_execute/notes/ordinary_differential_equations/17-coupled-ode-continued_10_1.png"
      },
      "needs_background": "light"
     },
     "output_type": "display_data"
    }
   ],
   "source": [
    "import numpy as np\n",
    "from scipy.integrate import solve_ivp\n",
    "import matplotlib.pyplot as plt\n",
    "\n",
    "A = np.array([[3, 5, 3],\n",
    "              [0, 4, 6],\n",
    "              [0, 0, 1]])\n",
    "\n",
    "def linear_homogeneous_diffeq(t, y):\n",
    "  return A@y\n",
    "\n",
    "tspan = [0, 1]\n",
    "y0 = [4,2,6]\n",
    "t_eval = np.linspace(0,1,100)\n",
    "\n",
    "sol = solve_ivp(linear_homogeneous_diffeq, tspan, y0, t_eval=t_eval)\n",
    "\n",
    "plt.plot(sol.t, sol.y.T,'o-')\n",
    "plt.xlabel('Time t')\n",
    "plt.ylabel('y')\n"
   ]
  },
  {
   "cell_type": "markdown",
   "metadata": {
    "id": "XNY4gl5yLI4n"
   },
   "source": [
    "\n",
    "## How do we handle non-homogeneous systems \n",
    "\n",
    "$\\rightarrow$ Same idea as single equations\n",
    "\\begin{align}\n",
    "y_1' &= -3y_1 + y_2 + 3\\cos t\\\\\n",
    "y_2' &= y_1 -3y_2 -2\\cos t -3\\sin t\\\\\n",
    "\\begin{bmatrix} y_1' \\\\ y_2' \\end{bmatrix} &= \\begin{bmatrix} -3 & 1 \\\\ 1 & -3 \\end{bmatrix} \\begin{bmatrix} y_1 \\\\ y_2 \\end{bmatrix} + \\begin{bmatrix} 3\\cos t \\\\ -2\\cos t - 3\\sin t \\end{bmatrix}\\\\\n",
    "\\vec{y}' &= \\arr{A}\\vec{y} + \\vec{g}(t) \\text{ where $\\vec{g}$ is a vector with no dependence on $\\vec{y}$}\n",
    "\\end{align}\n",
    "\n",
    "1. Solve homogeneous system. From $\\arr{A}$:\n",
    "\\begin{align}\n",
    "\\lambda_1 = -4 && \\vec{x}^{(1)} = \\begin{bmatrix} -1 & 1 \\end{bmatrix}^T\\\\\n",
    "\\lambda_2 = -2 && \\vec{x}^{(2)} = \\begin{bmatrix} 1 & 1 \\end{bmatrix}^T\n",
    "\\end{align}\n",
    "\\begin{align}\n",
    "\\therefore \\vec{y}_H (t) = c_1\\begin{bmatrix} -1 \\\\ 1 \\end{bmatrix} e^{-4t} + c_2 \\begin{bmatrix} 1 \\\\ 1 \\end{bmatrix} e^{-2t}\n",
    "\\end{align}\n",
    "2. Solve non-homogeneous part\n",
    "  * Now, the particular solution $\\vec{y}_P$ is a vector\n",
    "  * For this example use MoUC. Choose $\\vec{y}_P$ based on $\\vec{g} = \\begin{bmatrix} 3\\cos t \\\\ -2\\cos t -3\\sin t \\end{bmatrix}$\n",
    "  \\begin{align}\n",
    "  \\vec{y}_P = \\vec{u}\\sin t + \\vec{v}\\cos t\n",
    "  \\end{align}\n",
    "  where $\\vec{u} = \\begin{bmatrix} u_1 \\\\ u_2 \\end{bmatrix}$ and $\\vec{v} = \\begin{bmatrix} v_1 \\\\ v_2 \\end{bmatrix}$ are the vectors of undetermined coefficients.\\\n",
    "  Then, $\\vec{y}_P' = \\vec{u} \\cos t - \\vec{v}\\sin t$\n",
    "  * Plug in expressions for $\\vec{y}_P$ and $\\vec{y}_P'$ into $\\vec{y}_P' = \\arr{A}\\vec{y}_P + \\vec{g}$\n",
    "  \\begin{align}\n",
    "  \\vec{u}\\cos t - \\vec{v}\\sin t = \\arr{A}(\\vec{u}\\sin t + \\vec{v}\\cos t) + \\vec{g}\\\\\n",
    "  (\\vec{u} - \\arr{A}\\vec{v})\\cos t - (\\arr{A}\\vec{u} + \\vec{v})\\sin t = \\vec{g}\n",
    "  \\end{align}\n",
    "  * Match coefficients:\n",
    "    * cos(t) terms (two equations):\n",
    "  \\begin{align}\n",
    "    \\vec{u} - \\arr{A}\\vec{v} = \\begin{bmatrix} 3 \\\\ -2 \\end{bmatrix} \n",
    "    \\end{align}\n",
    "    * sin(t) terms (two equations):\n",
    "    \\begin{align}\n",
    "    -\\arr{A} \\vec{u} -\\vec{v} = \\begin{bmatrix} 0 \\\\ -3 \\end{bmatrix} \n",
    "    \\end{align}\n",
    "  * Solve system:\\\n",
    "  From first equation: $\\vec{u} = \\begin{bmatrix} 3 \\\\ -2 \\end{bmatrix} + \\arr{A}\\vec{v}$\\\n",
    "  Plug into second equation:\n",
    "  \\begin{align}\n",
    "  -\\arr{A}\\left(\\begin{bmatrix} 3 \\\\ -2 \\end{bmatrix} + \\arr{A}\\vec{v} \\right) - \\vec{v} = \\begin{bmatrix} 0 \\\\ -3 \\end{bmatrix}\\\\\n",
    "  \\text{simplifies to }\\ \\begin{bmatrix} -11 & 6 \\\\ 6 & -11 \\end{bmatrix} \\begin{bmatrix}v_1 \\\\ v_2\\end{bmatrix} = \\begin{bmatrix} -11 \\\\ 6 \\end{bmatrix}\\\\\n",
    "  \\left[\\begin{array}{ll|l}-11 & 6 & -11 \\\\ 6 & -11 & 6\\end{array}\\right] \\text{ G.E} \\rightarrow \\left[\\begin{array}{ll|l} 1&0&1 \\\\ 0&1&0\\end{array} \\right]\\\\\n",
    "  \\therefore \\vec{v} = \\begin{bmatrix} 1 \\\\ 0 \\end{bmatrix} \\text{ and } \\vec{u} = \\begin{bmatrix} 3 \\\\ -2 \\end{bmatrix} + \\arr{A}\\begin{bmatrix} 1 \\\\ 0 \\end{bmatrix} = \\begin{bmatrix} 0 \\\\ -1 \\end{bmatrix}\\\\\n",
    "  \\therefore \\vec{y}_P = \\begin{bmatrix} 0 \\\\ -1 \\end{bmatrix} \\sin t + \\begin{bmatrix} 1 \\\\ 0 \\end{bmatrix} \\cos t\n",
    "  \\end{align}\n",
    "  and\n",
    "\\begin{align}\n",
    "\\vec{y}(t) = c_1 \\begin{bmatrix} -1 \\\\ 1 \\end{bmatrix} e^{-4t} + c_2 \\begin{bmatrix} 1 \\\\ 1 \\end{bmatrix} e^{-2t} + \\begin{bmatrix} 0 \\\\ -1 \\end{bmatrix} \\sin t + \\begin{bmatrix} 1 \\\\ 0 \\end{bmatrix} \\cos t\n",
    "\\end{align}\n",
    "\n",
    "Notice that this says the initial conditions don't matter after a while!! "
   ]
  },
  {
   "cell_type": "markdown",
   "metadata": {
    "id": "Jg4AkE8KxWal"
   },
   "source": [
    "### Numerical solutions"
   ]
  },
  {
   "cell_type": "code",
   "execution_count": null,
   "metadata": {
    "colab": {
     "base_uri": "https://localhost:8080/",
     "height": 300
    },
    "executionInfo": {
     "elapsed": 331,
     "status": "ok",
     "timestamp": 1647956849573,
     "user": {
      "displayName": "Zachary Ulissi",
      "photoUrl": "https://lh3.googleusercontent.com/a/default-user=s64",
      "userId": "07633171379186475882"
     },
     "user_tz": 240
    },
    "id": "L9_y1IDgz9Ug",
    "outputId": "c63c3f1c-8ed1-4711-e967-5ddeceaf6c20"
   },
   "outputs": [
    {
     "data": {
      "text/plain": [
       "(-2.0, 2.0)"
      ]
     },
     "execution_count": 8,
     "metadata": {},
     "output_type": "execute_result"
    },
    {
     "data": {
      "image/png": "[encoded data removed]",
      "text/plain": [
       "<Figure size 432x288 with 1 Axes>"
      ]
     },
     "metadata": {
      "filenames": {
       "image/png": "/home/jovyan/math-methods-chemical-engineering/math-methods-chemical-engineering/_build/jupyter_execute/notes/ordinary_differential_equations/17-coupled-ode-continued_13_1.png"
      },
      "needs_background": "light"
     },
     "output_type": "display_data"
    }
   ],
   "source": [
    "import numpy as np\n",
    "from scipy.integrate import solve_ivp\n",
    "import matplotlib.pyplot as plt\n",
    "\n",
    "A = np.array([[-3, 1],\n",
    "              [1,-3]])\n",
    "\n",
    "def linear_nonhomogeneous_diffeq(t, y):\n",
    "  return A@y + [3*np.cos(t),\n",
    "                -2*np.cos(t)-3*np.sin(t)]\n",
    "\n",
    "tspan = [0, 20]\n",
    "y0 = [-100, 400000]\n",
    "t_eval = np.linspace(0,20,100)\n",
    "\n",
    "sol = solve_ivp(linear_nonhomogeneous_diffeq, tspan, y0, t_eval=t_eval)\n",
    "\n",
    "plt.plot(sol.t, sol.y.T,'o-')\n",
    "plt.xlabel('Time t')\n",
    "plt.ylabel('y')\n",
    "plt.ylim([-2,2])\n"
   ]
  },
  {
   "cell_type": "markdown",
   "metadata": {
    "id": "W_x-G2qNdywY"
   },
   "source": [
    "## Non-homogeneous system - VOP Method\n",
    "* Find the general solution to $\\vec{y}' = \\begin{bmatrix}-2 & 1 \\\\ 1 & -2  \\end{bmatrix}\\vec{y} + \\begin{bmatrix} 2e^{-t} \\\\ 3t \\end{bmatrix}$\\\n",
    "same as:\n",
    "\\begin{align}\n",
    "y_1' &= -2y_1 + y_2 + 2e^{-t}\\\\\n",
    "y_2' &= y_1 -2y_2 + 3t\\\\\n",
    "\\vec{y}' &= \\arr{A}\\vec{y} + \\vec{g}(t)\n",
    "\\end{align}\n",
    "1. Solve homogeneous system\\\n",
    "from $\\arr{A} \\rightarrow |\\arr{A}-\\lambda\\arr{I}|=0$\n",
    "\\begin{align}\n",
    "\\left|\\begin{array}{} -2-\\lambda & 1 \\\\ 1 & -2-\\lambda \\end{array}\\right| = 0 & = (-2-\\lambda)(-2-\\lambda) -1\\\\\n",
    "&= +4 + 2\\lambda + 2 \\lambda + \\lambda^2 - 1\\\\\n",
    "&= \\lambda^2 + 4\\lambda + 3 = (\\lambda + 3)(\\lambda + 1)\\\\\n",
    "\\lambda_1 &= -3 ; \\ \\lambda_2 = -1\n",
    "\\end{align}\n",
    "then $(\\arr{A} - \\lambda\\arr{I})\\vec{x} = \\vec{0}$\\\n",
    "For $\\lambda_1=-3$ \n",
    "\\begin{align}\n",
    "\\left[\\begin{array}{ll|l} 1 & 1 & 0 \\\\ 1 & 1 & 0 \\end{array} \\right] \\rightarrow x_1 + x_2 = 0 \\implies x_1 = -x_2 \\implies \\vec{x}^{(1)} = \\begin{bmatrix} 1 \\\\ -1 \\end{bmatrix}\n",
    "\\end{align}\n",
    "For $\\lambda_2=-1$ \n",
    "\\begin{align}\n",
    "\\left[\\begin{array}{ll|l} -1 & 1 & 0 \\\\ 1 & -1 & 0 \\end{array} \\right] \\rightarrow -x_1 + x_2 = 0 \\implies x_1 = x_2 \\implies \\vec{x}^{(2)} = \\begin{bmatrix} 1 \\\\ 1 \\end{bmatrix}\n",
    "\\end{align}\n",
    "Then,\n",
    "\\begin{align}\n",
    "\\vec{y}_H(t) = c_1 \\begin{bmatrix} 1 \\\\ -1 \\end{bmatrix} e^{-3t} + c_2\\begin{bmatrix} 1 \\\\ 1 \\end{bmatrix}e^{-t}\n",
    "\\end{align}"
   ]
  },
  {
   "cell_type": "markdown",
   "metadata": {
    "id": "sNpFF1dTkGqY"
   },
   "source": [
    "2. Solve non-homogeneous part using Variation of Parameters\n",
    "* Write the homogeneous solution as:\n",
    "\\begin{align}\n",
    "\\vec{y}_H(t) &= \\begin{bmatrix} y_1^{(1)} & y_1^{(2)} \\\\ y_2^{(1)} & y_2^{(2)} \\end{bmatrix} \\begin{bmatrix} c_1 \\\\ c_2 \\end{bmatrix} = \\arr{Y}(t)\\vec{c}\\  \\text{ where $\\arr{Y}(t)$ is the $``$fundamental matrix\"}\\\\\n",
    "&= \\begin{bmatrix} e^{-3t} & e^{-t} \\\\ -e^{-3t} & e^{-t}\\end{bmatrix} \\begin{bmatrix} c_1 \\\\ c_2 \\end{bmatrix}\n",
    "\\end{align}\n",
    "* Just like with one dimensional case, we will form a particular solution by \"replacing\" the arbitrary constants of the homogeneous solution with an unknown function of $t$, but this time with a vector. Assume $\\vec{y}_P(t) = \\arr{Y}(t)\\vec{u}(t)$\n",
    "* We will determine $\\vec{u}(t)$ by substituting $\\vec{y}_P(t)$ into the original system \\\n",
    "$\\rightarrow$ let's derive in general terms"
   ]
  },
  {
   "cell_type": "markdown",
   "metadata": {
    "id": "w40SDZ_jqQQk"
   },
   "source": [
    "\\begin{align}\n",
    "\\vec{y}' &= \\arr{A} \\vec{y} + \\vec{g} \\\\\n",
    "\\vec{y}_P' &= \\arr{A}\\vec{y}_P + \\vec{g}\\\\\n",
    "(\\arr{Y}\\vec{u})' &= \\arr{A} \\arr{Y}\\vec{u} + \\vec{g}\\\\\n",
    "\\arr{Y}'\\vec{u} &+ \\arr{Y}\\vec{u}' = \\arr{A}\\arr{Y}\\vec{u} + \\vec{g}\n",
    "\\end{align}\n",
    "$\\implies$ because $\\arr{Y}$ is a solution to the homogeneous system, we know it satifies $\\arr{Y}' = \\arr{A}\\arr{Y}\\rightarrow$ substitute this in \n",
    "\\begin{align}\n",
    "\\arr{A}\\arr{Y}\\vec{u} +\\arr{Y}\\vec{u}' &= \\arr{A}\\arr{Y}\\vec{u} + \\vec{g}\\\\\n",
    "\\arr{Y}^{-1}(\\arr{Y}\\vec{u}' &= \\vec{g}) \n",
    "\\end{align}\n",
    "$\\rightarrow$ can multiply with inverse. We know $\\arr{Y}$ is non singular because $\\det(\\arr{Y})=$ Wronskian which is non-zero for a basis\n",
    "\\begin{align}\n",
    "\\vec{u}' &= \\arr{Y}^{-1} \\vec{g}\\\\\n",
    "\\vec{u}(t) &= \\int \\arr{Y}^{-1}(t) \\vec{g}(t)dt + \\vec{c} && \\rightarrow \\text{each element is integrated separately}  \n",
    "\\end{align}\n",
    "and \n",
    "\\begin{align}\n",
    "\\vec{y}_P(t) &= \\arr{Y}(t)\\vec{u}(t)\\\\\n",
    "&= \\arr{Y}(t) \\int \\arr{Y}^{-1}(t)\\vec{g}(t) dt\n",
    "\\end{align}\n",
    "and \n",
    "\\begin{align}\n",
    "\\vec{y}(t) &= \\vec{y}_H + \\vec{y}_P\\\\\n",
    "\\vec{y}(t) &= \\arr{Y}(t)\\vec{c} + \\arr{Y}(t) \\int \\arr{Y}^{-1}(t)\\vec{g}(t) dt\n",
    "\\end{align}"
   ]
  },
  {
   "cell_type": "markdown",
   "metadata": {
    "id": "hMCpQUakvj8G"
   },
   "source": [
    "* Now for our example:\\\n",
    "we need $\\arr{Y}^{-1}(t)$. Can find using matrix property for a 2x2 matrix:\n",
    "\\begin{align}\n",
    "\\arr{A}^{-1} = \\frac{1}{\\det \\arr{A}}\\begin{bmatrix} a_{22} & -a_{12} \\\\ -a_{21} & a_{11} \\end{bmatrix}\n",
    "\\end{align}\n",
    "then \n",
    "\\begin{align}\n",
    "\\arr{Y}^{-1} &= \\frac{1}{e^{-4t} + e^{-4t}} \\begin{bmatrix} e^{-t} & -e^{-t} \\\\ e^{-3t} & e^{-3t} \\end{bmatrix}\\\\\n",
    "&=\\frac{1}{2} \\begin{bmatrix} e^{3t} & -e^{3t} \\\\ e^t & e^t \\end{bmatrix}\\\\\n",
    "\\arr{Y}^{-1}\\vec{g} &= \\frac{1}{2}\\begin{bmatrix} e^{3t} & -e^{3t} \\\\ e^t & e^t \\end{bmatrix} \\begin{bmatrix} 2e^{-t} \\\\ 3t\\end{bmatrix} \\\\\n",
    "&= \\frac{1}{2} \\begin{bmatrix} 2e^{2t} - 3te^{3t} \\\\ 2 + 3te^t \\end{bmatrix}\\\\\n",
    "\\vec{u}(t) = \\int \\arr{Y}^{-1}\\vec{g} &= \\frac{1}{2} \\begin{bmatrix} \\int 2e^{2t}dt - \\int 3te^{3t}dt \\\\ \\int 2 dt + \\int 3t e^t dt \\end{bmatrix}\\\\\n",
    "&=\\frac{1}{2} \\begin{bmatrix} e^{2t} - (te^{3t} - \\frac{1}{3} e^{3t}) \\\\ 2t + 3(te^t - e^t) \\end{bmatrix}\n",
    "\\end{align}"
   ]
  },
  {
   "cell_type": "markdown",
   "metadata": {
    "id": "YjZ6wOWB0c0q"
   },
   "source": [
    "Then\n",
    "\\begin{align}\n",
    "\\vec{y}_P(t) &= \\arr{Y}(t)\\vec{u}(t)\\\\\n",
    "&= \\begin{bmatrix} e^{-3t} & e^{-t} \\\\ -e^{-3t} & e^{-t} \\end{bmatrix} \\cdot \\frac{1}{2} \\cdot \\begin{bmatrix} e^{2t}-te^{3t} + \\frac{1}{3}e^{3t} \\\\ 2t + 3te^t - 3e^t \\end{bmatrix} \\\\\n",
    "&= \\frac{1}{2} \\begin{bmatrix} e^{-t} -t + \\frac{1}{3} + 2te^{-t}+ 3t -3 \\\\ -e^{-t} + t -\\frac{1}{3} + 2te^{-t} + 3t - 3 \\end{bmatrix}\\\\\n",
    "&= \\begin{bmatrix} \\frac{1}{2} e^{-t} + te^{-t} + t - \\frac{4}{3} \\\\ -\\frac{1}{2} e^{-t} + te^{-t} + 2t - \\frac{5}{3}\\end{bmatrix}\\\\\n",
    "\\vec{y}_P(t) &= \\frac{1}{2}\\begin{bmatrix} 1 \\\\ -1 \\end{bmatrix} e^{-t} + \\begin{bmatrix} 1 \\\\ 1\\end{bmatrix} te^{-t} + \\begin{bmatrix} 1 \\\\ 2 \\end{bmatrix} t -\\frac{1}{3}\\begin{bmatrix} 4 \\\\ 5 \\end{bmatrix}\n",
    "\\end{align}\n",
    "Then, \n",
    "\\begin{align}\n",
    "\\vec{y}(t) &= \\vec{y}_H(t) + \\vec{y}_P(t)\\\\\n",
    "&= c_1 \\begin{bmatrix} 1 \\\\ -1 \\end{bmatrix} e^{-3t} + c_2 \\begin{bmatrix} 1 \\\\ 1 \\end{bmatrix} e^{-t} + \\frac{1}{2}\\begin{bmatrix} 1 \\\\ -1 \\end{bmatrix} e^{-t} + \\begin{bmatrix} 1 \\\\ 1 \\end{bmatrix}te^{-t} + \\begin{bmatrix} 1 \\\\ 2 \\end{bmatrix} t - \\frac{1}{3} \\begin{bmatrix} 4 \\\\ 5 \\end{bmatrix} && \\text{general solution} \n",
    "\\end{align}"
   ]
  },
  {
   "cell_type": "markdown",
   "metadata": {
    "id": "6_XRp_ztkWwu"
   },
   "source": [
    "## Numerical solution\n",
    "\n",
    "Integrate $\\vec{y}' = \\begin{bmatrix}-2 & 1 \\\\ 1 & -2  \\end{bmatrix}\\vec{y} + \\begin{bmatrix} 2e^{-t} \\\\ 3t \\end{bmatrix}$, with the initial condition $\\vec{y}(t=1)=[4,3]^T$ from t=1 to t=10."
   ]
  },
  {
   "cell_type": "code",
   "execution_count": null,
   "metadata": {
    "colab": {
     "base_uri": "https://localhost:8080/",
     "height": 297
    },
    "executionInfo": {
     "elapsed": 553,
     "status": "ok",
     "timestamp": 1617889678518,
     "user": {
      "displayName": "Zachary Ulissi",
      "photoUrl": "",
      "userId": "07633171379186475882"
     },
     "user_tz": 240
    },
    "id": "52QEYMQ7ks28",
    "outputId": "6b5e2cdc-a4bd-4fd1-8c45-ffda0b3a04fd"
   },
   "outputs": [
    {
     "data": {
      "text/plain": [
       "Text(0, 0.5, 'y')"
      ]
     },
     "execution_count": 14,
     "metadata": {
      "tags": []
     },
     "output_type": "execute_result"
    },
    {
     "data": {
      "image/png": "[encoded data removed]",
      "text/plain": [
       "<Figure size 432x288 with 1 Axes>"
      ]
     },
     "metadata": {
      "filenames": {
       "image/png": "/home/jovyan/math-methods-chemical-engineering/math-methods-chemical-engineering/_build/jupyter_execute/notes/ordinary_differential_equations/17-coupled-ode-continued_20_1.png"
      },
      "needs_background": "light",
      "tags": []
     },
     "output_type": "display_data"
    }
   ],
   "source": [
    "import numpy as np\n",
    "from scipy.integrate import solve_ivp\n",
    "import matplotlib.pyplot as plt\n",
    "\n",
    "A = np.array([[-2, 1],\n",
    "              [1,-2]])\n",
    "\n",
    "def linear_nonhomogeneous_diffeq(t, y):\n",
    "  return A@y + [2*np.exp(-t),\n",
    "                3*t]\n",
    "\n",
    "tspan = [1, 10]\n",
    "y0 = [4, 3]\n",
    "t_eval = np.linspace(1,10,100)\n",
    "\n",
    "sol = solve_ivp(linear_nonhomogeneous_diffeq, tspan, y0, t_eval=t_eval)\n",
    "\n",
    "plt.plot(sol.t, sol.y.T,'o-')\n",
    "plt.xlabel('Time t')\n",
    "plt.ylabel('y')\n",
    "# plt.ylim([-2,2])\n"
   ]
  },
  {
   "cell_type": "code",
   "execution_count": null,
   "metadata": {
    "id": "ikhSZo0CvSjP"
   },
   "outputs": [],
   "source": []
  }
 ],
 "metadata": {
  "colab": {
   "collapsed_sections": [],
   "name": "17-coupled-ode-continued.ipynb",
   "provenance": []
  },
  "kernelspec": {
   "display_name": "Python 3",
   "name": "python3"
  }
 },
 "nbformat": 4,
 "nbformat_minor": 0
}