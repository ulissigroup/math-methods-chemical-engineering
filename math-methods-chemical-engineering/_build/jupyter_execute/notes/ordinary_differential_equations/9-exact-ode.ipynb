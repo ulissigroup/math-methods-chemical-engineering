{
 "cells": [
  {
   "cell_type": "markdown",
   "metadata": {
    "id": "GjHgre1EHt5H"
   },
   "source": [
    "{{ badge }}\n",
    "$$\\newcommand{\\arr}[1]{\\underline{\\underline{#1}}}$$    \n",
    "$$\\newcommand{\\vec}[1]{\\underline{#1}}$$   \n",
    "$$\\require{mhchem}$$"
   ]
  },
  {
   "cell_type": "markdown",
   "metadata": {
    "id": "D83GzDVSQ4jh"
   },
   "source": [
    "# Recap \n",
    "\n",
    "We did a lot last class!\n",
    "* Definition of differential equations and classifications\n",
    "  * Linear/non-linear\n",
    "  * ODE/PDE\n",
    "  * Order\n",
    "  * Separable diff eq\n",
    "* Implicit vs explicit solutions\n",
    "* General vs particular solutions\n",
    "* Mol balance applications with an accumulation term\n",
    "\n",
    "Misc logistics:\n",
    "* Exam practice is up on google drive (Exam Thursday next week, 2/24)\n",
    "* First SI session will be this week (I think weekend?) and cover a review for exam 1\n",
    "* There will be a shorter HW assigned this week to practice exact differential equations"
   ]
  },
  {
   "cell_type": "markdown",
   "metadata": {
    "id": "PdydW-mbHvfx"
   },
   "source": [
    "# Exact $1^\\circ$ ODEs\n",
    "$\\rightarrow$ Specific type of ODE\\\n",
    "$\\rightarrow$ Method of solving exact $1^\\circ$ ODEs was developed by guessing and messing around.\\\n",
    "$\\rightarrow$ Now, if we can classify as \"exact\", we have a method to find the solution.\n",
    "* The $1^\\circ$ ODE $\\frac{dy}{dx} = f(x,y)$ is exact if:\n",
    "  1. It can be written as $M(x,y)dx + N(x,y)dy = 0 \\hspace{3cm} (*)$\n",
    "  2. There is some function $u(x,y)$ such that \n",
    "  \\begin{align}\n",
    "  \\frac{\\partial u}{\\partial x} =M(x,y) && \\text{and} && \\frac{\\partial u}{\\partial y}=N(x,y)\n",
    "  \\end{align}\n",
    "$\\rightarrow$ plugging this into $(*)$, we see:\n",
    "\\begin{align}\n",
    "\\frac{\\partial u}{\\partial x}dx + \\frac{\\partial u}{\\partial y} dy = 0\\\\\n",
    "\\therefore du = 0\n",
    "\\end{align}\n",
    "$\\rightarrow$ integrating this gives $u(x,y) = c$\\\n",
    "$\\rightarrow$ Therefore if we have an exact equation $y'=f(x,y)$, then the general solution can be written as $u(x,y) = c \\implies$ function of $x,y$ gives a constant, not a derivative.\n",
    "\n",
    "To prove exactness:\n",
    "* Does $u(x,y)$ exist such that \n",
    "\\begin{align}\n",
    "\\frac{\\partial u}{\\partial x} = M(x,y) && \\text{and} && \\frac{\\partial u}{\\partial y} = N(x,y) \\hspace{1cm} ?\n",
    "\\end{align}\n",
    "\n",
    "This strategy can also be applied to higher order differential equations, but it's not as helpful there so I'm not going to cover that in lectures."
   ]
  },
  {
   "cell_type": "markdown",
   "metadata": {
    "id": "22wJS_atLMsY"
   },
   "source": [
    "* If we assume continuity of the derivatives of $u(x,y)$, then we can write\n",
    "\\begin{align}\n",
    "\\frac{\\partial^2u}{\\partial x\\partial y} &= \\frac{\\partial^2u}{\\partial y\\partial x}\\\\\n",
    "\\frac{\\partial}{\\partial x}\\left(\\frac{\\partial u}{\\partial y} \\right) &= \\frac{\\partial}{\\partial y}\\left(\\frac{\\partial u}{\\partial x} \\right)\\\\\n",
    "\\frac{\\partial}{\\partial x}N(x,y) &= \\frac{\\partial}{\\partial y}M(x,y) && \\leftarrow \\text{if exact, this will be true} \n",
    "\\end{align}\n"
   ]
  },
  {
   "cell_type": "markdown",
   "metadata": {
    "id": "eSUvGh5VVB_Q"
   },
   "source": [
    "### Example\n",
    "$$3xy^2y' + y^3 = 0$$"
   ]
  },
  {
   "cell_type": "markdown",
   "metadata": {
    "id": "q4-BNw1bVD8O"
   },
   "source": [
    "\n",
    "$3xy^2y' + y^3 = 0 \\rightarrow$ we can solve 2 ways: by separating and by exactness\n",
    "1. Separate\n",
    "\\begin{align}\n",
    "3xy^2 \\frac{dy}{dx} = -y^3\\\\\n",
    "\\frac{3}{y} dy = -\\frac{1}{x}dx\\\\\n",
    "3 \\ln y = - \\ln x + \\beta\\\\\n",
    "\\ln (y^3) + \\ln x = \\beta\\\\\n",
    "\\ln(xy^3) = \\beta\\\\\n",
    "xy^3 = \\exp \\beta \\\\\n",
    "xy^3 = \\alpha &&\\rightarrow \\text{implicit solution(didn't solve for y) by separation}\n",
    "\\end{align}\n",
    "\n",
    "2. Let's check to see if we can solve by exactness:\\\n",
    "  a) Write as $M(x,y)dx + N(x,y)dy=0$:\n",
    "  \\begin{align}\n",
    "  y^3dx + 3xy^2 dy = 0\n",
    "  \\end{align}\n",
    "  b) Check if $\\frac{\\partial}{\\partial x}N(x,y) = \\frac{\\partial}{\\partial y} M(x,y)$\n",
    "  \\begin{align}\n",
    "  \\frac{\\partial}{\\partial x} (3xy^2) &= \\frac{\\partial}{\\partial y}(y^3)\\\\\n",
    "  3y^2 &= 3y^2 && \\rightarrow \\text{ODE is exact; we can continue}\n",
    "  \\end{align}\n",
    "  c) Find $u(x,y)$\n",
    "  \\begin{align}\n",
    "  \\text{we know that} && \\frac{\\partial u}{\\partial x} = M(x,y) = y^3\\\\\n",
    "  \\text{and} && \\frac{\\partial u}{\\partial y} = N(x,y) = 3xy^2\\\\\n",
    "  \\end{align}\n",
    "  Since these are partial derivatives, we can integrate them as follows:\n",
    "  \\begin{align}\n",
    "  \\frac{\\partial u}{\\partial x} &= y^3\\\\\n",
    "  \\int du &= \\int y^3 dx\\\\\n",
    "  u(x,y) &= xy^3 + k(y)\n",
    "  \\end{align}\n",
    "  we need to include the last term because its derivative wr.t. $x=0$\\\n",
    "  We can find $k(y)$ by considering our second partial derivative:\n",
    "  \\begin{align}\n",
    "  \\frac{\\partial u}{\\partial y} = 3xy^2\\\\\n",
    "  \\frac{\\partial}{\\partial y}(xy^3 + k(y)) = 3xy^2\\\\\n",
    "  3xy^2 + \\frac{dk}{dy} = 3xy^2\\\\\n",
    "  \\frac{dk}{dy} = 0 \\implies k(y) = k && \\text{(constant)}\\\\\n",
    "  \\therefore u(x,y) = xy^3 + k\n",
    "  \\end{align}\n",
    "  d) Use $u(x,y)$ to identify solution\n",
    "  \\begin{align}\n",
    "  u(x,y) = c = xy^3 + k \\\\\n",
    "  \\implies xy^3 = \\alpha\n",
    "  \\end{align}\n",
    "  Implicit solution; same as when we separated."
   ]
  },
  {
   "cell_type": "markdown",
   "metadata": {
    "id": "7WhELukNWi27"
   },
   "source": [
    "### Example \n",
    "\n",
    "\\begin{align}\n",
    "y' = \\frac{-2xy^3 - 2}{3x^2y^2 + e^y} && \\text{(not separable)}\n",
    "\\end{align}"
   ]
  },
  {
   "cell_type": "markdown",
   "metadata": {
    "id": "xNULSvSCUTJG"
   },
   "source": [
    "\n",
    "1. Put into the form $M(x,y)dx + N(x,y)dy = 0$\n",
    "\\begin{align}\n",
    "(2xy^3 + 2) dx + (3x^2y^2 + e^y)dy = 0\n",
    "\\end{align}\n",
    "2. Check for exactness\n",
    "\\begin{align}\n",
    "\\frac{\\partial}{\\partial x}N(x,y) &= \\frac{\\partial}{\\partial y}M(x,y) && \\text{(must be true)}\\\\\n",
    "\\frac{\\partial}{\\partial x} (3x^2y^2 + e^y) &= \\frac{\\partial}{\\partial y} (2xy^3 + 2)\\\\\n",
    "3y^2\\frac{\\partial}{\\partial x} (x^2) &= 2x \\frac{\\partial}{\\partial y}(y^3)\\\\\n",
    "6y^2x &=6xy^2 &&\\text{(exact)}\n",
    "\\end{align}\n",
    "3. Now find $u(x,y)$ such that \n",
    "\\begin{align}\n",
    "\\frac{\\partial u}{\\partial y} = N(x,y)=3x^2y^2 + e^y && \\text{and} && \\frac{\\partial u}{\\partial x} = M(x,y)=2xy^3 + 2 && \\text{(can start with either)}\n",
    "\\end{align}"
   ]
  },
  {
   "cell_type": "markdown",
   "metadata": {
    "id": "0PBxaibcXrrV"
   },
   "source": [
    "\\begin{align}\n",
    "\\int \\partial u = \\int (3x^2y^2 + e^y) dy\\\\\n",
    "u(x,y) = x^2y^3 + e^y + k(x)\n",
    "\\end{align}\n",
    "$\\rightarrow$ determine $k(y)$ with second partial derivative:\n",
    "\\begin{align}\n",
    "\\frac{\\partial}{\\partial x}(x^2y^3 + e^y + k(x)) &= 2xy^3 + 2\\\\\n",
    "2xy^3 + \\frac{dk}{dx} &= 2xy^3 + 2\\\\\n",
    "\\frac{dk}{dx} &= 2\\\\\n",
    "k(x) &= 2x + k\n",
    "\\end{align}\n",
    "$\\therefore u(x,y) = x^2y^3 + e^y + 2x + k$\n",
    "4. Find implicit solution using $u(x,y) = c$\n",
    "\\begin{align}\n",
    "c = x^2y^3 + e^y + 2x + k\\\\\n",
    "x^2 y^3 + e^y + 2x = \\alpha && \\text {general solution}\n",
    "\\end{align}\n"
   ]
  },
  {
   "cell_type": "markdown",
   "metadata": {
    "id": "cwcbsf65xjmz"
   },
   "source": [
    "# Integrating Factors\n",
    "* Intefrating Factors (IFs) are a tool we can use to make some inexact equations exact so we can solve.\\\n",
    "In general, we have\n",
    "\\begin{align}\n",
    "P(x,y)dx + Q(x,y) dy = 0\n",
    "\\end{align}\n",
    "Where $\\frac{\\partial P}{\\partial y} \\neq \\frac{\\partial Q}{\\partial x} \\implies$ not exact\n",
    "* We can try to find an I.F., $F(x,y)$, s.t. $F(x,y)P(x,y)dx + F(x,y)Q(x,y)dy = 0$ is an exact equation. This would require:\n",
    "\\begin{align}\n",
    "\\frac{\\partial}{\\partial y}[F(x,y)P(x,y)] &= \\frac{\\partial}{\\partial x} [F(x,y)Q(x,y)]\\\\\n",
    "F(x,y)\\frac{\\partial P}{\\partial y} + P(x,y)\\frac{\\partial F}{\\partial y} &= F(x,y)\\frac{\\partial Q}{\\partial x} + Q(x,y)\\frac{\\partial F}{\\partial x}\n",
    "\\end{align}\n",
    "Knowing only P(x,y) and Q(x,y) would make this nearly impossible to solve. Can use the following strategy:\n",
    "1. First assume that $F(x,y) = F(x)$ only. Now, \n",
    "\\begin{align}\n",
    "\\frac{\\partial F}{\\partial y} = 0 && \\text{and} && \\frac{\\partial F}{\\partial x} = \\frac{dF}{dx}  && \\text{(partial becomes full)}\n",
    "\\end{align}\n",
    "\\begin{align}\n",
    "\\therefore F(x) \\frac{\\partial P}{\\partial y} + P(x,y) \\frac{\\partial F}{\\partial y} &= F(x) \\frac{\\partial Q}{\\partial x} + Q(x,y) \\frac{dF}{dx}\\\\\n",
    "F(x)\\left[\\frac{\\partial P}{\\partial y} - \\frac{\\partial Q}{\\partial x} \\right] &= Q(x,y)\\frac{dF}{dx}\\\\\n",
    "\\frac{1}{F(x)}\\frac{dF}{dx} &= \\frac{1}{Q(x,y)}\\left[\\frac{\\partial P}{\\partial y} - \\frac{\\partial Q}{\\partial x} \\right]\n",
    "\\end{align}\n",
    "we know the RHS term, call it $R(x,y)$\\\n",
    "$\\rightarrow$ If $R(x,y) = R(x)$ only, then you can find $F(x)$ from integration\n",
    "\\begin{align}\n",
    "\\frac{\\partial F}{F} = R(x)dx \\implies F(x) = \\exp\\left[\\int R(x)dx \\right]\n",
    "\\end{align}\n",
    "$\\rightarrow$ If $R(x,y)\\neq R(x)$, then out assumption that $F(x,y)=F(x)$ is not true. Then try step 2."
   ]
  },
  {
   "cell_type": "markdown",
   "metadata": {
    "id": "tm0NHbQ130o8"
   },
   "source": [
    "2. Assume $F(x,y) = F(y)$ only. Then,\n",
    "\\begin{align}\n",
    "\\frac{\\partial F}{\\partial x} = 0 && \\text{and} && \\frac{\\partial F}{\\partial y} = \\frac{dF}{dy}  \n",
    "\\end{align}\n",
    "Partial derivative equation simplifies to:\n",
    "\\begin{align}\n",
    "\\frac{1}{F} \\frac{dF}{dy} = \\frac{1}{P(x,y)}\\left[\\frac{\\partial Q}{\\partial x} - \\frac{\\partial P}{\\partial y} \\right]\n",
    "\\end{align}\n",
    "Again, let RHS = $R(x,y)$\\\n",
    "$\\rightarrow$ If $R(x,y) = R(y)$ only then $F(y) = \\exp \\left[\\int R(y)dy \\right]$\\\n",
    "$\\rightarrow$If $R(x,y) \\neq R(y)$, then $F(x,y)$ = function of both $x$ and $y$ and you will need some other clue to solve."
   ]
  },
  {
   "cell_type": "markdown",
   "metadata": {
    "id": "CZ20TvcNU5PR"
   },
   "source": [
    "### Example\n",
    "\n",
    "\\begin{align}\n",
    "\\frac{dy}{dx} = \\frac{-2xy}{4y + 3x^2}\n",
    "\\end{align}"
   ]
  },
  {
   "cell_type": "markdown",
   "metadata": {
    "id": "TpkOwEc-6fJw"
   },
   "source": [
    "\n",
    "1. rewrite as: $(2xy)dx + (4y + 3x^2) dy = 0$\n",
    "2. check for exactness:\n",
    "\\begin{align}\n",
    "\\frac{\\partial P}{\\partial y} &= \\frac{\\partial Q}{\\partial x}\\\\\n",
    "2x &\\neq 6x \\implies \\text{not exact}\n",
    "\\end{align}\n",
    "3. Try to find an I.F. $F(x,y)=F(x)$\n",
    "\\begin{align}\n",
    "\\frac{\\partial (FP)}{\\partial y} &= \\frac{\\partial (FQ)}{\\partial x}\\\\\n",
    "F\\frac{\\partial P}{\\partial y} + P\\frac{\\partial F}{\\partial y} &= F \\frac{\\partial Q}{\\partial x} + Q\\frac{\\partial F}{\\partial x}\\\\\n",
    "\\therefore \\frac{1}{F} \\frac{dF}{dx} &= \\frac{1}{Q}\\left(\\frac{\\partial P}{\\partial y} - \\ \\frac{\\partial Q}{\\partial x}\\right)\\\\\n",
    "&=\\frac{1}{4y + 3x^2}(2x-6x)\\\\\n",
    "&=-\\frac{4x}{4y+3x^2} \\implies \\text{($R(x,y)$ depends on $x$ and $y\\rightarrow$ no good)}\n",
    "\\end{align}\n",
    "4. Try to find I.F. $F(x,y) = F(y)$\n",
    "\\begin{align}\n",
    "\\frac{1}{F} \\frac{dF}{dy} &= \\frac{1}{P}\\left(\\frac{\\partial Q}{\\partial x} - \\frac{\\partial P}{\\partial y} \\right)\\\\\n",
    "&=\\frac{1}{2xy}(6x-2x) = \\frac{2}{y} = R(y) && \\text{(good!)}\n",
    "\\end{align}\n",
    "Continuing,\n",
    "\\begin{align}\n",
    "\\int \\frac{dF}{F} &= \\int \\frac{2}{y}dy\\\\\n",
    "\\ln F(y) &= 2 \\ln y\\\\\n",
    "F(y) &= y^2\n",
    "\\end{align}\n",
    "5. We can now make our equation exact using $F(y)$\n",
    "\\begin{align}\n",
    "F(y)[P(x,y)dx + Q(x,y)dy] = 0\\\\\n",
    "y^2 [(2xy)dx + (4y + 3x^2)dy] = 0\\\\\n",
    "2xy^3 dx + (4y^3 + 3x^2y^2)dy = 0\n",
    "\\end{align}\n",
    "6. Check for exactness:\n",
    "\\begin{align}\n",
    "\\frac{\\partial}{\\partial y}(2xy^3) &= \\frac{\\partial}{\\partial x}(4y^3 + 3x^2y^2)\\\\\n",
    "6xy^2 &=6xy^2 && \\text{exact}\n",
    "\\end{align}\n",
    "7. Find $u(x,y)$\n",
    "\\begin{align}\n",
    "\\frac{\\partial u}{\\partial x} = 2xy^3 \\implies u(x,y) = x^2y^3 + k(y)\\\\\n",
    "\\frac{\\partial u}{\\partial y} = \\frac{\\partial}{\\partial y} (x^2y^3 + k(y)) = 4y^3 + 3x^2y^2\\\\\n",
    "3x^2y^2 + \\frac{dk}{dy} = 4y^3 + 3x^2y^2\\\\\n",
    "k(y) = y^4 + k\n",
    "\\end{align}\n",
    "8. Find implicit solution using $u(x,y) = c$ \n",
    "\\begin{align}\n",
    "x^2y^3 + y^4 + k = c\\\\\n",
    "x^2 y^3 + y^4 = \\alpha && \\text{general solution}\n",
    "\\end{align}"
   ]
  },
  {
   "cell_type": "code",
   "execution_count": null,
   "metadata": {
    "id": "Xw-J2WJ4H_1p"
   },
   "outputs": [],
   "source": []
  }
 ],
 "metadata": {
  "colab": {
   "collapsed_sections": [
    "eSUvGh5VVB_Q",
    "7WhELukNWi27",
    "CZ20TvcNU5PR"
   ],
   "name": "9-exact-ode.ipynb",
   "provenance": []
  },
  "kernelspec": {
   "display_name": "Python 3",
   "name": "python3"
  }
 },
 "nbformat": 4,
 "nbformat_minor": 0
}