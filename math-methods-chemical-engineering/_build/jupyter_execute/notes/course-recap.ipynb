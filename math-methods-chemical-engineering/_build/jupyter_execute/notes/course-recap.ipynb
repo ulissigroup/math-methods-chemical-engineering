{
 "cells": [
  {
   "cell_type": "markdown",
   "metadata": {
    "id": "148Oqp2Wc96e"
   },
   "source": [
    "{{ badge }}\n",
    "$$\\newcommand{\\arr}[1]{\\underline{\\underline{#1}}}$$    \n",
    "$$\\newcommand{\\vec}[1]{\\underline{#1}}$$   \n",
    "$$\\require{mhchem}$$\n"
   ]
  },
  {
   "cell_type": "markdown",
   "metadata": {
    "id": "cJZC-TkUkOZD"
   },
   "source": [
    "# 06-262 Math Methods Recap\n",
    "\n",
    "* Taught you methods needed to solve steady-state and non-steady-state problems.\n",
    "* Concepts built on each other. Matrix algebra and the concept of eigenvalues and eigenvectors became important in solving systems of ODEs. Our understanding of $1^\\circ$ ODEs helped us solve $2^\\circ$ ODEs. Our understanding of ODEs helps solve PDEs. And homogeneous solutions help us solve non-homogeneous problems"
   ]
  },
  {
   "cell_type": "markdown",
   "metadata": {
    "id": "V9NGxQOFlziQ"
   },
   "source": [
    "## Linear Algebra Recap\n"
   ]
  },
  {
   "cell_type": "markdown",
   "metadata": {
    "id": "cDGokbL55KR_"
   },
   "source": [
    "\\begin{align}\n",
    "\\arr{A} = \\begin{bmatrix} a_{11} & a_{12} \\\\ a_{21} & a_{22} \\end{bmatrix} \\rightarrow 2\\times 2 \\text{ matrix}\n",
    "\\end{align}\n",
    "* Allows us to use shorthand in defining linear systems of equations\n",
    "\\begin{align}\n",
    "a_{11}x_1 + a_{12}x_2 + ... + a_{1n}x_n = b_1\\\\\n",
    "a_{11}x_1 + a_{12}x_2 + ... + a_{1n}x_n = b_1\\\\\n",
    ".\\\\.\\\\.\\\\\n",
    "a_{m1}x_1 + a_{m2}x_2 + ... + a_{mn}x_n = b_m\\\\\n",
    "\\implies \\arr{A}\\vec{x} = \\vec{b}\n",
    "\\end{align}\n",
    "Which is homogneous when $\\vec{b} \\equiv \\vec{0}$ and non-homogeneous when $\\vec{b} \\neq \\vec{0}$\n",
    "* We used Gauss Elimination to solve systems of equations.\\\n",
    "E.g.the system\n",
    "\\begin{align}\n",
    "x_1 + 2x_2 - x_3 = 4\\\\\n",
    "4x_2 - 2x_3 = -2\\\\\n",
    "x_1 - 2x_2 + 3x_3 = 0\n",
    "\\end{align}\n",
    "can be represented by\n",
    "\\begin{align}\n",
    "\\left[\\begin{array}{rrr|r} 1 & 2 & -1 & 4\\\\\n",
    "0 & 4 & -2 & -2 \\\\\n",
    "1 & -2 & 3 & 0\\end{array}\\right] \\rightarrow ^{\\text{G.E.}}\n",
    "\\left[\\begin{array}{rrr|r} 1 & 0 & 0 & 5\\\\\n",
    "0 & 1 & 0 & -2 \\\\\n",
    "0 & 0 & 1 & 3\\end{array}\\right]\\\\\n",
    "\\implies x_1 = 5, \\ x_2 = -2, \\ x_3 = 3\n",
    "\\end{align}"
   ]
  },
  {
   "cell_type": "markdown",
   "metadata": {
    "id": "JT96Y2X6Kg9w"
   },
   "source": [
    "* Systems of equations can be\n",
    "  1. underdetermined (m<n)\n",
    "  2. determined (m=n)\n",
    "  3. overdetermined (m>n)\\\n",
    "And can have 3 solution scenarios:\n",
    "  1. infinite\n",
    "  2. unique\n",
    "  3. none\\\n",
    "Not dictated by how \"determined\" system is\n",
    "\n",
    "* Determinants $\\rightarrow$ important property to calculate\n",
    "\\begin{equation}\n",
    "  |\\arr{A}| = \\det(\\arr{A})=\\begin{cases}\n",
    "    a_{11} & \\text{if $n=1$}.\\\\\n",
    "    a_{11}A_{11} + a_{12}A_{12} + ... + a_{1n}A_{1n} & \\text{if $n\\neq 1$}.\n",
    "  \\end{cases}\n",
    "\\end{equation}\n",
    "(only for square matrices) Here $A_{11}, \\ A_{12}, \\ A_{1n} ...$ are cofactors\\\n",
    "e.g. for a $2\\times 2$ matrix, $\\det(\\arr{A}) = a_{11}a_{22} - a_{21}a_{12}$\n",
    "\n",
    "* A matrix is singular (non-invertible) when the det. is zero"
   ]
  },
  {
   "cell_type": "markdown",
   "metadata": {
    "id": "XL89iQUgMZTZ"
   },
   "source": [
    "* Eigenvalues and eigenvectors\\\n",
    "For an $n\\times n$ matrix $\\arr{A}$, when $\n",
    "\\arr{A}\\vec{x}=\\lambda\\vec{x}$, $\\lambda$ is an eigenvalue and $\\vec{x}$ is the corresponding eigenvector\n",
    "  * $\\lambda$'s found by solving $|\\arr{A}-\\lambda\\arr{I}|=0$\n",
    "  * corresponding $\\vec{x}$ found by solving $(\\arr{A}-\\lambda\\arr{I})\\vec{x}=0$\n",
    "  * the eigenspace of $\\arr{A}$ is $\\vec{x}=\\vec{0}$ (always a solution) + all $\\lambda,\\vec{x}$ pairs\n",
    "  * An $n\\times n$ matrix yields $n$ $\\lambda,\\vec{x}$ pairs.\n",
    "\n",
    "* Special matrices\n",
    "  * Diagonal\n",
    "  * Identity \n",
    "  * Triangular (upper/lower)\n",
    "  * Symmetric and skew-symmetric"
   ]
  },
  {
   "cell_type": "markdown",
   "metadata": {
    "id": "4kpnhqbPd1bz"
   },
   "source": [
    "## ODE Recap"
   ]
  },
  {
   "cell_type": "markdown",
   "metadata": {
    "id": "FedNYrd3d86d"
   },
   "source": [
    "* We discussed several types of ODEs. Your ability to solve requires you to classify the ODE\n",
    "  * these 5 classifications, together, will determine your solution method\n",
    "1. Order\\\n",
    "Determined by the order of the highest derivative\\\n",
    "  A. first $\\ y'=5$\\\n",
    "  B. second $\\ y'' + y' + y = 5$\n",
    "2. Seperable-ness\n",
    "  * applies only to $1^\\circ$ ODEs\n",
    "  * can be written as $g(y)\\cdot y'=f(x)$\\\n",
    "  A. separable $\\ y^2\\cdot y'= x + 2$\\\n",
    "  B. non-separable $\\ y' + y = x$\n",
    "3. Exactness\n",
    "  * applies only to $1^\\circ$ ODEs\n",
    "  * can be written as $N(x,y)y'=M(x,y)$ with $\\frac{\\partial N}{\\partial x} = \\frac{\\partial M}{\\partial y}$\\\n",
    "  A. Exact $\\ y\\cdot y'=x^2$ (all separable ODEs are exact)\\\n",
    "  B. Non-exact $y\\cdot y' = x^2 + y$\n",
    "4. Linearity\n",
    "  * can be written as $y''+p(x)y'+q(x)y=r(x)$ where $p,q$ and $r$ are continuous functions of $x$ only\\\n",
    "  * Constant coefficient is case when all p(x), q(x), etc are just constants\n",
    "  A. Linear $\\ y' + xy = 0$\\\n",
    "  B. Non-linear $\\ y\\cdot y' = x^2 + y$\n",
    "5. Homogeneity\n",
    "  * classification applies only to linear equations\n",
    "  * occurs when $r(x) \\equiv 0$\\\n",
    "  A. Homogeneous $y' + xy = 0$\\\n",
    "  B. Non-homogeneous $y'' + y = 5x$"
   ]
  },
  {
   "cell_type": "markdown",
   "metadata": {
    "id": "SANLF8LWgTc1"
   },
   "source": [
    "#### Your Approach\n",
    "1. If it is first order:\\\n",
    "  A. separate if possible\\\n",
    "  B. check linearity. If linear, make exact with integrating factor $F(x) = \\exp[\\int p(x)dx]$ and use chain rule to obtain $y(x) = e^{-\\int p(x)dx}[\\int F(x)r(x)dx + c]$\\\n",
    "  C. Write in form $M(x,y)dx+N(x,y)dy=0$, check for exactness.\\\n",
    "  If not exact, try to find integrating factor $F(x)$ or $F(y)$\n",
    "  * If $F(x)$, then $\\frac{1}{F}\\frac{dF}{dx} = \\frac{1}{N}\\left\\{\\frac{\\partial M}{\\partial y} - \\frac{\\partial N}{\\partial x}\\right\\} = R(x)$\\\n",
    "  and $F(x)=\\exp[\\int R(x)dx]$\n",
    "  * If $F(y)$, then $\\frac{1}{F}\\frac{dF}{dy} = \\frac{1}{M}\\left\\{\\frac{\\partial N}{\\partial x} - \\frac{\\partial M}{\\partial y}\\right\\} = R(y)$\\\n",
    "  and $F(y)=\\exp[\\int R(y)dy]$\\\n",
    "  Once your ODE is exact, find $u(x,y)$ s.t. $\\frac{\\partial u}{\\partial x} = M(x,y)$ and $\\frac{\\partial u}{\\partial y} = N(x,y)$\\\n",
    "  Implicit solution is given by $u(x,y)=c$\n",
    "2. If it is second order:\\\n",
    "  A. check homogeneity. If homogeneous, identify the two component solution basis, which depends on the roots of the characteristic equation $\\lambda^2+a\\lambda+b=0$\n",
    "  1. real, distinct roots\\\n",
    "  $y(x)=c_1e^{\\lambda_1x}+c_2e^{\\lambda_2x}$, where $\\lambda=\\frac{1}{2}(a\\pm\\sqrt{a^2-4b})$\n",
    "  2. repeated roots\\\n",
    "  $y(x)=c_1e^{\\lambda x}+c_2xe^{\\lambda x}$ where $\\lambda=-\\frac{1}{2}a$\n",
    "  3. complex roots\\\n",
    "  $y(x)=e^{-\\frac{a}{2}x}[c_1\\sin(\\omega x)+c_2\\cos(\\omega x)]$ where $\\omega=\\sqrt{b-\\frac{1}{4}a^2}$\n",
    "  \n",
    "  B. if non-homogeneous, find homogeneous solution $y_H(x)$, then find a particular solution $y_P(x)$ using either\n",
    "  1. Method of undetermined coefficients\n",
    "    * applicable only for non-homogeneous terms that return themselves as derivatives, e.g. $\\sin x, e^x, x^n$\n",
    "    * assume $y_P(x)$ looks like $r(x)$\n",
    "  2. Variation of Parameters\n",
    "    * works for any $r(x)$\n",
    "    * assume $y_P(x)=u(x)y_1(x)+v(x)y_2(x)$\n",
    "    * Find Wronskian, $W=y_1y_2'-y_2y_1'$, then,\\\n",
    "    $y(x)=y_H(x)+y_1(x)\\int\\frac{-r(x)y_2(x)}{W}dx + y_2(x)\\int\\frac{r(x)y_1(x)}{W}dx$\n",
    "\n",
    "\n",
    "* Boundary Value Problems\n",
    "  * IVPs always have a unique solution provided continuity is met\n",
    "  * BVPs have either no solution, unique or infinite number of solutions $\\rightarrow$ you must think for these"
   ]
  },
  {
   "cell_type": "markdown",
   "metadata": {
    "id": "Ee40r2LSm1Vi"
   },
   "source": [
    "## Coupled ODEs\n",
    "\n",
    "\n"
   ]
  },
  {
   "cell_type": "markdown",
   "metadata": {
    "id": "FMY9tHCg5QfN"
   },
   "source": [
    "e.g.\\begin{align}\n",
    "y_1'-y_1+y_2=4\\\\\n",
    "y_2'+y_1=8x\n",
    "\\end{align}\n",
    "especially when working with higher number of equations (like in chemical plant), best to solve simultaneously\n",
    "* Matrices come back:\n",
    "\\begin{align}\n",
    "\\vec{y}'=\\arr{A}\\vec{y}+\\vec{b}(x)\n",
    "\\end{align}\n",
    "where $\\vec{b}(x)$ is the non-homogeneous term, $\\vec{y}$ is an $n\\times 1$ vector of unknown functions and $\\arr{A}$ is an $n\\times n$ coefficient matrix\\\n",
    "For the example, $\\arr{A}=\\begin{bmatrix}1&-1 \\\\ -1&0 \\end{bmatrix}$ and $\\vec{b}=\\begin{bmatrix} 4 \\\\ 8x \\end{bmatrix}$\n",
    "* We proved that the eigenvalues and eigenvectors of $\\arr{A}$ yield the homogenoeus solution:\n",
    "\\begin{align}\n",
    "\\vec{y} = c_1\\vec{x}^{(1)}e^{\\lambda_1t} + c_2\\vec{x}^{(2)}e^{\\lambda_2t} + ... + c_n\\vec{x}^{(n)}e^{\\lambda_nt}\n",
    "\\end{align}\n",
    "for real, distinct eigenvalues\n",
    "* For real, repeated eigenvalues, we must use reduction of order to obtain linearly independent solutions\\\n",
    "e.g. $c_1\\vec{x}^{(1)}e^{\\lambda_1t} + c_2\\vec{x}^{(1)}te^{\\lambda_1t}$ (remember there is also a term from the solution of the generalized eigenvalue problem!)\n",
    "* For complex eigenvalues, we must use Euler's formula\n",
    "\\begin{align}\n",
    "e^{\\omega it} = \\cos(\\omega t) + i\\sin(\\omega t)\n",
    "\\end{align}\n",
    "to change basis and obtain a real solution\n",
    "\\begin{align}\n",
    "\\vec{y}=c_1 \\begin{bmatrix} \\cos\\omega t \\\\ -sin\\omega t \\end{bmatrix} + c_2 \\begin{bmatrix} \\sin \\omega t \\\\ \\cos \\omega t \\end{bmatrix}\n",
    "\\end{align}\n",
    "* Non-homogeneous systems are handled similarly to non-homogeneous single equations\n",
    "  * after finding homogeneous solution, find a particular solution using MUC or VoP\n",
    "  * In both cases, you assume a form of $y_P$\\\n",
    "  MUC: $\\vec{y}_P(t) = \\vec{u}\\sin t + \\vec{v}\\cos t$ (for, say, $5\\cos t$)\\\n",
    "      $\\vec{y}_P(t) = \\vec{u}t^2 + \\vec{v}t + \\vec{w}$ (for, say, $2t^2$)\\\n",
    "  VoP: $\\vec{y}_P(t) = \\arr{Y}(t)\\vec{u}(t)$\\\n",
    "  where $\\arr{Y}(t)$ is the fundamental matrix obtained from your two linearly independent solutions to homogeneous equation\n",
    "* For non-linear ODE's where we can't get the solution, we can still find steady states and do a non-linear stability analysis\n",
    "  * Steady states are straightforward $\\vec{y}'=\\vec{0}$, but you have to find **every steady state!**. Be careful. \n",
    "  * At each steady state, evaluate the jacobian and form a linearized ODE that holds near the steady state. \n",
    "  * Calculate the eigenvalues to understand the type (stability) of the steady state"
   ]
  },
  {
   "cell_type": "markdown",
   "metadata": {
    "id": "U7NnUE1P5WWN"
   },
   "source": [
    "# PDEs\n",
    "\n",
    "  * 2 or more independent variables\n",
    "  * Order, linearity, homogeneity\n",
    "  * solve using separation of variables to turn into multiple ODE's, or if given special solution forms for specific PDE's\n",
    "  * If needed, use Fourier coefficients to transform initial conditions into the basis of solutions\n"
   ]
  },
  {
   "cell_type": "markdown",
   "metadata": {
    "id": "Udoa4jh78As1"
   },
   "source": [
    "### Statistics \n",
    "\n",
    "At the very end, we covered some simple statistics that will help you next year. \n",
    "* Basic statistics\n",
    "  * Types of distributions (continuous, discrete) and how to evaluate them (PDF, CDF, sampling) in python\n",
    "  * Plotting distribution (**NOT JUST HISTOGRAMS**) and kernel density estimation. \n",
    "  * Fitting distributions based on the CDF\n",
    "  * Estimates for properties of a Gaussian distribution, and the errors on those estimates\n",
    "* Regression\n",
    "  * Linear regression **[testable]**\n",
    "    * Form the augmented matrix $\\arr{X}$ with your non-linear functions\n",
    "    * Solve for the best parameters using the $\\arr{X}^T$ trick\n",
    "    * If you need uncertainty, use a package like statsmodels\n",
    "  * Non-linear regression\n",
    "    * Turn a non-linear problem into a linear one, then solve like that\n",
    "    * Use a tool like curvefit (easiest) or lmfit (if need uncertainty)\n"
   ]
  }
 ],
 "metadata": {
  "colab": {
   "authorship_tag": "ABX9TyOBh6fIjrYnPlYxqAE+pUpI",
   "collapsed_sections": [],
   "name": "27-course-recap.ipynb",
   "provenance": []
  },
  "kernelspec": {
   "display_name": "Python 3 (ipykernel)",
   "language": "python",
   "name": "python3"
  },
  "language_info": {
   "codemirror_mode": {
    "name": "ipython",
    "version": 3
   },
   "file_extension": ".py",
   "mimetype": "text/x-python",
   "name": "python",
   "nbconvert_exporter": "python",
   "pygments_lexer": "ipython3",
   "version": "3.9.13"
  }
 },
 "nbformat": 4,
 "nbformat_minor": 4
}