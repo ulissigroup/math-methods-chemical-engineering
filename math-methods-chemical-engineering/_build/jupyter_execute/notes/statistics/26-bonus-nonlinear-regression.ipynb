{
 "cells": [
  {
   "cell_type": "markdown",
   "metadata": {
    "id": "hxdc7U-1kKL0"
   },
   "source": [
    "$$\\newcommand{\\arr}[1]{\\underline{\\underline{#1}}}$$    \n",
    "$$\\newcommand{\\vec}[1]{\\underline{#1}}$$   \n",
    "$$\\require{mhchem}$$\n"
   ]
  },
  {
   "cell_type": "markdown",
   "metadata": {
    "id": "n63PGfye9pig"
   },
   "source": [
    "# Recap on linear regression\n",
    "\n",
    "Last class, we talked about how we could turn linear regression into a linear algebra problem\n",
    "- You can calculate this yourself\n",
    "- You can also do linear regression using statistical packages like statsmodel\n",
    "\n",
    "Today we will discuss two ways of solving non-linear regression problems\n",
    "- Turn a non-linear problem into a linear one and solve\n",
    "- Non-linear curve fitting"
   ]
  },
  {
   "cell_type": "markdown",
   "metadata": {
    "id": "NDQBwO8M2Tmt"
   },
   "source": [
    "\n",
    "## Turn a non-linear regression problem into a linear regression problem\n",
    "\n"
   ]
  },
  {
   "cell_type": "markdown",
   "metadata": {
    "id": "PXofbsJg2Tmu"
   },
   "source": [
    "-   Rate constants and reaction orders are determined by using models that are fit to experimental data\n",
    "-   A common case is to monitor concentration vs. time in a constant volume, batch reactor\n",
    "-   We consider the disappearance of $A$\n",
    "-   From the mole balance we know:\n",
    "\n",
    "\\begin{equation}\n",
    "\\frac{dN_A}{dt} = r_A V\n",
    "\\end{equation}\n",
    "\n",
    "-   Let us assume the rate law is of the form: $r_A = k C_A^\\alpha$ and a constant volume so that:\n",
    "\n",
    "\\begin{equation}\n",
    "\\frac{dC_A}{dt} = -k C_A^\\alpha\n",
    "\\end{equation}\n",
    "\n",
    "-   Let us be loose with mathematics, rearrange the equation, and take the log of both sides.\n",
    "    -   By loose I mean we take logs of quantities that are not dimensionless\n",
    "\n",
    "\\begin{equation}\n",
    "\\ln(-\\frac{dC_A}{dt}) = \\ln{k} + \\alpha \\ln C_A\n",
    "\\end{equation}\n",
    "\n",
    "-   This suggests that if we could numerically compute $\\frac{dC_A}{dt}$ from our data of $C_A(t)$ then a plot of the log of the negative derivative vs the log of concentration would have\n",
    "    -   an intercept equal to the log of the rate constant, $k$\n",
    "    -   and a slope equal to the reaction order $\\alpha$\n",
    "\n",
    "-   Given the following data, determine the reaction order in A and the rate constant with 95% confidence intervals.\n",
    "\n",
    "<table id=\"orgfd5ae74\" border=\"2\" cellspacing=\"0\" cellpadding=\"6\" rules=\"groups\" frame=\"hsides\">\n",
    "\n",
    "\n",
    "<colgroup>\n",
    "<col  class=\"org-right\" />\n",
    "\n",
    "<col  class=\"org-right\" />\n",
    "</colgroup>\n",
    "<thead>\n",
    "<tr>\n",
    "<th scope=\"col\" class=\"org-right\">time (min)</th>\n",
    "<th scope=\"col\" class=\"org-right\">C\\_A (mol/L)</th>\n",
    "</tr>\n",
    "</thead>\n",
    "\n",
    "<tbody>\n",
    "<tr>\n",
    "<td class=\"org-right\">0</td>\n",
    "<td class=\"org-right\">0.0500</td>\n",
    "</tr>\n",
    "\n",
    "\n",
    "<tr>\n",
    "<td class=\"org-right\">50</td>\n",
    "<td class=\"org-right\">0.0380</td>\n",
    "</tr>\n",
    "\n",
    "\n",
    "<tr>\n",
    "<td class=\"org-right\">100</td>\n",
    "<td class=\"org-right\">0.0306</td>\n",
    "</tr>\n",
    "\n",
    "\n",
    "<tr>\n",
    "<td class=\"org-right\">150</td>\n",
    "<td class=\"org-right\">0.0256</td>\n",
    "</tr>\n",
    "\n",
    "\n",
    "<tr>\n",
    "<td class=\"org-right\">200</td>\n",
    "<td class=\"org-right\">0.0222</td>\n",
    "</tr>\n",
    "\n",
    "\n",
    "<tr>\n",
    "<td class=\"org-right\">250</td>\n",
    "<td class=\"org-right\">0.0195</td>\n",
    "</tr>\n",
    "\n",
    "\n",
    "<tr>\n",
    "<td class=\"org-right\">300</td>\n",
    "<td class=\"org-right\">0.0174</td>\n",
    "</tr>\n",
    "</tbody>\n",
    "</table>\n",
    "\n",
    "\n",
    "- We can get the derivatives by first fitting a spline through the data. The spline is essentially just a smoothing function  \n",
    "-   We will use the `splev` function to numerically compute derivatives from spline fits of the function. \n",
    "-   This works best when the $x$ points are evenly spaced, and they should be monotically increasing or decreasing\n"
   ]
  },
  {
   "cell_type": "code",
   "execution_count": null,
   "metadata": {
    "colab": {
     "base_uri": "https://localhost:8080/",
     "height": 297
    },
    "executionInfo": {
     "elapsed": 811,
     "status": "ok",
     "timestamp": 1651147976426,
     "user": {
      "displayName": "Zachary Ulissi",
      "userId": "07633171379186475882"
     },
     "user_tz": 240
    },
    "id": "bidKH_Yo2Tmv",
    "outputId": "f5f97a6d-38ce-40d8-df9c-cba0dfe3dafe"
   },
   "outputs": [
    {
     "data": {
      "text/plain": [
       "Text(0, 0.5, 'Conc. [mol/L]')"
      ]
     },
     "execution_count": 3,
     "metadata": {},
     "output_type": "execute_result"
    },
    {
     "data": {
      "image/png": "[encoded data removed]",
      "text/plain": [
       "<Figure size 432x288 with 1 Axes>"
      ]
     },
     "metadata": {
      "filenames": {
       "image/png": "/home/jovyan/math-methods-chemical-engineering/math-methods-chemical-engineering/_build/jupyter_execute/notes/statistics/26-bonus-nonlinear-regression_4_1.png"
      },
      "needs_background": "light"
     },
     "output_type": "display_data"
    }
   ],
   "source": [
    "import numpy as np\n",
    "import matplotlib.pyplot as plt\n",
    "\n",
    "data=np.array([[0,0.05],\n",
    "               [50,.038],\n",
    "               [100,.0306],\n",
    "               [150,.0256],\n",
    "               [200,.0222],\n",
    "               [250,.0195],\n",
    "               [300,.0174]])\n",
    "\n",
    "plt.plot(data[:,0],data[:,1],'o')\n",
    "plt.xlabel('Time [min]')\n",
    "plt.ylabel('Conc. [mol/L]')"
   ]
  },
  {
   "cell_type": "markdown",
   "metadata": {
    "id": "oCafkMlO2Tmy"
   },
   "source": [
    "So, we need to convert the list of numbers to a numpy array so we can do the analysis.\n",
    "\n"
   ]
  },
  {
   "cell_type": "code",
   "execution_count": null,
   "metadata": {
    "colab": {
     "base_uri": "https://localhost:8080/",
     "height": 297
    },
    "executionInfo": {
     "elapsed": 582,
     "status": "ok",
     "timestamp": 1651148064962,
     "user": {
      "displayName": "Zachary Ulissi",
      "userId": "07633171379186475882"
     },
     "user_tz": 240
    },
    "id": "kVYnxN6K2AVN",
    "outputId": "60f804e2-eff2-4ff7-9df9-70d7aae60e49"
   },
   "outputs": [
    {
     "data": {
      "text/plain": [
       "<matplotlib.legend.Legend at 0x7f57372fcc50>"
      ]
     },
     "execution_count": 6,
     "metadata": {},
     "output_type": "execute_result"
    },
    {
     "data": {
      "image/png": "[encoded data removed]",
      "text/plain": [
       "<Figure size 432x288 with 1 Axes>"
      ]
     },
     "metadata": {
      "filenames": {
       "image/png": "/home/jovyan/math-methods-chemical-engineering/math-methods-chemical-engineering/_build/jupyter_execute/notes/statistics/26-bonus-nonlinear-regression_6_1.png"
      },
      "needs_background": "light"
     },
     "output_type": "display_data"
    }
   ],
   "source": [
    "import numpy as np\n",
    "import matplotlib.pyplot as plt\n",
    "from scipy import interpolate\n",
    "\n",
    "# data will be a 2d list, which we convert to an array here\n",
    "data = np.array(data)\n",
    "t = data[:, 0]   # column 0\n",
    "Ca = data[:, 1]  # column 1\n",
    "\n",
    "# calculate a spline through the data\n",
    "tck = interpolate.splrep(t, Ca)\n",
    "\n",
    "t_eval = np.linspace(0,300)\n",
    "Ca_spline = interpolate.splev(t_eval, tck)\n",
    "plt.plot(data[:,0],data[:,1],'o', label='Exp Data')\n",
    "plt.plot(t_eval, Ca_spline,'--.',label='Spline Fit')\n",
    "plt.xlabel('Time [min]')\n",
    "plt.ylabel('Conc. [mol/L]')\n",
    "plt.legend()"
   ]
  },
  {
   "cell_type": "code",
   "execution_count": null,
   "metadata": {
    "colab": {
     "base_uri": "https://localhost:8080/",
     "height": 375
    },
    "executionInfo": {
     "elapsed": 1620,
     "status": "ok",
     "timestamp": 1651148121933,
     "user": {
      "displayName": "Zachary Ulissi",
      "userId": "07633171379186475882"
     },
     "user_tz": 240
    },
    "id": "WVNctlap2Tmz",
    "outputId": "f9494984-cb10-4e46-8976-d34dbe15bf17"
   },
   "outputs": [
    {
     "name": "stderr",
     "output_type": "stream",
     "text": [
      "/usr/local/lib/python3.7/dist-packages/statsmodels/tools/_testing.py:19: FutureWarning: pandas.util.testing is deprecated. Use the functions in the public API at pandas.testing instead.\n",
      "  import pandas.util.testing as tm\n"
     ]
    },
    {
     "name": "stdout",
     "output_type": "stream",
     "text": [
      "alpha = 2.0354816446001127, conf interval [1.92418422 2.14677907]\n",
      "k = 0.1402128334966632, conf interval [0.09372748 0.20975319]\n"
     ]
    },
    {
     "data": {
      "image/png": "[encoded data removed]",
      "text/plain": [
       "<Figure size 432x288 with 1 Axes>"
      ]
     },
     "metadata": {
      "filenames": {
       "image/png": "/home/jovyan/math-methods-chemical-engineering/math-methods-chemical-engineering/_build/jupyter_execute/notes/statistics/26-bonus-nonlinear-regression_7_2.png"
      },
      "needs_background": "light"
     },
     "output_type": "display_data"
    }
   ],
   "source": [
    "import numpy as np\n",
    "import matplotlib.pyplot as plt\n",
    "from scipy import interpolate\n",
    "import statsmodels.api as sm\n",
    "\n",
    "# data will be a 2d list, which we convert to an array here\n",
    "data = np.array(data)\n",
    "t = data[:, 0]   # column 0\n",
    "Ca = data[:, 1]  # column 1\n",
    "\n",
    "# calculate numerical derivatives\n",
    "tck = interpolate.splrep(t, Ca)\n",
    "dCadt = interpolate.splev(t, tck, der=1)\n",
    "\n",
    "# do the transformation\n",
    "x = np.log(Ca)\n",
    "y = np.log(-dCadt)\n",
    "\n",
    "# setup and do the regression\n",
    "# column of ones and x:  y = b + mx\n",
    "X = np.column_stack([x, x**0])\n",
    "\n",
    "mod = sm.OLS(y, X)\n",
    "res = mod.fit()\n",
    "\n",
    "intercept = res.params[1]\n",
    "alpha = res.params[0]\n",
    "\n",
    "confidence_intervals = res.conf_int(0.05)\n",
    "intercept_error = confidence_intervals[1]\n",
    "alpha_error = confidence_intervals[0]\n",
    "\n",
    "\n",
    "print('alpha = {0}, conf interval {1}'.format(alpha, alpha_error))\n",
    "print('k = {0}, conf interval {1}'.format(np.exp(intercept), \n",
    "                                          np.exp(intercept_error)))\n",
    "\n",
    "\n",
    "# always visually inspect the fit\n",
    "plt.plot(x, y,'o')\n",
    "plt.plot(x, res.predict(X))\n",
    "plt.xlabel('$\\ln(C_A)$')\n",
    "plt.ylabel('$\\ln(-dC_A/dt)$')\n",
    "plt.show()"
   ]
  },
  {
   "cell_type": "code",
   "execution_count": null,
   "metadata": {
    "colab": {
     "base_uri": "https://localhost:8080/",
     "height": 495
    },
    "executionInfo": {
     "elapsed": 420,
     "status": "ok",
     "timestamp": 1588246512328,
     "user": {
      "displayName": "Zachary Ulissi",
      "photoUrl": "",
      "userId": "07633171379186475882"
     },
     "user_tz": 240
    },
    "id": "qZpIkBiThUO0",
    "outputId": "f286dfd3-b56a-4bc9-dcd1-3b6bd7ca43b2"
   },
   "outputs": [
    {
     "name": "stderr",
     "output_type": "stream",
     "text": [
      "/usr/local/lib/python3.6/dist-packages/statsmodels/stats/stattools.py:71: ValueWarning: omni_normtest is not valid with less than 8 observations; 7 samples were given.\n",
      "  \"samples were given.\" % int(n), ValueWarning)\n"
     ]
    },
    {
     "data": {
      "text/html": [
       "<table class=\"simpletable\">\n",
       "<caption>OLS Regression Results</caption>\n",
       "<tr>\n",
       "  <th>Dep. Variable:</th>            <td>y</td>        <th>  R-squared:         </th> <td>   0.998</td>\n",
       "</tr>\n",
       "<tr>\n",
       "  <th>Model:</th>                   <td>OLS</td>       <th>  Adj. R-squared:    </th> <td>   0.997</td>\n",
       "</tr>\n",
       "<tr>\n",
       "  <th>Method:</th>             <td>Least Squares</td>  <th>  F-statistic:       </th> <td>   2210.</td>\n",
       "</tr>\n",
       "<tr>\n",
       "  <th>Date:</th>             <td>Thu, 30 Apr 2020</td> <th>  Prob (F-statistic):</th> <td>8.22e-08</td>\n",
       "</tr>\n",
       "<tr>\n",
       "  <th>Time:</th>                 <td>11:35:11</td>     <th>  Log-Likelihood:    </th> <td>  13.785</td>\n",
       "</tr>\n",
       "<tr>\n",
       "  <th>No. Observations:</th>      <td>     7</td>      <th>  AIC:               </th> <td>  -23.57</td>\n",
       "</tr>\n",
       "<tr>\n",
       "  <th>Df Residuals:</th>          <td>     5</td>      <th>  BIC:               </th> <td>  -23.68</td>\n",
       "</tr>\n",
       "<tr>\n",
       "  <th>Df Model:</th>              <td>     1</td>      <th>                     </th>     <td> </td>   \n",
       "</tr>\n",
       "<tr>\n",
       "  <th>Covariance Type:</th>      <td>nonrobust</td>    <th>                     </th>     <td> </td>   \n",
       "</tr>\n",
       "</table>\n",
       "<table class=\"simpletable\">\n",
       "<tr>\n",
       "    <td></td>       <th>coef</th>     <th>std err</th>      <th>t</th>      <th>P>|t|</th>  <th>[0.025</th>    <th>0.975]</th>  \n",
       "</tr>\n",
       "<tr>\n",
       "  <th>x1</th>    <td>    2.0355</td> <td>    0.043</td> <td>   47.013</td> <td> 0.000</td> <td>    1.924</td> <td>    2.147</td>\n",
       "</tr>\n",
       "<tr>\n",
       "  <th>const</th> <td>   -1.9646</td> <td>    0.157</td> <td>  -12.539</td> <td> 0.000</td> <td>   -2.367</td> <td>   -1.562</td>\n",
       "</tr>\n",
       "</table>\n",
       "<table class=\"simpletable\">\n",
       "<tr>\n",
       "  <th>Omnibus:</th>       <td>   nan</td> <th>  Durbin-Watson:     </th> <td>   2.377</td>\n",
       "</tr>\n",
       "<tr>\n",
       "  <th>Prob(Omnibus):</th> <td>   nan</td> <th>  Jarque-Bera (JB):  </th> <td>   0.735</td>\n",
       "</tr>\n",
       "<tr>\n",
       "  <th>Skew:</th>          <td>-0.181</td> <th>  Prob(JB):          </th> <td>   0.692</td>\n",
       "</tr>\n",
       "<tr>\n",
       "  <th>Kurtosis:</th>      <td> 1.454</td> <th>  Cond. No.          </th> <td>    40.4</td>\n",
       "</tr>\n",
       "</table><br/><br/>Warnings:<br/>[1] Standard Errors assume that the covariance matrix of the errors is correctly specified."
      ],
      "text/plain": [
       "<class 'statsmodels.iolib.summary.Summary'>\n",
       "\"\"\"\n",
       "                            OLS Regression Results                            \n",
       "==============================================================================\n",
       "Dep. Variable:                      y   R-squared:                       0.998\n",
       "Model:                            OLS   Adj. R-squared:                  0.997\n",
       "Method:                 Least Squares   F-statistic:                     2210.\n",
       "Date:                Thu, 30 Apr 2020   Prob (F-statistic):           8.22e-08\n",
       "Time:                        11:35:11   Log-Likelihood:                 13.785\n",
       "No. Observations:                   7   AIC:                            -23.57\n",
       "Df Residuals:                       5   BIC:                            -23.68\n",
       "Df Model:                           1                                         \n",
       "Covariance Type:            nonrobust                                         \n",
       "==============================================================================\n",
       "                 coef    std err          t      P>|t|      [0.025      0.975]\n",
       "------------------------------------------------------------------------------\n",
       "x1             2.0355      0.043     47.013      0.000       1.924       2.147\n",
       "const         -1.9646      0.157    -12.539      0.000      -2.367      -1.562\n",
       "==============================================================================\n",
       "Omnibus:                          nan   Durbin-Watson:                   2.377\n",
       "Prob(Omnibus):                    nan   Jarque-Bera (JB):                0.735\n",
       "Skew:                          -0.181   Prob(JB):                        0.692\n",
       "Kurtosis:                       1.454   Cond. No.                         40.4\n",
       "==============================================================================\n",
       "\n",
       "Warnings:\n",
       "[1] Standard Errors assume that the covariance matrix of the errors is correctly specified.\n",
       "\"\"\""
      ]
     },
     "execution_count": 20,
     "metadata": {
      "tags": []
     },
     "output_type": "execute_result"
    }
   ],
   "source": [
    "res.summary()"
   ]
  },
  {
   "cell_type": "markdown",
   "metadata": {
    "id": "J5P1bVrs2Tm9"
   },
   "source": [
    "\n",
    "-   You can see there is a reasonably large range of values for the rate constant and reaction order (although the confidence interval does not contain zero)\n",
    "\n",
    "-   The fit looks ok, but you can see the errors are not exactly random\n",
    "    -   There seems to be systematic trends in a sigmoidal shape of the data\n",
    "    -   That suggests small inadequacy in the model\n",
    "\n",
    "-   Let us examine some methods of evaluating the quality of fit\n",
    "\n",
    "-   First we examine the residuals, or the errors between the data and the model.\n",
    "\n",
    "-   In a good fit, these will be randomly distributed\n",
    "\n",
    "-   In a less good fit, there will be trends\n",
    "\n"
   ]
  },
  {
   "cell_type": "code",
   "execution_count": null,
   "metadata": {
    "colab": {
     "base_uri": "https://localhost:8080/",
     "height": 283
    },
    "executionInfo": {
     "elapsed": 472,
     "status": "ok",
     "timestamp": 1588251490801,
     "user": {
      "displayName": "Zachary Ulissi",
      "photoUrl": "",
      "userId": "07633171379186475882"
     },
     "user_tz": 240
    },
    "id": "iqKO9K0I2Tm-",
    "outputId": "cf03be0c-dba2-48a3-e209-5e9a8530528a"
   },
   "outputs": [
    {
     "data": {
      "image/png": "[encoded data removed]",
      "text/plain": [
       "<Figure size 432x288 with 1 Axes>"
      ]
     },
     "metadata": {
      "filenames": {
       "image/png": "/home/jovyan/math-methods-chemical-engineering/math-methods-chemical-engineering/_build/jupyter_execute/notes/statistics/26-bonus-nonlinear-regression_10_0.png"
      },
      "needs_background": "light",
      "tags": []
     },
     "output_type": "display_data"
    }
   ],
   "source": [
    "residuals = y - res.predict(X)\n",
    "\n",
    "# always visually inspect the fit\n",
    "plt.plot(x, residuals, 'o-')\n",
    "plt.xlabel('$\\ln(C_A)$')\n",
    "plt.ylabel('residuals')\n",
    "plt.show()\n"
   ]
  },
  {
   "cell_type": "markdown",
   "metadata": {
    "id": "renlH8Vs2TnB"
   },
   "source": [
    "\n",
    "-   You can see there are trends in this data\n",
    "    -   That means the model may not be complete\n",
    "\n",
    "-   There is uncertainty in the data\n",
    "    -   In each concentration measurement there is uncertainty in the time and value of concentration\n",
    "    -   You need more data to reduce the uncertainty\n",
    "    -   You may also need better data to reduce the uncertainty\n",
    "\n",
    "-   Derivatives tend to *magnify* errors in data\n",
    "    -   The method we used to fit the data contributed to the uncertainty\n",
    "\n",
    "-   We also *nonlinearly* transformed the errors by taking logs and exp of the data and results, which may have skewed the confidence limits\n",
    "\n"
   ]
  },
  {
   "cell_type": "markdown",
   "metadata": {
    "id": "n-69aqdp2TnJ"
   },
   "source": [
    "\n",
    "## Nonlinear regression\n",
    "\n"
   ]
  },
  {
   "cell_type": "markdown",
   "metadata": {
    "id": "wvJkiE7x2TnK"
   },
   "source": [
    "-   Nonlinear models are abundant in reaction engineering\n",
    "    -   $r = k C_A^n $ is linear in the $k$ parameter, and nonlinear in $n$\n",
    "\n",
    "-   Nonlinear fitting is essentially a non-linear optimization problem\n",
    "\n",
    "-   Unlike linear regression, where we directly compute the parameters using matrix algebra, we have to provide an initial guess and iterate to the solution\n",
    "\n",
    "-   Similar to using fsolve, we must define a function of the model\n",
    "    -   The function takes an independent variable, and parameters, f(x,a,b,&#x2026;)\n",
    "    -   The function should return a value of $y$ for every value of $x$\n",
    "    -   i.e. it should be vectorized\n",
    "\n",
    "-   It is possible to formulate these problems as nonlinear minimization of summed squared errors. See [this example](http://jkitchin.github.io/blog/2013/02/18/Nonlinear-curve-fitting/).\n",
    "\n",
    "-   The function [scipy.optimize.curve_fit](https://docs.scipy.org/doc/scipy/reference/generated/scipy.optimize.curve_fit.html) provides nonlinear fitting of models (functions) to data. \n",
    "\n",
    "\n",
    "Let's say we want to fit some other data to the function $$y=ax/(b+x)$$\n",
    "\n",
    "\n"
   ]
  },
  {
   "cell_type": "code",
   "execution_count": null,
   "metadata": {
    "colab": {
     "base_uri": "https://localhost:8080/",
     "height": 297
    },
    "executionInfo": {
     "elapsed": 371,
     "status": "ok",
     "timestamp": 1651148540478,
     "user": {
      "displayName": "Zachary Ulissi",
      "userId": "07633171379186475882"
     },
     "user_tz": 240
    },
    "id": "aesf39C9Nudl",
    "outputId": "3123d135-df25-40b4-828b-b5ed5a2e318a"
   },
   "outputs": [
    {
     "data": {
      "text/plain": [
       "Text(0, 0.5, 'y')"
      ]
     },
     "execution_count": 8,
     "metadata": {},
     "output_type": "execute_result"
    },
    {
     "data": {
      "image/png": "[encoded data removed]",
      "text/plain": [
       "<Figure size 432x288 with 1 Axes>"
      ]
     },
     "metadata": {
      "filenames": {
       "image/png": "/home/jovyan/math-methods-chemical-engineering/math-methods-chemical-engineering/_build/jupyter_execute/notes/statistics/26-bonus-nonlinear-regression_14_1.png"
      },
      "needs_background": "light"
     },
     "output_type": "display_data"
    }
   ],
   "source": [
    "import numpy as np\n",
    "\n",
    "x = np.array([0.5, 0.387, 0.24, 0.136, 0.04, 0.011])\n",
    "y = np.array([1.255, 1.25, 1.189, 1.124, 0.783, 0.402])\n",
    "\n",
    "\n",
    "plt.plot(x,y,'o')\n",
    "plt.xlabel('x')\n",
    "plt.ylabel('y')"
   ]
  },
  {
   "cell_type": "code",
   "execution_count": null,
   "metadata": {
    "colab": {
     "base_uri": "https://localhost:8080/",
     "height": 297
    },
    "executionInfo": {
     "elapsed": 500,
     "status": "ok",
     "timestamp": 1651148681053,
     "user": {
      "displayName": "Zachary Ulissi",
      "userId": "07633171379186475882"
     },
     "user_tz": 240
    },
    "id": "B4XHykHh6JRa",
    "outputId": "c32a4555-d6f6-4f63-809c-0c95a1d1e6cf"
   },
   "outputs": [
    {
     "data": {
      "text/plain": [
       "Text(0, 0.5, 'y')"
      ]
     },
     "execution_count": 13,
     "metadata": {},
     "output_type": "execute_result"
    },
    {
     "data": {
      "image/png": "[encoded data removed]",
      "text/plain": [
       "<Figure size 432x288 with 1 Axes>"
      ]
     },
     "metadata": {
      "filenames": {
       "image/png": "/home/jovyan/math-methods-chemical-engineering/math-methods-chemical-engineering/_build/jupyter_execute/notes/statistics/26-bonus-nonlinear-regression_15_1.png"
      },
      "needs_background": "light"
     },
     "output_type": "display_data"
    }
   ],
   "source": [
    "from scipy.optimize import curve_fit\n",
    "\n",
    "def func(x, a, b):\n",
    "    'nonlinear function in a and b to fit to data'\n",
    "    return a * x / (b + x)\n",
    "\n",
    "popt, pcov = curve_fit(func, x, y, p0=(3,3))\n",
    "\n",
    "\n",
    "xrange = np.linspace(0,0.5)\n",
    "fitted_y = func(xrange, *popt)\n",
    "\n",
    "plt.plot(x,y,'o')\n",
    "plt.plot(xrange,fitted_y)\n",
    "\n",
    "plt.xlabel('x')\n",
    "plt.ylabel('y')\n"
   ]
  },
  {
   "cell_type": "code",
   "execution_count": null,
   "metadata": {
    "colab": {
     "base_uri": "https://localhost:8080/"
    },
    "executionInfo": {
     "elapsed": 168,
     "status": "ok",
     "timestamp": 1651148614348,
     "user": {
      "displayName": "Zachary Ulissi",
      "userId": "07633171379186475882"
     },
     "user_tz": 240
    },
    "id": "XO46nvzjNfKT",
    "outputId": "1ec2e2d9-b5e9-4339-bc49-de03212c1fa2"
   },
   "outputs": [
    {
     "name": "stdout",
     "output_type": "stream",
     "text": [
      "[1.32753142 0.02646156]\n"
     ]
    }
   ],
   "source": [
    "print(popt)"
   ]
  },
  {
   "cell_type": "markdown",
   "metadata": {
    "id": "yZNeInig2TnP"
   },
   "source": [
    "-   We also need to estimate uncertainties in nonlinear parameters\n",
    "\n",
    "-   `lmfit` provides a nice way to do this\n",
    "\n",
    "[lmfit](https://lmfit.github.io/lmfit-py/)\n",
    "\n",
    "Read the [lmfit](https://lmfit.github.io/lmfit-py/) documentation to see how the confidence intervals are computed\n",
    "\n",
    "Here is an example usage of lmfit.\n",
    "\n"
   ]
  },
  {
   "cell_type": "code",
   "execution_count": null,
   "metadata": {
    "colab": {
     "base_uri": "https://localhost:8080/"
    },
    "executionInfo": {
     "elapsed": 10920,
     "status": "ok",
     "timestamp": 1651148799014,
     "user": {
      "displayName": "Zachary Ulissi",
      "userId": "07633171379186475882"
     },
     "user_tz": 240
    },
    "id": "9hUADZ3w6xEu",
    "outputId": "3ed3fd3a-1f16-435c-d279-98abfee0f57d"
   },
   "outputs": [
    {
     "name": "stdout",
     "output_type": "stream",
     "text": [
      "Collecting lmfit\n",
      "  Downloading lmfit-1.0.3.tar.gz (292 kB)\n",
      "\u001b[K     |████████████████████████████████| 292 kB 7.7 MB/s \n",
      "\u001b[?25hCollecting asteval>=0.9.22\n",
      "  Downloading asteval-0.9.26.tar.gz (40 kB)\n",
      "\u001b[K     |████████████████████████████████| 40 kB 4.1 MB/s \n",
      "\u001b[?25hRequirement already satisfied: numpy>=1.18 in /usr/local/lib/python3.7/dist-packages (from lmfit) (1.21.6)\n",
      "Requirement already satisfied: scipy>=1.4 in /usr/local/lib/python3.7/dist-packages (from lmfit) (1.4.1)\n",
      "Collecting uncertainties>=3.0.1\n",
      "  Downloading uncertainties-3.1.6-py2.py3-none-any.whl (98 kB)\n",
      "\u001b[K     |████████████████████████████████| 98 kB 7.1 MB/s \n",
      "\u001b[?25hRequirement already satisfied: importlib_metadata in /usr/local/lib/python3.7/dist-packages (from asteval>=0.9.22->lmfit) (4.11.3)\n",
      "Requirement already satisfied: future in /usr/local/lib/python3.7/dist-packages (from uncertainties>=3.0.1->lmfit) (0.16.0)\n",
      "Requirement already satisfied: zipp>=0.5 in /usr/local/lib/python3.7/dist-packages (from importlib_metadata->asteval>=0.9.22->lmfit) (3.8.0)\n",
      "Requirement already satisfied: typing-extensions>=3.6.4 in /usr/local/lib/python3.7/dist-packages (from importlib_metadata->asteval>=0.9.22->lmfit) (4.2.0)\n",
      "Building wheels for collected packages: lmfit, asteval\n",
      "  Building wheel for lmfit (setup.py) ... \u001b[?25l\u001b[?25hdone\n",
      "  Created wheel for lmfit: filename=lmfit-1.0.3-py3-none-any.whl size=84402 sha256=8328dc5ec51b17be5d13b3ab47d4b414f6a54deab3dd98f55708967677867dff\n",
      "  Stored in directory: /root/.cache/pip/wheels/b9/7a/d1/236aa0f8196b264fda481a112f7cfb1bfde7bfb20235f8e331\n",
      "  Building wheel for asteval (setup.py) ... \u001b[?25l\u001b[?25hdone\n",
      "  Created wheel for asteval: filename=asteval-0.9.26-py3-none-any.whl size=17648 sha256=7d66fc626e5eeb588f3a81b94e0560796c7f9f0602982830b1c2e5983d01719d\n",
      "  Stored in directory: /root/.cache/pip/wheels/4c/e9/f0/bc343d5b77d2fded45177f424a6b0b9224b92ff6e7c150bad4\n",
      "Successfully built lmfit asteval\n",
      "Installing collected packages: uncertainties, asteval, lmfit\n",
      "Successfully installed asteval-0.9.26 lmfit-1.0.3 uncertainties-3.1.6\n"
     ]
    }
   ],
   "source": [
    "!pip install lmfit"
   ]
  },
  {
   "cell_type": "code",
   "execution_count": null,
   "metadata": {
    "colab": {
     "base_uri": "https://localhost:8080/",
     "height": 583
    },
    "executionInfo": {
     "elapsed": 344,
     "status": "ok",
     "timestamp": 1651148861738,
     "user": {
      "displayName": "Zachary Ulissi",
      "userId": "07633171379186475882"
     },
     "user_tz": 240
    },
    "id": "FOBWKAJzFNHe",
    "outputId": "0990defa-db2c-4c34-f0d5-367e4c4edf84"
   },
   "outputs": [
    {
     "name": "stdout",
     "output_type": "stream",
     "text": [
      "[[Model]]\n",
      "    Model(func)\n",
      "[[Fit Statistics]]\n",
      "    # fitting method   = leastsq\n",
      "    # function evals   = 36\n",
      "    # data points      = 6\n",
      "    # variables        = 2\n",
      "    chi-square         = 6.9885e-04\n",
      "    reduced chi-square = 1.7471e-04\n",
      "    Akaike info crit   = -50.3470350\n",
      "    Bayesian info crit = -50.7635160\n",
      "[[Variables]]\n",
      "    a:  1.32753139 +/- 0.00972276 (0.73%) (init = 2)\n",
      "    b:  0.02646155 +/- 0.00102789 (3.88%) (init = 1)\n",
      "[[Correlations]] (unreported correlations are < 0.100)\n",
      "    C(a, b) = 0.711\n"
     ]
    },
    {
     "data": {
      "text/plain": [
       "Text(0, 0.5, 'y')"
      ]
     },
     "execution_count": 15,
     "metadata": {},
     "output_type": "execute_result"
    },
    {
     "data": {
      "image/png": "[encoded data removed]",
      "text/plain": [
       "<Figure size 432x288 with 1 Axes>"
      ]
     },
     "metadata": {
      "filenames": {
       "image/png": "/home/jovyan/math-methods-chemical-engineering/math-methods-chemical-engineering/_build/jupyter_execute/notes/statistics/26-bonus-nonlinear-regression_19_2.png"
      },
      "needs_background": "light"
     },
     "output_type": "display_data"
    }
   ],
   "source": [
    "from lmfit import Model\n",
    "\n",
    "gmodel = Model(func, independent_vars=['x'],param_names=['a','b'])\n",
    "params = gmodel.make_params(a=2., b=1.0)\n",
    "result = gmodel.fit(y, params, x=x)\n",
    "\n",
    "print(result.fit_report())\n",
    "xrange = np.linspace(0,0.5)\n",
    "\n",
    "fitted_y = result.eval(x=xrange)\n",
    "\n",
    "\n",
    "plt.plot(x,y,'o')\n",
    "plt.plot(xrange,fitted_y)\n",
    "\n",
    "plt.xlabel('x')\n",
    "plt.ylabel('y')"
   ]
  },
  {
   "cell_type": "markdown",
   "metadata": {
    "id": "_SZfcjd02TnU"
   },
   "source": [
    "-   Here the two intervals are relatively small, and do not include zero, suggesting both parameters are significant.\n",
    "\n",
    "-   More importantly, the errors are not skewed by a nonlinear transformation.\n",
    "\n",
    "-   Note you have to provide an initial guess.\n",
    "    -   This will not always be easy to guess.\n",
    "    -   There may be more than one minimum in the fit also, so different guesses may give different parameters.\n",
    "\n"
   ]
  },
  {
   "cell_type": "code",
   "execution_count": null,
   "metadata": {
    "id": "itc32Ju085QS"
   },
   "outputs": [],
   "source": []
  }
 ],
 "metadata": {
  "colab": {
   "collapsed_sections": [],
   "name": "26-bonus-nonlinear-regression.ipynb",
   "provenance": []
  },
  "kernelspec": {
   "display_name": "Python 3 (ipykernel)",
   "language": "python",
   "name": "python3"
  },
  "language_info": {
   "codemirror_mode": {
    "name": "ipython",
    "version": 3
   },
   "file_extension": ".py",
   "mimetype": "text/x-python",
   "name": "python",
   "nbconvert_exporter": "python",
   "pygments_lexer": "ipython3",
   "version": "3.9.13"
  }
 },
 "nbformat": 4,
 "nbformat_minor": 4
}