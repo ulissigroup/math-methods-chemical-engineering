{
 "cells": [
  {
   "cell_type": "markdown",
   "metadata": {
    "id": "yKhlIsLMgewa"
   },
   "source": [
    "{{ badge }}"
   ]
  },
  {
   "cell_type": "markdown",
   "metadata": {
    "id": "jKpM_tjzfQHu"
   },
   "source": [
    "# Intro to engineering statistics"
   ]
  },
  {
   "cell_type": "markdown",
   "metadata": {
    "id": "5L4dnbT-fQHv"
   },
   "source": [
    "Most of the models you have covered in your chemical engineering classes are focused on deterministic models:\n",
    "- Definition: Mathematical model in which outcomes are precisely determined through known relationships among states and events, without any room for random variation. In such models, a given input will always produce the same output, such as in a known chemical reaction. \n",
    "\n",
    "However real life is often not deterministic, due to factors outside of our control:\n",
    "- We have a deterministic model, but we aren't sure about the values of our parameters\n",
    "- The model itself might be stochastic (random), such as chemical kinetics at very small concentrations\n",
    "- We may be modeling a process with an assumed model, but that model may be wrong or one of a variety of possible models\n",
    "\n",
    "Some of the most common questions we face as chemical engineers:\n",
    "- Given a model with parameters, and some uncertainty in those values, what is the likelihood of various outcomes (getting conversion about 90%, making X dollars in profit, etc)\n",
    "- Given a model and experimental data, does the model explain the data?\n",
    "- Given a model with unknown parameters and experimental data, what are the likely values of those parameters?\n",
    "\n",
    "\n",
    "**Goals for last two classes:**\n",
    "- Make sure we all understand common distributions and how to plot/sample from them in python\n",
    "- Translate an engineering problem into a statistics one through assumptions about underlying distributions\n",
    "- Use analytical estimates or numerical sampling to solve a statistics problem\n",
    "- Apply statistics tools to common engineering questions (like propagation of uncertainty and curve fitting)"
   ]
  },
  {
   "cell_type": "markdown",
   "metadata": {
    "id": "D8-FuZTh-o0D"
   },
   "source": [
    "[Seaborn](https://seaborn.pydata.org/index.html) is a prettier data visualization and statistics plotter that we'll use here"
   ]
  },
  {
   "cell_type": "code",
   "execution_count": null,
   "metadata": {
    "id": "6fjmOTYY-vzE"
   },
   "outputs": [],
   "source": [
    "# make our plot look a little prettier, seaborn is also helpful for some plots\n",
    "import seaborn as sns\n",
    "sns.set()"
   ]
  },
  {
   "cell_type": "markdown",
   "metadata": {
    "id": "fErMaEPffQHv"
   },
   "source": [
    "# Simple distributions"
   ]
  },
  {
   "cell_type": "markdown",
   "metadata": {
    "id": "LcN5sh_KfQHw"
   },
   "source": [
    "## Discrete distributions\n",
    "\n",
    "Discrete distributions describe the probability of one of a number of discrete events happening. \n"
   ]
  },
  {
   "cell_type": "markdown",
   "metadata": {
    "id": "4hvzB1kTfQHw"
   },
   "source": [
    "\n",
    "###  Example 1: flipping a coin\n",
    "- P(heads) = 1/2\n",
    "- P(tails) = 1/2\n",
    "\n",
    "There are only two possibilities - heads or tails. We call P(x) 'the probability of x' for a single event. In this case, we have assumed that we know the probabilty of those two events. \n",
    "\n",
    "We can generate number from a random distribution in python with [default_rng](https://numpy.org/doc/stable/reference/random/generator.html?highlight=default_rng#numpy.random.default_rng)"
   ]
  },
  {
   "cell_type": "code",
   "execution_count": null,
   "metadata": {
    "colab": {
     "base_uri": "https://localhost:8080/"
    },
    "executionInfo": {
     "elapsed": 168,
     "status": "ok",
     "timestamp": 1650543915429,
     "user": {
      "displayName": "Zachary Ulissi",
      "userId": "07633171379186475882"
     },
     "user_tz": 240
    },
    "id": "mdPtHdRsfQHx",
    "outputId": "6b6d92b9-149f-4723-f172-ad0fbb4a9be8"
   },
   "outputs": [
    {
     "name": "stdout",
     "output_type": "stream",
     "text": [
      "1\n",
      "0\n",
      "1\n",
      "1\n",
      "0\n",
      "1\n",
      "1\n"
     ]
    }
   ],
   "source": [
    "import numpy as np \n",
    "\n",
    "#get a random number generator\n",
    "rng = np.random.default_rng(seed=42)\n",
    "\n",
    "# Simple coin flip analysis\n",
    "def coin_flip():\n",
    "  flip = rng.binomial(1, 0.5)\n",
    "  return flip\n",
    "\n",
    "print(coin_flip())\n",
    "print(coin_flip())\n",
    "print(coin_flip())\n",
    "print(coin_flip())\n",
    "print(coin_flip())\n",
    "print(coin_flip())\n",
    "print(coin_flip())"
   ]
  },
  {
   "cell_type": "markdown",
   "metadata": {
    "id": "Gp6MaNB7gma5"
   },
   "source": [
    "Now, let's generate a lot of random coin flips. "
   ]
  },
  {
   "cell_type": "code",
   "execution_count": null,
   "metadata": {
    "colab": {
     "base_uri": "https://localhost:8080/"
    },
    "executionInfo": {
     "elapsed": 141,
     "status": "ok",
     "timestamp": 1650544022058,
     "user": {
      "displayName": "Zachary Ulissi",
      "userId": "07633171379186475882"
     },
     "user_tz": 240
    },
    "id": "6Id1WAClgo48",
    "outputId": "2758f4a1-893f-43d0-adc9-b29e1e6b2c09"
   },
   "outputs": [
    {
     "name": "stdout",
     "output_type": "stream",
     "text": [
      "[1 0 1 1 0 1 1 1 0 0 0 1 1 1 0 0 1 0 1 1]\n"
     ]
    }
   ],
   "source": [
    "# This is probably not the most efficient way to do this, but it works\n",
    "results = [coin_flip() for i in range(20)]\n",
    "\n",
    "#We could also do this directly\n",
    "results = rng.binomial(1,0.5,20)\n",
    "print(results)"
   ]
  },
  {
   "cell_type": "markdown",
   "metadata": {
    "id": "X-jc0XcvfQH0"
   },
   "source": [
    "Being able to sample from a distribution is not very satisfying. We often want to plot these. I'm sure you've all seen histograms before. "
   ]
  },
  {
   "cell_type": "code",
   "execution_count": null,
   "metadata": {
    "colab": {
     "base_uri": "https://localhost:8080/",
     "height": 323
    },
    "executionInfo": {
     "elapsed": 467,
     "status": "ok",
     "timestamp": 1650544081986,
     "user": {
      "displayName": "Zachary Ulissi",
      "userId": "07633171379186475882"
     },
     "user_tz": 240
    },
    "id": "uguf6u3ufQH0",
    "outputId": "a6a4d1dd-5a6c-4ba0-bae1-e953eb5c62b3"
   },
   "outputs": [
    {
     "name": "stderr",
     "output_type": "stream",
     "text": [
      "/usr/local/lib/python3.7/dist-packages/seaborn/_decorators.py:43: FutureWarning: Pass the following variable as a keyword arg: x. From version 0.12, the only valid positional argument will be `data`, and passing other arguments without an explicit keyword will result in an error or misinterpretation.\n",
      "  FutureWarning\n"
     ]
    },
    {
     "data": {
      "image/png": "[encoded data removed]",
      "text/plain": [
       "<Figure size 432x288 with 1 Axes>"
      ]
     },
     "metadata": {
      "filenames": {
       "image/png": "/home/jovyan/math-methods-chemical-engineering/math-methods-chemical-engineering/_build/jupyter_execute/notes/statistics/24-intro-statistics_12_1.png"
      }
     },
     "output_type": "display_data"
    }
   ],
   "source": [
    "import matplotlib.pyplot as plt\n",
    "\n",
    "#Generate 20,000 coin flips\n",
    "results = rng.binomial(1,0.5,1000)\n",
    "\n",
    "sns.countplot(results)\n",
    "plt.show()"
   ]
  },
  {
   "cell_type": "markdown",
   "metadata": {
    "id": "-58_F1jjfQH6"
   },
   "source": [
    "Notice that this histogram is stochastic - every time you run it you get a different result. We'll come back to this."
   ]
  },
  {
   "cell_type": "markdown",
   "metadata": {
    "id": "NzHC0urXfQH7"
   },
   "source": [
    "### Example 2: Weighted dice (multinomial)\n",
    "\n",
    "A multinomial distribution is similar to a binomial distribution, but we have more than two choices, each with a specific probability. \n",
    "\n",
    "A classic example is a six sided die, where that are 6 possibilities, each with a probability 1/6. "
   ]
  },
  {
   "cell_type": "code",
   "execution_count": null,
   "metadata": {
    "colab": {
     "base_uri": "https://localhost:8080/"
    },
    "executionInfo": {
     "elapsed": 147,
     "status": "ok",
     "timestamp": 1650544162733,
     "user": {
      "displayName": "Zachary Ulissi",
      "userId": "07633171379186475882"
     },
     "user_tz": 240
    },
    "id": "fTO82BrqhvvE",
    "outputId": "69727233-63ae-4fa2-a22a-92affc54630f"
   },
   "outputs": [
    {
     "name": "stdout",
     "output_type": "stream",
     "text": [
      "2\n",
      "0\n",
      "5\n",
      "2\n",
      "3\n",
      "4\n",
      "4\n"
     ]
    }
   ],
   "source": [
    "dice_probabilities = [1/6,1/6,1/6,1/6,1/6,1/6]\n",
    "\n",
    "# perfect dice roll sample\n",
    "def dice_roll():\n",
    "  roll, = np.where(rng.multinomial(1, dice_probabilities))\n",
    "  return roll[0]\n",
    "\n",
    "#roll the dice\n",
    "print(dice_roll())\n",
    "print(dice_roll())\n",
    "print(dice_roll())\n",
    "print(dice_roll())\n",
    "print(dice_roll())\n",
    "print(dice_roll())\n",
    "print(dice_roll())"
   ]
  },
  {
   "cell_type": "code",
   "execution_count": null,
   "metadata": {
    "colab": {
     "base_uri": "https://localhost:8080/"
    },
    "executionInfo": {
     "elapsed": 175,
     "status": "ok",
     "timestamp": 1650544180035,
     "user": {
      "displayName": "Zachary Ulissi",
      "userId": "07633171379186475882"
     },
     "user_tz": 240
    },
    "id": "B0vGjDj2ZoUs",
    "outputId": "fe38cdc9-f834-4b3f-ac67-c60bb4359b93"
   },
   "outputs": [
    {
     "name": "stdout",
     "output_type": "stream",
     "text": [
      "[0 0 1 0 0 0]\n",
      "(array([2]),)\n"
     ]
    }
   ],
   "source": [
    "result = rng.multinomial(1, dice_probabilities)\n",
    "print(result)\n",
    "print(np.where(result))"
   ]
  },
  {
   "cell_type": "markdown",
   "metadata": {
    "id": "x8jj_oYnAEIc"
   },
   "source": [
    "Let's repeat this for 10,000 rolls"
   ]
  },
  {
   "cell_type": "code",
   "execution_count": null,
   "metadata": {
    "colab": {
     "base_uri": "https://localhost:8080/",
     "height": 323
    },
    "executionInfo": {
     "elapsed": 598,
     "status": "ok",
     "timestamp": 1650544206847,
     "user": {
      "displayName": "Zachary Ulissi",
      "userId": "07633171379186475882"
     },
     "user_tz": 240
    },
    "id": "t8tayeZjjBHE",
    "outputId": "79720a12-eb9f-44bf-ca4f-ede49eae1498"
   },
   "outputs": [
    {
     "name": "stderr",
     "output_type": "stream",
     "text": [
      "/usr/local/lib/python3.7/dist-packages/seaborn/_decorators.py:43: FutureWarning: Pass the following variable as a keyword arg: x. From version 0.12, the only valid positional argument will be `data`, and passing other arguments without an explicit keyword will result in an error or misinterpretation.\n",
      "  FutureWarning\n"
     ]
    },
    {
     "data": {
      "image/png": "[encoded data removed]",
      "text/plain": [
       "<Figure size 432x288 with 1 Axes>"
      ]
     },
     "metadata": {
      "filenames": {
       "image/png": "/home/jovyan/math-methods-chemical-engineering/math-methods-chemical-engineering/_build/jupyter_execute/notes/statistics/24-intro-statistics_18_1.png"
      }
     },
     "output_type": "display_data"
    }
   ],
   "source": [
    "#Generate 10,000 dice roll samples\n",
    "results = [dice_roll() for i in range(10000)]\n",
    "\n",
    "#Plot the results\n",
    "sns.countplot(results)\n",
    "plt.show()"
   ]
  },
  {
   "cell_type": "markdown",
   "metadata": {
    "id": "0JWJSzwxfQIA"
   },
   "source": [
    "This histogram is also stochastic but has more discrete possibilities."
   ]
  },
  {
   "cell_type": "markdown",
   "metadata": {
    "id": "mjuUS9WKw-O-"
   },
   "source": [
    "### In-class assignment\n",
    "\n",
    "Modify the code to calculate a histogram for a loaded dice, where the probability of a 6 is 20%, and the probability of the other are 80/5=16%. \n",
    "\n",
    "After about how many rolls are you confident the dice is loaded?\n"
   ]
  },
  {
   "cell_type": "code",
   "execution_count": null,
   "metadata": {
    "colab": {
     "base_uri": "https://localhost:8080/",
     "height": 323
    },
    "executionInfo": {
     "elapsed": 311,
     "status": "ok",
     "timestamp": 1650544858559,
     "user": {
      "displayName": "Zachary Ulissi",
      "userId": "07633171379186475882"
     },
     "user_tz": 240
    },
    "id": "vi_-sdIL2S5r",
    "outputId": "37d4bbcc-b188-4cdd-d737-623ab07394aa"
   },
   "outputs": [
    {
     "name": "stderr",
     "output_type": "stream",
     "text": [
      "/usr/local/lib/python3.7/dist-packages/seaborn/_decorators.py:43: FutureWarning: Pass the following variable as a keyword arg: x. From version 0.12, the only valid positional argument will be `data`, and passing other arguments without an explicit keyword will result in an error or misinterpretation.\n",
      "  FutureWarning\n"
     ]
    },
    {
     "data": {
      "image/png": "[encoded data removed]",
      "text/plain": [
       "<Figure size 432x288 with 1 Axes>"
      ]
     },
     "metadata": {
      "filenames": {
       "image/png": "/home/jovyan/math-methods-chemical-engineering/math-methods-chemical-engineering/_build/jupyter_execute/notes/statistics/24-intro-statistics_21_1.png"
      }
     },
     "output_type": "display_data"
    }
   ],
   "source": [
    "dice_probabilities = [0.16, 0.16, 0.16, 0.16, 0.16, 0.2]\n",
    "\n",
    "# perfect dice roll sample\n",
    "def weighted_dice_roll():\n",
    "  roll, = np.where(rng.multinomial(1, dice_probabilities))\n",
    "  return roll[0]\n",
    "\n",
    "#Generate 10,000 dice roll samples\n",
    "results = [weighted_dice_roll() for i in range(10000)]\n",
    "\n",
    "#Plot the results\n",
    "sns.countplot(results)\n",
    "plt.show()"
   ]
  },
  {
   "cell_type": "code",
   "execution_count": null,
   "metadata": {
    "colab": {
     "base_uri": "https://localhost:8080/",
     "height": 323
    },
    "executionInfo": {
     "elapsed": 2689,
     "status": "ok",
     "timestamp": 1650545133822,
     "user": {
      "displayName": "Zachary Ulissi",
      "userId": "07633171379186475882"
     },
     "user_tz": 240
    },
    "id": "GQPCmGzfINmJ",
    "outputId": "87f3a5b3-df3e-43f6-e6ef-60430e8cc85a"
   },
   "outputs": [
    {
     "name": "stderr",
     "output_type": "stream",
     "text": [
      "/usr/local/lib/python3.7/dist-packages/seaborn/_decorators.py:43: FutureWarning: Pass the following variable as a keyword arg: x. From version 0.12, the only valid positional argument will be `data`, and passing other arguments without an explicit keyword will result in an error or misinterpretation.\n",
      "  FutureWarning\n"
     ]
    },
    {
     "data": {
      "image/png": "[encoded data removed]",
      "text/plain": [
       "<Figure size 432x288 with 1 Axes>"
      ]
     },
     "metadata": {
      "filenames": {
       "image/png": "/home/jovyan/math-methods-chemical-engineering/math-methods-chemical-engineering/_build/jupyter_execute/notes/statistics/24-intro-statistics_22_1.png"
      }
     },
     "output_type": "display_data"
    }
   ],
   "source": [
    "Nsamples = 1000\n",
    "\n",
    "def sample_strategy(Nsamples = 1000):\n",
    "  results = [weighted_dice_roll() for i in range(Nsamples)]\n",
    "  number_5_results = np.sum(np.array(results)==5)\n",
    "  weighted_outcome = number_5_results>1/6*Nsamples\n",
    "  return weighted_outcome\n",
    "\n",
    "outcomes = [sample_strategy(Nsamples = 500) for i in range(200)]\n",
    "\n",
    "sns.countplot(outcomes)\n",
    "plt.show()"
   ]
  },
  {
   "cell_type": "markdown",
   "metadata": {
    "id": "XwGWVAcOfQIB"
   },
   "source": [
    "## Continuous Distributions"
   ]
  },
  {
   "cell_type": "markdown",
   "metadata": {
    "id": "IyFzbsLvfQIB"
   },
   "source": [
    "Many of the variables we are interested in can take on any value in a continuous range. For example temperature can be 273.15 or 278.0 or 273.16, or 273.1666. We can't say the probability that the temperature will be exactly 273.000000000000000(infinite zeros) K. Instead, what we can say is the probability that it will be in a range. We define the probability distribution function (PDF) $f(x)$\n",
    "$$P[a\\leq X\\leq b] = \\int_a^b f(x) dx$$\n",
    "We can also define the cumulative distribution function:\n",
    "$$ F_X(x) = P(X<x)=\\int_{-\\infty}^xf_X(t)dt$$"
   ]
  },
  {
   "cell_type": "markdown",
   "metadata": {
    "id": "IHmUzTWpfQIC"
   },
   "source": [
    "### Gaussian distribution\n",
    "\n",
    "The most common continuous distribution is the Gaussian distribution function, where $f(x)$ is \n",
    "\n",
    "$$f(x)=\\frac{1}{\\sqrt{2\\pi}}e^{-x^2/2}$$"
   ]
  },
  {
   "cell_type": "code",
   "execution_count": null,
   "metadata": {
    "colab": {
     "base_uri": "https://localhost:8080/",
     "height": 302
    },
    "executionInfo": {
     "elapsed": 638,
     "status": "ok",
     "timestamp": 1650545436980,
     "user": {
      "displayName": "Zachary Ulissi",
      "userId": "07633171379186475882"
     },
     "user_tz": 240
    },
    "id": "Fv25kUUbfQIC",
    "outputId": "066e2f9d-3a9c-4c33-dd34-0c054383de9b"
   },
   "outputs": [
    {
     "data": {
      "text/plain": [
       "Text(0, 0.5, 'Probability Density (units of 1/x)')"
      ]
     },
     "execution_count": 131,
     "metadata": {},
     "output_type": "execute_result"
    },
    {
     "data": {
      "image/png": "[encoded data removed]",
      "text/plain": [
       "<Figure size 432x288 with 1 Axes>"
      ]
     },
     "metadata": {
      "filenames": {
       "image/png": "/home/jovyan/math-methods-chemical-engineering/math-methods-chemical-engineering/_build/jupyter_execute/notes/statistics/24-intro-statistics_26_1.png"
      }
     },
     "output_type": "display_data"
    }
   ],
   "source": [
    "#Analytical gaussian probability distribution function\n",
    "x = np.linspace(-4,4)\n",
    "f = 1/np.sqrt(2*np.pi)*np.exp(-x**2/2)\n",
    "\n",
    "#Plot the distribution\n",
    "plt.plot(x,f)\n",
    "plt.xlabel('x')\n",
    "plt.ylabel('Probability Density (units of 1/x)')"
   ]
  },
  {
   "cell_type": "markdown",
   "metadata": {
    "id": "9YJ-KIUYkWWI"
   },
   "source": [
    "This is the probability density function. It represents the distribution of possibilities that you could get if you randomly sampled from this distribution many times. We can do that with numpy too."
   ]
  },
  {
   "cell_type": "code",
   "execution_count": null,
   "metadata": {
    "colab": {
     "base_uri": "https://localhost:8080/",
     "height": 357
    },
    "executionInfo": {
     "elapsed": 495,
     "status": "ok",
     "timestamp": 1650545571515,
     "user": {
      "displayName": "Zachary Ulissi",
      "userId": "07633171379186475882"
     },
     "user_tz": 240
    },
    "id": "z5Q_eJhvk4yX",
    "outputId": "af8d0a4d-13c0-4336-c8aa-c746e5ac786d"
   },
   "outputs": [
    {
     "name": "stderr",
     "output_type": "stream",
     "text": [
      "/usr/local/lib/python3.7/dist-packages/seaborn/distributions.py:2619: FutureWarning: `distplot` is a deprecated function and will be removed in a future version. Please adapt your code to use either `displot` (a figure-level function with similar flexibility) or `histplot` (an axes-level function for histograms).\n",
      "  warnings.warn(msg, FutureWarning)\n",
      "/usr/local/lib/python3.7/dist-packages/seaborn/distributions.py:2103: FutureWarning: The `axis` variable is no longer used and will be removed. Instead, assign variables directly to `x` or `y`.\n",
      "  warnings.warn(msg, FutureWarning)\n"
     ]
    },
    {
     "data": {
      "image/png": "[encoded data removed]",
      "text/plain": [
       "<Figure size 432x288 with 1 Axes>"
      ]
     },
     "metadata": {
      "filenames": {
       "image/png": "/home/jovyan/math-methods-chemical-engineering/math-methods-chemical-engineering/_build/jupyter_execute/notes/statistics/24-intro-statistics_28_1.png"
      }
     },
     "output_type": "display_data"
    }
   ],
   "source": [
    "#Generate 100 samples from a normal distribution and plot it\n",
    "x = rng.normal(0, 1, 100)\n",
    "ax = sns.distplot(x, rug=True, kde=True)"
   ]
  },
  {
   "cell_type": "markdown",
   "metadata": {
    "id": "7VgMreBufQIE"
   },
   "source": [
    "Note that this doesn't say anything about the mean (0) and standard deviation (1). We can get that by modifying this with an offset and standard deviation:\n",
    "$$ f(x|\\mu, \\sigma^2)=\\frac{1}{\\sqrt{2\\pi\\sigma^2}}e^{-(x-\\mu)^2/2\\sigma^2}$$\n",
    "where $\\mu$ is the mean and $\\sigma$ is the standard deviation."
   ]
  },
  {
   "cell_type": "markdown",
   "metadata": {
    "id": "8t97c3vYfQIF"
   },
   "source": [
    "Let's say we measure the temperature outdoors several times and report 10 C +/- 2C. We can plot the implied distribution for that too."
   ]
  },
  {
   "cell_type": "code",
   "execution_count": null,
   "metadata": {
    "colab": {
     "base_uri": "https://localhost:8080/",
     "height": 302
    },
    "executionInfo": {
     "elapsed": 538,
     "status": "ok",
     "timestamp": 1650545703475,
     "user": {
      "displayName": "Zachary Ulissi",
      "userId": "07633171379186475882"
     },
     "user_tz": 240
    },
    "id": "X7MH1icBfQIF",
    "outputId": "a30855b4-418d-4b09-9ebe-3b7277f95b11"
   },
   "outputs": [
    {
     "data": {
      "text/plain": [
       "Text(0, 0.5, 'Probability Density [1/C]')"
      ]
     },
     "execution_count": 135,
     "metadata": {},
     "output_type": "execute_result"
    },
    {
     "data": {
      "image/png": "[encoded data removed]",
      "text/plain": [
       "<Figure size 432x288 with 1 Axes>"
      ]
     },
     "metadata": {
      "filenames": {
       "image/png": "/home/jovyan/math-methods-chemical-engineering/math-methods-chemical-engineering/_build/jupyter_execute/notes/statistics/24-intro-statistics_31_1.png"
      }
     },
     "output_type": "display_data"
    }
   ],
   "source": [
    "#Plot the gaussian distribution function\n",
    "\n",
    "mu = 10\n",
    "sigma = 2\n",
    "\n",
    "x = np.linspace(0,20)\n",
    "f = 1/np.sqrt(2*np.pi*sigma**2)*np.exp(-(x-mu)**2/2/sigma**2);\n",
    "plt.plot(x,f)\n",
    "plt.xlabel('T [C]')\n",
    "plt.ylabel('Probability Density [1/C]')"
   ]
  },
  {
   "cell_type": "markdown",
   "metadata": {
    "id": "_qVLFgETfQII"
   },
   "source": [
    "This implies that if we were to go out and measure the temperature more times, then plot a histogram, we would get something that look this. This also says that the probability of the temperature being in between 10 and 11 C is:\n",
    "$$P[10<T<11]=\\int_{10}^{11}\\frac{1}{\\sqrt{2\\pi2^2}}e^{-(x-10)^2/2\\cdot2^2}dx$$. "
   ]
  },
  {
   "cell_type": "code",
   "execution_count": null,
   "metadata": {
    "colab": {
     "base_uri": "https://localhost:8080/"
    },
    "executionInfo": {
     "elapsed": 178,
     "status": "ok",
     "timestamp": 1650545804515,
     "user": {
      "displayName": "Zachary Ulissi",
      "userId": "07633171379186475882"
     },
     "user_tz": 240
    },
    "id": "m6wEjk8pfQIJ",
    "outputId": "8824556d-0c57-4e7c-c7ee-8ed3e568b1bf"
   },
   "outputs": [
    {
     "data": {
      "text/plain": [
       "(0.19146246127401312, 2.1256603285781175e-15)"
      ]
     },
     "execution_count": 136,
     "metadata": {},
     "output_type": "execute_result"
    }
   ],
   "source": [
    "from scipy.integrate import quad\n",
    "\n",
    "def temperature_pdf(T):\n",
    "  mu=10\n",
    "  sigma=2\n",
    "  f = 1/np.sqrt(2*np.pi*sigma**2)*np.exp(-(T-mu)**2/2/sigma**2)\n",
    "  return f\n",
    "\n",
    "quad(temperature_pdf,10,11)"
   ]
  },
  {
   "cell_type": "markdown",
   "metadata": {
    "id": "OnT_67AK6Vid"
   },
   "source": [
    "This says that the probability of the temperature actually being between 10 and 11 C is 19.1%"
   ]
  },
  {
   "cell_type": "markdown",
   "metadata": {
    "id": "2UR86uFlfQIL"
   },
   "source": [
    "**Cumulative Distribution Functions**\n",
    "\n",
    "This question is so common that we can use the cumulative distribution function, which is known for a gaussian:\n",
    "$$P[10<T<11]=\\int_{10}^{11}\\frac{1}{\\sqrt{2\\pi2^2}}e^{-(x-10)^2/2\\cdot2^2}dx=\\int_{-\\infty}^{11}\\frac{1}{\\sqrt{2\\pi2^2}}e^{-(x-10)^2/2\\cdot2^2}dx\\\\\n",
    "-\\int_{-\\infty}^{10}\\frac{1}{\\sqrt{2\\pi2^2}}e^{-(x-10)^2/2\\cdot2^2}dx=F(11)-F(10)$$ This results in a special function (the error function):\n",
    "$$F(x)=\\frac{1}{2}\\left[1+\\text{erf}\\left(\\frac{x-\\mu}{\\sigma\\sqrt{2}}\\right)\\right]$$\n"
   ]
  },
  {
   "cell_type": "code",
   "execution_count": null,
   "metadata": {
    "colab": {
     "base_uri": "https://localhost:8080/"
    },
    "executionInfo": {
     "elapsed": 142,
     "status": "ok",
     "timestamp": 1650545940888,
     "user": {
      "displayName": "Zachary Ulissi",
      "userId": "07633171379186475882"
     },
     "user_tz": 240
    },
    "id": "cVgIkwlafQIL",
    "outputId": "ad0244e3-bbe4-414b-e74a-bc0de8270df9"
   },
   "outputs": [
    {
     "name": "stdout",
     "output_type": "stream",
     "text": [
      "0.691462461274013\n",
      "0.5\n",
      "0.191462461274013\n",
      "The probability that T is between 10 and 11 is 19.1 percent\n"
     ]
    }
   ],
   "source": [
    "import scipy\n",
    "\n",
    "def temperatureCDF(T):\n",
    "    mu=10\n",
    "    sigma=2\n",
    "    cdf = 1/2*(1+scipy.special.erf((T-mu)/sigma/np.sqrt(2)))\n",
    "    return cdf\n",
    "\n",
    "print(temperatureCDF(11))\n",
    "print(temperatureCDF(10))\n",
    "\n",
    "print(temperatureCDF(11)-temperatureCDF(10))\n",
    "\n",
    "print('The probability that T is between 10 and 11 is %1.1f percent'%((temperatureCDF(11)-temperatureCDF(10))*100))"
   ]
  },
  {
   "cell_type": "markdown",
   "metadata": {
    "id": "ejrYpR_ufQIO"
   },
   "source": [
    "This result is basically identical to the direct integration"
   ]
  },
  {
   "cell_type": "markdown",
   "metadata": {
    "id": "k6DR_N7UfQIO"
   },
   "source": [
    "# Sampling from a distribution"
   ]
  },
  {
   "cell_type": "markdown",
   "metadata": {
    "id": "SicD88K2fQIO"
   },
   "source": [
    "Say we know exactly what the probability density function of a process is. Drawing samples from that distribution (the continuous equivalent of rolling the dice multiple times) can be very difficult. There are several likely scenarios:\n",
    "- You might know how to sample from the distribution if it is very simple\n",
    "- You can see if methods already exist in python or other packages to sample from the distribution \n",
    "- (harder) you can use methods such as Monte Carlo methods to numerically generate samples from an arbitrary PDF. \n",
    "\n",
    "We will assume that you can sample from any relevant distributions in python for this week. Happy to discuss more!"
   ]
  },
  {
   "cell_type": "markdown",
   "metadata": {
    "id": "fXEnYnJ1fQIT"
   },
   "source": [
    "# Plotting distributions"
   ]
  },
  {
   "cell_type": "markdown",
   "metadata": {
    "id": "SYlXTUzTfQIT"
   },
   "source": [
    "I am sure you all are aware of how to make histograms. In matplotlib it is quite easy with the `hist` function. This is very straightforward. "
   ]
  },
  {
   "cell_type": "code",
   "execution_count": null,
   "metadata": {
    "colab": {
     "base_uri": "https://localhost:8080/",
     "height": 625
    },
    "executionInfo": {
     "elapsed": 855,
     "status": "ok",
     "timestamp": 1650546426931,
     "user": {
      "displayName": "Zachary Ulissi",
      "userId": "07633171379186475882"
     },
     "user_tz": 240
    },
    "id": "dyon4RTJfQIU",
    "outputId": "cc912fc0-b2c1-4235-b69b-68ecc5ef9951"
   },
   "outputs": [
    {
     "data": {
      "image/png": "[encoded data removed]",
      "text/plain": [
       "<Figure size 432x288 with 1 Axes>"
      ]
     },
     "metadata": {
      "filenames": {
       "image/png": "/home/jovyan/math-methods-chemical-engineering/math-methods-chemical-engineering/_build/jupyter_execute/notes/statistics/24-intro-statistics_42_0.png"
      }
     },
     "output_type": "display_data"
    },
    {
     "name": "stderr",
     "output_type": "stream",
     "text": [
      "/usr/local/lib/python3.7/dist-packages/seaborn/distributions.py:2619: FutureWarning: `distplot` is a deprecated function and will be removed in a future version. Please adapt your code to use either `displot` (a figure-level function with similar flexibility) or `histplot` (an axes-level function for histograms).\n",
      "  warnings.warn(msg, FutureWarning)\n"
     ]
    },
    {
     "data": {
      "text/plain": [
       "Text(0, 0.5, 'Count')"
      ]
     },
     "execution_count": 139,
     "metadata": {},
     "output_type": "execute_result"
    },
    {
     "data": {
      "image/png": "[encoded data removed]",
      "text/plain": [
       "<Figure size 432x288 with 1 Axes>"
      ]
     },
     "metadata": {
      "filenames": {
       "image/png": "/home/jovyan/math-methods-chemical-engineering/math-methods-chemical-engineering/_build/jupyter_execute/notes/statistics/24-intro-statistics_42_3.png"
      }
     },
     "output_type": "display_data"
    }
   ],
   "source": [
    "#Generate 500 samples\n",
    "x = rng.normal(0, 1, 500)\n",
    "\n",
    "# Plot distribution with matplotlib\n",
    "ax = plt.hist(x)\n",
    "plt.xlabel('x')\n",
    "plt.ylabel('Count')\n",
    "plt.show()\n",
    "\n",
    "# Plot distribution with seaborn\n",
    "ax = sns.distplot(x)\n",
    "plt.xlabel('x')\n",
    "plt.ylabel('Count')"
   ]
  },
  {
   "cell_type": "markdown",
   "metadata": {
    "id": "e8Qlj31NfQIW"
   },
   "source": [
    "This count is not very helpful, as we can't really compare it to the probability distribution function from before. Most importantly, it's not normalized, but it also depends on the bin size. For example:"
   ]
  },
  {
   "cell_type": "code",
   "execution_count": null,
   "metadata": {
    "colab": {
     "base_uri": "https://localhost:8080/",
     "height": 302
    },
    "executionInfo": {
     "elapsed": 943,
     "status": "ok",
     "timestamp": 1650546505711,
     "user": {
      "displayName": "Zachary Ulissi",
      "userId": "07633171379186475882"
     },
     "user_tz": 240
    },
    "id": "Q7bLmo37fQIX",
    "outputId": "9dbf8b8b-fd84-45bc-811b-f0f30144dafd"
   },
   "outputs": [
    {
     "data": {
      "text/plain": [
       "Text(0, 0.5, 'Count')"
      ]
     },
     "execution_count": 141,
     "metadata": {},
     "output_type": "execute_result"
    },
    {
     "data": {
      "image/png": "[encoded data removed]",
      "text/plain": [
       "<Figure size 432x288 with 1 Axes>"
      ]
     },
     "metadata": {
      "filenames": {
       "image/png": "/home/jovyan/math-methods-chemical-engineering/math-methods-chemical-engineering/_build/jupyter_execute/notes/statistics/24-intro-statistics_44_1.png"
      }
     },
     "output_type": "display_data"
    }
   ],
   "source": [
    "#Histogram with 90 bins\n",
    "plt.hist(x,20)\n",
    "plt.xlabel('x')\n",
    "plt.ylabel('Count')"
   ]
  },
  {
   "cell_type": "markdown",
   "metadata": {
    "id": "GWvVuCRdfQIa"
   },
   "source": [
    "What we are often more interested in is an estimate of the probability distribution function with some assumption on how smooth the curve is. For example, there is a gaussian_kde function to do this for you. "
   ]
  },
  {
   "cell_type": "code",
   "execution_count": null,
   "metadata": {
    "colab": {
     "base_uri": "https://localhost:8080/",
     "height": 306
    },
    "executionInfo": {
     "elapsed": 526,
     "status": "ok",
     "timestamp": 1650546571181,
     "user": {
      "displayName": "Zachary Ulissi",
      "userId": "07633171379186475882"
     },
     "user_tz": 240
    },
    "id": "qExIe5zJfQIa",
    "outputId": "898ff2b1-2aa1-4637-f4cf-dbf4bf0adfd2"
   },
   "outputs": [
    {
     "data": {
      "text/plain": [
       "Text(0, 0.5, 'Probability Density Function')"
      ]
     },
     "execution_count": 142,
     "metadata": {},
     "output_type": "execute_result"
    },
    {
     "data": {
      "image/png": "[encoded data removed]",
      "text/plain": [
       "<Figure size 432x288 with 1 Axes>"
      ]
     },
     "metadata": {
      "filenames": {
       "image/png": "/home/jovyan/math-methods-chemical-engineering/math-methods-chemical-engineering/_build/jupyter_execute/notes/statistics/24-intro-statistics_46_1.png"
      }
     },
     "output_type": "display_data"
    }
   ],
   "source": [
    "import scipy\n",
    "\n",
    "#Calculate the KDE estimate\n",
    "eval_range = np.linspace(-5,5)\n",
    "kde_estimate = scipy.stats.gaussian_kde(x)\n",
    "\n",
    "# Plot the histogram (binned)\n",
    "plt.hist(x,10, density=True)\n",
    "\n",
    "#Plot the KDE\n",
    "plt.plot(eval_range,kde_estimate(eval_range),'k')\n",
    "plt.ylim([0,0.4])\n",
    "plt.xlabel('x')\n",
    "plt.ylabel('Probability Density Function')"
   ]
  },
  {
   "cell_type": "markdown",
   "metadata": {
    "id": "uDC4EXhj3GzI"
   },
   "source": [
    "The seaborn package (similar to matplotlib), can do this for you"
   ]
  },
  {
   "cell_type": "code",
   "execution_count": null,
   "metadata": {
    "colab": {
     "base_uri": "https://localhost:8080/",
     "height": 340
    },
    "executionInfo": {
     "elapsed": 402,
     "status": "ok",
     "timestamp": 1650539633727,
     "user": {
      "displayName": "Zachary Ulissi",
      "userId": "07633171379186475882"
     },
     "user_tz": 240
    },
    "id": "eHgSDtjj2-N5",
    "outputId": "c955d706-fca7-4716-8152-629dac46f504"
   },
   "outputs": [
    {
     "name": "stderr",
     "output_type": "stream",
     "text": [
      "/usr/local/lib/python3.7/dist-packages/seaborn/distributions.py:2619: FutureWarning: `distplot` is a deprecated function and will be removed in a future version. Please adapt your code to use either `displot` (a figure-level function with similar flexibility) or `histplot` (an axes-level function for histograms).\n",
      "  warnings.warn(msg, FutureWarning)\n"
     ]
    },
    {
     "data": {
      "text/plain": [
       "<matplotlib.axes._subplots.AxesSubplot at 0x7f9cd3108f50>"
      ]
     },
     "execution_count": 38,
     "metadata": {},
     "output_type": "execute_result"
    },
    {
     "data": {
      "image/png": "[encoded data removed]",
      "text/plain": [
       "<Figure size 432x288 with 1 Axes>"
      ]
     },
     "metadata": {
      "filenames": {
       "image/png": "/home/jovyan/math-methods-chemical-engineering/math-methods-chemical-engineering/_build/jupyter_execute/notes/statistics/24-intro-statistics_48_2.png"
      }
     },
     "output_type": "display_data"
    }
   ],
   "source": [
    "sns.distplot(x)"
   ]
  },
  {
   "cell_type": "markdown",
   "metadata": {
    "id": "Axb5h2SnfQIc"
   },
   "source": [
    "# Central limit theorem"
   ]
  },
  {
   "cell_type": "markdown",
   "metadata": {
    "id": "Xb7_kN7mfQIc"
   },
   "source": [
    "We tend to focus on Gaussian distributions because of a phenomenon known as the central limit theorem. Essentially, if you have a large number of independent, identically distributed values (imagine the coin toss or dice roll), the sum of those numbers or the expectation of the samples will converge to a Gaussian distribution. Remarkably, this is true regardless of the distribution they are pulled from!\n",
    "\n",
    "For example, let's consider a number of coin tosses and we're interested in the average number of heads that we will get out of X tosses (X could be 1, 10, 100, etc). "
   ]
  },
  {
   "cell_type": "code",
   "execution_count": null,
   "metadata": {
    "colab": {
     "base_uri": "https://localhost:8080/"
    },
    "executionInfo": {
     "elapsed": 171,
     "status": "ok",
     "timestamp": 1650546805607,
     "user": {
      "displayName": "Zachary Ulissi",
      "userId": "07633171379186475882"
     },
     "user_tz": 240
    },
    "id": "C3DRP7nYfQId",
    "outputId": "435fbb0e-ffc9-46a6-a109-a8d137cde0f3"
   },
   "outputs": [
    {
     "data": {
      "text/plain": [
       "0.47"
      ]
     },
     "execution_count": 143,
     "metadata": {},
     "output_type": "execute_result"
    }
   ],
   "source": [
    "# Simple coin flip analysis\n",
    "def coin_flip():\n",
    "  flip = rng.binomial(1, 0.5)\n",
    "  return flip\n",
    "\n",
    "def fraction_heads(num_flips):\n",
    "  flips = [coin_flip() for i in range(num_flips)]\n",
    "  total = sum(flips)/num_flips\n",
    "  return total\n",
    "\n",
    "fraction_heads(100)"
   ]
  },
  {
   "cell_type": "markdown",
   "metadata": {
    "id": "IhkDNiW4fQIe"
   },
   "source": [
    "I can repeat this process over and over and see how this total number varies."
   ]
  },
  {
   "cell_type": "code",
   "execution_count": null,
   "metadata": {
    "colab": {
     "base_uri": "https://localhost:8080/",
     "height": 340
    },
    "executionInfo": {
     "elapsed": 4057,
     "status": "ok",
     "timestamp": 1650546921558,
     "user": {
      "displayName": "Zachary Ulissi",
      "userId": "07633171379186475882"
     },
     "user_tz": 240
    },
    "id": "_LQ89mXTfQIf",
    "outputId": "db5c4f97-19a5-4789-c348-fb09bb4292e9"
   },
   "outputs": [
    {
     "name": "stderr",
     "output_type": "stream",
     "text": [
      "/usr/local/lib/python3.7/dist-packages/seaborn/distributions.py:2619: FutureWarning: `distplot` is a deprecated function and will be removed in a future version. Please adapt your code to use either `displot` (a figure-level function with similar flexibility) or `histplot` (an axes-level function for histograms).\n",
      "  warnings.warn(msg, FutureWarning)\n"
     ]
    },
    {
     "data": {
      "image/png": "[encoded data removed]",
      "text/plain": [
       "<Figure size 432x288 with 1 Axes>"
      ]
     },
     "metadata": {
      "filenames": {
       "image/png": "/home/jovyan/math-methods-chemical-engineering/math-methods-chemical-engineering/_build/jupyter_execute/notes/statistics/24-intro-statistics_53_1.png"
      }
     },
     "output_type": "display_data"
    }
   ],
   "source": [
    "flip_results = [fraction_heads(1000) for i in range(1000)]\n",
    "\n",
    "sns.distplot(flip_results)\n",
    "plt.xlabel('Estimated probably of the coin flip based on a toss of five coins')\n",
    "plt.show()"
   ]
  },
  {
   "cell_type": "markdown",
   "metadata": {
    "id": "DVCovPGefQIg"
   },
   "source": [
    "This is for 5 independent variables (5 independent coin tosses). The central limit theorem only holds for an infinite number of coin tosses, so it's accuracy will improve with number of independent coin tosses. "
   ]
  },
  {
   "cell_type": "code",
   "execution_count": null,
   "metadata": {
    "colab": {
     "base_uri": "https://localhost:8080/",
     "height": 285
    },
    "executionInfo": {
     "elapsed": 3501,
     "status": "ok",
     "timestamp": 1650539640760,
     "user": {
      "displayName": "Zachary Ulissi",
      "userId": "07633171379186475882"
     },
     "user_tz": 240
    },
    "id": "yAadQsMkfQIh",
    "outputId": "9e5ea1be-7c59-4beb-a272-c75c5311da24"
   },
   "outputs": [
    {
     "data": {
      "image/png": "[encoded data removed]",
      "text/plain": [
       "<Figure size 432x288 with 1 Axes>"
      ]
     },
     "metadata": {
      "filenames": {
       "image/png": "/home/jovyan/math-methods-chemical-engineering/math-methods-chemical-engineering/_build/jupyter_execute/notes/statistics/24-intro-statistics_55_0.png"
      }
     },
     "output_type": "display_data"
    }
   ],
   "source": [
    "flip_results = [fraction_heads(10000) for i in range(100)]\n",
    "\n",
    "plt.hist(flip_results,20)\n",
    "plt.xlabel('Estimated probably of the coin flip based on a toss of five coins')\n",
    "plt.show()"
   ]
  },
  {
   "cell_type": "markdown",
   "metadata": {
    "id": "IXZgU8rJfQIj"
   },
   "source": [
    "Many chemical engineering examples are the results of a huge number of independent random interactions (atoms bouncing off of each other or reacting) so we often get Gaussian distributions in parameter values. Thus, assuming parameters or quantities are gaussian distributed is often a reasonable approximation, but should be checked."
   ]
  },
  {
   "cell_type": "markdown",
   "metadata": {
    "id": "4LOvWZi1fQIj"
   },
   "source": [
    "# Estimates on properties of a distribution"
   ]
  },
  {
   "cell_type": "markdown",
   "metadata": {
    "id": "yvEi7Je7fQIj"
   },
   "source": [
    "One of the most common questions in science/engineering is\n",
    "- given a number of samples and,\n",
    "- assuming the samples are gaussian distributed,\n",
    "\n",
    "what is the mean and standard deviation of the underlying distribution, and what are the errors in estimating these properties? \n",
    "\n",
    "Remember that for the Gaussian distribution we have two parameters $\\mu$ and $\\sigma$\n",
    "$$ f(x|\\mu, \\sigma^2)=\\frac{1}{\\sqrt{2\\pi\\sigma^2}}e^{-(x-\\mu)^2/2\\sigma^2}$$\n",
    "\n",
    "We have two options:\n",
    "- We could vary the parameters in the gaussian distribution and see what values best fit the data. This is the most general idea, but can be very non-linear or time intensive. \n",
    "- For a specific PDF and set of properties, we can find the Maximum Likelihood Estimator (MLE) which is the best function to estimate the quantity. "
   ]
  },
  {
   "cell_type": "markdown",
   "metadata": {
    "id": "0GPKPQ3AfQIt"
   },
   "source": [
    "### Analytical estimators [powerful, if known]"
   ]
  },
  {
   "cell_type": "markdown",
   "metadata": {
    "id": "RkcMM9xyfQIt"
   },
   "source": [
    "If you make assumptions about the probability distribution and the function you are interested in, you can derive a function that will directly estimate the parameter you are interested in. \n",
    "\n",
    "For a gaussian probability distribution function:\n",
    "- The best estimator of the parameter $\\mu$ is the average: $(\\sum x_i)/N$, with variance $\\sigma^2/N$\n",
    "- The best estimator of the parameter $\\sigma$ is\n",
    "$$ s^2=\\frac{n}{n+1}\\sigma^2$$\n",
    "where $\\sigma$ is the standard deviation of the samples. The uncertainty on this estimate is \n",
    "the standard deviation, with variance given by $\\sigma^4/(n-1)$\n",
    "\n",
    "Let's try this for our gaussian distributed data"
   ]
  },
  {
   "cell_type": "code",
   "execution_count": null,
   "metadata": {
    "colab": {
     "base_uri": "https://localhost:8080/"
    },
    "executionInfo": {
     "elapsed": 138,
     "status": "ok",
     "timestamp": 1650547550297,
     "user": {
      "displayName": "Zachary Ulissi",
      "userId": "07633171379186475882"
     },
     "user_tz": 240
    },
    "id": "QJQVLasGfQIu",
    "outputId": "cc6d783f-c2fb-48ac-e934-8bde2688d81a"
   },
   "outputs": [
    {
     "name": "stdout",
     "output_type": "stream",
     "text": [
      "Our estimate on the mean is 0.20 +/- 0.04\n",
      "Our estimate on the standard deviation is 1.17 +/- 0.04\n"
     ]
    }
   ],
   "source": [
    "samples = rng.normal(0.2, 1.2, 1000)\n",
    "\n",
    "# Actual mean: 0.2\n",
    "estimated_mean = np.mean(samples)\n",
    "estimated_mean_std = np.sqrt(np.std(samples)**2/len(samples))\n",
    "print('Our estimate on the mean is %1.2f +/- %1.2f'%(estimated_mean, estimated_mean_std))\n",
    "\n",
    "# Actual std: 1.2\n",
    "estimated_std = np.std(samples)*len(samples)/(len(samples)+1)\n",
    "estimated_std_std = np.sqrt(np.std(samples)**4/(len(samples)-1))\n",
    "print('Our estimate on the standard deviation is %1.2f +/- %1.2f'%(estimated_std, estimated_std_std))\n",
    "\n"
   ]
  },
  {
   "cell_type": "markdown",
   "metadata": {
    "id": "hnMHiVsffQIw"
   },
   "source": [
    "Notice that every time we sample this we get a different result, and it varies quite a bit! Let's see how this estimate varies."
   ]
  },
  {
   "cell_type": "code",
   "execution_count": null,
   "metadata": {
    "colab": {
     "base_uri": "https://localhost:8080/",
     "height": 268
    },
    "executionInfo": {
     "elapsed": 894,
     "status": "ok",
     "timestamp": 1650547614630,
     "user": {
      "displayName": "Zachary Ulissi",
      "userId": "07633171379186475882"
     },
     "user_tz": 240
    },
    "id": "hok4qRDIfQIw",
    "outputId": "9ef768f3-c7eb-43c3-bb6d-b118f225f6df"
   },
   "outputs": [
    {
     "data": {
      "image/png": "[encoded data removed]",
      "text/plain": [
       "<Figure size 432x288 with 1 Axes>"
      ]
     },
     "metadata": {
      "filenames": {
       "image/png": "/home/jovyan/math-methods-chemical-engineering/math-methods-chemical-engineering/_build/jupyter_execute/notes/statistics/24-intro-statistics_63_0.png"
      }
     },
     "output_type": "display_data"
    }
   ],
   "source": [
    "N_samples = 100\n",
    "mean_estimates = [np.mean(rng.normal(0.2, 1.2, N_samples))\n",
    "                  for i in range(100)]\n",
    "\n",
    "#Draw the distribution of means from 200 random trials, each with 100 random trials\n",
    "plt.hist(mean_estimates,density=True)\n",
    "\n",
    "xrange = np.linspace(-0.1,0.6)\n",
    "plt.plot(xrange,scipy.stats.norm.pdf(xrange, 0.2, np.sqrt(1.2**2/N_samples)))\n",
    "\n",
    "plt.show()\n",
    "\n"
   ]
  },
  {
   "cell_type": "markdown",
   "metadata": {
    "id": "9hr2NkWYOEGu"
   },
   "source": [
    "This idea is very powerful - based on a single set of data, we estimated properties of the distribution, and got an idea of how much our estimate might be off simply because another set of results would give us a different result."
   ]
  },
  {
   "cell_type": "markdown",
   "metadata": {
    "id": "oL-KeOwXfQIj"
   },
   "source": [
    "### Curve fitting approach"
   ]
  },
  {
   "cell_type": "markdown",
   "metadata": {
    "id": "FsQI_n-qfQIk"
   },
   "source": [
    "We have already covered how to do non-linear optimization. As an example, let's consider a set of random data"
   ]
  },
  {
   "cell_type": "code",
   "execution_count": null,
   "metadata": {
    "colab": {
     "base_uri": "https://localhost:8080/",
     "height": 323
    },
    "executionInfo": {
     "elapsed": 394,
     "status": "ok",
     "timestamp": 1650539641151,
     "user": {
      "displayName": "Zachary Ulissi",
      "userId": "07633171379186475882"
     },
     "user_tz": 240
    },
    "id": "RgplCy9FfQIk",
    "outputId": "3d7c907b-48d5-49be-c2a9-50dcffe2225e"
   },
   "outputs": [
    {
     "name": "stderr",
     "output_type": "stream",
     "text": [
      "/usr/local/lib/python3.7/dist-packages/seaborn/distributions.py:2619: FutureWarning: `distplot` is a deprecated function and will be removed in a future version. Please adapt your code to use either `displot` (a figure-level function with similar flexibility) or `histplot` (an axes-level function for histograms).\n",
      "  warnings.warn(msg, FutureWarning)\n"
     ]
    },
    {
     "data": {
      "image/png": "[encoded data removed]",
      "text/plain": [
       "<Figure size 432x288 with 1 Axes>"
      ]
     },
     "metadata": {
      "filenames": {
       "image/png": "/home/jovyan/math-methods-chemical-engineering/math-methods-chemical-engineering/_build/jupyter_execute/notes/statistics/24-intro-statistics_67_1.png"
      }
     },
     "output_type": "display_data"
    }
   ],
   "source": [
    "samples = rng.normal(0.2, 1.2, 100)\n",
    "\n",
    "sns.distplot(samples)\n",
    "plt.show()"
   ]
  },
  {
   "cell_type": "markdown",
   "metadata": {
    "id": "UFammsh6fQIm"
   },
   "source": [
    "Instead of fitting a probability distribution to data, we instead fit the cumulative distribution function. First, let's plot the CDF of this data. "
   ]
  },
  {
   "cell_type": "code",
   "execution_count": null,
   "metadata": {
    "colab": {
     "base_uri": "https://localhost:8080/",
     "height": 285
    },
    "executionInfo": {
     "elapsed": 163,
     "status": "ok",
     "timestamp": 1650539641310,
     "user": {
      "displayName": "Zachary Ulissi",
      "userId": "07633171379186475882"
     },
     "user_tz": 240
    },
    "id": "SZU_p9W_JNf5",
    "outputId": "dc1b372e-1e70-4a30-bb01-ba089adfed45"
   },
   "outputs": [
    {
     "data": {
      "image/png": "[encoded data removed]",
      "text/plain": [
       "<Figure size 432x288 with 1 Axes>"
      ]
     },
     "metadata": {
      "filenames": {
       "image/png": "/home/jovyan/math-methods-chemical-engineering/math-methods-chemical-engineering/_build/jupyter_execute/notes/statistics/24-intro-statistics_69_0.png"
      }
     },
     "output_type": "display_data"
    }
   ],
   "source": [
    "CDF = np.array(list(range(len(samples))))/len(samples)\n",
    "plt.plot(sorted(samples),CDF)\n",
    "plt.xlabel('x')\n",
    "plt.ylabel('CDF, Fraction of data less than x')\n",
    "plt.show()"
   ]
  },
  {
   "cell_type": "markdown",
   "metadata": {
    "id": "PwH6A0fUfQIo"
   },
   "source": [
    "Notice that there is no binning error here - much better than trying to fit a histogram! Now, let's use the CDF function that we know has to hold true for a Gaussian."
   ]
  },
  {
   "cell_type": "code",
   "execution_count": null,
   "metadata": {
    "colab": {
     "base_uri": "https://localhost:8080/",
     "height": 285
    },
    "executionInfo": {
     "elapsed": 335,
     "status": "ok",
     "timestamp": 1650539641642,
     "user": {
      "displayName": "Zachary Ulissi",
      "userId": "07633171379186475882"
     },
     "user_tz": 240
    },
    "id": "5feBCy08fQIp",
    "outputId": "bfd73e14-3ae8-4d1e-a0a4-040ea39a2d24"
   },
   "outputs": [
    {
     "data": {
      "image/png": "[encoded data removed]",
      "text/plain": [
       "<Figure size 432x288 with 1 Axes>"
      ]
     },
     "metadata": {
      "filenames": {
       "image/png": "/home/jovyan/math-methods-chemical-engineering/math-methods-chemical-engineering/_build/jupyter_execute/notes/statistics/24-intro-statistics_71_0.png"
      }
     },
     "output_type": "display_data"
    }
   ],
   "source": [
    "def GaussianCDF(x):\n",
    "  mu=0.07\n",
    "  sigma=1.3\n",
    "  cdf = 1/2*(1+scipy.special.erf((x-mu)/sigma/np.sqrt(2)))\n",
    "  return cdf\n",
    "\n",
    "\n",
    "x_range = np.linspace(-3,3,100)\n",
    "cdf_range = GaussianCDF(x_range)\n",
    "plt.plot(x_range,cdf_range)\n",
    "\n",
    "\n",
    "CDF = np.array(list(range(len(samples))))/len(samples)\n",
    "plt.plot(sorted(samples),CDF)\n",
    "plt.xlabel('x')\n",
    "plt.ylabel('CDF, Fraction of data less than x')\n",
    "plt.show()\n",
    "\n"
   ]
  },
  {
   "cell_type": "markdown",
   "metadata": {
    "id": "jQDj95HVfQIr"
   },
   "source": [
    "We can play with the fixed values of mu and sigma here to see how well we get the two to fit."
   ]
  },
  {
   "cell_type": "code",
   "execution_count": null,
   "metadata": {
    "colab": {
     "base_uri": "https://localhost:8080/",
     "height": 285
    },
    "executionInfo": {
     "elapsed": 406,
     "status": "ok",
     "timestamp": 1650539642045,
     "user": {
      "displayName": "Zachary Ulissi",
      "userId": "07633171379186475882"
     },
     "user_tz": 240
    },
    "id": "p6SzBqlhfQIr",
    "outputId": "9c90ed90-5027-44ff-b218-d796ced2e696"
   },
   "outputs": [
    {
     "data": {
      "image/png": "[encoded data removed]",
      "text/plain": [
       "<Figure size 432x288 with 1 Axes>"
      ]
     },
     "metadata": {
      "filenames": {
       "image/png": "/home/jovyan/math-methods-chemical-engineering/math-methods-chemical-engineering/_build/jupyter_execute/notes/statistics/24-intro-statistics_73_0.png"
      }
     },
     "output_type": "display_data"
    }
   ],
   "source": [
    "def GaussianCDF(x):\n",
    "  mu=0.2\n",
    "  sigma=1.2\n",
    "  cdf = 1/2*(1+scipy.special.erf((x-mu)/sigma/np.sqrt(2)))\n",
    "  return cdf\n",
    "\n",
    "\n",
    "x_range = np.linspace(-3,4,100)\n",
    "cdf_range = GaussianCDF(x_range)\n",
    "plt.plot(x_range,cdf_range)\n",
    "\n",
    "\n",
    "CDF = np.array(list(range(len(samples))))/len(samples)\n",
    "plt.plot(sorted(samples),CDF)\n",
    "plt.xlabel('x')\n",
    "plt.ylabel('CDF, Fraction of data less than x')\n",
    "plt.show()\n",
    "\n"
   ]
  },
  {
   "cell_type": "markdown",
   "metadata": {
    "id": "vQjk7YvCfQIt"
   },
   "source": [
    "Note that the best fitted values of the parameters aren't accurate! We don't have a way to quantify this uncertainty, but we could do it with likelihood estimation or known estimators. "
   ]
  },
  {
   "cell_type": "markdown",
   "metadata": {
    "id": "nIPbOlCZfQIy"
   },
   "source": [
    "# Testing that two distributions are different"
   ]
  },
  {
   "cell_type": "markdown",
   "metadata": {
    "id": "F0lLoNFHfQIy"
   },
   "source": [
    "We often want to know if a distribution is substatially different from another distribution. For example, for a previous year in this course:\n",
    "- The average and the standard deviation of the first exam was 86% and 11.7% respectively.\n",
    "- The average and the standard deviation of the second exam was 83% and 21% respectively.\n",
    "\n",
    "We want to know, assuming these exams were both drawn from normal distributions, if the distribution for the second exam was substantially different from the first or just another realization of the same statistic.\n",
    "\n",
    "Or to put it another way, was the second test harder than the first?\n",
    "\n",
    "First, let's generate some synthetic data from these distributions: "
   ]
  },
  {
   "cell_type": "code",
   "execution_count": null,
   "metadata": {
    "colab": {
     "base_uri": "https://localhost:8080/"
    },
    "executionInfo": {
     "elapsed": 168,
     "status": "ok",
     "timestamp": 1650548278005,
     "user": {
      "displayName": "Zachary Ulissi",
      "userId": "07633171379186475882"
     },
     "user_tz": 240
    },
    "id": "CIobQTcOfQIz",
    "outputId": "1763a697-294e-4e59-fd4e-57ce3b87520d"
   },
   "outputs": [
    {
     "name": "stdout",
     "output_type": "stream",
     "text": [
      "The observed mean for exam 1: 85.916900\n",
      "The observed mean for exam 2: 83.245155\n"
     ]
    }
   ],
   "source": [
    "exam1_scores = rng.normal(86,11.72, 45)\n",
    "exam2_scores = rng.normal(83,21, 45)\n",
    "\n",
    "print('The observed mean for exam 1: %f'%np.mean(exam1_scores))\n",
    "print('The observed mean for exam 2: %f'%np.mean(exam2_scores))"
   ]
  },
  {
   "cell_type": "markdown",
   "metadata": {
    "id": "d-g8RFDZfQI0"
   },
   "source": [
    "It always helps to plot the data"
   ]
  },
  {
   "cell_type": "code",
   "execution_count": null,
   "metadata": {
    "colab": {
     "base_uri": "https://localhost:8080/",
     "height": 355
    },
    "executionInfo": {
     "elapsed": 430,
     "status": "ok",
     "timestamp": 1650548371770,
     "user": {
      "displayName": "Zachary Ulissi",
      "userId": "07633171379186475882"
     },
     "user_tz": 240
    },
    "id": "C0tTgYolfQI1",
    "outputId": "cde7d336-7e0e-4f02-b3a9-a06749584e9c"
   },
   "outputs": [
    {
     "data": {
      "text/plain": [
       "(array([3., 1., 3., 9., 6., 6., 4., 4., 6., 3.]),\n",
       " array([ 36.93482607,  45.88037139,  54.82591671,  63.77146203,\n",
       "         72.71700735,  81.66255266,  90.60809798,  99.5536433 ,\n",
       "        108.49918862, 117.44473394, 126.39027926]),\n",
       " <a list of 10 Patch objects>)"
      ]
     },
     "execution_count": 167,
     "metadata": {},
     "output_type": "execute_result"
    },
    {
     "data": {
      "image/png": "[encoded data removed]",
      "text/plain": [
       "<Figure size 432x288 with 1 Axes>"
      ]
     },
     "metadata": {
      "filenames": {
       "image/png": "/home/jovyan/math-methods-chemical-engineering/math-methods-chemical-engineering/_build/jupyter_execute/notes/statistics/24-intro-statistics_79_1.png"
      }
     },
     "output_type": "display_data"
    }
   ],
   "source": [
    "plt.hist(exam1_scores, 10)\n",
    "plt.hist(exam2_scores, 10, alpha=0.5)"
   ]
  },
  {
   "cell_type": "markdown",
   "metadata": {
    "id": "9whUWEMDfQI3"
   },
   "source": [
    "We want to know if the average or standard deviation of those two tests is substantially different, or if we gave a different class of similar students the same two exams, the results would have come out different. \n",
    "\n",
    "Another way of saying it is - if we assume the distribution is Gaussian with observed mean and standard deviation, what would the distribution of observed means or standard deviations have looked like? "
   ]
  },
  {
   "cell_type": "code",
   "execution_count": null,
   "metadata": {
    "colab": {
     "base_uri": "https://localhost:8080/",
     "height": 375
    },
    "executionInfo": {
     "elapsed": 1049,
     "status": "ok",
     "timestamp": 1650548406370,
     "user": {
      "displayName": "Zachary Ulissi",
      "userId": "07633171379186475882"
     },
     "user_tz": 240
    },
    "id": "EJHO9sVcfQI3",
    "outputId": "53c29278-86e0-4d09-fe80-eb33cd4f7b48"
   },
   "outputs": [
    {
     "name": "stderr",
     "output_type": "stream",
     "text": [
      "/usr/local/lib/python3.7/dist-packages/seaborn/distributions.py:2619: FutureWarning: `distplot` is a deprecated function and will be removed in a future version. Please adapt your code to use either `displot` (a figure-level function with similar flexibility) or `histplot` (an axes-level function for histograms).\n",
      "  warnings.warn(msg, FutureWarning)\n",
      "/usr/local/lib/python3.7/dist-packages/seaborn/distributions.py:2619: FutureWarning: `distplot` is a deprecated function and will be removed in a future version. Please adapt your code to use either `displot` (a figure-level function with similar flexibility) or `histplot` (an axes-level function for histograms).\n",
      "  warnings.warn(msg, FutureWarning)\n"
     ]
    },
    {
     "data": {
      "text/plain": [
       "<matplotlib.axes._subplots.AxesSubplot at 0x7f9cce055750>"
      ]
     },
     "execution_count": 168,
     "metadata": {},
     "output_type": "execute_result"
    },
    {
     "data": {
      "image/png": "[encoded data removed]",
      "text/plain": [
       "<Figure size 432x288 with 1 Axes>"
      ]
     },
     "metadata": {
      "filenames": {
       "image/png": "/home/jovyan/math-methods-chemical-engineering/math-methods-chemical-engineering/_build/jupyter_execute/notes/statistics/24-intro-statistics_81_2.png"
      }
     },
     "output_type": "display_data"
    }
   ],
   "source": [
    "xrange = np.linspace(0,100,400)\n",
    "\n",
    "exam1_scores_mean_sample = [np.mean(rng.normal(86,11.72, 45)) for i in range(10000)]\n",
    "exam2_scores_mean_sample = [np.mean(rng.normal(83,21, 45)) for i in range(10000)]\n",
    "\n",
    "sns.distplot(exam1_scores_mean_sample,20)\n",
    "sns.distplot(exam2_scores_mean_sample,20)"
   ]
  },
  {
   "cell_type": "markdown",
   "metadata": {
    "id": "aS83-sT64voo"
   },
   "source": [
    "Now, let's find properties of this new distribution"
   ]
  },
  {
   "cell_type": "code",
   "execution_count": null,
   "metadata": {
    "colab": {
     "base_uri": "https://localhost:8080/"
    },
    "executionInfo": {
     "elapsed": 141,
     "status": "ok",
     "timestamp": 1650548487553,
     "user": {
      "displayName": "Zachary Ulissi",
      "userId": "07633171379186475882"
     },
     "user_tz": 240
    },
    "id": "eyoZ5zfb42h3",
    "outputId": "49196924-3414-48a2-d954-bdfe8479b3fc"
   },
   "outputs": [
    {
     "name": "stdout",
     "output_type": "stream",
     "text": [
      "Our observed distribution of means for exam 1 (multiple exams given) is 86.00 +/- 1.73\n",
      "Our observed distribution of means for exam 2 (multiple exams given) is 82.99 +/- 3.14\n"
     ]
    }
   ],
   "source": [
    "print('Our observed distribution of means for exam 1 (multiple exams given) is %1.2f +/- %1.2f'%(np.mean(exam1_scores_mean_sample),\n",
    "                                                                                                np.std(exam1_scores_mean_sample)))\n",
    "\n",
    "print('Our observed distribution of means for exam 2 (multiple exams given) is %1.2f +/- %1.2f'%(np.mean(exam2_scores_mean_sample),\n",
    "                                                                                                np.std(exam2_scores_mean_sample)))"
   ]
  },
  {
   "cell_type": "markdown",
   "metadata": {
    "id": "Zoe-HIV2zODc"
   },
   "source": [
    "Let's compare the mean and standard deviation of these estimates with the ones we get from the analytical estimates from a single trial."
   ]
  },
  {
   "cell_type": "code",
   "execution_count": null,
   "metadata": {
    "colab": {
     "base_uri": "https://localhost:8080/"
    },
    "executionInfo": {
     "elapsed": 193,
     "status": "ok",
     "timestamp": 1650548498777,
     "user": {
      "displayName": "Zachary Ulissi",
      "userId": "07633171379186475882"
     },
     "user_tz": 240
    },
    "id": "VTA5XSqfzcer",
    "outputId": "f073c398-5791-4110-cb21-98cbe1625fca"
   },
   "outputs": [
    {
     "name": "stdout",
     "output_type": "stream",
     "text": [
      "Our estimate on the mean for exam 1 is 85.92 +/- 1.75\n",
      "Our estimate on the mean for exam 2 is 83.25 +/- 3.41\n"
     ]
    }
   ],
   "source": [
    "# Exam 1 mean\n",
    "estimated_mean = np.mean(exam1_scores)\n",
    "estimated_mean_std = np.sqrt(np.std(exam1_scores)**2/len(exam1_scores))\n",
    "print('Our estimate on the mean for exam 1 is %1.2f +/- %1.2f'%(estimated_mean, estimated_mean_std))\n",
    "\n",
    "# Exam 2 mean\n",
    "estimated_mean = np.mean(exam2_scores)\n",
    "estimated_mean_std = np.sqrt(np.std(exam2_scores)**2/len(exam2_scores))\n",
    "print('Our estimate on the mean for exam 2 is %1.2f +/- %1.2f'%(estimated_mean, estimated_mean_std))\n"
   ]
  },
  {
   "cell_type": "markdown",
   "metadata": {
    "id": "FETcK4Q70SSa"
   },
   "source": [
    "Finally, assuming that the distributions are Gaussian, how often does exam2 come out with a lower mean than exam 1?\n"
   ]
  },
  {
   "cell_type": "code",
   "execution_count": null,
   "metadata": {
    "colab": {
     "base_uri": "https://localhost:8080/"
    },
    "executionInfo": {
     "elapsed": 201,
     "status": "ok",
     "timestamp": 1650548568408,
     "user": {
      "displayName": "Zachary Ulissi",
      "userId": "07633171379186475882"
     },
     "user_tz": 240
    },
    "id": "OtdmeiUg0cGa",
    "outputId": "7b642212-50a4-4953-f78a-da4986cd767c"
   },
   "outputs": [
    {
     "data": {
      "text/plain": [
       "0.7998"
      ]
     },
     "execution_count": 171,
     "metadata": {},
     "output_type": "execute_result"
    }
   ],
   "source": [
    "np.sum(np.array(exam2_scores_mean_sample)<np.array(exam1_scores_mean_sample))/len(exam1_scores_mean_sample)"
   ]
  },
  {
   "cell_type": "code",
   "execution_count": null,
   "metadata": {
    "id": "nVufoYwrZk59"
   },
   "outputs": [],
   "source": []
  }
 ],
 "metadata": {
  "colab": {
   "collapsed_sections": [],
   "name": "24-intro-statistics.ipynb",
   "provenance": []
  },
  "kernelspec": {
   "display_name": "Python 3 (ipykernel)",
   "language": "python",
   "name": "python3"
  },
  "language_info": {
   "codemirror_mode": {
    "name": "ipython",
    "version": 3
   },
   "file_extension": ".py",
   "mimetype": "text/x-python",
   "name": "python",
   "nbconvert_exporter": "python",
   "pygments_lexer": "ipython3",
   "version": "3.9.13"
  }
 },
 "nbformat": 4,
 "nbformat_minor": 4
}