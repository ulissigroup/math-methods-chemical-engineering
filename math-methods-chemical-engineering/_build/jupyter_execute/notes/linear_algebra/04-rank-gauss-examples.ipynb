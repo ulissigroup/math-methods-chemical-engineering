{
 "cells": [
  {
   "cell_type": "markdown",
   "metadata": {
    "badge": true,
    "branch": "master",
    "colab_type": "text",
    "comment": "This badge cell was added by colab-badge-action",
    "id": "gatzvzgLC4sf",
    "nb_path": "lecture_notes/04-rank-gauss-examples.ipynb",
    "repo_name": "ulissigroup/math-methods-chemical-engineering"
   },
   "source": [
    "<a href=\"https://colab.research.google.com/github/ulissigroup/math-methods-chemical-engineering/blob/master/lecture_notes/04-rank-gauss-examples.ipynb\" target=\"_parent\"><img src=\"https://colab.research.google.com/assets/colab-badge.svg\" alt=\"Open In Colab\"/></a>\n",
    "\n",
    "$$\\newcommand{\\arr}[1]{\\underline{\\underline{#1}}}$$    \n",
    "$$\\newcommand{\\vec}[1]{\\underline{#1}}$$   \n",
    "$$\\require{mhchem}$$\n"
   ]
  },
  {
   "cell_type": "code",
   "execution_count": 0,
   "metadata": {
    "colab": {},
    "colab_type": "code",
    "id": "SfDdP8-rj9xu"
   },
   "outputs": [],
   "source": []
  },
  {
   "cell_type": "markdown",
   "metadata": {
    "colab_type": "text",
    "id": "B0SWB0UQoHgG"
   },
   "source": [
    "# Chemical Engineering example solved with Gauss elimination\n",
    "\n",
    "Three tanks of water are attached in series. All tanks have the same cross-sectional area $A$. The flow rate through the valves is a function of the height of the water in the tanks (equations below)\n",
    "\n",
    "<img src=\"https://docs.google.com/drawings/d/e/2PACX-1vRdeJhg87qBtUYmI28A_IHSRFfsJQUNfAiBTPTbcsiota93b2pL8MHzdpnXdhX21nG7nDAA1-mYLyh3/pub?w=632&amp;h=245\">\n",
    "\n",
    "\n"
   ]
  },
  {
   "cell_type": "markdown",
   "metadata": {
    "colab_type": "text",
    "id": "18sLJ7j-ttBy"
   },
   "source": [
    "## Mass balances"
   ]
  },
  {
   "cell_type": "markdown",
   "metadata": {
    "colab_type": "text",
    "id": "A1nAnmq2trA0"
   },
   "source": [
    "* Balance on tank 1 at steady state (accum=0)\n",
    "\\begin{align*}\n",
    "\\text{Accumulation}&=\\text{In}-\\text{Out}+\\text{Generation}\\\\\n",
    "0&=\\rho F_0-\\rho F_1\\\\\n",
    "0&=F_0-F_1=F_0-\\frac{h_1-h_2}{R_1}\\\\\n",
    "h_1-h_2&=R_1F_0\n",
    "\\end{align*}\n",
    "To prepare for the augmented matrix, we'll keep unknowns on the left hand side, and constants on the right hand side!\n",
    "* Balance on tank 2 at steady state (accum=0)\n",
    "\\begin{align*}\n",
    "\\text{Accumulation}&=\\text{In}-\\text{Out}+\\text{Generation}\\\\\n",
    "0&=\\rho\\frac{h_1-h_2}{R_1}-\\rho\\frac{h_2-h_3}{R_2}=R_2h_1-R_2h_2-R_1h_2+R_1h_3\\\\\n",
    "R_2h_1-(R_1+R_2)h_2+R_1h_3&=0\n",
    "\\end{align*}\n",
    "* Balance on tank 3 at steady state (accum=0)\n",
    "\\begin{align*}\n",
    "\\text{Accumulation}&=\\text{In}-\\text{Out}+\\text{Generation}\\\\\n",
    "0&=\\rho\\frac{h_2-h_3}{R_2}-\\rho\\frac{h_3}{R_3}=R_3h_2-R_3h_3-R_2h_3\\\\\n",
    "R_3h_2-(R_2+R_3)h_3&=0\n",
    "\\end{align*}\n",
    "\n",
    "\n"
   ]
  },
  {
   "cell_type": "markdown",
   "metadata": {
    "colab_type": "text",
    "id": "7wPxnXvzu66O"
   },
   "source": [
    "## Convert to math problem equation"
   ]
  },
  {
   "cell_type": "markdown",
   "metadata": {
    "colab_type": "text",
    "id": "sVY-Lc_Lu966"
   },
   "source": [
    "\\begin{align*}\n",
    "\\arr{A}\\vec{h}=\\vec{b}\\\\\n",
    "\\begin{bmatrix}\n",
    "1&-1&0\\\\\n",
    "R_2&-(R_1+R_2)&R_1\\\\\n",
    "0&R_3&-(R_2+R_3)\n",
    "\\end{bmatrix}\n",
    "\\begin{bmatrix}\n",
    "h_1\\\\h_2\\\\h_3\n",
    "\\end{bmatrix}&=\\begin{bmatrix}\n",
    "R_1F_0\\\\0\\\\0\n",
    "\\end{bmatrix}\n",
    "\\end{align*}"
   ]
  },
  {
   "cell_type": "markdown",
   "metadata": {
    "colab_type": "text",
    "id": "VsJA-Wetznn_"
   },
   "source": [
    "## Solve system of equations"
   ]
  },
  {
   "cell_type": "markdown",
   "metadata": {
    "colab_type": "text",
    "id": "l04uPkwozv6S"
   },
   "source": [
    "For the situation where $A=5$ m$^2$, $F_0=5$ m$^3$/hr, $R_1=2$ hr/m$^2$, $R_2=1$ hr/m$^2$, $R_3=1$ hr/m$^2$, plug into matrix:\n",
    "\\begin{align*}\n",
    "\\begin{bmatrix}\n",
    "1&-1&0\\\\\n",
    "1&-3&2\\\\\n",
    "0&1&-2\n",
    "\\end{bmatrix}\n",
    "\\begin{bmatrix}\n",
    "h_1\\\\h_2\\\\h_3\n",
    "\\end{bmatrix}&=\\begin{bmatrix}\n",
    "10\\\\0\\\\0\n",
    "\\end{bmatrix}\n",
    "\\end{align*}\n",
    "\n",
    "\n",
    "\n",
    "* Form $[\\arr{A}|\\vec{b}]$\n",
    "\\begin{align*}\n",
    "\\left[\\begin{array}{rrr|r}\n",
    "1&-1&0&10\\\\\n",
    "1&-3&2&0\\\\\n",
    "0&1&-2&0\n",
    "\\end{array}\\right]\n",
    "\\end{align*}\n",
    "* $R_2=R_2-R_1$\n",
    "\\begin{align*}\n",
    "\\left[\\begin{array}{rrr|r}\n",
    "1&-1&0&10\\\\\n",
    "0&-2&2&-10\\\\\n",
    "0&1&-2&0\n",
    "\\end{array}\\right]\n",
    "\\end{align*}\n",
    "* $R_2=-R_2/2$\n",
    "\\begin{align*}\n",
    "\\left[\\begin{array}{rrr|r}\n",
    "1&-1&0&10\\\\\n",
    "0&1&-1&5\\\\\n",
    "0&1&-2&0\n",
    "\\end{array}\\right]\n",
    "\\end{align*}\n",
    "* $R_3=R_2-R_3$\n",
    "\\begin{align*}\n",
    "\\left[\\begin{array}{rrr|r}\n",
    "1&-1&0&10\\\\\n",
    "0&1&-1&5\\\\\n",
    "0&0&1&5\n",
    "\\end{array}\\right]\n",
    "\\end{align*}\n",
    "* $R_2=R_2+R_3$\n",
    "\\begin{align*}\n",
    "\\left[\\begin{array}{rrr|r}\n",
    "1&-1&0&10\\\\\n",
    "0&1&0&10\\\\\n",
    "0&0&1&5\n",
    "\\end{array}\\right]\n",
    "\\end{align*}\n",
    "* $R_1=R_1+R_2$\n",
    "\\begin{align*}\n",
    "\\left[\\begin{array}{rrr|r}\n",
    "1&0&0&20\\\\\n",
    "0&1&0&10\\\\\n",
    "0&0&1&5\n",
    "\\end{array}\\right]\n",
    "\\end{align*}\n",
    "\n",
    "Math solved!"
   ]
  },
  {
   "cell_type": "markdown",
   "metadata": {
    "colab_type": "text",
    "id": "HDlBA-Jj1N3C"
   },
   "source": [
    "## Solve engineering problem"
   ]
  },
  {
   "cell_type": "markdown",
   "metadata": {
    "colab_type": "text",
    "id": "jjgiOih01P73"
   },
   "source": [
    "* $h_1=20$. What units? Remember $h\\sim FR=(m^3/hr)(hr/m^2)=m$\n",
    "* $h_1=20$ m, $h_2=10$ m, $h_3=5$ m.\n",
    "\n",
    "Can this solution make physical sense? Yes!"
   ]
  },
  {
   "cell_type": "markdown",
   "metadata": {
    "colab_type": "text",
    "id": "kJAtVhLiRmIT"
   },
   "source": [
    "# Rank of a matrix"
   ]
  },
  {
   "cell_type": "markdown",
   "metadata": {
    "colab_type": "text",
    "id": "ql6aEAFIRmIX"
   },
   "source": [
    "* The rank of a matrix is the # of non-zero rows after gauss elimination\n",
    "* This tells us about the linear independent of the our system\n"
   ]
  },
  {
   "cell_type": "markdown",
   "metadata": {
    "colab_type": "text",
    "id": "HMZ1I9srRmIb"
   },
   "source": [
    "## Example"
   ]
  },
  {
   "cell_type": "markdown",
   "metadata": {
    "colab_type": "text",
    "id": "5QDVu16PRmId"
   },
   "source": [
    "\\begin{align*}\n",
    "\\arr{A}=\\begin{bmatrix}\n",
    "-3&1&-1\\\\\n",
    "1&0&1\\\\\n",
    "-2&2&2\n",
    "\\end{bmatrix}\n",
    "\\end{align*}\n",
    "* After Gauss elimination\n",
    "\\begin{align*}\n",
    "\\arr{A}=\\begin{bmatrix}\n",
    "1&0&1\\\\\n",
    "0&1&2\\\\\n",
    "0&0&0\n",
    "\\end{bmatrix}\n",
    "\\end{align*}\n",
    "*There are two nonzero rows, so rank$(\\arr{A})=2$. \n",
    "* This also means that only two of these equations are linearly independent!\n",
    "* The reduced echelon matrix tells us that $x_1+x_3$ and $x_1+2x_3$ form **a basis** of the system!\n"
   ]
  },
  {
   "cell_type": "markdown",
   "metadata": {
    "colab_type": "text",
    "id": "Wkb_zLUQRmIf"
   },
   "source": [
    "## Example 2"
   ]
  },
  {
   "cell_type": "markdown",
   "metadata": {
    "colab_type": "text",
    "id": "WzZCxNJIRmIg"
   },
   "source": [
    "Let's say we get an augment matrix after gauss elimination of:\n",
    "\\begin{align*}\n",
    "\\arr{\\tilde{A}}=\\begin{bmatrix}\n",
    "-3&1&-1&-3\\\\\n",
    "1&0&1&5\\\\\n",
    "-2&2&2&-17\n",
    "\\end{bmatrix}\n",
    "\\end{align*}\n",
    "* rank$(\\arr{\\tilde{A}})=3$\n",
    "* rank$(\\arr{A})=2$\n",
    "\n",
    "**No solution!!**\n",
    "\n",
    "For an m=n system like the 3x3 system here:\n",
    "* If rank$(\\arr{A})=$rank$(\\arr{\\tilde{A}})=n$, one unique solution!\n",
    "* If rank$(\\arr{A})<$rank$(\\arr{\\tilde{A}})=n$, no solution!"
   ]
  },
  {
   "cell_type": "markdown",
   "metadata": {
    "colab_type": "text",
    "id": "PFE-cXpXzlCQ"
   },
   "source": [
    "# Inner (dot) products of vectors\n",
    "\n",
    "You've probably done dot products in your calculus class, but let's go ahead and review dot products.\n",
    "\n",
    "* This is a special case of matrix multiplication that occurs very often\n",
    "* If $\\vec{a}$ and $\\vec{b}$ are vectors, both with the same number of elements, then matrix multiplication yields a scalar (a 1x1 matrix) called the inner or dot  product\n",
    "\\begin{align*}\n",
    "\\vec{a}\\cdot\\vec{b}=\\vec{a}^T\\vec{b}=\\begin{bmatrix}a_1&\\dots&a_n\\end{bmatrix}\n",
    "\\begin{bmatrix}b_1\\\\\\vdots\\\\b_n\\end{bmatrix}=\\sum_{l=1}^n a_lb_l\n",
    "\\end{align*}\n",
    "\n",
    "## Example\n",
    "\n",
    "\\begin{align*}\n",
    "\\vec{a}=\\begin{bmatrix}\n",
    "4\\\\-1\\\\2\n",
    "\\end{bmatrix}, \\vec{b}=\\begin{bmatrix}\n",
    "1\\\\0\\\\3\n",
    "\\end{bmatrix}\\\\\n",
    "\\vec{a}\\cdot\\vec{b}=4(1)+-1(0)+2(3)=10\n",
    "\\end{align*}\n",
    "\n",
    "* Matrix multiplication is just a bunch of dot products. For example, in $\\arr{C}=\\arr{A}\\arr{B}$, every operation is just a dot product of a row and columnn vector"
   ]
  },
  {
   "cell_type": "markdown",
   "metadata": {
    "colab_type": "text",
    "id": "gHzUgKXT2NnL"
   },
   "source": [
    "# Diagonal Matrices"
   ]
  },
  {
   "cell_type": "markdown",
   "metadata": {
    "colab_type": "text",
    "id": "q508i0a93XW_"
   },
   "source": [
    "* Definition: Square matrices that have non-zero entries only on the diagonal. Any entry above of below the diagonal is zero\n",
    "* Example:\n",
    "\\begin{align*}\n",
    "\\begin{bmatrix}\n",
    "0.2&0&0\\\\0&5&0\\\\0&0&1\n",
    "\\end{bmatrix}\n",
    "\\end{align*}"
   ]
  },
  {
   "cell_type": "markdown",
   "metadata": {
    "colab_type": "text",
    "id": "keaLzaiO4zcJ"
   },
   "source": [
    "## Identity (unit) matrix\n",
    "\n",
    "* A square matrix  $\\arr{I}$ where every element in the diagonal is 1, and all other elements are 0. \n",
    "\\begin{align*}\n",
    "\\arr{I}=\\begin{bmatrix}1&0\\\\0&1\\end{bmatrix} &&\\arr{I}=\\begin{bmatrix}1&0&0\\\\0&1&0\\\\0&0&1\\end{bmatrix} &&etc\n",
    "\\end{align*}\n",
    "* We can denote the size with $\\arr{I}_n$\n",
    "* **Special property!** Multiplying a matrix $\\arr{A}$ by the same size identity matrix $\\arr{I}$ yields back $\\arr{A}$!\n",
    "\\begin{align*}\n",
    "\\arr{I}\\arr{A}=\\arr{A}\\arr{I}=\\begin{bmatrix}\n",
    "a_{11}&a_{12}\\\\\n",
    "a_{21}&a_{22}\n",
    "\\end{bmatrix}\\begin{bmatrix}\n",
    "1&0\\\\0&1\n",
    "\\end{bmatrix}=\\begin{bmatrix}\n",
    "a_{11}&a_{12}\\\\\n",
    "a_{21}&a_{22}\n",
    "\\end{bmatrix}\n",
    "\\end{align*}"
   ]
  },
  {
   "cell_type": "markdown",
   "metadata": {
    "colab_type": "text",
    "id": "GnZdykSx3ipv"
   },
   "source": [
    "## Scalar matrix\n",
    "\n",
    "* All non-zero entries of a diagonal matrix $\\arr{S}$ are equal to  some number $c$. In other words, $\\arr{S}=c\\arr{I}$\n",
    "\\begin{align*}\n",
    "\\arr{S}=\\begin{bmatrix} c&0\\\\0&c\\end{bmatrix} &&e.g. && \\arr{S}=\\begin{bmatrix} 3&0\\\\0&3\\end{bmatrix}\n",
    "\\end{align*}\n",
    "* From the unit identity info above, $\\arr{S}\\arr{A}=c\\arr{I}\\arr{A}=\\arr{A}\\arr{S}=\\arr{A}c\\arr{I}=c\\arr{A}$"
   ]
  },
  {
   "cell_type": "markdown",
   "metadata": {
    "colab_type": "text",
    "id": "7nxD2ndi2Ppr"
   },
   "source": [
    "# Matrix inversion\n",
    "\n",
    "* A real number $a$ has a multiplicative inverse if there exists a $b$ such that $ab=1$\n",
    "* Any non-zero $a$ has a multiplicative inverse $b=1/a$.\n",
    "\n",
    "We can generalize this idea to matrices!\n",
    "\n",
    "* A square matrix $\\arr{A}$ is **invertible** or **non-singular** if there is a matrix $\\arr{B}$ such that\n",
    "\\begin{align*}\n",
    "\\arr{A}\\arr{B}=\\arr{B}\\arr{A}=\\arr{I}\n",
    "\\end{align*}\n",
    "  * Ex: $\\arr{A}=\\begin{bmatrix}2&4\\\\3&1\\end{bmatrix}$ and $\\arr{B}=\\begin{bmatrix}-1/10&2/5\\\\3/10&-1/5\\end{bmatrix}$ are inverses of each other because $\\arr{A}\\arr{B}=\\arr{B}\\arr{A}=\\arr{I}$\n",
    "* We say $\\arr{B}$ is the multiplicative inverse of $\\arr{A}$\n",
    "* If $\\arr{B}$ and $\\arr{C}$ are both inverses of $\\arr{A}$, then \n",
    "\\begin{align*}\n",
    "\\arr{B}=\\arr{B}\\arr{I}=\\arr{B}(\\arr{A}\\arr{C})=(\\arr{B}\\arr{A})\\arr{C}=\\arr{I}\\arr{C}=\\arr{C} \\\\\\therefore \\arr{B}=\\arr{C} \\text{ and $\\arr{A}$ has at most one inverse}\n",
    "\\end{align*}\n",
    "* The inverse of $\\arr{A}$ is denoted $\\arr{A}^{-1}$\n",
    "* A square matrix is called **singular** if it doesn't have an inverse\n",
    "\n",
    "\n",
    "\n"
   ]
  },
  {
   "cell_type": "markdown",
   "metadata": {
    "colab_type": "text",
    "id": "8GfQYZmK9xUQ"
   },
   "source": [
    "## Computing an inverse"
   ]
  },
  {
   "cell_type": "markdown",
   "metadata": {
    "colab_type": "text",
    "id": "rmTszRuj9z5x"
   },
   "source": [
    "We already have the tools to compute the inverse!! \n",
    "\n",
    "* For a square matrix $\\arr{A}$, we will augment it with the identity matrix\n",
    "* We we will use Gauss elimination to convert $\\arr{A}$ to the identity matrix\n",
    "* The augmented matrix is then the inverse! \n",
    "* Magic! (not really)"
   ]
  },
  {
   "cell_type": "markdown",
   "metadata": {
    "colab_type": "text",
    "id": "t6A8ZsHL-KdR"
   },
   "source": [
    "### Example"
   ]
  },
  {
   "cell_type": "markdown",
   "metadata": {
    "colab_type": "text",
    "id": "Vi3y0_TP-M_h"
   },
   "source": [
    "Find $\\arr{A}^{-1}$ for $\\arr{A}=\\begin{bmatrix}2&-6\\\\4&-2\\end{bmatrix}$\n",
    "\n",
    "* Form augmented matrix\n",
    "\\begin{align*}\n",
    "\\left[\\begin{array}{rr|rr}\n",
    "2&-6&1&0\\\\\n",
    "4&-2&0&1\n",
    "\\end{array}\\right]\n",
    "\\end{align*}\n",
    "* $R_1=R_1/2$\n",
    "\\begin{align*}\n",
    "\\left[\\begin{array}{rr|rr}\n",
    "1&-3&1/2&0\\\\\n",
    "4&-2&0&1\n",
    "\\end{array}\\right]\n",
    "\\end{align*}\n",
    "* $R_2=R_2-4R_1$\n",
    "\\begin{align*}\n",
    "\\left[\\begin{array}{rr|rr}\n",
    "1&-3&1/2&0\\\\\n",
    "0&10&-2&1\n",
    "\\end{array}\\right]\n",
    "\\end{align*}\n",
    "* $R_2=R_2/10$\n",
    "\\begin{align*}\n",
    "\\left[\\begin{array}{rr|rr}\n",
    "1&-3&1/2&0\\\\\n",
    "0&1&-1/5&1/10\n",
    "\\end{array}\\right]\n",
    "\\end{align*}\n",
    "* $R_1=R_1+3R_2$\n",
    "\\begin{align*}\n",
    "\\left[\\begin{array}{rr|rr}\n",
    "1&0&-1/10&3/10\\\\\n",
    "0&1&-1/5&1/10\n",
    "\\end{array}\\right]\n",
    "\\end{align*}\n",
    "\n",
    "* $\\arr{A}^{-1}=\\begin{bmatrix}-1/10&3/10\\\\\n",
    "-1/5&1/10\n",
    "\\end{bmatrix}$\n",
    "* Quick check!\n",
    "\\begin{align*}\n",
    "\\arr{A}\\arr{A}^{-1}=\\arr{I}=\\arr{A}^{-1}\\arr{A}\n",
    "\\end{align*}\n",
    "\n",
    "Let's do this one with python!\n"
   ]
  },
  {
   "cell_type": "code",
   "execution_count": 1,
   "metadata": {
    "colab": {
     "base_uri": "https://localhost:8080/",
     "height": 85
    },
    "colab_type": "code",
    "executionInfo": {
     "elapsed": 1476,
     "status": "ok",
     "timestamp": 1579806730225,
     "user": {
      "displayName": "Zachary Ulissi",
      "photoUrl": "",
      "userId": "07633171379186475882"
     },
     "user_tz": 300
    },
    "id": "sidcUBea_fOD",
    "outputId": "5f5ebe84-facb-4d10-b28f-1854d8ea105c"
   },
   "outputs": [
    {
     "name": "stdout",
     "output_type": "stream",
     "text": [
      "[[ 1.00000000e+00 -1.11022302e-16]\n",
      " [ 0.00000000e+00  1.00000000e+00]]\n",
      "[[1.00000000e+00 1.11022302e-16]\n",
      " [0.00000000e+00 1.00000000e+00]]\n"
     ]
    }
   ],
   "source": [
    "import numpy as np\n",
    "\n",
    "#Define A and the inverse of A\n",
    "A = np.array([[2,-6],[4,-2]])\n",
    "Ainv = np.array([[-1/10,3/10],[-1/5,1/10]])\n",
    "\n",
    "#Note that this looks very good, but some residual rounding errors in the \n",
    "# computation has one element VERY close to zero but not quite right. For \n",
    "# practical purposes, anything less than about 10^-8 is probably the same \n",
    "# thing as zero in numerical methods\n",
    "print(A@Ainv)\n",
    "\n",
    "#Check Ainv*A\n",
    "print(Ainv@A)\n"
   ]
  },
  {
   "cell_type": "markdown",
   "metadata": {
    "colab_type": "text",
    "id": "h_RNlwqU89D8"
   },
   "source": [
    "# Rank, inverses, and row echelon form, and solving systems of linear equations in numpy"
   ]
  },
  {
   "cell_type": "markdown",
   "metadata": {
    "colab_type": "text",
    "id": "Yk2Y_2VXA6WX"
   },
   "source": [
    "## Rank of a matrix"
   ]
  },
  {
   "cell_type": "markdown",
   "metadata": {
    "colab_type": "text",
    "id": "WKXinU-jBgyE"
   },
   "source": [
    "The ndim property of a numpy array is the same thing as the rank. For the example above:"
   ]
  },
  {
   "cell_type": "code",
   "execution_count": 2,
   "metadata": {
    "colab": {
     "base_uri": "https://localhost:8080/",
     "height": 85
    },
    "colab_type": "code",
    "executionInfo": {
     "elapsed": 509,
     "status": "ok",
     "timestamp": 1579807110363,
     "user": {
      "displayName": "Zachary Ulissi",
      "photoUrl": "",
      "userId": "07633171379186475882"
     },
     "user_tz": 300
    },
    "id": "qk94Jxpj8Uml",
    "outputId": "22011998-dc6b-422c-ac43-a9358f6b20af"
   },
   "outputs": [
    {
     "name": "stdout",
     "output_type": "stream",
     "text": [
      "[[-3  1 -1]\n",
      " [ 1  0  1]\n",
      " [-2  2  2]]\n",
      "The rank of A is 2\n"
     ]
    }
   ],
   "source": [
    "A = np.array([[-3,1,-1],[1,0,1],[-2,2,2]])\n",
    "print(A)\n",
    "\n",
    "# We can use np.linalg.matrix_rank(A)\n",
    "print('The rank of A is %d'%np.linalg.matrix_rank(A))"
   ]
  },
  {
   "cell_type": "markdown",
   "metadata": {
    "colab_type": "text",
    "id": "U5KDp7lC1bVs"
   },
   "source": [
    "Let's adjust the matrix and see if the rank changes ($a_{22}=2$ to $a_{22}=3$)"
   ]
  },
  {
   "cell_type": "code",
   "execution_count": 3,
   "metadata": {
    "colab": {
     "base_uri": "https://localhost:8080/",
     "height": 34
    },
    "colab_type": "code",
    "executionInfo": {
     "elapsed": 485,
     "status": "ok",
     "timestamp": 1579807104985,
     "user": {
      "displayName": "Zachary Ulissi",
      "photoUrl": "",
      "userId": "07633171379186475882"
     },
     "user_tz": 300
    },
    "id": "bnzSI2vp0brp",
    "outputId": "0862305d-2659-4f96-aa58-e82acddfd06f"
   },
   "outputs": [
    {
     "name": "stdout",
     "output_type": "stream",
     "text": [
      "The rank of A is 3\n"
     ]
    }
   ],
   "source": [
    "A = np.array([[-3,1,-1],[1,0,1],[-2,2,3]])\n",
    "\n",
    "# Calculate the matrix rank of A\n",
    "print('The rank of A is %d'%np.linalg.matrix_rank(A))"
   ]
  },
  {
   "cell_type": "markdown",
   "metadata": {
    "colab_type": "text",
    "id": "s6hpRcTw1o5_"
   },
   "source": [
    "Confusingly, np.rank(A) **is not** the matrix rank of A."
   ]
  },
  {
   "cell_type": "markdown",
   "metadata": {
    "colab_type": "text",
    "id": "XeU5cZBCAkdW"
   },
   "source": [
    "## Inverse of a matrix\n",
    "\n",
    "Inverses are also easy with np.linalg.inverse"
   ]
  },
  {
   "cell_type": "code",
   "execution_count": 4,
   "metadata": {
    "colab": {
     "base_uri": "https://localhost:8080/",
     "height": 52
    },
    "colab_type": "code",
    "executionInfo": {
     "elapsed": 1445,
     "status": "ok",
     "timestamp": 1579730931392,
     "user": {
      "displayName": "Zachary Ulissi",
      "photoUrl": "",
      "userId": "07633171379186475882"
     },
     "user_tz": 300
    },
    "id": "gVy_GFeuB7Di",
    "outputId": "0cd7c088-ff57-4c37-853a-87f1011e6a08"
   },
   "outputs": [
    {
     "name": "stdout",
     "output_type": "stream",
     "text": [
      "[[-0.1  0.3]\n",
      " [-0.2  0.1]]\n"
     ]
    }
   ],
   "source": [
    "A = np.array([[2,-6],[4,-2]])\n",
    "\n",
    "#Same as the answer we got above!\n",
    "print(np.linalg.inv(A))"
   ]
  },
  {
   "cell_type": "markdown",
   "metadata": {
    "colab_type": "text",
    "id": "id_DiyayCOOZ"
   },
   "source": [
    "We can ask numpy what the inverse of a singular matrix is, and it will give us an answer, but that answer is garbage."
   ]
  },
  {
   "cell_type": "code",
   "execution_count": 5,
   "metadata": {
    "colab": {
     "base_uri": "https://localhost:8080/",
     "height": 122
    },
    "colab_type": "code",
    "executionInfo": {
     "elapsed": 618,
     "status": "ok",
     "timestamp": 1579792301310,
     "user": {
      "displayName": "Zachary Ulissi",
      "photoUrl": "",
      "userId": "07633171379186475882"
     },
     "user_tz": 300
    },
    "id": "rETGPkm9CHNZ",
    "outputId": "9abdc8b7-54a5-48d3-9451-98608cb3d2c9"
   },
   "outputs": [
    {
     "name": "stdout",
     "output_type": "stream",
     "text": [
      "[[-2.70215978e+15 -5.40431955e+15  1.35107989e+15]\n",
      " [-5.40431955e+15 -1.08086391e+16  2.70215978e+15]\n",
      " [ 2.70215978e+15  5.40431955e+15 -1.35107989e+15]]\n"
     ]
    },
    {
     "data": {
      "text/plain": [
       "array([[ 1. ,  0. ,  1. ],\n",
       "       [-2. ,  1. ,  1. ],\n",
       "       [ 1.5,  0. ,  1. ]])"
      ]
     },
     "execution_count": 5,
     "metadata": {},
     "output_type": "execute_result"
    }
   ],
   "source": [
    "#Try to get the inverse of a singular matrix\n",
    "A = np.array([[-3,1,-1],[1,0,1],[-2,2,2]])\n",
    "\n",
    "#Same as the answer we got above!\n",
    "Ainv = np.linalg.inv(A) \n",
    "print(Ainv)\n",
    "\n",
    "#Check; notice that Ainv*A is not the identity! This is a problem with numerical\n",
    "# methods; we have to be on top of our game all the time!\n",
    "Ainv@A"
   ]
  },
  {
   "cell_type": "code",
   "execution_count": 6,
   "metadata": {
    "colab": {
     "base_uri": "https://localhost:8080/",
     "height": 70
    },
    "colab_type": "code",
    "executionInfo": {
     "elapsed": 1413,
     "status": "ok",
     "timestamp": 1579730931393,
     "user": {
      "displayName": "Zachary Ulissi",
      "photoUrl": "",
      "userId": "07633171379186475882"
     },
     "user_tz": 300
    },
    "id": "Di9gIhN7CNsq",
    "outputId": "98405a7a-f349-4f6e-9fcd-51a29058f36c"
   },
   "outputs": [
    {
     "data": {
      "text/plain": [
       "array([[-2.70215978e+15, -5.40431955e+15,  1.35107989e+15],\n",
       "       [-5.40431955e+15, -1.08086391e+16,  2.70215978e+15],\n",
       "       [ 2.70215978e+15,  5.40431955e+15, -1.35107989e+15]])"
      ]
     },
     "execution_count": 6,
     "metadata": {},
     "output_type": "execute_result"
    }
   ],
   "source": [
    "Ainv"
   ]
  },
  {
   "cell_type": "markdown",
   "metadata": {
    "colab_type": "text",
    "id": "WkqPew09B-gH"
   },
   "source": [
    "## Gauss elimination\n",
    "\n",
    "* There's not a good method to do Gauss elimination with numerical methods. You can do it you use symbolic math packages (sort of like mathematica, but in python), but these largely defeat the point of using numerical methods! \n",
    "\n",
    "* The closest thing you can do is get a matrix into upper diagonal form, which is echelon form, but this only works for square matrics and isn't really helpful (see https://docs.scipy.org/doc/scipy/reference/generated/scipy.linalg.lu_factor.html)\n",
    "\n",
    "* We use Gauss elimination to solve linear systems and calculate inverses, and there are better ways to do these. "
   ]
  },
  {
   "cell_type": "markdown",
   "metadata": {
    "colab_type": "text",
    "id": "PXf-MIhBFEQU"
   },
   "source": [
    "## Solving a system of linear equations\n",
    "\n",
    "* There are excellent methods to solve a system of linear equations (https://docs.scipy.org/doc/numpy/reference/generated/numpy.linalg.solve.html) that is determined (square) and full rank\n",
    "* solve takes in the matrix $\\arr{A}$ and the vector $\\vec{b}$ in $\\arr{A}\\vec{x}=\\vec{b}$ and returns $\\vec{x}$\n"
   ]
  },
  {
   "cell_type": "markdown",
   "metadata": {
    "colab_type": "text",
    "id": "I8EWsLz5GJIq"
   },
   "source": [
    "### Example for determined system\n",
    "\n",
    "\n",
    "Let's try the example from above for the three-tank system\n",
    "\n",
    "\\begin{align*}\n",
    "\\begin{bmatrix}\n",
    "1&-1&0\\\\\n",
    "1&-3&2\\\\\n",
    "0&1&-2\n",
    "\\end{bmatrix}\n",
    "\\begin{bmatrix}\n",
    "h_1\\\\h_2\\\\h_3\n",
    "\\end{bmatrix}&=\\begin{bmatrix}\n",
    "10\\\\0\\\\0\n",
    "\\end{bmatrix}\n",
    "\\end{align*}"
   ]
  },
  {
   "cell_type": "code",
   "execution_count": 7,
   "metadata": {
    "colab": {
     "base_uri": "https://localhost:8080/",
     "height": 34
    },
    "colab_type": "code",
    "executionInfo": {
     "elapsed": 735,
     "status": "ok",
     "timestamp": 1579792543304,
     "user": {
      "displayName": "Zachary Ulissi",
      "photoUrl": "",
      "userId": "07633171379186475882"
     },
     "user_tz": 300
    },
    "id": "QBPRAo2FFahl",
    "outputId": "7aa94fe0-db32-46c3-81af-4038d67b5d79"
   },
   "outputs": [
    {
     "name": "stdout",
     "output_type": "stream",
     "text": [
      "[20. 10.  5.]\n"
     ]
    }
   ],
   "source": [
    "A = np.array([[1,-1,0],\n",
    "              [1,-3,2],\n",
    "              [0,1,-2]])\n",
    "b = np.array([10,0,0])\n",
    "\n",
    "#Same answer as above!\n",
    "print(np.linalg.solve(A,b))\n"
   ]
  },
  {
   "cell_type": "markdown",
   "metadata": {
    "colab_type": "text",
    "id": "YBVOMQ-MGBdP"
   },
   "source": [
    "This works really well for a determined system."
   ]
  },
  {
   "cell_type": "markdown",
   "metadata": {
    "colab_type": "text",
    "id": "0SPrxFUnGPyZ"
   },
   "source": [
    "### Example for an underdetermined system\n",
    "\n",
    "Let's do one of the examples from the previous class\n",
    "\n",
    "\\begin{align*}\n",
    "x_1+2x_2+x_3=1\\\\\n",
    "2x_1-x_2+x_2=2\\\\\n",
    "4x_1+3x_2+3x_3=4\\\\\n",
    "3x_1+x_2+2x_3=3\n",
    "\\end{align*}"
   ]
  },
  {
   "cell_type": "code",
   "execution_count": 8,
   "metadata": {
    "colab": {
     "base_uri": "https://localhost:8080/",
     "height": 384
    },
    "colab_type": "code",
    "executionInfo": {
     "elapsed": 1273,
     "status": "error",
     "timestamp": 1579792611577,
     "user": {
      "displayName": "Zachary Ulissi",
      "photoUrl": "",
      "userId": "07633171379186475882"
     },
     "user_tz": 300
    },
    "id": "3sMXkSG8Gq08",
    "outputId": "082433f2-73f1-4dc5-f347-a662931c93e9"
   },
   "outputs": [
    {
     "ename": "LinAlgError",
     "evalue": "Last 2 dimensions of the array must be square",
     "output_type": "error",
     "traceback": [
      "\u001b[0;31m---------------------------------------------------------------------------\u001b[0m",
      "\u001b[0;31mLinAlgError\u001b[0m                               Traceback (most recent call last)",
      "Cell \u001b[0;32mIn [8], line 9\u001b[0m\n\u001b[1;32m      5\u001b[0m b \u001b[38;5;241m=\u001b[39m np\u001b[38;5;241m.\u001b[39marray([\u001b[38;5;241m1\u001b[39m,\u001b[38;5;241m2\u001b[39m,\u001b[38;5;241m4\u001b[39m,\u001b[38;5;241m3\u001b[39m])\n\u001b[1;32m      8\u001b[0m \u001b[38;5;66;03m#Same answer!\u001b[39;00m\n\u001b[0;32m----> 9\u001b[0m \u001b[38;5;28mprint\u001b[39m(np\u001b[38;5;241m.\u001b[39mlinalg\u001b[38;5;241m.\u001b[39msolve(A,b))\n",
      "File \u001b[0;32m<__array_function__ internals>:180\u001b[0m, in \u001b[0;36msolve\u001b[0;34m(*args, **kwargs)\u001b[0m\n",
      "File \u001b[0;32m/opt/conda/lib/python3.9/site-packages/numpy/linalg/linalg.py:387\u001b[0m, in \u001b[0;36msolve\u001b[0;34m(a, b)\u001b[0m\n\u001b[1;32m    385\u001b[0m a, _ \u001b[38;5;241m=\u001b[39m _makearray(a)\n\u001b[1;32m    386\u001b[0m _assert_stacked_2d(a)\n\u001b[0;32m--> 387\u001b[0m \u001b[43m_assert_stacked_square\u001b[49m\u001b[43m(\u001b[49m\u001b[43ma\u001b[49m\u001b[43m)\u001b[49m\n\u001b[1;32m    388\u001b[0m b, wrap \u001b[38;5;241m=\u001b[39m _makearray(b)\n\u001b[1;32m    389\u001b[0m t, result_t \u001b[38;5;241m=\u001b[39m _commonType(a, b)\n",
      "File \u001b[0;32m/opt/conda/lib/python3.9/site-packages/numpy/linalg/linalg.py:204\u001b[0m, in \u001b[0;36m_assert_stacked_square\u001b[0;34m(*arrays)\u001b[0m\n\u001b[1;32m    202\u001b[0m m, n \u001b[38;5;241m=\u001b[39m a\u001b[38;5;241m.\u001b[39mshape[\u001b[38;5;241m-\u001b[39m\u001b[38;5;241m2\u001b[39m:]\n\u001b[1;32m    203\u001b[0m \u001b[38;5;28;01mif\u001b[39;00m m \u001b[38;5;241m!=\u001b[39m n:\n\u001b[0;32m--> 204\u001b[0m     \u001b[38;5;28;01mraise\u001b[39;00m LinAlgError(\u001b[38;5;124m'\u001b[39m\u001b[38;5;124mLast 2 dimensions of the array must be square\u001b[39m\u001b[38;5;124m'\u001b[39m)\n",
      "\u001b[0;31mLinAlgError\u001b[0m: Last 2 dimensions of the array must be square"
     ]
    }
   ],
   "source": [
    "A = np.array([[1,2,1],\n",
    "              [2,-1,1],\n",
    "              [4,3,3],\n",
    "              [3,1,2]])\n",
    "b = np.array([1,2,4,3])\n",
    "\n",
    "\n",
    "#Same answer!\n",
    "print(np.linalg.solve(A,b))\n"
   ]
  },
  {
   "cell_type": "markdown",
   "metadata": {
    "colab_type": "text",
    "id": "hdAvmij3HXAt"
   },
   "source": [
    "Notice that np.linalg.solve can't handle this case. We can still get a solution,with np.linalg.lstsq, which tries to find a vector that satisfies this. "
   ]
  },
  {
   "cell_type": "code",
   "execution_count": 0,
   "metadata": {
    "colab": {
     "base_uri": "https://localhost:8080/",
     "height": 142
    },
    "colab_type": "code",
    "executionInfo": {
     "elapsed": 969,
     "status": "ok",
     "timestamp": 1579792744012,
     "user": {
      "displayName": "Zachary Ulissi",
      "photoUrl": "",
      "userId": "07633171379186475882"
     },
     "user_tz": 300
    },
    "id": "bnAe0gxYHg7g",
    "outputId": "bfd3ed38-a0de-4db0-b916-34edd1e747a5"
   },
   "outputs": [
    {
     "name": "stdout",
     "output_type": "stream",
     "text": [
      "2\n",
      "[ 0.74285714 -0.08571429  0.42857143]\n",
      "[1. 2. 4. 3.]\n"
     ]
    },
    {
     "name": "stderr",
     "output_type": "stream",
     "text": [
      "/usr/local/lib/python3.6/dist-packages/ipykernel_launcher.py:1: FutureWarning: `rcond` parameter will change to the default of machine precision times ``max(M, N)`` where M and N are the input matrix dimensions.\n",
      "To use the future default and silence this warning we advise to pass `rcond=None`, to keep using the old, explicitly pass `rcond=-1`.\n",
      "  \"\"\"Entry point for launching an IPython kernel.\n"
     ]
    }
   ],
   "source": [
    "#Try least squares solution to this problem\n",
    "x, res, rank, s = np.linalg.lstsq(A,b)\n",
    "\n",
    "#First, print the rank of the matrix:\n",
    "print(rank)\n",
    "\n",
    "#print the solution\n",
    "print(x)\n",
    "\n",
    "#Check that this is a solution\n",
    "print(A@x)"
   ]
  },
  {
   "cell_type": "markdown",
   "metadata": {
    "colab_type": "text",
    "id": "SLPg5h0xIM2x"
   },
   "source": [
    "So, np.linalg.lstsq does give us **a solution** but not **all of the solutions**. There are other solutions that also would have worked as we saw. The simplest is [1,0,0] "
   ]
  },
  {
   "cell_type": "code",
   "execution_count": 0,
   "metadata": {
    "colab": {
     "base_uri": "https://localhost:8080/",
     "height": 34
    },
    "colab_type": "code",
    "executionInfo": {
     "elapsed": 2672,
     "status": "ok",
     "timestamp": 1579731116599,
     "user": {
      "displayName": "Zachary Ulissi",
      "photoUrl": "",
      "userId": "07633171379186475882"
     },
     "user_tz": 300
    },
    "id": "H_F0mtLOIFqD",
    "outputId": "b66a0e1d-520b-4d87-f337-1b94cc4028c4"
   },
   "outputs": [
    {
     "data": {
      "text/plain": [
       "array([1, 2, 4, 3])"
      ]
     },
     "execution_count": 10,
     "metadata": {
      "tags": []
     },
     "output_type": "execute_result"
    }
   ],
   "source": [
    "A@np.array([1,0,0])"
   ]
  },
  {
   "cell_type": "markdown",
   "metadata": {
    "colab_type": "text",
    "id": "3VkPDNB8DpB-"
   },
   "source": [
    "Once again, numerical methods can work well, but we have to be extra sharp to make sure we understand what they are doing!"
   ]
  },
  {
   "cell_type": "markdown",
   "metadata": {
    "colab_type": "text",
    "id": "BiyeQemHIqKL"
   },
   "source": [
    "# In-class assignment\n",
    "\n",
    "For the example we did at the beginning of class today (the three tank problem), set up the matrix A and vector b, check the rank of the matrix A, and then solve for the solution x. "
   ]
  },
  {
   "cell_type": "markdown",
   "metadata": {
    "colab_type": "text",
    "id": "WbrKpXv9UJS5"
   },
   "source": [
    "Laika count 40; check the np.linalg.matrix_rank example"
   ]
  },
  {
   "cell_type": "code",
   "execution_count": 0,
   "metadata": {
    "colab": {},
    "colab_type": "code",
    "id": "29jUQHTsBQD-"
   },
   "outputs": [],
   "source": []
  }
 ],
 "metadata": {
  "colab": {
   "collapsed_sections": [],
   "name": "4-rank-gauss-examples.ipynb",
   "provenance": []
  },
  "kernelspec": {
   "display_name": "Python 3",
   "name": "python3"
  },
  "language_info": {
   "codemirror_mode": {
    "name": "ipython",
    "version": 3
   },
   "file_extension": ".py",
   "mimetype": "text/x-python",
   "name": "python",
   "nbconvert_exporter": "python",
   "pygments_lexer": "ipython3",
   "version": "3.9.13"
  }
 },
 "nbformat": 4,
 "nbformat_minor": 0
}