{
 "cells": [
  {
   "cell_type": "markdown",
   "metadata": {
    "id": "gatzvzgLC4sf"
   },
   "source": [
    "{{ badge }}\n",
    "\n",
    "$$\\newcommand{\\arr}[1]{\\underline{\\underline{#1}}}$$    \n",
    "$$\\newcommand{\\vec}[1]{\\underline{#1}}$$   \n",
    "$$\\require{mhchem}$$\n"
   ]
  },
  {
   "cell_type": "markdown",
   "metadata": {
    "id": "B0SWB0UQoHgG"
   },
   "source": [
    "# Chemical Engineering example solved with Gauss elimination\n",
    "\n",
    "Three tanks of water are attached in series. All tanks have the same cross-sectional area $A$. The flow rate through the valves is a function of the height of the water in the tanks (equations below)\n",
    "\n",
    "<img src=\"https://docs.google.com/drawings/d/e/2PACX-1vRdeJhg87qBtUYmI28A_IHSRFfsJQUNfAiBTPTbcsiota93b2pL8MHzdpnXdhX21nG7nDAA1-mYLyh3/pub?w=632&amp;h=245\">\n",
    "\n",
    "\n"
   ]
  },
  {
   "cell_type": "markdown",
   "metadata": {
    "id": "18sLJ7j-ttBy"
   },
   "source": [
    "## Mass balances"
   ]
  },
  {
   "cell_type": "markdown",
   "metadata": {
    "id": "A1nAnmq2trA0"
   },
   "source": [
    "* Balance on tank 1 at steady state (accum=0)\n",
    "\\begin{align*}\n",
    "\\text{Accumulation}&=\\text{In}-\\text{Out}+\\text{Generation}\\\\\n",
    "0&=\\rho F_0-\\rho F_1\\\\\n",
    "0&=F_0-F_1=F_0-\\frac{h_1-h_2}{R_1}\\\\\n",
    "h_1-h_2&=R_1F_0\n",
    "\\end{align*}\n",
    "To prepare for the augmented matrix, we'll keep unknowns on the left hand side, and constants on the right hand side!\n",
    "* Balance on tank 2 at steady state (accum=0)\n",
    "\\begin{align*}\n",
    "\\text{Accumulation}&=\\text{In}-\\text{Out}+\\text{Generation}\\\\\n",
    "0&=\\rho\\frac{h_1-h_2}{R_1}-\\rho\\frac{h_2-h_3}{R_2}=R_2h_1-R_2h_2-R_1h_2+R_1h_3\\\\\n",
    "R_2h_1-(R_1+R_2)h_2+R_1h_3&=0\n",
    "\\end{align*}\n",
    "* Balance on tank 3 at steady state (accum=0)\n",
    "\\begin{align*}\n",
    "\\text{Accumulation}&=\\text{In}-\\text{Out}+\\text{Generation}\\\\\n",
    "0&=\\rho\\frac{h_2-h_3}{R_2}-\\rho\\frac{h_3}{R_3}=R_3h_2-R_3h_3-R_2h_3\\\\\n",
    "R_3h_2-(R_2+R_3)h_3&=0\n",
    "\\end{align*}\n",
    "\n",
    "\n"
   ]
  },
  {
   "cell_type": "markdown",
   "metadata": {
    "id": "7wPxnXvzu66O"
   },
   "source": [
    "## Convert to math problem equation"
   ]
  },
  {
   "cell_type": "markdown",
   "metadata": {
    "id": "sVY-Lc_Lu966"
   },
   "source": [
    "\\begin{align*}\n",
    "\\arr{A}\\vec{h}=\\vec{b}\\\\\n",
    "\\begin{bmatrix}\n",
    "1&-1&0\\\\\n",
    "R_2&-(R_1+R_2)&R_1\\\\\n",
    "0&R_3&-(R_2+R_3)\n",
    "\\end{bmatrix}\n",
    "\\begin{bmatrix}\n",
    "h_1\\\\h_2\\\\h_3\n",
    "\\end{bmatrix}&=\\begin{bmatrix}\n",
    "R_1F_0\\\\0\\\\0\n",
    "\\end{bmatrix}\n",
    "\\end{align*}"
   ]
  },
  {
   "cell_type": "markdown",
   "metadata": {
    "id": "VsJA-Wetznn_"
   },
   "source": [
    "## Solve system of equations\n",
    "\n",
    "For the situation where $A=5$ m$^2$, $F_0=5$ m$^3$/hr, $R_1=2$ hr/m$^2$, $R_2=1$ hr/m$^2$, $R_3=1$ hr/m$^2$, plug into matrix:\n",
    "\\begin{align*}\n",
    "\\begin{bmatrix}\n",
    "1&-1&0\\\\\n",
    "1&-3&2\\\\\n",
    "0&1&-2\n",
    "\\end{bmatrix}\n",
    "\\begin{bmatrix}\n",
    "h_1\\\\h_2\\\\h_3\n",
    "\\end{bmatrix}&=\\begin{bmatrix}\n",
    "10\\\\0\\\\0\n",
    "\\end{bmatrix}\n",
    "\\end{align*}\n",
    "\n",
    "\n"
   ]
  },
  {
   "cell_type": "markdown",
   "metadata": {
    "id": "dILRcLSYDUvL"
   },
   "source": [
    "\n",
    "* Form $[\\arr{A}|\\vec{b}]$\n",
    "\\begin{align*}\n",
    "\\left[\\begin{array}{rrr|r}\n",
    "1&-1&0&10\\\\\n",
    "1&-3&2&0\\\\\n",
    "0&1&-2&0\n",
    "\\end{array}\\right]\n",
    "\\end{align*}\n",
    "* $R_2=R_2-R_1$\n",
    "\\begin{align*}\n",
    "\\left[\\begin{array}{rrr|r}\n",
    "1&-1&0&10\\\\\n",
    "0&-2&2&-10\\\\\n",
    "0&1&-2&0\n",
    "\\end{array}\\right]\n",
    "\\end{align*}\n",
    "* $R_2=-R_2/2$\n",
    "\\begin{align*}\n",
    "\\left[\\begin{array}{rrr|r}\n",
    "1&-1&0&10\\\\\n",
    "0&1&-1&5\\\\\n",
    "0&1&-2&0\n",
    "\\end{array}\\right]\n",
    "\\end{align*}\n",
    "* $R_3=R_2-R_3$\n",
    "\\begin{align*}\n",
    "\\left[\\begin{array}{rrr|r}\n",
    "1&-1&0&10\\\\\n",
    "0&1&-1&5\\\\\n",
    "0&0&1&5\n",
    "\\end{array}\\right]\n",
    "\\end{align*}\n",
    "* $R_2=R_2+R_3$\n",
    "\\begin{align*}\n",
    "\\left[\\begin{array}{rrr|r}\n",
    "1&-1&0&10\\\\\n",
    "0&1&0&10\\\\\n",
    "0&0&1&5\n",
    "\\end{array}\\right]\n",
    "\\end{align*}\n",
    "* $R_1=R_1+R_2$\n",
    "\\begin{align*}\n",
    "\\left[\\begin{array}{rrr|r}\n",
    "1&0&0&20\\\\\n",
    "0&1&0&10\\\\\n",
    "0&0&1&5\n",
    "\\end{array}\\right]\n",
    "\\end{align*}\n",
    "\n",
    "Math solved!"
   ]
  },
  {
   "cell_type": "markdown",
   "metadata": {
    "id": "HDlBA-Jj1N3C"
   },
   "source": [
    "## Solve engineering problem"
   ]
  },
  {
   "cell_type": "markdown",
   "metadata": {
    "id": "jjgiOih01P73"
   },
   "source": [
    "* $h_1=20$. What units? Remember $h\\sim FR=(m^3/hr)(hr/m^2)=m$\n",
    "* $h_1=20$ m, $h_2=10$ m, $h_3=5$ m.\n",
    "\n",
    "Can this solution make physical sense? Yes!"
   ]
  },
  {
   "cell_type": "markdown",
   "metadata": {
    "id": "kJAtVhLiRmIT"
   },
   "source": [
    "# Rank of a matrix"
   ]
  },
  {
   "cell_type": "markdown",
   "metadata": {
    "id": "ql6aEAFIRmIX"
   },
   "source": [
    "* The rank of a matrix is the # of non-zero rows after gauss elimination\n",
    "* This tells us about the linear independent of the our system\n"
   ]
  },
  {
   "cell_type": "markdown",
   "metadata": {
    "id": "HMZ1I9srRmIb"
   },
   "source": [
    "## Example"
   ]
  },
  {
   "cell_type": "markdown",
   "metadata": {
    "id": "5QDVu16PRmId"
   },
   "source": [
    "\\begin{align*}\n",
    "\\arr{A}=\\begin{bmatrix}\n",
    "-3&1&-1\\\\\n",
    "1&0&1\\\\\n",
    "-2&2&2\n",
    "\\end{bmatrix}\n",
    "\\end{align*}\n",
    "* After Gauss elimination\n",
    "\\begin{align*}\n",
    "\\arr{A}=\\begin{bmatrix}\n",
    "1&0&1\\\\\n",
    "0&1&2\\\\\n",
    "0&0&0\n",
    "\\end{bmatrix}\n",
    "\\end{align*}\n",
    "*There are two nonzero rows, so rank$(\\arr{A})=2$. \n",
    "* This also means that only two of these equations are linearly independent!\n",
    "* The reduced echelon matrix tells us that $x_1+x_3$ and $x_2+2x_3$ form **a basis** of the system!\n",
    "\n",
    "Definition of a basis: I can form any row in the original equation as a linear combination of the basis vectors.\n",
    "* [-3,1,-1] can be formed from $c_1[1,0,1]+c_2[0,1,2]$\n"
   ]
  },
  {
   "cell_type": "markdown",
   "metadata": {
    "id": "Wkb_zLUQRmIf"
   },
   "source": [
    "## Example 2"
   ]
  },
  {
   "cell_type": "markdown",
   "metadata": {
    "id": "WzZCxNJIRmIg"
   },
   "source": [
    "Let's say we get an augment matrix after gauss elimination of:\n",
    "\\begin{align*}\n",
    "\\arr{\\tilde{A}}=\\begin{bmatrix}\n",
    "-3&1&-1&-3\\\\\n",
    "1&0&1&5\\\\\n",
    "-2&2&2&-17\n",
    "\\end{bmatrix}\n",
    "\\end{align*}\n",
    "* rank$(\\arr{\\tilde{A}})=3$\n",
    "* rank$(\\arr{A})=2$\n",
    "\n",
    "**No solution!!**\n",
    "\n",
    "For an m=n system like the 3x3 system here:\n",
    "* If rank$(\\arr{A})=$rank$(\\arr{\\tilde{A}})=n$, one unique solution!\n",
    "* If rank$(\\arr{A})<$rank$(\\arr{\\tilde{A}})=n$, no solution!"
   ]
  },
  {
   "cell_type": "markdown",
   "metadata": {
    "id": "PFE-cXpXzlCQ"
   },
   "source": [
    "# Inner (dot) products of vectors\n",
    "\n",
    "You've probably done dot products in your calculus class, but let's go ahead and review dot products.\n",
    "\n",
    "* This is a special case of matrix multiplication that occurs very often\n",
    "* If $\\vec{a}$ and $\\vec{b}$ are vectors, both with the same number of elements, then matrix multiplication yields a scalar (a 1x1 matrix) called the inner or dot  product\n",
    "\\begin{align*}\n",
    "\\vec{a}\\cdot\\vec{b}=\\vec{a}^T\\vec{b}=\\begin{bmatrix}a_1&\\dots&a_n\\end{bmatrix}\n",
    "\\begin{bmatrix}b_1\\\\\\vdots\\\\b_n\\end{bmatrix}=\\sum_{l=1}^n a_lb_l\n",
    "\\end{align*}\n",
    "\n",
    "## Example\n",
    "\n",
    "\\begin{align*}\n",
    "\\vec{a}=\\begin{bmatrix}\n",
    "4\\\\-1\\\\2\n",
    "\\end{bmatrix}, \\vec{b}=\\begin{bmatrix}\n",
    "1\\\\0\\\\3\n",
    "\\end{bmatrix}\\\\\n",
    "\\vec{a}\\cdot\\vec{b}=4(1)+-1(0)+2(3)=10\n",
    "\\end{align*}\n",
    "\n",
    "* Matrix multiplication is just a bunch of dot products. For example, in $\\arr{C}=\\arr{A}\\arr{B}$, every operation is just a dot product of a row and columnn vector"
   ]
  },
  {
   "cell_type": "markdown",
   "metadata": {
    "id": "gHzUgKXT2NnL"
   },
   "source": [
    "# Diagonal Matrices"
   ]
  },
  {
   "cell_type": "markdown",
   "metadata": {
    "id": "q508i0a93XW_"
   },
   "source": [
    "* Definition: Square matrices that have non-zero entries only on the diagonal. Any entry above of below the diagonal is zero\n",
    "* Example:\n",
    "\\begin{align*}\n",
    "\\begin{bmatrix}\n",
    "0.2&0&0\\\\0&5&0\\\\0&0&1\n",
    "\\end{bmatrix}\n",
    "\\end{align*}"
   ]
  },
  {
   "cell_type": "markdown",
   "metadata": {
    "id": "keaLzaiO4zcJ"
   },
   "source": [
    "## Identity (unit) matrix\n",
    "\n",
    "* A square matrix  $\\arr{I}$ where every element in the diagonal is 1, and all other elements are 0. \n",
    "\\begin{align*}\n",
    "\\arr{I}=\\begin{bmatrix}1&0\\\\0&1\\end{bmatrix} &&\\arr{I}=\\begin{bmatrix}1&0&0\\\\0&1&0\\\\0&0&1\\end{bmatrix} &&etc\n",
    "\\end{align*}\n",
    "* We can denote the size with $\\arr{I}_n$\n",
    "* **Special property!** Multiplying a matrix $\\arr{A}$ by the same size identity matrix $\\arr{I}$ yields back $\\arr{A}$!\n",
    "\\begin{align*}\n",
    "\\arr{I}\\arr{A}=\\arr{A}\\arr{I}=\\begin{bmatrix}\n",
    "a_{11}&a_{12}\\\\\n",
    "a_{21}&a_{22}\n",
    "\\end{bmatrix}\\begin{bmatrix}\n",
    "1&0\\\\0&1\n",
    "\\end{bmatrix}=\\begin{bmatrix}\n",
    "a_{11}&a_{12}\\\\\n",
    "a_{21}&a_{22}\n",
    "\\end{bmatrix}\n",
    "\\end{align*}"
   ]
  },
  {
   "cell_type": "markdown",
   "metadata": {
    "id": "GnZdykSx3ipv"
   },
   "source": [
    "## Scalar matrix\n",
    "\n",
    "* All non-zero entries of a diagonal matrix $\\arr{S}$ are equal to  some number $c$. In other words, $\\arr{S}=c\\arr{I}$\n",
    "\\begin{align*}\n",
    "\\arr{S}=\\begin{bmatrix} c&0\\\\0&c\\end{bmatrix} &&e.g. && \\arr{S}=\\begin{bmatrix} 3&0\\\\0&3\\end{bmatrix}\n",
    "\\end{align*}\n",
    "* From the unit identity info above, $\\arr{S}\\arr{A}=c\\arr{I}\\arr{A}=\\arr{A}\\arr{S}=\\arr{A}c\\arr{I}=c\\arr{A}$"
   ]
  },
  {
   "cell_type": "markdown",
   "metadata": {
    "id": "7nxD2ndi2Ppr"
   },
   "source": [
    "# Matrix inversion\n",
    "\n",
    "* A real number $a$ has a multiplicative inverse if there exists a $b$ such that $ab=1$\n",
    "* Any non-zero $a$ has a multiplicative inverse $b=1/a$.\n",
    "\n",
    "We can generalize this idea to matrices!\n",
    "\n",
    "* A square matrix $\\arr{A}$ is **invertible** or **non-singular** if there is a matrix $\\arr{B}$ such that\n",
    "\\begin{align*}\n",
    "\\arr{A}\\arr{B}=\\arr{B}\\arr{A}=\\arr{I}\n",
    "\\end{align*}\n",
    "  * Ex: $\\arr{A}=\\begin{bmatrix}2&4\\\\3&1\\end{bmatrix}$ and $\\arr{B}=\\begin{bmatrix}-1/10&2/5\\\\3/10&-1/5\\end{bmatrix}$ are inverses of each other because $\\arr{A}\\arr{B}=\\arr{B}\\arr{A}=\\arr{I}$\n",
    "* We say $\\arr{B}$ is the multiplicative inverse of $\\arr{A}$\n",
    "* If $\\arr{B}$ and $\\arr{C}$ are both inverses of $\\arr{A}$, then \n",
    "\\begin{align*}\n",
    "\\arr{B}=\\arr{B}\\arr{I}=\\arr{B}(\\arr{A}\\arr{C})=(\\arr{B}\\arr{A})\\arr{C}=\\arr{I}\\arr{C}=\\arr{C} \\\\\\therefore \\arr{B}=\\arr{C} \\text{ and $\\arr{A}$ has at most one inverse}\n",
    "\\end{align*}\n",
    "* The inverse of $\\arr{A}$ is denoted $\\arr{A}^{-1}$\n",
    "* A square matrix is called **singular** if it doesn't have an inverse\n",
    "\n",
    "\n",
    "\n"
   ]
  },
  {
   "cell_type": "markdown",
   "metadata": {
    "id": "8GfQYZmK9xUQ"
   },
   "source": [
    "## Computing an inverse"
   ]
  },
  {
   "cell_type": "markdown",
   "metadata": {
    "id": "rmTszRuj9z5x"
   },
   "source": [
    "We already have the tools to compute the inverse!! \n",
    "\n",
    "* For a square matrix $\\arr{A}$, we will augment it with the identity matrix\n",
    "* We we will use Gauss elimination to convert $\\arr{A}$ to the identity matrix\n",
    "* The augmented matrix is then the inverse! \n",
    "* Magic! (not really)"
   ]
  },
  {
   "cell_type": "markdown",
   "metadata": {
    "id": "t6A8ZsHL-KdR"
   },
   "source": [
    "### Example\n",
    "\n",
    "Find $\\arr{A}^{-1}$ for $\\arr{A}=\\begin{bmatrix}2&-6\\\\4&-2\\end{bmatrix}$\n"
   ]
  },
  {
   "cell_type": "markdown",
   "metadata": {
    "id": "Vi3y0_TP-M_h"
   },
   "source": [
    "\n",
    "* Form augmented matrix\n",
    "\\begin{align*}\n",
    "\\left[\\begin{array}{rr|rr}\n",
    "2&-6&1&0\\\\\n",
    "4&-2&0&1\n",
    "\\end{array}\\right]\n",
    "\\end{align*}\n",
    "* $R_1=R_1/2$\n",
    "\\begin{align*}\n",
    "\\left[\\begin{array}{rr|rr}\n",
    "1&-3&1/2&0\\\\\n",
    "4&-2&0&1\n",
    "\\end{array}\\right]\n",
    "\\end{align*}\n",
    "* $R_2=R_2-4R_1$\n",
    "\\begin{align*}\n",
    "\\left[\\begin{array}{rr|rr}\n",
    "1&-3&1/2&0\\\\\n",
    "0&10&-2&1\n",
    "\\end{array}\\right]\n",
    "\\end{align*}\n",
    "* $R_2=R_2/10$\n",
    "\\begin{align*}\n",
    "\\left[\\begin{array}{rr|rr}\n",
    "1&-3&1/2&0\\\\\n",
    "0&1&-1/5&1/10\n",
    "\\end{array}\\right]\n",
    "\\end{align*}\n",
    "* $R_1=R_1+3R_2$\n",
    "\\begin{align*}\n",
    "\\left[\\begin{array}{rr|rr}\n",
    "1&0&-1/10&3/10\\\\\n",
    "0&1&-1/5&1/10\n",
    "\\end{array}\\right]\n",
    "\\end{align*}\n",
    "\n",
    "* $\\arr{A}^{-1}=\\begin{bmatrix}-1/10&3/10\\\\\n",
    "-1/5&1/10\n",
    "\\end{bmatrix}$\n",
    "* Quick check!\n",
    "\\begin{align*}\n",
    "\\arr{A}\\arr{A}^{-1}=\\arr{I}=\\arr{A}^{-1}\\arr{A}\n",
    "\\end{align*}\n",
    "\n",
    "Let's do this one with python!\n"
   ]
  },
  {
   "cell_type": "code",
   "execution_count": 1,
   "metadata": {
    "colab": {
     "base_uri": "https://localhost:8080/"
    },
    "executionInfo": {
     "elapsed": 295,
     "status": "ok",
     "timestamp": 1643721341678,
     "user": {
      "displayName": "Zachary Ulissi",
      "photoUrl": "https://lh3.googleusercontent.com/a/default-user=s64",
      "userId": "07633171379186475882"
     },
     "user_tz": 300
    },
    "id": "sidcUBea_fOD",
    "outputId": "5e15e06a-275c-4d26-efaf-23eac4e15ff6"
   },
   "outputs": [
    {
     "name": "stdout",
     "output_type": "stream",
     "text": [
      "[[ 1.00000000e+00 -5.55111512e-17]\n",
      " [ 0.00000000e+00  1.00000000e+00]]\n",
      "[[1.00000000e+00 1.11022302e-16]\n",
      " [0.00000000e+00 1.00000000e+00]]\n"
     ]
    }
   ],
   "source": [
    "import numpy as np\n",
    "\n",
    "#Define A and the inverse of A\n",
    "A = np.array([[2,-6],[4,-2]])\n",
    "Ainv = np.array([[-1/10,3/10],[-1/5,1/10]])\n",
    "\n",
    "#Note that this looks very good, but some residual rounding errors in the \n",
    "# computation has one element VERY close to zero but not quite right. For \n",
    "# practical purposes, anything less than about 10^-8 is probably the same \n",
    "# thing as zero in numerical methods\n",
    "print(A@Ainv)\n",
    "\n",
    "#Check Ainv*A\n",
    "print(Ainv@A)\n"
   ]
  },
  {
   "cell_type": "markdown",
   "metadata": {
    "id": "h_RNlwqU89D8"
   },
   "source": [
    "# Rank, inverses, and row echelon form, and solving systems of linear equations in numpy"
   ]
  },
  {
   "cell_type": "markdown",
   "metadata": {
    "id": "Yk2Y_2VXA6WX"
   },
   "source": [
    "## Rank of a matrix"
   ]
  },
  {
   "cell_type": "markdown",
   "metadata": {
    "id": "WKXinU-jBgyE"
   },
   "source": [
    "The `np.linalg.matrix_rank` function calculates the matrix rank of A. For the example above:"
   ]
  },
  {
   "cell_type": "code",
   "execution_count": 2,
   "metadata": {
    "colab": {
     "base_uri": "https://localhost:8080/"
    },
    "executionInfo": {
     "elapsed": 20,
     "status": "ok",
     "timestamp": 1643721341679,
     "user": {
      "displayName": "Zachary Ulissi",
      "photoUrl": "https://lh3.googleusercontent.com/a/default-user=s64",
      "userId": "07633171379186475882"
     },
     "user_tz": 300
    },
    "id": "qk94Jxpj8Uml",
    "outputId": "e9fc7b20-c8c5-44e5-995c-196ec5da6006"
   },
   "outputs": [
    {
     "name": "stdout",
     "output_type": "stream",
     "text": [
      "[[-3  1 -1]\n",
      " [ 1  0  1]\n",
      " [-2  2  2]]\n",
      "The rank of A is 2\n"
     ]
    }
   ],
   "source": [
    "A = np.array([[-3,1,-1],[1,0,1],[-2,2,2]])\n",
    "print(A)\n",
    "\n",
    "# We can use np.linalg.matrix_rank(A)\n",
    "print('The rank of A is %d'%np.linalg.matrix_rank(A))"
   ]
  },
  {
   "cell_type": "markdown",
   "metadata": {
    "id": "U5KDp7lC1bVs"
   },
   "source": [
    "Let's adjust the matrix and see if the rank changes ($a_{22}=2$ to $a_{22}=3$)"
   ]
  },
  {
   "cell_type": "code",
   "execution_count": 3,
   "metadata": {
    "colab": {
     "base_uri": "https://localhost:8080/"
    },
    "executionInfo": {
     "elapsed": 18,
     "status": "ok",
     "timestamp": 1643721341679,
     "user": {
      "displayName": "Zachary Ulissi",
      "photoUrl": "https://lh3.googleusercontent.com/a/default-user=s64",
      "userId": "07633171379186475882"
     },
     "user_tz": 300
    },
    "id": "bnzSI2vp0brp",
    "outputId": "af7c2c6e-0bad-4b5f-9c17-00c057743ca8"
   },
   "outputs": [
    {
     "name": "stdout",
     "output_type": "stream",
     "text": [
      "The rank of A is 3\n"
     ]
    }
   ],
   "source": [
    "A = np.array([[-3,1,-1],[1,0,1],[-2,2,3]])\n",
    "\n",
    "# Calculate the matrix rank of A\n",
    "print('The rank of A is %d'%np.linalg.matrix_rank(A))"
   ]
  },
  {
   "cell_type": "markdown",
   "metadata": {
    "id": "s6hpRcTw1o5_"
   },
   "source": [
    "Confusingly, np.rank(A) **is not** the matrix rank of A."
   ]
  },
  {
   "cell_type": "markdown",
   "metadata": {
    "id": "XeU5cZBCAkdW"
   },
   "source": [
    "## Inverse of a matrix\n",
    "\n",
    "Inverses are also easy with `np.linalg.inv`"
   ]
  },
  {
   "cell_type": "code",
   "execution_count": 4,
   "metadata": {
    "colab": {
     "base_uri": "https://localhost:8080/"
    },
    "executionInfo": {
     "elapsed": 16,
     "status": "ok",
     "timestamp": 1643721341680,
     "user": {
      "displayName": "Zachary Ulissi",
      "photoUrl": "https://lh3.googleusercontent.com/a/default-user=s64",
      "userId": "07633171379186475882"
     },
     "user_tz": 300
    },
    "id": "gVy_GFeuB7Di",
    "outputId": "655c065b-8406-4960-d4e6-9b72791f5047"
   },
   "outputs": [
    {
     "name": "stdout",
     "output_type": "stream",
     "text": [
      "[[-0.1  0.3]\n",
      " [-0.2  0.1]]\n"
     ]
    }
   ],
   "source": [
    "A = np.array([[2,-6],[4,-2]])\n",
    "\n",
    "#Same as the answer we got above!\n",
    "print(np.linalg.inv(A))"
   ]
  },
  {
   "cell_type": "markdown",
   "metadata": {
    "id": "id_DiyayCOOZ"
   },
   "source": [
    "We can ask numpy what the inverse of a singular matrix is, and it will give us an answer, but that answer is garbage."
   ]
  },
  {
   "cell_type": "code",
   "execution_count": 5,
   "metadata": {
    "colab": {
     "base_uri": "https://localhost:8080/"
    },
    "executionInfo": {
     "elapsed": 190,
     "status": "ok",
     "timestamp": 1643721341859,
     "user": {
      "displayName": "Zachary Ulissi",
      "photoUrl": "https://lh3.googleusercontent.com/a/default-user=s64",
      "userId": "07633171379186475882"
     },
     "user_tz": 300
    },
    "id": "rETGPkm9CHNZ",
    "outputId": "afc4f239-a1b6-4d35-ac94-774c99e521ab"
   },
   "outputs": [
    {
     "name": "stdout",
     "output_type": "stream",
     "text": [
      "[[-2.25179981e+15 -4.50359963e+15  1.12589991e+15]\n",
      " [-4.50359963e+15 -9.00719925e+15  2.25179981e+15]\n",
      " [ 2.25179981e+15  4.50359963e+15 -1.12589991e+15]]\n"
     ]
    },
    {
     "data": {
      "text/plain": [
       "array([[ 1.  ,  0.  ,  1.  ],\n",
       "       [-2.  ,  1.  ,  1.  ],\n",
       "       [ 0.5 ,  0.25,  0.5 ]])"
      ]
     },
     "execution_count": 5,
     "metadata": {},
     "output_type": "execute_result"
    }
   ],
   "source": [
    "#Try to get the inverse of a singular matrix\n",
    "A = np.array([[-3,1,-1],[1,0,1],[-2,2,2]])\n",
    "\n",
    "#Same as the answer we got above!\n",
    "Ainv = np.linalg.inv(A) \n",
    "print(Ainv)\n",
    "\n",
    "#Check; notice that Ainv*A is not the identity! This is a problem with numerical\n",
    "# methods; we have to be on top of our game all the time!\n",
    "Ainv@A"
   ]
  },
  {
   "cell_type": "markdown",
   "metadata": {
    "id": "WkqPew09B-gH"
   },
   "source": [
    "## Gauss elimination\n",
    "\n",
    "* There's not a good method in numpy/scipy to do Gauss elimination with numerical methods. You can do it you use symbolic math packages (sort of like mathematica, but in python), but these largely defeat the point of using numerical methods! \n",
    "\n",
    "* The closest thing you can do is get a matrix into upper diagonal form, which is echelon form, but this only works for square matrics and isn't really helpful (see https://docs.scipy.org/doc/scipy/reference/generated/scipy.linalg.lu_factor.html)\n",
    "\n",
    "* We use Gauss elimination to solve linear systems and calculate inverses, and there are better ways to do these. \n",
    "\n",
    "* You can use other packages like sympy (symbolic python) which is a little closer to how a software package like mathematica works. It's helpful if you really want RREF, but not how I would actually solve a large system of equations in real life. [sympy RREF docs](https://docs.sympy.org/latest/tutorial/matrices.html#rref)"
   ]
  },
  {
   "cell_type": "code",
   "execution_count": 6,
   "metadata": {
    "colab": {
     "base_uri": "https://localhost:8080/",
     "height": 78
    },
    "executionInfo": {
     "elapsed": 1283,
     "status": "ok",
     "timestamp": 1643721343136,
     "user": {
      "displayName": "Zachary Ulissi",
      "photoUrl": "https://lh3.googleusercontent.com/a/default-user=s64",
      "userId": "07633171379186475882"
     },
     "user_tz": 300
    },
    "id": "RODW0KvPRk4o",
    "outputId": "3c79e84e-55f0-4742-f2b4-bde323ff4224"
   },
   "outputs": [
    {
     "data": {
      "text/latex": [
       "$\\displaystyle \\left[\\begin{matrix}1 & 0 & 1\\\\0 & 1 & 2\\\\0 & 0 & 0\\end{matrix}\\right]$"
      ],
      "text/plain": [
       "Matrix([\n",
       "[1, 0, 1],\n",
       "[0, 1, 2],\n",
       "[0, 0, 0]])"
      ]
     },
     "execution_count": 6,
     "metadata": {},
     "output_type": "execute_result"
    }
   ],
   "source": [
    "import sympy as sp\n",
    "\n",
    "# Example from earlier in lecture\n",
    "A = [[-3, 1, -1],\n",
    "[1,0,1],\n",
    "[-2,2,2]]\n",
    "\n",
    "# Make a sympy matrix\n",
    "m = sp.Matrix(A)\n",
    "m_rref, pivots = m.rref() # Compute reduced row echelon form \n",
    "\n",
    "#notice the pretty latex printing!\n",
    "m_rref"
   ]
  },
  {
   "cell_type": "markdown",
   "metadata": {
    "id": "PXf-MIhBFEQU"
   },
   "source": [
    "## Solving a system of linear equations\n",
    "\n",
    "* There are excellent methods to solve a system of linear equations (https://docs.scipy.org/doc/numpy/reference/generated/numpy.linalg.solve.html) that is determined (square) and full rank\n",
    "* solve takes in the matrix $\\arr{A}$ and the vector $\\vec{b}$ in $\\arr{A}\\vec{x}=\\vec{b}$ and returns $\\vec{x}$\n"
   ]
  },
  {
   "cell_type": "markdown",
   "metadata": {
    "id": "I8EWsLz5GJIq"
   },
   "source": [
    "### Example for determined system\n",
    "\n",
    "\n",
    "Let's try the example from above for the three-tank system\n",
    "\n",
    "\\begin{align*}\n",
    "\\begin{bmatrix}\n",
    "1&-1&0\\\\\n",
    "1&-3&2\\\\\n",
    "0&1&-2\n",
    "\\end{bmatrix}\n",
    "\\begin{bmatrix}\n",
    "h_1\\\\h_2\\\\h_3\n",
    "\\end{bmatrix}&=\\begin{bmatrix}\n",
    "10\\\\0\\\\0\n",
    "\\end{bmatrix}\n",
    "\\end{align*}"
   ]
  },
  {
   "cell_type": "code",
   "execution_count": 7,
   "metadata": {
    "colab": {
     "base_uri": "https://localhost:8080/"
    },
    "executionInfo": {
     "elapsed": 30,
     "status": "ok",
     "timestamp": 1643721343142,
     "user": {
      "displayName": "Zachary Ulissi",
      "photoUrl": "https://lh3.googleusercontent.com/a/default-user=s64",
      "userId": "07633171379186475882"
     },
     "user_tz": 300
    },
    "id": "QBPRAo2FFahl",
    "outputId": "adc213ff-aefe-46a6-c634-60116582f998"
   },
   "outputs": [
    {
     "name": "stdout",
     "output_type": "stream",
     "text": [
      "[20. 10.  5.]\n"
     ]
    }
   ],
   "source": [
    "A = np.array([[1,-1,0],\n",
    "              [1,-3,2],\n",
    "              [0,1,-2]])\n",
    "b = np.array([10,0,0])\n",
    "\n",
    "#Same answer as above!\n",
    "print(np.linalg.solve(A,b))\n"
   ]
  },
  {
   "cell_type": "markdown",
   "metadata": {
    "id": "YBVOMQ-MGBdP"
   },
   "source": [
    "This works really well for a determined system."
   ]
  },
  {
   "cell_type": "markdown",
   "metadata": {
    "id": "0SPrxFUnGPyZ"
   },
   "source": [
    "### Example for an underdetermined system\n",
    "\n",
    "Let's do one of the examples from lecture 3!\n",
    "\n",
    "\\begin{align*}\n",
    "x_1+2x_2+x_3=1\\\\\n",
    "2x_1-x_2+x_2=2\\\\\n",
    "4x_1+3x_2+3x_3=4\\\\\n",
    "3x_1+x_2+2x_3=3\n",
    "\\end{align*}"
   ]
  },
  {
   "cell_type": "code",
   "execution_count": 9,
   "metadata": {
    "colab": {
     "base_uri": "https://localhost:8080/",
     "height": 390
    },
    "executionInfo": {
     "elapsed": 150,
     "status": "error",
     "timestamp": 1643721496814,
     "user": {
      "displayName": "Zachary Ulissi",
      "photoUrl": "https://lh3.googleusercontent.com/a/default-user=s64",
      "userId": "07633171379186475882"
     },
     "user_tz": 300
    },
    "id": "3sMXkSG8Gq08",
    "outputId": "d9107e68-a05c-46a9-eefa-d7dc0ff35e77"
   },
   "outputs": [
    {
     "ename": "LinAlgError",
     "evalue": "ignored",
     "output_type": "error",
     "traceback": [
      "\u001b[0;31m---------------------------------------------------------------------------\u001b[0m",
      "\u001b[0;31mLinAlgError\u001b[0m                               Traceback (most recent call last)",
      "\u001b[0;32m<ipython-input-9-fb72b6805d72>\u001b[0m in \u001b[0;36m<module>\u001b[0;34m()\u001b[0m\n\u001b[1;32m      7\u001b[0m \u001b[0;34m\u001b[0m\u001b[0m\n\u001b[1;32m      8\u001b[0m \u001b[0;31m#Same answer!\u001b[0m\u001b[0;34m\u001b[0m\u001b[0;34m\u001b[0m\u001b[0;34m\u001b[0m\u001b[0m\n\u001b[0;32m----> 9\u001b[0;31m \u001b[0mprint\u001b[0m\u001b[0;34m(\u001b[0m\u001b[0mnp\u001b[0m\u001b[0;34m.\u001b[0m\u001b[0mlinalg\u001b[0m\u001b[0;34m.\u001b[0m\u001b[0msolve\u001b[0m\u001b[0;34m(\u001b[0m\u001b[0mA\u001b[0m\u001b[0;34m,\u001b[0m\u001b[0mb\u001b[0m\u001b[0;34m)\u001b[0m\u001b[0;34m)\u001b[0m\u001b[0;34m\u001b[0m\u001b[0;34m\u001b[0m\u001b[0m\n\u001b[0m",
      "\u001b[0;32m<__array_function__ internals>\u001b[0m in \u001b[0;36msolve\u001b[0;34m(*args, **kwargs)\u001b[0m\n",
      "\u001b[0;32m/usr/local/lib/python3.7/dist-packages/numpy/linalg/linalg.py\u001b[0m in \u001b[0;36msolve\u001b[0;34m(a, b)\u001b[0m\n\u001b[1;32m    379\u001b[0m     \u001b[0ma\u001b[0m\u001b[0;34m,\u001b[0m \u001b[0m_\u001b[0m \u001b[0;34m=\u001b[0m \u001b[0m_makearray\u001b[0m\u001b[0;34m(\u001b[0m\u001b[0ma\u001b[0m\u001b[0;34m)\u001b[0m\u001b[0;34m\u001b[0m\u001b[0;34m\u001b[0m\u001b[0m\n\u001b[1;32m    380\u001b[0m     \u001b[0m_assert_stacked_2d\u001b[0m\u001b[0;34m(\u001b[0m\u001b[0ma\u001b[0m\u001b[0;34m)\u001b[0m\u001b[0;34m\u001b[0m\u001b[0;34m\u001b[0m\u001b[0m\n\u001b[0;32m--> 381\u001b[0;31m     \u001b[0m_assert_stacked_square\u001b[0m\u001b[0;34m(\u001b[0m\u001b[0ma\u001b[0m\u001b[0;34m)\u001b[0m\u001b[0;34m\u001b[0m\u001b[0;34m\u001b[0m\u001b[0m\n\u001b[0m\u001b[1;32m    382\u001b[0m     \u001b[0mb\u001b[0m\u001b[0;34m,\u001b[0m \u001b[0mwrap\u001b[0m \u001b[0;34m=\u001b[0m \u001b[0m_makearray\u001b[0m\u001b[0;34m(\u001b[0m\u001b[0mb\u001b[0m\u001b[0;34m)\u001b[0m\u001b[0;34m\u001b[0m\u001b[0;34m\u001b[0m\u001b[0m\n\u001b[1;32m    383\u001b[0m     \u001b[0mt\u001b[0m\u001b[0;34m,\u001b[0m \u001b[0mresult_t\u001b[0m \u001b[0;34m=\u001b[0m \u001b[0m_commonType\u001b[0m\u001b[0;34m(\u001b[0m\u001b[0ma\u001b[0m\u001b[0;34m,\u001b[0m \u001b[0mb\u001b[0m\u001b[0;34m)\u001b[0m\u001b[0;34m\u001b[0m\u001b[0;34m\u001b[0m\u001b[0m\n",
      "\u001b[0;32m/usr/local/lib/python3.7/dist-packages/numpy/linalg/linalg.py\u001b[0m in \u001b[0;36m_assert_stacked_square\u001b[0;34m(*arrays)\u001b[0m\n\u001b[1;32m    202\u001b[0m         \u001b[0mm\u001b[0m\u001b[0;34m,\u001b[0m \u001b[0mn\u001b[0m \u001b[0;34m=\u001b[0m \u001b[0ma\u001b[0m\u001b[0;34m.\u001b[0m\u001b[0mshape\u001b[0m\u001b[0;34m[\u001b[0m\u001b[0;34m-\u001b[0m\u001b[0;36m2\u001b[0m\u001b[0;34m:\u001b[0m\u001b[0;34m]\u001b[0m\u001b[0;34m\u001b[0m\u001b[0;34m\u001b[0m\u001b[0m\n\u001b[1;32m    203\u001b[0m         \u001b[0;32mif\u001b[0m \u001b[0mm\u001b[0m \u001b[0;34m!=\u001b[0m \u001b[0mn\u001b[0m\u001b[0;34m:\u001b[0m\u001b[0;34m\u001b[0m\u001b[0;34m\u001b[0m\u001b[0m\n\u001b[0;32m--> 204\u001b[0;31m             \u001b[0;32mraise\u001b[0m \u001b[0mLinAlgError\u001b[0m\u001b[0;34m(\u001b[0m\u001b[0;34m'Last 2 dimensions of the array must be square'\u001b[0m\u001b[0;34m)\u001b[0m\u001b[0;34m\u001b[0m\u001b[0;34m\u001b[0m\u001b[0m\n\u001b[0m\u001b[1;32m    205\u001b[0m \u001b[0;34m\u001b[0m\u001b[0m\n\u001b[1;32m    206\u001b[0m \u001b[0;32mdef\u001b[0m \u001b[0m_assert_finite\u001b[0m\u001b[0;34m(\u001b[0m\u001b[0;34m*\u001b[0m\u001b[0marrays\u001b[0m\u001b[0;34m)\u001b[0m\u001b[0;34m:\u001b[0m\u001b[0;34m\u001b[0m\u001b[0;34m\u001b[0m\u001b[0m\n",
      "\u001b[0;31mLinAlgError\u001b[0m: Last 2 dimensions of the array must be square"
     ]
    }
   ],
   "source": [
    "A = np.array([[1,2,1],\n",
    "              [2,-1,1],\n",
    "              [4,3,3],\n",
    "              [3,1,2]])\n",
    "b = np.array([1,2,4,3])\n",
    "\n",
    "\n",
    "#Same answer!\n",
    "print(np.linalg.solve(A,b))\n"
   ]
  },
  {
   "cell_type": "markdown",
   "metadata": {
    "id": "hdAvmij3HXAt"
   },
   "source": [
    "Notice that np.linalg.solve can't handle this case. We can still get a solution,with np.linalg.lstsq, which tries to find a vector that satisfies this. "
   ]
  },
  {
   "cell_type": "code",
   "execution_count": 16,
   "metadata": {
    "colab": {
     "base_uri": "https://localhost:8080/"
    },
    "executionInfo": {
     "elapsed": 137,
     "status": "ok",
     "timestamp": 1643722102080,
     "user": {
      "displayName": "Zachary Ulissi",
      "photoUrl": "https://lh3.googleusercontent.com/a/default-user=s64",
      "userId": "07633171379186475882"
     },
     "user_tz": 300
    },
    "id": "bnAe0gxYHg7g",
    "outputId": "4e7bd108-3374-493a-cb27-d939c9f5b3c2"
   },
   "outputs": [
    {
     "name": "stdout",
     "output_type": "stream",
     "text": [
      "3\n",
      "[ 1.00000000e+00 -3.61767652e-16  5.06142841e-17]\n",
      "[4.46770451e-31]\n",
      "[1. 2. 4. 3.]\n"
     ]
    },
    {
     "name": "stderr",
     "output_type": "stream",
     "text": [
      "/usr/local/lib/python3.7/dist-packages/ipykernel_launcher.py:2: FutureWarning: `rcond` parameter will change to the default of machine precision times ``max(M, N)`` where M and N are the input matrix dimensions.\n",
      "To use the future default and silence this warning we advise to pass `rcond=None`, to keep using the old, explicitly pass `rcond=-1`.\n",
      "  \n"
     ]
    }
   ],
   "source": [
    "#Try least squares solution to this problem\n",
    "x, res, rank, s = np.linalg.lstsq(A,b)\n",
    "\n",
    "#First, print the rank of the matrix:\n",
    "print(rank)\n",
    "\n",
    "#print the solution\n",
    "print(x)\n",
    "\n",
    "# print the residual\n",
    "print(res)\n",
    "\n",
    "#Check that this is a solution\n",
    "print(A@x)"
   ]
  },
  {
   "cell_type": "markdown",
   "metadata": {
    "id": "SLPg5h0xIM2x"
   },
   "source": [
    "So, np.linalg.lstsq does give us **a solution** but not **all of the solutions**. There are other solutions that also would have worked as we saw. The simplest is [1,0,0] "
   ]
  },
  {
   "cell_type": "code",
   "execution_count": 17,
   "metadata": {
    "colab": {
     "base_uri": "https://localhost:8080/"
    },
    "executionInfo": {
     "elapsed": 205,
     "status": "ok",
     "timestamp": 1643722260042,
     "user": {
      "displayName": "Zachary Ulissi",
      "photoUrl": "https://lh3.googleusercontent.com/a/default-user=s64",
      "userId": "07633171379186475882"
     },
     "user_tz": 300
    },
    "id": "H_F0mtLOIFqD",
    "outputId": "b3f6db7e-ee10-4660-a5e2-e3dc87545528"
   },
   "outputs": [
    {
     "data": {
      "text/plain": [
       "array([1, 2, 4, 3])"
      ]
     },
     "execution_count": 17,
     "metadata": {},
     "output_type": "execute_result"
    }
   ],
   "source": [
    "A@np.array([1,0,0])"
   ]
  },
  {
   "cell_type": "markdown",
   "metadata": {
    "id": "3VkPDNB8DpB-"
   },
   "source": [
    "Once again, numerical methods can work well, but we have to be extra sharp to make sure we understand what they are doing. It's on you if you use them and they don't do quite what you were hoping for!"
   ]
  },
  {
   "cell_type": "code",
   "execution_count": null,
   "metadata": {
    "executionInfo": {
     "elapsed": 183,
     "status": "aborted",
     "timestamp": 1643721343723,
     "user": {
      "displayName": "Zachary Ulissi",
      "photoUrl": "https://lh3.googleusercontent.com/a/default-user=s64",
      "userId": "07633171379186475882"
     },
     "user_tz": 300
    },
    "id": "k6E5XlbYGHYG"
   },
   "outputs": [],
   "source": []
  }
 ],
 "metadata": {
  "colab": {
   "collapsed_sections": [
    "18sLJ7j-ttBy",
    "VsJA-Wetznn_"
   ],
   "name": "4-rank-gauss-examples.ipynb",
   "provenance": []
  },
  "kernelspec": {
   "display_name": "Python 3",
   "name": "python3"
  }
 },
 "nbformat": 4,
 "nbformat_minor": 0
}