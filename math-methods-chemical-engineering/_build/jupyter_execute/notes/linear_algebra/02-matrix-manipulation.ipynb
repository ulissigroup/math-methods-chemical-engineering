{
 "cells": [
  {
   "cell_type": "markdown",
   "metadata": {
    "badge": true,
    "branch": "master",
    "colab_type": "text",
    "comment": "This badge cell was added by colab-badge-action",
    "id": "gatzvzgLC4sf",
    "nb_path": "lecture_notes/02-matrix-manipulation.ipynb",
    "repo_name": "ulissigroup/math-methods-chemical-engineering"
   },
   "source": [
    "<a href=\"https://colab.research.google.com/github/ulissigroup/math-methods-chemical-engineering/blob/master/lecture_notes/02-matrix-manipulation.ipynb\" target=\"_parent\"><img src=\"https://colab.research.google.com/assets/colab-badge.svg\" alt=\"Open In Colab\"/></a>\n",
    "$$\\newcommand{\\arr}[1]{\\underline{\\underline{#1}}}$$    \n",
    "$$\\newcommand{\\vec}[1]{\\underline{#1}}$$   \n",
    "$$\\require{mhchem}$$\n"
   ]
  },
  {
   "cell_type": "markdown",
   "metadata": {
    "colab_type": "text",
    "id": "9tmWmEsVGQDw"
   },
   "source": [
    "# Note on HW expectations\n",
    "\n",
    "This is an engineering course. The math and homeworks will difficult and challenging. I am expecting that they will take you on average about 8 hours per week to do (+ 4 hours in class, for a 12 credit class) including studying. If you find that they are taking you substantially longer to do, please let me know and we can discuss strategies. "
   ]
  },
  {
   "cell_type": "markdown",
   "metadata": {
    "colab_type": "text",
    "id": "uqCqEbGjIHl-"
   },
   "source": [
    "# Systems of equations as matrices"
   ]
  },
  {
   "cell_type": "markdown",
   "metadata": {
    "colab_type": "text",
    "id": "Nzh_lQqwHyBF"
   },
   "source": [
    "One use for a matrix is a set of linear equations!  $\\arr{A}$: A set of linear equations\n",
    "\n",
    "\n",
    "Let's generalize this:\n",
    "\\begin{align*}\n",
    "a_{11}x_1+a_{12}x_2+\\dots+a_{1n}x_n&=b_1\\\\\n",
    "a_{21}x_1+a_{22}x_2+\\dots+a_{2n}x_n&=b_2\\\\\n",
    "\\vdots\\\\\n",
    "a_{m1}x_1+a_{m2}x_2+\\dots+a_{mn}x_n&=b_m\n",
    "\\end{align*}\n",
    "This is an $m \\times n $ system of linear equations that can be represented by matrices and vectors!\n",
    "* $\\arr{A}\\vec{x}=\\vec{b}$\n",
    "* We can also say  $\\arr{A}=[a_{jk}]$, which just says that the matrix $\\arr{A}$ consists of elements generalized as $a_{jk}$, where j=row number and k=column #\n",
    "* $[a_{jk}][x_k]=[b_j]$ - this is another notation that just says that we can multiple elements  of matrix $\\arr{A}$ by the elements in $\\vec{x}$ to get the elements of the vector $\\vec{b}$, summing over the repeated index k.\n",
    "\n",
    "\n",
    "## Examples\n"
   ]
  },
  {
   "cell_type": "markdown",
   "metadata": {
    "colab_type": "text",
    "id": "AysCTgS7IU8V"
   },
   "source": [
    "\n",
    "### Algebraic system\n",
    "We can take the system of two equations with three unknowns:\n",
    "\\begin{align*}\n",
    "2x_1+x_2+3x_3&=-1\\\\\n",
    "x_1-2x_2&=4\n",
    "\\end{align*}\n",
    "and represent them as matrices and vectors:\n",
    "\\begin{align*}\n",
    "\\arr{A}\\vec{x}&=\\vec{b}\\\\\n",
    "\\begin{bmatrix}\n",
    "2&1&3\\\\\n",
    "1&-2&0\n",
    "\\end{bmatrix}\n",
    "\\begin{bmatrix}\n",
    "x_1\\\\\n",
    "x_2\\\\\n",
    "x_3\n",
    "\\end{bmatrix}&=\n",
    "\\begin{bmatrix}\n",
    "-1\\\\4\n",
    "\\end{bmatrix}\n",
    "\\end{align*}\n",
    "\n",
    "This uses matrix multiplication described in detail below!"
   ]
  },
  {
   "cell_type": "markdown",
   "metadata": {
    "colab_type": "text",
    "id": "-6w3zhl4CWMF"
   },
   "source": [
    "### System of reactions\n",
    "\n",
    "Let's consider a set of two reactions, and we know the rate of reaction of each:\n",
    "\n",
    "\n",
    "\\begin{equation}\n",
    "\\ce{2H2 + O2 ->[r_1] 2H2O}\\\\\n",
    "\\ce{CO + H_2O ->[r_2] H2 + CO2}\n",
    "\\end{equation}\n",
    "\n",
    "Recall for your chemistry class that the stoichiometric coefficient is the integer in front of each species, and is positive for products and negative for reactants. \n",
    "\n",
    "We can represent this also as a system of equations!\n",
    "\n",
    "\\begin{align*}\n",
    "\\arr{\\alpha}\\vec{r}&=\\vec{N}\\\\\n",
    "\\begin{bmatrix}\n",
    "-2&1\\\\\n",
    "-1&0\\\\\n",
    "2&-1\\\\\n",
    "0&-1\\\\\n",
    "0&1\n",
    "\\end{bmatrix}\n",
    "\\begin{bmatrix}\n",
    "r_1\\\\\n",
    "r_2\n",
    "\\end{bmatrix}&=\n",
    "\\begin{bmatrix}\n",
    "r_{H2}\\\\\n",
    "r_{O2}\\\\\n",
    "r_{H2O}\\\\\n",
    "r_{CO}\\\\\n",
    "r_{CO2}\n",
    "\\end{bmatrix}\n",
    "\\end{align*}\n",
    "\n",
    "We can use this to figure out how much of each species is being produced from the matrix of stoichiometric coefficients, and the vector of rates!"
   ]
  },
  {
   "cell_type": "markdown",
   "metadata": {
    "colab_type": "text",
    "id": "my9fDBirIf1E"
   },
   "source": [
    "# Fun ways to manipulate matrices"
   ]
  },
  {
   "cell_type": "markdown",
   "metadata": {
    "colab_type": "text",
    "id": "WJTsJKo4Wbsr"
   },
   "source": [
    "## Addition\n",
    "\n"
   ]
  },
  {
   "cell_type": "markdown",
   "metadata": {
    "colab_type": "text",
    "id": "9Fn-6eQYo-_Z"
   },
   "source": [
    "\n",
    "If matrices/vectors are the same size, then you can add their elements together\n",
    "\n",
    "### Examples\n",
    "* $\\arr{A}=\n",
    "\\begin{bmatrix} 1&-1\\\\\n",
    "0&-1\\end{bmatrix}, \\arr{B}=\n",
    "\\begin{bmatrix} -2 & -1\\\\\n",
    "2&4\\end{bmatrix}$\n",
    "  * $\\arr{A}+\\arr{B}=\\begin{bmatrix} -1 &-2\\\\2&3\\end{bmatrix}$\n",
    "* $\\vec{a}=\\begin{bmatrix}5\\\\7\\\\-1\\end{bmatrix}$, $\\vec{b}=\\begin{bmatrix}2\\\\-4\\\\0\\end{bmatrix}$\n",
    "  * $\\vec{a}+\\vec{b}=\\begin{bmatrix}7\\\\3\\\\-1\\end{bmatrix}$\n",
    "\n",
    "\n"
   ]
  },
  {
   "cell_type": "markdown",
   "metadata": {
    "colab_type": "text",
    "id": "jZBxLKHDT2GY"
   },
   "source": [
    "### In-class Question\n",
    "\n",
    "What is $\\arr{A}+\\vec{a}$?"
   ]
  },
  {
   "cell_type": "markdown",
   "metadata": {
    "colab_type": "text",
    "id": "p2zb9XfGTx9c"
   },
   "source": [
    "  * Undefined! \n",
    "  * $\\arr{A}$ is 2x2\n",
    "  * $\\vec{a}$ is 3x1\n",
    "  * There is a size mismatch!"
   ]
  },
  {
   "cell_type": "markdown",
   "metadata": {
    "colab_type": "text",
    "id": "1_OpM3mVK1yz"
   },
   "source": [
    "\n",
    "## Transposition\n",
    "\n"
   ]
  },
  {
   "cell_type": "markdown",
   "metadata": {
    "colab_type": "text",
    "id": "LFv8H8oVpCfU"
   },
   "source": [
    "\n",
    "If $\\arr{A}=[a_{jk}]$, then $\\arr{A}^T=[a_{kj}]$.\n",
    "\n",
    "$^T$ is the transpose operation! In other words, we swap the columns with the rows.\n",
    "\n",
    "\n",
    "\n",
    "#### Examples:\n",
    "* $\\arr{A}=\\begin{bmatrix}2&3\\\\1&4\\end{bmatrix}$\n",
    "  * $\\arr{A}^T=\\begin{bmatrix}2&1\\\\3&4\\end{bmatrix}$\n",
    "* $\\vec{a}=\\begin{bmatrix}-1&4&6\\end{bmatrix}$ is a row vector (size 1x3)\n",
    "  * $\\vec{a}^T=\\begin{bmatrix}-1\\\\4\\\\6\\end{bmatrix}$\n",
    "\n",
    "We have to be really careful with the shapes when transposition things, since some operations (like addition) are only defined for arrays of certain sizes.\n",
    "\n",
    "* $\\vec{A}=\\begin{bmatrix}2&4\\\\1&-2\\\\3&-5\\end{bmatrix}$ is a **3x2 matrix**\n",
    "  * $\\vec{A}^T=\\begin{bmatrix}2&1&3\\\\4&-2&-5\\end{bmatrix}$ is a **2x3 matrix**\n",
    "\n",
    "### Adding transposes\n",
    "\n",
    "We aren't going to spend a lot of time proving various linear algebra identities, but some are really helpful. \n",
    "\n",
    "Consider $(\\arr{A}+\\arr{B})^T$\n",
    "* From the addition rules above, we know that the inner part is only defined if $\\arr{A}$ and $\\arr{B}$ are the same size.\n",
    "* Using the notation above $\\arr{A}=[a_{jk}]$, $\\arr{B}=[b_{jk}]$, $\\arr{C}=\\arr{A}+\\arr{B}=[c_{jk}]$\n",
    "  * $(\\arr{A}+\\arr{B})^T=(a_{jk}+b_{jk})^T=(c_{jk})^T=c_{kj}=[a_{kj}]+[b_{kj}]=A^T+B^T$\n",
    "\n",
    "#### Example:\n",
    "$\\arr{A}=\\begin{bmatrix} 1&0\\\\1&2\\end{bmatrix},\\arr{B}=\\begin{bmatrix} -1&4\\\\0&5\\end{bmatrix}$\n",
    "\n",
    "\\begin{align*}\n",
    "(\\arr{A}+\\arr{B})^T&=\\arr{A}^T+\\arr{B}^T\\\\\n",
    "\\left(\\begin{bmatrix} 1&0\\\\1&2\\end{bmatrix}+\\begin{bmatrix} -1&4\\\\0&5\\end{bmatrix}\\right)^T&=\\begin{bmatrix} 1&0\\\\1&2\\end{bmatrix}^T+\\begin{bmatrix} -1&4\\\\0&5\\end{bmatrix}^T\\\\\n",
    "\\begin{bmatrix} 0&4\\\\1&7\\end{bmatrix}^T&=\\begin{bmatrix} 1&1\\\\0&2\\end{bmatrix}+\\begin{bmatrix} -1&0\\\\4&5\\end{bmatrix}\\\\\n",
    "\\begin{bmatrix} 0&1\\\\4&7\\end{bmatrix}&=\\begin{bmatrix} 0&1\\\\4&7\\end{bmatrix}\n",
    "\\end{align*}\n",
    "It worked. Amazing! Note that a single example of this working **is not a proof** of the identity!\n",
    "\n"
   ]
  },
  {
   "cell_type": "markdown",
   "metadata": {
    "colab_type": "text",
    "id": "sht5zc7oSWNY"
   },
   "source": [
    "## Matrix Multiplication\n"
   ]
  },
  {
   "cell_type": "markdown",
   "metadata": {
    "colab_type": "text",
    "id": "cxBgJ4M6pFti"
   },
   "source": [
    "\n",
    "$\\arr{A}$: mxn matrix = $[a_{jk}]$\n",
    "\n",
    "$\\arr{B}$: rxp matrix = $[b_{jk}]$\n",
    "\n",
    "The product $\\arr{A}\\arr{B}$ is defined **only if** n=r. That is, the number of columns in $\\arr{A}$ must match the number of rows in $\\arr{B}$.\n",
    "\n",
    "**Definition:** $\\arr{A}\\arr{B}=\\arr{C}$ is an mxp matrix, where\n",
    "\\begin{align*}\n",
    "c_{jk}=\\sum_{l=1}^na_{jl}b_{lk}\n",
    "\\end{align*}\n",
    "\n",
    "#### Examples: \n",
    "\n",
    "Say $\\arr{A}=\\begin{bmatrix}1&2&3\\\\ 0&-1&2\\end{bmatrix}$, $\\arr{B}=\\begin{bmatrix}-2&1\\\\-1&1\\\\0&4\\end{bmatrix}$\n",
    "\n",
    "What is $\\arr{C}=\\arr{A}\\arr{B}$?\n"
   ]
  },
  {
   "cell_type": "markdown",
   "metadata": {
    "colab_type": "text",
    "id": "A0x9nRDaVaKn"
   },
   "source": [
    "* $\\arr{A}$ is 2x3 and $\\arr{B}$ is 3x2\n",
    " * The product is defined because n=r=3\n",
    " * the matrix $\\arr{C}=\\arr{A}\\arr{B}$ is 2x2\n",
    " * $c_{11}=a_{11}b_{11}+a_{12}b_{21}+a_{13}b_{31}\\\\\n",
    "     c_{12}=a_{11}b_{12}+a_{12}b_{22}+a_{13}b_{32}$ and so on\n",
    " * So\n",
    "    *  $c_{11}=1\\cdot(-2)+2\\cdot(-1)+3\\cdot 0=-4$\n",
    "    *  $c_{12}=1\\cdot1+2\\cdot1+3\\cdot4=15$\n",
    "    *  $c_{21}=0\\cdot(-2)+(-1)\\cdot(-1)+2\\cdot0=1$\n",
    "    *  $c_{22} = 0\\cdot1 + (-1)\\cdot 1+2\\cdot 4=7$\n",
    "  * $\\arr{C}=\\begin{bmatrix}-4&15\\\\1&7\\end{bmatrix}$\n",
    "\n",
    "What is $\\arr{C}=\\arr{B}\\arr{A}$?\n",
    "* B is a 3x2, A is a 2x3\n",
    "* The product is defined because 2=2\n",
    "* What is the size? 3x3!\n"
   ]
  },
  {
   "cell_type": "markdown",
   "metadata": {
    "colab_type": "text",
    "id": "omm9vcuBVV07"
   },
   "source": [
    "\n",
    "### Properties of matrix multiplication\n",
    "* **Note:** This means that Matrix multiplication is not commutable! In general, $\\arr{A}\\arr{B}\\neq \\arr{B}\\arr{A}$!!!!\n",
    "\n",
    "* $\\arr{A}\\arr{B}=\\arr{0}$ **does not** imply that $\\arr{A}=\\arr{0}, \\arr{B}=0$, or that $\\arr{B}\\arr{A}=\\arr{0}$\n",
    "* Matrix Multiplication is associative $\\arr{A}(\\arr{B}\\arr{C})=(\\arr{A}\\arr{B})\\arr{C}$, provided each product exists!\n",
    "* Matrix multiplication is distributive over addition:\n",
    "  * $(\\arr{A}+\\arr{B})\\arr{C}=\\arr{A}\\arr{C}+\\arr{B}\\arr{C}\\neq \\arr{C}\\arr{A}+\\arr{C}\\arr{B}=\\arr{C}(\\arr{A}+\\arr{B})$"
   ]
  },
  {
   "cell_type": "markdown",
   "metadata": {
    "colab_type": "text",
    "id": "259K5BV1KjgT"
   },
   "source": [
    "# In-class exercise"
   ]
  },
  {
   "cell_type": "markdown",
   "metadata": {
    "colab_type": "text",
    "id": "Y9ru3bR-pJkU"
   },
   "source": [
    "\n",
    "For the following matrices:\n",
    "\\begin{align*}\n",
    "\\arr{D}=\\begin{bmatrix}1&2&0\\\\0&3&-1\\end{bmatrix}&&\n",
    "\\arr{C}=\\begin{bmatrix}1\\\\2\\end{bmatrix}\n",
    "\\end{align*}\n",
    "Calculate $\\arr{D}^T\\arr{C}$:\n",
    "* Predict the size of $\\arr{D}^T\\arr{C}$\n",
    "* Calculate $\\arr{D}^T$\n",
    "* Calculate $\\arr{D}^T\\arr{C}$\n",
    "\n",
    "Submit a picture of this on gradescope at the end of class!"
   ]
  },
  {
   "cell_type": "markdown",
   "metadata": {
    "colab_type": "text",
    "id": "488UIvVEHkJz"
   },
   "source": [
    "# Matrices in Python\n",
    "\n",
    "* Many problems are too hard to solve by hand and must be solved numerically.\n",
    "* For these we use computational methods\n",
    "* We will extensively use Python to numerically solve problems in this course.\n",
    "* Why?\n",
    "  * Python is free\n",
    "  * You can use this anywhere you go\n",
    "  * Python does everything we need and much more\n",
    "* Python examples in these notes will be available to you through the syllabus\n",
    "* You should make sure you can run the examples, and that you get the same results\n",
    "* Ask questions when you do not understand\n",
    "\n",
    "We'll do the python in-class example then come back to this"
   ]
  },
  {
   "cell_type": "markdown",
   "metadata": {
    "colab_type": "text",
    "id": "Dp8JV91lTzZa"
   },
   "source": [
    "## Numpy arrays \n",
    "\n",
    "* Python doesn't know anything about arrays or linear algebra by default. Numpy \"numerical python\" is a library of standard objects and methods for numerical methods in python:\n",
    "https://docs.scipy.org/doc/numpy/user/quickstart.html . The quickstart is a little complicated but well-written.\n",
    "\n",
    "* On top of basic numerical objects, scipy \"scientific python\" has additional routines for common operations we'll use, like integrating differential equations. More on that later!\n",
    "\n",
    "* First, we have to import numpy to use"
   ]
  },
  {
   "cell_type": "code",
   "execution_count": 1,
   "metadata": {
    "colab": {
     "base_uri": "https://localhost:8080/",
     "height": 69
    },
    "colab_type": "code",
    "executionInfo": {
     "elapsed": 892,
     "status": "ok",
     "timestamp": 1579187622839,
     "user": {
      "displayName": "Zachary Ulissi",
      "photoUrl": "",
      "userId": "07633171379186475882"
     },
     "user_tz": 300
    },
    "id": "OYqFZG8pTmNC",
    "outputId": "39e51cde-237f-456a-ff60-fee0d8e5da3d"
   },
   "outputs": [
    {
     "name": "stdout",
     "output_type": "stream",
     "text": [
      "(1,)\n",
      "(1, 1)\n",
      "(3,)\n"
     ]
    }
   ],
   "source": [
    "import numpy as np\n",
    "\n",
    "# Now we can use numpy. This makes an array of size 1 with the element 1\n",
    "a = np.array([1])\n",
    "print(a.shape)\n",
    "\n",
    "#This is 1x1 2D array\n",
    "a = np.array([[1]])\n",
    "print(a.shape)\n",
    "\n",
    "#Let's try a vector\n",
    "a = np.array([1, 3, 5])\n",
    "print(a.shape)"
   ]
  },
  {
   "cell_type": "code",
   "execution_count": 2,
   "metadata": {
    "colab": {
     "base_uri": "https://localhost:8080/",
     "height": 34
    },
    "colab_type": "code",
    "executionInfo": {
     "elapsed": 722,
     "status": "ok",
     "timestamp": 1579188177034,
     "user": {
      "displayName": "Zachary Ulissi",
      "photoUrl": "",
      "userId": "07633171379186475882"
     },
     "user_tz": 300
    },
    "id": "WrSvug3T8z4g",
    "outputId": "7faf746e-ea33-447e-d322-945c2e083c32"
   },
   "outputs": [
    {
     "data": {
      "text/plain": [
       "array([1, 3, 5])"
      ]
     },
     "execution_count": 2,
     "metadata": {},
     "output_type": "execute_result"
    }
   ],
   "source": [
    "a"
   ]
  },
  {
   "cell_type": "markdown",
   "metadata": {
    "colab_type": "text",
    "id": "tn203SXhVaZT"
   },
   "source": [
    "* NumPy’s main object is the homogeneous multidimensional array. It is a table of elements (usually numbers), all of the same type, indexed by a tuple of positive integers. In NumPy dimensions are called axes.\n",
    "\n",
    "Let's try the in-class example."
   ]
  },
  {
   "cell_type": "code",
   "execution_count": 3,
   "metadata": {
    "colab": {
     "base_uri": "https://localhost:8080/",
     "height": 237
    },
    "colab_type": "code",
    "executionInfo": {
     "elapsed": 882,
     "status": "error",
     "timestamp": 1579188071871,
     "user": {
      "displayName": "Zachary Ulissi",
      "photoUrl": "",
      "userId": "07633171379186475882"
     },
     "user_tz": 300
    },
    "id": "Bz1J-C9XVpbg",
    "outputId": "f1ebda26-9cba-4d60-d9ef-8b238d5918c7"
   },
   "outputs": [
    {
     "ename": "ValueError",
     "evalue": "matmul: Input operand 1 has a mismatch in its core dimension 0, with gufunc signature (n?,k),(k,m?)->(n?,m?) (size 1 is different from 2)",
     "output_type": "error",
     "traceback": [
      "\u001b[0;31m---------------------------------------------------------------------------\u001b[0m",
      "\u001b[0;31mValueError\u001b[0m                                Traceback (most recent call last)",
      "Cell \u001b[0;32mIn [3], line 6\u001b[0m\n\u001b[1;32m      3\u001b[0m C \u001b[38;5;241m=\u001b[39m np\u001b[38;5;241m.\u001b[39marray([[\u001b[38;5;241m1\u001b[39m,\u001b[38;5;241m2\u001b[39m]])\n\u001b[1;32m      5\u001b[0m \u001b[38;5;66;03m# This is a matrix multiply! D.T is the transpose of D\u001b[39;00m\n\u001b[0;32m----> 6\u001b[0m \u001b[38;5;28mprint\u001b[39m(D\u001b[38;5;241m.\u001b[39mT\u001b[38;5;129m@C\u001b[39m)\n\u001b[1;32m      8\u001b[0m \u001b[38;5;66;03m#We can also do this with\u001b[39;00m\n\u001b[1;32m      9\u001b[0m \u001b[38;5;28mprint\u001b[39m(np\u001b[38;5;241m.\u001b[39mmatmul(D\u001b[38;5;241m.\u001b[39mT,C))\n",
      "\u001b[0;31mValueError\u001b[0m: matmul: Input operand 1 has a mismatch in its core dimension 0, with gufunc signature (n?,k),(k,m?)->(n?,m?) (size 1 is different from 2)"
     ]
    }
   ],
   "source": [
    "D = np.array([[1,2,0],\n",
    "              [0,3,-1]])\n",
    "C = np.array([[1,2]])\n",
    "\n",
    "# This is a matrix multiply! D.T is the transpose of D\n",
    "print(D.T@C)\n",
    "\n",
    "#We can also do this with\n",
    "print(np.matmul(D.T,C))\n",
    "\n",
    "# The * is not matrix multiply. * is element-wise multiplication. Scarily, numpy\n",
    "# will try to convert the second matrix to the right format by replicating it\n",
    "# so it doesn't throw an error.\n",
    "\n",
    "print(D.T*C)"
   ]
  },
  {
   "cell_type": "code",
   "execution_count": 0,
   "metadata": {
    "colab": {
     "base_uri": "https://localhost:8080/",
     "height": 34
    },
    "colab_type": "code",
    "executionInfo": {
     "elapsed": 978,
     "status": "ok",
     "timestamp": 1579188145599,
     "user": {
      "displayName": "Zachary Ulissi",
      "photoUrl": "",
      "userId": "07633171379186475882"
     },
     "user_tz": 300
    },
    "id": "Ucucy1s0V3hQ",
    "outputId": "ed9754a1-f8ba-4087-fa4e-a79d7de29663"
   },
   "outputs": [
    {
     "data": {
      "text/plain": [
       "(2, 3)"
      ]
     },
     "execution_count": 10,
     "metadata": {
      "tags": []
     },
     "output_type": "execute_result"
    }
   ],
   "source": [
    "D.shape"
   ]
  },
  {
   "cell_type": "code",
   "execution_count": 0,
   "metadata": {
    "colab": {
     "base_uri": "https://localhost:8080/",
     "height": 34
    },
    "colab_type": "code",
    "executionInfo": {
     "elapsed": 835,
     "status": "ok",
     "timestamp": 1579188199699,
     "user": {
      "displayName": "Zachary Ulissi",
      "photoUrl": "",
      "userId": "07633171379186475882"
     },
     "user_tz": 300
    },
    "id": "iRWgzZdl69MC",
    "outputId": "88fe5031-4191-4d1a-b6bf-5c917e6ba247"
   },
   "outputs": [
    {
     "data": {
      "text/plain": [
       "(1, 2)"
      ]
     },
     "execution_count": 12,
     "metadata": {
      "tags": []
     },
     "output_type": "execute_result"
    }
   ],
   "source": [
    "C = np.array([[1,2]])\n",
    "C.shape"
   ]
  },
  {
   "cell_type": "code",
   "execution_count": 0,
   "metadata": {
    "colab": {
     "base_uri": "https://localhost:8080/",
     "height": 34
    },
    "colab_type": "code",
    "executionInfo": {
     "elapsed": 634,
     "status": "ok",
     "timestamp": 1579188214280,
     "user": {
      "displayName": "Zachary Ulissi",
      "photoUrl": "",
      "userId": "07633171379186475882"
     },
     "user_tz": 300
    },
    "id": "ZZiNPfRp86y3",
    "outputId": "17afaa0c-444c-41af-a166-d659023b68ef"
   },
   "outputs": [
    {
     "data": {
      "text/plain": [
       "(2,)"
      ]
     },
     "execution_count": 14,
     "metadata": {
      "tags": []
     },
     "output_type": "execute_result"
    }
   ],
   "source": [
    "C = np.array([1,2])\n",
    "C.shape"
   ]
  },
  {
   "cell_type": "markdown",
   "metadata": {
    "colab_type": "text",
    "id": "SghLfJds6-Ax"
   },
   "source": [
    "Laika Count: 11"
   ]
  },
  {
   "cell_type": "code",
   "execution_count": 0,
   "metadata": {
    "colab": {},
    "colab_type": "code",
    "id": "Nfd193-T8EPZ"
   },
   "outputs": [],
   "source": []
  }
 ],
 "metadata": {
  "colab": {
   "collapsed_sections": [],
   "name": "2-matrix-manipulation.ipynb",
   "provenance": []
  },
  "kernelspec": {
   "display_name": "Python 3",
   "name": "python3"
  },
  "language_info": {
   "codemirror_mode": {
    "name": "ipython",
    "version": 3
   },
   "file_extension": ".py",
   "mimetype": "text/x-python",
   "name": "python",
   "nbconvert_exporter": "python",
   "pygments_lexer": "ipython3",
   "version": "3.9.13"
  }
 },
 "nbformat": 4,
 "nbformat_minor": 0
}