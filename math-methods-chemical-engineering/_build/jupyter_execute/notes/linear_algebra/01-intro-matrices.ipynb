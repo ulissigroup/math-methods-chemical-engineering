{
 "cells": [
  {
   "cell_type": "markdown",
   "metadata": {
    "badge": true,
    "branch": "master",
    "colab_type": "text",
    "comment": "This badge cell was added by colab-badge-action",
    "id": "gatzvzgLC4sf",
    "nb_path": "lecture_notes/01-intro-matrices.ipynb",
    "repo_name": "ulissigroup/math-methods-chemical-engineering"
   },
   "source": [
    "<a href=\"https://colab.research.google.com/github/ulissigroup/math-methods-chemical-engineering/blob/master/lecture_notes/01-intro-matrices.ipynb\" target=\"_parent\"><img src=\"https://colab.research.google.com/assets/colab-badge.svg\" alt=\"Open In Colab\"/></a>\n",
    "$$\\newcommand{\\arr}[1]{\\underline{\\underline{#1}}}$$    \n",
    "$$\\newcommand{\\vec}[1]{\\underline{#1}}$$    \n",
    "$$\\require{mhchem}$$\n"
   ]
  },
  {
   "cell_type": "markdown",
   "metadata": {
    "colab_type": "text",
    "id": "WJTsJKo4Wbsr"
   },
   "source": [
    "# Introduction\n",
    "\n",
    "* The purpose of this course is to learn how to formulate and solve chemical engineering problems using analytical and numerical math methods.\n",
    "\n",
    "* This is both a math course and an engineering course. I will teach you mathematical tools to solve real world problems.\n",
    "\n",
    "* The best chemical engineers are often the ones that are best at math. Math is a powerful tool and chemical engineers are jacks of many trades that requires a hefty toolbox.\n",
    "\n",
    "* Being good at math is not some talent that you were born with. Every one of you has the opportunity to be good at math this semester and for the rest of your life. All you need to do is practice. A lot.\n",
    "\n",
    "* There will be many demands on your time this semester. Lab 1, Fluids, electives, extracurriculars. We ask a lot of you because we know you can do it! Working hard in this class is an investment that will help you with the rest of your classes. "
   ]
  },
  {
   "cell_type": "markdown",
   "metadata": {
    "colab_type": "text",
    "id": "knuM5KyQXF4A"
   },
   "source": [
    "# How to solve a generic engineering problem\n",
    "\n",
    "1. **Problem Statement**\n",
    "  * Design a reactor; design a vehicle for drug delivery\n",
    "2.  **Problem formulation** \n",
    "  * convert the statement into a math model if possible (i.e. ill-posed problems exist)\n",
    "3. **Problem analysis**\n",
    "  * Identify the type of math necessary to solve the problem, and determine a reasonable approach (analytical or numerical).\n",
    "4. **Problem solution**\n",
    "  * solve the **mathematical** problem (which is not the same as the engineering problem)\n",
    "5. **Problem evaluation**\n",
    "  * Sanity check. Does the math solution make physical sense? Does it help you solve the engineering problem? If not, 1/2/3/4 may need revision.\n",
    "\n",
    "Most of your math courses only dealt with step #3. But Chemical Engineers need to be good at all of the steps. That's why we have this class to teach you the math tools and practice all of the steps together. \n",
    "\n",
    "\n"
   ]
  },
  {
   "cell_type": "markdown",
   "metadata": {
    "colab_type": "text",
    "id": "Qi7eloCkXwyP"
   },
   "source": [
    "# Methods in this course\n",
    "\n",
    "This course focused on 4 main methods:\n",
    "1. Linear Algebra - e.g. solving systems of linear equations\n",
    "2. Differential Equations - govern rates of change (space or time) of physical quantitities\n",
    "3. Probability & Stats - how to interpret results of an experiment or observation\n",
    "4. Numerical methods - solving 1/2/3 when an analytical solution is not possible\n",
    "\n",
    "You will use each of these techniques in your future classes! \n",
    "* 06-261 Fluid Mechanics: Navier-Stokes Equations (2)\n",
    "* 06-364 Reaction Engineering: e.g. designing reactors (1,2,3)\n",
    "* 06-361 Unit Operations: e.g. distillation columns (1,2)\n",
    "* 06-363 Heat and Mass Transfer: heat exchangers (1,2)\n",
    "* 06-421 Design: solving a process flowsheet (1,2,3)"
   ]
  },
  {
   "cell_type": "markdown",
   "metadata": {
    "colab_type": "text",
    "id": "Yyn5IJzgZfPN"
   },
   "source": [
    "# ChemE Motivation for Matrix Algebra\n",
    "\n",
    "Consider the following flow diagram:\n",
    "\n",
    "<img src=\"https://docs.google.com/drawings/d/e/2PACX-1vTUqxGdmYDuTmQFyOJVtswSiG9asKjwwk-hBgnalmg430--NVZwZvcq4jGNGWLUgDjz3LctMBG3GMsA/pub?w=1347&amp;h=558\">"
   ]
  },
  {
   "cell_type": "markdown",
   "metadata": {
    "colab_type": "text",
    "id": "rJAIbLOeZfjc"
   },
   "source": [
    "So, what do we have here?\n",
    "* Three components in each stream\n",
    "* Six stream of unknown composition $x_{i=stream}^{j=component}$\n",
    "\n",
    "Q: What is the component of each stream?\n",
    "\n",
    "Problem: There are 18 compositions and we know only 1: $x_3^c=0$. Therefore, we need 17 equations to solve for 17 unknown compositions!\n",
    "\n",
    "Approach: Mole balances! Assume steady state:\n",
    "\\begin{align*}\n",
    "INPUT+GENERATION=OUTPUT\n",
    "\\end{align*}\n",
    "\n",
    "Balances on A:\n",
    "\\begin{align*}\n",
    "Mixer && 95+x_5^A&=x_1^A\\\\\n",
    "Reactor && x_1^A-0.3x_1^A&=x_2^A\\\\\n",
    "Flash && x_2^A&=x_3^A+x_4^A\\\\\n",
    " && x_3^A&=0.02x_2^A\\\\\n",
    "Split && x_4^A &= x_5^A + x_6^A\\\\\n",
    " && x_6^A&=0.06x_4^A\n",
    "\\end{align*}\n",
    "\n",
    "Balances on B:\n",
    "\\begin{align*}\n",
    "Mixer && x_5^B&=x_1^B\\\\\n",
    "Reactor && x_1^B+0.3x_1^A&=x_2^B\\\\\n",
    "Flash && x_2^B&=x_3^B+x_4^B\\\\\n",
    " && x_3^B&=0.98x_2^B\\\\\n",
    "Split && x_4^B&=x_5^B+x_6^B\\\\\n",
    " && x_6^B&=0.06x_4^B\n",
    "\\end{align*}\n",
    "\n",
    "Balances on C:\n",
    "\\begin{align*}\n",
    "Mixer && 5+x_5^C&=x_1^C\\\\\n",
    "Reactor && x_1^C&=x_2^C \\text{  (inert)}\\\\\n",
    "Flash && x_2^C&=x_4^C  \\text{  since }x_3^C=0\\\\\n",
    "Split && x_4^C&=x_5^C+x_6^C\\\\\n",
    " && x_6^C&=0.06x_4^C\n",
    "\\end{align*}\n",
    "\n",
    "* That's a mess! You could solve algebraically by brute force, but we can do this far more quickly and systematically with linear (matrix) algebra! \n",
    "\n",
    "* It's also unclear if we have correctly found all of the necessary equations to solve this system, but we'll be able to show this later!\n",
    "\n",
    "* Since all 17 equations are linear (that is, no derivatives since we're at steady state, and only powers of 1)\n",
    "\n",
    "* This is quite a simple flow sheet; real chemical plants have about $10^5-10^6$ unknowns and equations!!\n",
    "\n",
    "\n"
   ]
  },
  {
   "cell_type": "markdown",
   "metadata": {
    "colab_type": "text",
    "id": "kxJ7o3Ej748d"
   },
   "source": [
    "# Matrix/Linear Algebra\n",
    "\n",
    "This is an example of a vector:\n",
    "\\begin{align*}\n",
    "\\vec{b}=\n",
    "\\begin{bmatrix}\n",
    "3\\\\\n",
    "2\\\\\n",
    "-1\n",
    "\\end{bmatrix}\n",
    "\\end{align*}\n",
    "\n",
    "* The single underline means one dimension\n",
    "* The elements are each number in the brackets\n",
    "* The length is 3\n",
    "* The size is 3x1 (we can think of a vector as a 3x1 array)\n",
    "\n",
    "This is an example of a matrix:\n",
    "\\begin{align*}\n",
    "\\arr{A}=\n",
    "\\begin{bmatrix}\n",
    "2&1&3\\\\\n",
    "1&-2&0\n",
    "\\end{bmatrix}\n",
    "\\end{align*}\n",
    "\n",
    "* Matrices are denoted by the upper case double underline in notes, and bold in the text\n",
    "* Elements are the numbers in the array\n",
    "* This is a **2x3 matrix**! Two rows, three columns\n",
    "\n"
   ]
  },
  {
   "cell_type": "markdown",
   "metadata": {
    "colab_type": "text",
    "id": "Nzh_lQqwHyBF"
   },
   "source": [
    "## Systems of equations as matrices\n",
    "One use for a matrix is a set of linear equations!  $\\arr{A}$: A set of linear equations\n",
    "\n",
    "\n",
    "Let's generalize this:\n",
    "\\begin{align*}\n",
    "a_{11}x_1+a_{12}x_2+\\dots+a_{1n}x_n&=b_1\\\\\n",
    "a_{21}x_1+a_{22}x_2+\\dots+a_{2n}x_n&=b_2\\\\\n",
    "\\vdots\\\\\n",
    "a_{m1}x_1+a_{m2}x_2+\\dots+a_{mn}x_n&=b_m\n",
    "\\end{align*}\n",
    "This is an $m \\times n $ system of linear equations that can be represented by matrices and vectors!\n",
    "* $\\arr{A}\\vec{x}=\\vec{b}$\n",
    "* We can also say  $\\arr{A}=[a_{jk}]$, which just says that the matrix $\\arr{A}$ consists of elements generalized as $a_{jk}$, where j=row number and k=column #\n",
    "* $[a_{jk}][x_k]=[b_j]$ - this is another notation that just says that we can multiple elements  of matrix $\\arr{A}$ by the elements in $\\vec{x}$ to get the elements of the vector $\\vec{b}$, summing over the repeated index k.\n",
    "\n",
    "\n",
    "## Example\n",
    "\n",
    "### Algebraic system\n",
    "We can take the system of two equations with three unknowns:\n",
    "\\begin{align*}\n",
    "2x_1+x_2+3x_3&=-1\\\\\n",
    "x_1-2x_2&=4\n",
    "\\end{align*}\n",
    "and represent them as matrices and vectors:\n",
    "\\begin{align*}\n",
    "\\arr{A}\\vec{x}&=\\vec{b}\\\\\n",
    "\\begin{bmatrix}\n",
    "2&1&3\\\\\n",
    "1&-2&0\n",
    "\\end{bmatrix}\n",
    "\\begin{bmatrix}\n",
    "x_1\\\\\n",
    "x_2\\\\\n",
    "x_3\n",
    "\\end{bmatrix}&=\n",
    "\\begin{bmatrix}\n",
    "-1\\\\4\n",
    "\\end{bmatrix}\n",
    "\\end{align*}\n",
    "\n",
    "This uses matrix multiplication, which we'll talk about in the next lecture!"
   ]
  },
  {
   "cell_type": "markdown",
   "metadata": {
    "colab_type": "text",
    "id": "-6w3zhl4CWMF"
   },
   "source": [
    "### System of reactions\n",
    "\n",
    "Let's consider a set of two reactions, and we know the rate of reaction of each:\n",
    "\n",
    "\n",
    "\\begin{equation}\n",
    "\\ce{2H2 + O2 ->[r_1] 2H2O}\\\\\n",
    "\\ce{CO + H_2O ->[r_2] H2 + CO2}\n",
    "\\end{equation}\n",
    "\n",
    "Recall for your chemistry class that the stoichiometric coefficient is the integer in front of each species, and is positive for products and negative for reactants. \n",
    "\n",
    "We can represent this also as a system of equations!\n",
    "\n",
    "\\begin{align*}\n",
    "\\arr{\\alpha}\\vec{r}&=\\vec{N}\\\\\n",
    "\\begin{bmatrix}\n",
    "-2&1\\\\\n",
    "-1&0\\\\\n",
    "2&-1\\\\\n",
    "0&-1\\\\\n",
    "0&1\n",
    "\\end{bmatrix}\n",
    "\\begin{bmatrix}\n",
    "r_1\\\\\n",
    "r_2\n",
    "\\end{bmatrix}&=\n",
    "\\begin{bmatrix}\n",
    "r_{H2}\\\\\n",
    "r_{O2}\\\\\n",
    "r_{H2O}\\\\\n",
    "r_{CO}\\\\\n",
    "r_{CO2}\n",
    "\\end{bmatrix}\n",
    "\\end{align*}\n",
    "\n",
    "We can use this to figure out how much of each species is being produced from the matrix of stoichiometric coefficients, and the vector of rates!"
   ]
  },
  {
   "cell_type": "code",
   "execution_count": 0,
   "metadata": {
    "colab": {},
    "colab_type": "code",
    "id": "YpQYuwVUCIph"
   },
   "outputs": [],
   "source": []
  }
 ],
 "metadata": {
  "colab": {
   "collapsed_sections": [],
   "name": "1-intro-matrices.ipynb",
   "provenance": []
  },
  "kernelspec": {
   "display_name": "Python 3",
   "name": "python3"
  },
  "language_info": {
   "codemirror_mode": {
    "name": "ipython",
    "version": 3
   },
   "file_extension": ".py",
   "mimetype": "text/x-python",
   "name": "python",
   "nbconvert_exporter": "python",
   "pygments_lexer": "ipython3",
   "version": "3.9.13"
  }
 },
 "nbformat": 4,
 "nbformat_minor": 0
}