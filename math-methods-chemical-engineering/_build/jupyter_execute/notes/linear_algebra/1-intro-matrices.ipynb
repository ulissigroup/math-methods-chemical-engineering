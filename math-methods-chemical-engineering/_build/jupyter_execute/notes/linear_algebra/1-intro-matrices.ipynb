{
 "cells": [
  {
   "cell_type": "markdown",
   "metadata": {
    "id": "WJTsJKo4Wbsr"
   },
   "source": [
    "# Introduction\n",
    "\n",
    "* The purpose of this course is to learn how to formulate and solve chemical engineering problems using analytical and numerical math methods.\n",
    "\n",
    "* This is both a math course and an engineering course. I will teach you mathematical tools to solve real world problems.\n",
    "\n",
    "* The best chemical engineers are often the ones that are best at math. Math is a powerful tool and chemical engineers are jacks of many trades that requires a hefty toolbox.\n",
    "\n",
    "* Being good at math is not some talent that you were born with. Every one of you has the opportunity to be good at math this semester and for the rest of your life. All you need to do is practice. A lot.\n",
    "\n",
    "* There will be many demands on your time this semester. Lab 1, Fluids, electives, extracurriculars. We ask a lot of you because we know you can do it! Working hard in this class is an investment that will help you with the rest of your classes. "
   ]
  },
  {
   "cell_type": "markdown",
   "metadata": {
    "id": "knuM5KyQXF4A"
   },
   "source": [
    "# How to solve a generic engineering problem\n",
    "\n",
    "1. **Problem Statement**\n",
    "  * Design a reactor; design a vehicle for drug delivery\n",
    "2.  **Problem formulation** \n",
    "  * convert the statement into a math model if possible (i.e. ill-posed problems exist)\n",
    "3. **Problem analysis**\n",
    "  * Identify the type of math necessary to solve the problem, and determine a reasonable approach (analytical or numerical).\n",
    "4. **Problem solution**\n",
    "  * solve the **mathematical** problem (which is not the same as the engineering problem)\n",
    "5. **Problem evaluation**\n",
    "  * Sanity check. Does the math solution make physical sense? Does it help you solve the engineering problem? If not, 1/2/3/4 may need revision.\n",
    "\n",
    "Most of your math courses only dealt with steps 3&4. But Chemical Engineers need to be good at all of the steps. That's why we have this class to teach you the math tools and practice all of the steps together. \n",
    "\n",
    "\n"
   ]
  },
  {
   "cell_type": "markdown",
   "metadata": {
    "id": "Qi7eloCkXwyP"
   },
   "source": [
    "# Methods in this course\n",
    "\n",
    "This course focused on 4 main methods:\n",
    "1. Linear Algebra - e.g. solving systems of linear equations\n",
    "2. Differential Equations - govern rates of change (space or time) of physical quantitities\n",
    "3. Probability & Stats - how to interpret results of an experiment or observation\n",
    "4. Numerical methods - solving 1/2/3 when an analytical solution is not possible\n",
    "\n",
    "You will use each of these techniques in your future classes! \n",
    "* 06-261 Fluid Mechanics: Navier-Stokes Equations (2)\n",
    "* 06-364 Reaction Engineering: e.g. designing reactors (1,2,3)\n",
    "* 06-361 Unit Operations: e.g. distillation columns (1,2)\n",
    "* 06-363 Heat and Mass Transfer: heat exchangers (1,2)\n",
    "* 06-421 Design: solving a process flowsheet (1,2,3)"
   ]
  },
  {
   "cell_type": "markdown",
   "metadata": {
    "id": "Yyn5IJzgZfPN"
   },
   "source": [
    "# ChemE Motivation for Matrix Algebra\n",
    "\n",
    "Consider the following flow diagram:\n",
    "\n",
    "<img src=\"https://docs.google.com/drawings/d/e/2PACX-1vTUqxGdmYDuTmQFyOJVtswSiG9asKjwwk-hBgnalmg430--NVZwZvcq4jGNGWLUgDjz3LctMBG3GMsA/pub?w=1347&amp;h=558\">"
   ]
  },
  {
   "cell_type": "markdown",
   "metadata": {
    "id": "rJAIbLOeZfjc"
   },
   "source": [
    "So, what do we have here?\n",
    "* Three components in each stream\n",
    "* Six stream of unknown composition $x_{i=stream}^{j=component}$\n",
    "\n",
    "Q: What is the component of each stream?\n",
    "\n",
    "Problem: There are 18 compositions and we know only 1: $x_3^c=0$. Therefore, we need 17 equations to solve for 17 unknown compositions!\n",
    "\n",
    "Approach: Mole balances! Assume steady state:\n",
    "\\begin{align*}\n",
    "INPUT+GENERATION=OUTPUT\n",
    "\\end{align*}\n",
    "\n",
    "Balances on A:\n",
    "\\begin{align*}\n",
    "Mixer && 95+x_5^A&=x_1^A\\\\\n",
    "Reactor && x_1^A-0.3x_1^A&=x_2^A\\\\\n",
    "Flash && x_2^A&=x_3^A+x_4^A\\\\\n",
    " && x_3^A&=0.02x_2^A\\\\\n",
    "Split && x_4^A &= x_5^A + x_6^A\\\\\n",
    " && x_6^A&=0.06x_4^A\n",
    "\\end{align*}\n",
    "\n",
    "Balances on B:\n",
    "\\begin{align*}\n",
    "Mixer && x_5^B&=x_1^B\\\\\n",
    "Reactor && x_1^B+0.3x_1^A&=x_2^B\\\\\n",
    "Flash && x_2^B&=x_3^B+x_4^B\\\\\n",
    " && x_3^B&=0.98x_2^B\\\\\n",
    "Split && x_4^B&=x_5^B+x_6^B\\\\\n",
    " && x_6^B&=0.06x_4^B\n",
    "\\end{align*}\n",
    "\n",
    "Balances on C:\n",
    "\\begin{align*}\n",
    "Mixer && 5+x_5^C&=x_1^C\\\\\n",
    "Reactor && x_1^C&=x_2^C \\text{  (inert)}\\\\\n",
    "Flash && x_2^C&=x_4^C  \\text{  since }x_3^C=0\\\\\n",
    "Split && x_4^C&=x_5^C+x_6^C\\\\\n",
    " && x_6^C&=0.06x_4^C\n",
    "\\end{align*}\n",
    "\n",
    "* That's a mess! You could solve algebraically by brute force, but we can do this far more quickly and systematically with linear (matrix) algebra! \n",
    "\n",
    "* It's also unclear if we have correctly found all of the necessary equations to solve this system, but we'll be able to show this later!\n",
    "\n",
    "* Since all 17 equations are linear (that is, no derivatives since we're at steady state, and only powers of 1)\n",
    "\n",
    "* This is quite a simple flow sheet; real chemical plants have about $10^5-10^6$ unknowns and equations!!\n",
    "\n",
    "\n"
   ]
  },
  {
   "cell_type": "code",
   "execution_count": null,
   "metadata": {
    "id": "Z37TQDENgI6w"
   },
   "outputs": [],
   "source": []
  }
 ],
 "metadata": {
  "colab": {
   "collapsed_sections": [],
   "name": "1-intro-matrices.ipynb",
   "provenance": []
  },
  "kernelspec": {
   "display_name": "Python 3",
   "name": "python3"
  }
 },
 "nbformat": 4,
 "nbformat_minor": 0
}