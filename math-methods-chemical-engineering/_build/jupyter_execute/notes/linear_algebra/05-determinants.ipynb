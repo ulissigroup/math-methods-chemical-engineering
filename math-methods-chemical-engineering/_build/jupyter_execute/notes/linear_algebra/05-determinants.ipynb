{
 "cells": [
  {
   "cell_type": "markdown",
   "metadata": {
    "badge": true,
    "branch": "master",
    "colab_type": "text",
    "comment": "This badge cell was added by colab-badge-action",
    "id": "VuOZLgSIiurH",
    "nb_path": "lecture_notes/05-determinants.ipynb",
    "repo_name": "ulissigroup/math-methods-chemical-engineering"
   },
   "source": [
    "<a href=\"https://colab.research.google.com/github/ulissigroup/math-methods-chemical-engineering/blob/master/lecture_notes/05-determinants.ipynb\" target=\"_parent\"><img src=\"https://colab.research.google.com/assets/colab-badge.svg\" alt=\"Open In Colab\"/></a>\n",
    "$$\\newcommand{\\arr}[1]{\\underline{\\underline{#1}}}$$    \n",
    "$$\\newcommand{\\vec}[1]{\\underline{#1}}$$   \n",
    "$$\\require{mhchem}$$"
   ]
  },
  {
   "cell_type": "markdown",
   "metadata": {
    "colab_type": "text",
    "id": "DAODSYzpjaAo"
   },
   "source": [
    "# Using the inverse of A to solve a system of linear equations"
   ]
  },
  {
   "cell_type": "markdown",
   "metadata": {
    "colab_type": "text",
    "id": "qt22LNlAl_Dj"
   },
   "source": [
    "* If you have the inverse of a matrix $\\arr{A}$ representative of a linear system of equations, you can use it to find $\\vec{x}$:\n",
    "\\begin{align*}\n",
    "\\arr{A}\\vec{x}=\\vec{b}\\\\\n",
    "\\arr{A}^{-1}\\arr{A}\\vec{x}=\\arr{A}^{-1}\\vec{b}\\\\\n",
    "\\vec{x}=\\arr{A}^{-1}\\vec{b}\n",
    "\\end{align*}\n",
    "now $\\vec{x}$ is just the product.\n",
    "* Fun fact: An n$\\times$n system $\\arr{A}\\vec{x}=\\vec{b}$ has a unique solution if and only if $\\arr{A}$ is nonsingular (i.e. has an inverse).\n",
    "*Other properties:\n",
    "\\begin{align*}\n",
    "(\\arr{A}\\arr{C})^{-1}=\\arr{C}^{-1}\\arr{A}^{-1}\\\\\n",
    "(\\arr{A}\\arr{B}\\arr{C})^{-1}=\\arr{C}^{-1}\\arr{B}^{-1}\\arr{A}^{-1}\n",
    "\\end{align*}"
   ]
  },
  {
   "cell_type": "markdown",
   "metadata": {
    "colab_type": "text",
    "id": "gJm4zw7y0X8M"
   },
   "source": [
    "* Be careful:\\\n",
    "if $\\arr{A}=\\begin{bmatrix}1&0&-2\\\\\n",
    "2&-1&3\\\\\n",
    "4&0&2\\end{bmatrix}$ then $\\arr{A}^{-1}=\\begin{bmatrix}2/10&0&2/10\\\\\n",
    "-8/10&-1&7/10\\\\\n",
    "\\bf{-4/10}&\\bf{0}&\\bf{1/10}\\end{bmatrix}$"
   ]
  },
  {
   "cell_type": "markdown",
   "metadata": {
    "colab_type": "text",
    "id": "KVA88Rat0d2e"
   },
   "source": [
    "if $\\arr{B}=\\begin{bmatrix}1&0&-2\\\\\n",
    "4&0&2\\\\\n",
    "2&-1&3\\end{bmatrix}$(switched rows), then $\\arr{B}^{-1}\\neq\\begin{bmatrix}2/10&0&2/10\\\\\n",
    "\\bf{-4/10}&\\bf{0}&\\bf{1/10}\\\\\n",
    "-8/10&-1&7/10\\end{bmatrix}$ but $\\arr{B}^{-1}=\\begin{bmatrix}2/10&2/10&0\\\\\n",
    "-8/10&7/10&-1\\\\\n",
    "-4/10&1/10&0\\end{bmatrix}$\n",
    "\n",
    "Notice the columns were switched here.\n"
   ]
  },
  {
   "cell_type": "markdown",
   "metadata": {
    "colab_type": "text",
    "id": "D-l8ilCqwI3O"
   },
   "source": [
    "# Determinants"
   ]
  },
  {
   "cell_type": "markdown",
   "metadata": {
    "colab_type": "text",
    "id": "6v7nfFTkwOJF"
   },
   "source": [
    "* Every square matrix is associated with a real number (a scalar) called the determinant.\n",
    "* The calue of the determinant will tell us whether or not the matrix is singular.\n",
    "* Generalized definition:\n",
    "\\begin{equation}\n",
    "  D = |\\arr{A}| = det(\\arr{A})=\\begin{cases}\n",
    "    a_{11} & \\text{if $n=1$}.\\\\\n",
    "    a_{11}A_{11} + a_{12}A_{12} + ... + a_{1n}A_{1n} & \\text{if n>1}.\n",
    "  \\end{cases}\n",
    "\\end{equation}"
   ]
  },
  {
   "cell_type": "markdown",
   "metadata": {
    "colab_type": "text",
    "id": "h59GIlat0o3Z"
   },
   "source": [
    "where $A_{1k} = (-1)^{1+k} det(\\arr{M_{1k}})$, for $k=1,2,...n$\\\n",
    "Here, $A_{1k}$ is a \"cofactor\" and $det(\\arr{M_{1k}})$ is the \"minor\" of $a_{1k}$.\\\n",
    "Also, $\\arr{M_{1k}}$ = submatrix formed from $\\arr{A}$ when deleting row $1$ and column $k$.\n",
    "\n",
    "OK, so this makes no sense without some examples. Let's consider matrices of different sizes."
   ]
  },
  {
   "cell_type": "markdown",
   "metadata": {
    "colab_type": "text",
    "id": "Keac7yn1CGDf"
   },
   "source": [
    "## Case 1: 1$\\times$1 Matrix"
   ]
  },
  {
   "cell_type": "markdown",
   "metadata": {
    "colab_type": "text",
    "id": "jWIME6brCOTx"
   },
   "source": [
    "$|A| = a_{11}=a$\n",
    "* $\\arr{A}$ is non-singular if $a\\neq0$ and singular if $a=0$.\\\n",
    "Ex: $\\arr{A}=[5] \\hspace{0.5cm} \\rightarrow{} det(\\arr{A})=5$ (non singular) \\\n",
    "$\\hspace{0.6cm} \\arr{B}=[0] \\hspace{0.5cm} \\rightarrow{} det(\\arr{B})=0$ (singular) \n",
    "\n",
    "Let's think about a physical system $ax=5$. If $a$ is zero, we have a problem! If it's non-zero, we can solve."
   ]
  },
  {
   "cell_type": "markdown",
   "metadata": {
    "colab_type": "text",
    "id": "6bg9ovc-CSYS"
   },
   "source": [
    "## Case 2: 2$\\times$2 matrix"
   ]
  },
  {
   "cell_type": "markdown",
   "metadata": {
    "colab_type": "text",
    "id": "NFjSLfzr3yg0"
   },
   "source": [
    "Let $\\arr{A} = \\begin{bmatrix}a_{11} & a_{12}\\\\ a_{21} & a_{22}\\end{bmatrix}$\n",
    "* $\\arr{A}$ will be non-singular only if we can convert it to $\\arr{I}$ using elementary row operations. This property is called \"row equivalence\".\n",
    "* Let's consider how we would convert $\\arr{A}$ to $\\arr{I}$.\\\n",
    "If $a_{11}\\neq0$ then we can perform the following row operations:\n",
    "1.   Multiply the second row of $\\arr{A}$ by $a_{11}$ $(R_2=a_{11}R_2)$\n",
    "\n",
    "\\begin{align*}\n",
    "\\arr{A}=\\begin{bmatrix}a_{11} & a_{12}\\\\\n",
    "a_{11}a_{21} & a_{11}a_{22}\\end{bmatrix}\n",
    "\\end{align*}\n",
    "\n",
    "2. Subtract $a_{21} \\times $Row 1 from Row 2 $(R_2 = R_2 - a_{21} R_1)$\\\n",
    "\\begin{align*}\n",
    "\\arr{A}=\\begin{bmatrix}a_{11} & a_{12}\\\\\n",
    "0 & a_{11}a_{22} - a_{12}a_{21}\\end{bmatrix}\n",
    "\\end{align*}\n",
    "\n",
    "* Since $a_{11}\\neq0$, $\\arr{A}$ will be row equivalent to $\\arr{I}$ IFF:\\\n",
    "\\begin{align*}\n",
    "a_{11}a_{22}-a_{12}a_{21} \\neq 0 \\hspace{2cm} (*)\n",
    "\\end{align*}\n",
    "* If $a_{11}=0$, then we can switch the two rows:\n",
    "\\begin{align*}\n",
    "\\arr{A} = \\begin{bmatrix}\n",
    "a_{21} & a_{22}\\\\\n",
    "0 & a_{12}\n",
    "\\end{bmatrix}\n",
    "\\end{align*}\n",
    "* Now, $\\arr{A}$ will be row equivalent to $\\arr{I}$ if $a_{21}\\neq0$ and $a_{12}\\neq0$\n",
    "* This is the same as saying $a_{11}a_{21} \\neq 0$ which is equivalent to (*) for $a_{11}=0$:\n",
    "\\begin{align*}\n",
    "a_{11}a_{22} - a_{12}a_{21} = a_{12}a_{21}\\neq0\n",
    "\\end{align*}\n",
    "* Great! These cases of $a_{11}\\neq0$ and $a_{11}=0$ are consistent and we can define \\\n",
    "$det(\\arr{A}) = |\\arr{A}| = a_{11}a_{22} - a_{12} a_{21}$\n",
    "\\begin{equation}\n",
    "  \\begin{cases}\n",
    "    =0 & \\text{when $\\arr{A}$ is singular}\\\\\n",
    "    \\neq 0 & \\text{when $\\arr{A}$ is non-singular}\n",
    "  \\end{cases}\n",
    "\\end{equation}\n"
   ]
  },
  {
   "cell_type": "markdown",
   "metadata": {
    "colab_type": "text",
    "id": "lnVbNMQ_2dhE"
   },
   "source": [
    "## Case 3: 3$\\times$ 3 Matrix"
   ]
  },
  {
   "cell_type": "markdown",
   "metadata": {
    "colab_type": "text",
    "id": "Jw3MVbMp2mHL"
   },
   "source": [
    "* We will not derive the determinant for a 3 $\\times$ 3 matrix in class (see text).\n",
    "* How to find it?\n",
    "\\begin{align*}\n",
    "det(\\arr{A}) = \\left|\\begin{array}{}\n",
    "a_{11}&a_{12}&a_{13}\\\\\n",
    "a_{21}&a_{22}&a_{23}\\\\\n",
    "a_{31}&a_{32}&a_{33}\n",
    "\\end{array}\\right|\n",
    "\\end{align*}\n",
    "* Working with Row 1, decompose as follows:\n",
    "\\begin{align}\n",
    "det(\\arr{A}) &= a_{11} \\left|\\begin{array}{}\n",
    "a_{22}&a_{23}\\\\\n",
    "a_{32}&a_{33}\n",
    "\\end{array}\\right|\n",
    "-a_{12} \\left|\\begin{array}{}\n",
    "a_{21}&a_{23}\\\\\n",
    "a_{31}&a_{33}\n",
    "\\end{array}\\right|\n",
    "+ a_{13} \\left|\\begin{array}{}\n",
    "a_{21}&a_{22}\\\\\n",
    "a_{31}&a_{33}\n",
    "\\end{array}\\right|\\\\\n",
    "&= a_{11}(a_{22}a_{33}-a_{23}a_{32}) - a_{12}(a_{21}a_{33}-a_{23}a_{31}) + a_{13}(a_{21}a_{32}-a_{22}a_{31})\n",
    "\\end{align}\n",
    "* Looks complicated but it's just a number. Each determinant is a \"minor\" determinant of the submatrix formed by eliminating row $j$ and column $k$.\\\n",
    "$Ex: \\arr{A} = \\left|\\begin{array}{}\n",
    "2&5&4\\\\\n",
    "3&1&2\\\\\n",
    "5&4&6\\end{array}\\right|$ then \n",
    "\\begin{align}\n",
    "det(\\arr{A}) &= 2 \\left|\\begin{array}{}\n",
    "1&2\\\\\n",
    "4&6\\end{array}\\right|\n",
    " - 5 \\left|\\begin{array}{}\n",
    "3&2\\\\\n",
    "5&6\\end{array}\\right|\n",
    "+4 \\left|\\begin{array}{}\n",
    "3&1\\\\\n",
    "5&4\\end{array}\\right|\\\\\n",
    "&=2(6-8) - 5(18-10) + 4(12-5)\\\\\n",
    "&=-4 -40 + 28\\\\\n",
    "det(\\arr{A})&=-16\n",
    "\\end{align}"
   ]
  },
  {
   "cell_type": "markdown",
   "metadata": {
    "colab_type": "text",
    "id": "CZQgxSmODzdi"
   },
   "source": [
    "* You don't need to work with Row 1. You can use any column or row you'd like but must switch signs for even number rows or columns.\\\n",
    "Ex: Choose column 2\\\n",
    "$\\arr{A} = \\left|\\begin{array}{}\n",
    "2&5&4\\\\\n",
    "3&1&2\\\\\n",
    "5&4&6\\end{array}\\right|$ \n",
    "\\begin{align}\n",
    "det(\\arr{A}) &= -5 \\left|\\begin{array}{}\n",
    "3&2\\\\\n",
    "5&6\\end{array}\\right|\n",
    " +1 \\left|\\begin{array}{}\n",
    "2&4\\\\\n",
    "5&6\\end{array}\\right|\n",
    "-4 \\left|\\begin{array}{}\n",
    "2&4\\\\\n",
    "3&2\\end{array}\\right|\\\\\n",
    "&=-5(18-10) +(12-20) - 4(4-12)\\\\\n",
    "&=-40 -8 + 32\\\\\n",
    "&=-16\n",
    "\\end{align}"
   ]
  },
  {
   "cell_type": "markdown",
   "metadata": {
    "colab_type": "text",
    "id": "6x9rOeDsGAR-"
   },
   "source": [
    "* OK, so let's revisit the general determinant definition:\n",
    "\\begin{equation}\n",
    "  D = |\\arr{A}| = det(\\arr{A})=\\begin{cases}\n",
    "    a_{11} & \\text{if $n=1$}.\\\\\n",
    "    a_{11}A_{11} + a_{12}A_{12} + ... + a_{1n}A_{1n} & \\text{if n>1}.\n",
    "  \\end{cases}\n",
    "\\end{equation}\n",
    "where $A_{1k} = (-1)^{1+k} det(\\arr{M_{1k}})$, for $k=1,2,...n$"
   ]
  },
  {
   "cell_type": "markdown",
   "metadata": {
    "colab_type": "text",
    "id": "pvlcI4TxLg3f"
   },
   "source": [
    "* So, for a 3 $\\times$3 matrix, this would be \n",
    "\\begin{align}\n",
    "|\\arr{A}| & = a_{11}(-1)^2 det(\\arr{M_{11}}) + a_{12}(-1)^3 det(\\arr{M_{12}}) + a_{13}(-1)^4 det(\\arr{M_{13}})\\\\\n",
    "& =a_{11} det(\\arr{M_{11}}) - a_{12} det(\\arr{M_{12}}) + a_{13} det(\\arr{M_{13}})\n",
    "\\end{align}"
   ]
  },
  {
   "cell_type": "markdown",
   "metadata": {
    "colab_type": "text",
    "id": "QfX9czOzLkCn"
   },
   "source": [
    "* This generalized definition is for when we work off of Row 1 only.\n",
    "* We can further generalize\n",
    "\\begin{align}\n",
    "|\\arr{A}| = a_{j1}A_{j1} + a_{j2}A_{j2} + ... + a_{jn}A_{jn} && \\text{for n > 1}\n",
    "\\end{align}\n",
    "where $A_{j1} = (-1)^{j+k}det(\\arr{M_{jk}})$ (careful with the signs!)\\\n",
    "$A_{j1}$ is the \"cofactor\" and $det(\\arr{M_{jk}})$ is the \"minor\""
   ]
  },
  {
   "cell_type": "markdown",
   "metadata": {
    "colab_type": "text",
    "id": "k-qunXXqnDQW"
   },
   "source": [
    "* An n $\\times$ n matrix has $n^2$ cofactors and $n^2$ minors.\n",
    "\\begin{align}\n",
    "\\begin{bmatrix}\n",
    "a_{11} & a_{12} & a_{13}\\\\\n",
    "a_{21} & a_{22} & a_{23}\\\\\n",
    "a_{31} & a_{32} & a_{33}\n",
    "\\end{bmatrix} & \\rightarrow 3 \\times 3 & \\text{will have 9 cofactors and 9 minors}\\\\\n",
    "\\\\\n",
    "\\begin{array}{}\n",
    "A_{11}=+det(\\arr{M_{11}}) && A_{12}=-det(\\arr{M_{12}}) && A_{13}=+det(\\arr{M_{13}})\\\\\n",
    "A_{21}=-det(\\arr{M_{21}}) && A_{22}=+det(\\arr{M_{22}}) && A_{23}=-det(\\arr{M_{23}})\\\\\n",
    "A_{31}=+det(\\arr{M_{31}}) && A_{32}=-det(\\arr{M_{32}}) && A_{33}=+det(\\arr{M_{33}})\n",
    "\\end{array}\n",
    "\\end{align}\n",
    "* Note the \"checker board\" of the signs:\\\n",
    "\\begin{array}{}\n",
    "+ & - & +\\\\\n",
    "- & + & -\\\\\n",
    "+ & - & +\n",
    "\\end{array}\n",
    "* In general, working with Row 1 is easiest, but the super-generalized formula (allowing you to work with any row or column) can be useful depending on the matrix.\\\n",
    "Ex: \\begin{bmatrix}\n",
    "9 & 2 & \\bf{4}\\\\\n",
    "5 & 3 & \\bf{0}\\\\\n",
    "1 & 6 & \\bf{0}\n",
    "\\end{bmatrix}\\\n",
    "Which column or row to choose? Column 3, which has most zeros.\n",
    "\\begin{align}\n",
    "|\\arr{A}| &= a_{13}A_{13} + a_{23}A_{23} + a_{33}A_{33}\\\\\n",
    "& = a_{13} (-1)^{1+3} det(\\arr{M_{13}})\\\\\n",
    "& = 4[(5)(6)-(3)(1)]\\\\\n",
    "& = 108\n",
    "\\end{align}"
   ]
  },
  {
   "cell_type": "markdown",
   "metadata": {
    "colab_type": "text",
    "id": "3GRxVHX3scN0"
   },
   "source": [
    "$\\underline{Ques}:$ What if you have a row or column of all zeros?\\\n",
    "$\\underline{ANS}:$ Determinant is zero. We can \"choose\" all-zero row or column and then all $a_{jk}$'s will be zero.\\\n",
    "Makes sense right? When $|\\arr{A}|=0, \\arr{A}$ is singular, or not invertible i.e. we can't convert the matrix to $\\arr{I}$ if there is a row or column of all zeros."
   ]
  },
  {
   "cell_type": "markdown",
   "metadata": {
    "colab_type": "text",
    "id": "986HkH6VlnfR"
   },
   "source": [
    "# In-class problem\n",
    "\n",
    "Calculate the determinant of  \n",
    "\\begin{align*}\n",
    "\\begin{bmatrix}\n",
    "-1&2&3\\\\\n",
    "0&5&3\\\\\n",
    "3&1&1\n",
    "\\end{bmatrix}\n",
    "\\end{align*}\n",
    "\n",
    "and upload it on gradescope under the in-class problem."
   ]
  },
  {
   "cell_type": "markdown",
   "metadata": {
    "colab_type": "text",
    "id": "nUH0jehI2ocF"
   },
   "source": [
    "\n",
    "# Use of determinant in solving systems of equations\n",
    "\n",
    "We will use the determinant a lot next class. Let's clarify a couple of uses now.\n",
    "\n",
    "We're interested in a solution to the system $\\arr{A}\\vec{x}=\\vec{b}$. There are two situations:\n",
    "* Non-homogeneous system of equations ($\\vec{b}\\neq\\vec{0}$)\n",
    "  * If $det(\\arr{A}\\neq 0)$ or \n",
    "  * rank($\\arr{A}$)=n, or\n",
    "  * $\\arr{A}$ is invertible,\n",
    "  * **THEN** a unique solution exists\n",
    "* Homogeneous system of equations ($\\vec{b}=\\vec{0}$)\n",
    "  * If $det(\\arr{A}\\neq 0)$\n",
    "    * There is only the trivial solution $\\vec{x}=\\vec{0}$\n",
    "  * If $det(\\arr{A}= 0)$\n",
    "    * There is both the trivial solution $\\vec{x}=\\vec{0}$ **AND** a series of non-trivial solutions"
   ]
  },
  {
   "cell_type": "code",
   "execution_count": 0,
   "metadata": {
    "colab": {},
    "colab_type": "code",
    "id": "C28m3e1g3QWY"
   },
   "outputs": [],
   "source": []
  },
  {
   "cell_type": "markdown",
   "metadata": {
    "colab_type": "text",
    "id": "j6r0-cYxkLSl"
   },
   "source": [
    "# Numerical calculation of determinant\n",
    "\n",
    "Easy! np.linalg.det\n",
    "\n",
    "Calculate the determinant of  \n",
    "\\begin{align*}\n",
    "\\begin{bmatrix}\n",
    "-1&2&3\\\\\n",
    "0&5&3\\\\\n",
    "3&1&1\n",
    "\\end{bmatrix}\n",
    "\\end{align*}\n"
   ]
  },
  {
   "cell_type": "code",
   "execution_count": 1,
   "metadata": {
    "colab": {
     "base_uri": "https://localhost:8080/",
     "height": 34
    },
    "colab_type": "code",
    "executionInfo": {
     "elapsed": 613,
     "status": "ok",
     "timestamp": 1580222933250,
     "user": {
      "displayName": "Zachary Ulissi",
      "photoUrl": "",
      "userId": "07633171379186475882"
     },
     "user_tz": 300
    },
    "id": "gRRbK8kCkPRP",
    "outputId": "efab4e97-a8c6-4f04-91b8-36d36d9441f6"
   },
   "outputs": [
    {
     "data": {
      "text/plain": [
       "-29.000000000000004"
      ]
     },
     "execution_count": 1,
     "metadata": {},
     "output_type": "execute_result"
    }
   ],
   "source": [
    "import numpy as np\n",
    "A = np.array([[-1,2,3],[0,5,3],[3,1,1]])\n",
    "np.linalg.det(A)"
   ]
  },
  {
   "cell_type": "code",
   "execution_count": 0,
   "metadata": {
    "colab": {},
    "colab_type": "code",
    "id": "YzGEpyANoEiG"
   },
   "outputs": [],
   "source": []
  }
 ],
 "metadata": {
  "colab": {
   "collapsed_sections": [],
   "name": "5-determinants.ipynb",
   "provenance": []
  },
  "kernelspec": {
   "display_name": "Python 3",
   "name": "python3"
  },
  "language_info": {
   "codemirror_mode": {
    "name": "ipython",
    "version": 3
   },
   "file_extension": ".py",
   "mimetype": "text/x-python",
   "name": "python",
   "nbconvert_exporter": "python",
   "pygments_lexer": "ipython3",
   "version": "3.9.13"
  }
 },
 "nbformat": 4,
 "nbformat_minor": 0
}