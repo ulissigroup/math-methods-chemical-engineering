{
 "cells": [
  {
   "cell_type": "markdown",
   "metadata": {
    "badge": true,
    "branch": "master",
    "colab_type": "text",
    "comment": "This badge cell was added by colab-badge-action",
    "id": "8mo0331r7nwY",
    "nb_path": "lecture_notes/07b-numerical-eigenvalues.ipynb",
    "repo_name": "ulissigroup/math-methods-chemical-engineering"
   },
   "source": [
    "<a href=\"https://colab.research.google.com/github/ulissigroup/math-methods-chemical-engineering/blob/master/lecture_notes/07b-numerical-eigenvalues.ipynb\" target=\"_parent\"><img src=\"https://colab.research.google.com/assets/colab-badge.svg\" alt=\"Open In Colab\"/></a>\n",
    "$$\\newcommand{\\arr}[1]{\\underline{\\underline{#1}}}$$    \n",
    "$$\\newcommand{\\vec}[1]{\\underline{#1}}$$   \n",
    "$$\\require{mhchem}$$"
   ]
  },
  {
   "cell_type": "markdown",
   "metadata": {
    "colab_type": "text",
    "id": "fzpmdqw4k2iW"
   },
   "source": [
    "# Eigenvectors in python\n",
    "\n",
    "Unsurprisingly, there is a function to calculate eigenvalues and eigenvectors in python! \n",
    "* For most cases, we can use the ```np.linalg.eig``` function\n",
    "* If we only wanted the eigenvalues, ```np.linalg.eigvals``` will just calculate those. \n"
   ]
  },
  {
   "cell_type": "markdown",
   "metadata": {
    "colab_type": "text",
    "id": "Fo0w0su0lgJL"
   },
   "source": [
    "## Example 1: real roots\n",
    "\n",
    "Let's start with a simple example where we already know the roots: a lower triangular matrix\n",
    "\\begin{align}\n",
    "\\arr{A}=\\begin{bmatrix}6&10&6 \\\\ 0&8&12 \\\\ 0&0&2 \\end{bmatrix} \n",
    "\\end{align}"
   ]
  },
  {
   "cell_type": "code",
   "execution_count": 1,
   "metadata": {
    "colab": {
     "base_uri": "https://localhost:8080/",
     "height": 86
    },
    "colab_type": "code",
    "executionInfo": {
     "elapsed": 586,
     "status": "ok",
     "timestamp": 1580828849563,
     "user": {
      "displayName": "Zachary Ulissi",
      "photoUrl": "",
      "userId": "07633171379186475882"
     },
     "user_tz": 300
    },
    "id": "J8R2YVZ3XQ56",
    "outputId": "702b6066-d823-4f68-b793-fb1de8c04e24"
   },
   "outputs": [
    {
     "name": "stdout",
     "output_type": "stream",
     "text": [
      "[6. 8. 2.]\n",
      "[[ 1.          0.98058068 -0.53452248]\n",
      " [ 0.          0.19611614 -0.26726124]\n",
      " [ 0.          0.          0.80178373]]\n"
     ]
    }
   ],
   "source": [
    "import numpy as np\n",
    "\n",
    "A = np.array([[6,10,6],\n",
    "              [0,8,2],\n",
    "              [0,0,2]])\n",
    "\n",
    "eigenvalues, eigenvectors = np.linalg.eig(A)\n",
    "\n",
    "print(eigenvalues)\n",
    "print(eigenvectors)"
   ]
  },
  {
   "cell_type": "code",
   "execution_count": 0,
   "metadata": {
    "colab": {},
    "colab_type": "code",
    "id": "brGg630lXF84"
   },
   "outputs": [],
   "source": [
    "\n",
    "\n",
    "\n",
    "\n",
    "\n",
    "\n",
    "\n",
    "\n",
    "\n",
    "\n",
    "\n",
    "\n",
    "\n",
    "\n",
    "\n",
    "\n",
    "\n",
    "\n",
    "\n",
    "\n",
    "\n",
    "\n",
    "\n",
    "\n",
    "\n",
    "\n",
    "\n",
    "\n"
   ]
  },
  {
   "cell_type": "code",
   "execution_count": 2,
   "metadata": {
    "colab": {
     "base_uri": "https://localhost:8080/",
     "height": 121
    },
    "colab_type": "code",
    "executionInfo": {
     "elapsed": 627,
     "status": "ok",
     "timestamp": 1580828907016,
     "user": {
      "displayName": "Zachary Ulissi",
      "photoUrl": "",
      "userId": "07633171379186475882"
     },
     "user_tz": 300
    },
    "id": "nsi0jnq3k0PY",
    "outputId": "9a7bfbe5-7799-4454-d9b3-fa362502c8ec"
   },
   "outputs": [
    {
     "name": "stdout",
     "output_type": "stream",
     "text": [
      "The eigenvalues of A are: [6. 8. 2.]\n",
      "The eigenvalues of A are: [6. 8. 2.]\n",
      "The eigenvalue corresponding to lambda=6 is: [1. 0. 0.]\n",
      "The eigenvalue corresponding to lambda=6 is: [1. 0. 0.]\n",
      "The eigenvalue corresponding to lambda=8 is: [0.98058068 0.19611614 0.        ]\n",
      "The eigenvalue corresponding to lambda=2 is: [ 0.84270097 -0.48154341  0.24077171]\n"
     ]
    }
   ],
   "source": [
    "import numpy as np\n",
    "\n",
    "A = np.array([[6,10,6], \n",
    "              [0,8,12],\n",
    "              [0,0,2]])\n",
    "\n",
    "# calculate the eigenvalues of A:\n",
    "eigenvalues = np.linalg.eigvals(A)\n",
    "print('The eigenvalues of A are: %s'%eigenvalues)\n",
    "\n",
    "#Calculate both the eigenvalues and eigenvectors of A\n",
    "eigenvalues, eigenvectors = np.linalg.eig(A)\n",
    "# calculate the eigenvalues of A:\n",
    "print('The eigenvalues of A are: %s'%eigenvalues)\n",
    "\n",
    "#Print the first eigenvalue and eigenvector\n",
    "print('The eigenvalue corresponding to lambda=%d is: %s'%(eigenvalues[0],eigenvectors[:,0]))\n",
    "\n",
    "# We can also iterate over each eigenvalue/eigenvector pair\n",
    "for i in range(len(eigenvalues)):\n",
    "  print('The eigenvalue corresponding to lambda=%d is: %s'%(eigenvalues[i],eigenvectors[:,i]))\n"
   ]
  },
  {
   "cell_type": "markdown",
   "metadata": {
    "colab_type": "text",
    "id": "-RG9haPJmLc4"
   },
   "source": [
    "Let's compare these to the known values from lecture 6:\n",
    "\n",
    "Eigenspace corresponding to $\\arr{A}$ :\n",
    "\\begin{array}{}\n",
    "6, \\begin{bmatrix} 1\\\\0\\\\0 \\end{bmatrix} ; & 8,\\begin{bmatrix} 5\\\\1\\\\0 \\end{bmatrix}; & 2, \\begin{bmatrix} 7\\\\-4\\\\2\\end{bmatrix} ; & \\vec{x}=\\vec{0}\n",
    "\\end{array}\n",
    "\n",
    "Notice that the eigenvectors returned by numpy are the same ratios, but different absolute numbers. We can rescale these if we need. \n"
   ]
  },
  {
   "cell_type": "code",
   "execution_count": 3,
   "metadata": {
    "colab": {
     "base_uri": "https://localhost:8080/",
     "height": 34
    },
    "colab_type": "code",
    "executionInfo": {
     "elapsed": 623,
     "status": "ok",
     "timestamp": 1580828990998,
     "user": {
      "displayName": "Zachary Ulissi",
      "photoUrl": "",
      "userId": "07633171379186475882"
     },
     "user_tz": 300
    },
    "id": "sp1ROp7JXQRW",
    "outputId": "1278576c-4c4c-4bd5-c3d5-5848df8c9be2"
   },
   "outputs": [
    {
     "data": {
      "text/plain": [
       "array([5., 1., 0.])"
      ]
     },
     "execution_count": 3,
     "metadata": {},
     "output_type": "execute_result"
    }
   ],
   "source": [
    "eigenvectors[:,1]/eigenvectors[1,1]"
   ]
  },
  {
   "cell_type": "code",
   "execution_count": 0,
   "metadata": {
    "colab": {},
    "colab_type": "code",
    "id": "JgTjHZH9XJo5"
   },
   "outputs": [],
   "source": [
    "\n",
    "\n",
    "\n",
    "\n",
    "\n",
    "\n",
    "\n",
    "\n",
    "\n",
    "\n",
    "\n",
    "\n",
    "\n",
    "\n",
    "\n",
    "\n",
    "\n",
    "\n",
    "\n",
    "\n",
    "\n",
    "\n",
    "\n",
    "\n",
    "\n",
    "\n",
    "\n",
    "\n",
    "\n",
    "\n",
    "\n",
    "\n",
    "\n"
   ]
  },
  {
   "cell_type": "code",
   "execution_count": 4,
   "metadata": {
    "colab": {
     "base_uri": "https://localhost:8080/",
     "height": 34
    },
    "colab_type": "code",
    "executionInfo": {
     "elapsed": 612,
     "status": "ok",
     "timestamp": 1580829030721,
     "user": {
      "displayName": "Zachary Ulissi",
      "photoUrl": "",
      "userId": "07633171379186475882"
     },
     "user_tz": 300
    },
    "id": "NWOayeCdnxqT",
    "outputId": "4736ed26-c351-48da-aba4-c87fca31d543"
   },
   "outputs": [
    {
     "name": "stdout",
     "output_type": "stream",
     "text": [
      "The eigenvalue corresponding to lambda=2 is: [ 7. -4.  2.]\n"
     ]
    }
   ],
   "source": [
    "  print('The eigenvalue corresponding to lambda=%d is: %s'%(eigenvalues[2],eigenvectors[:,2]/eigenvectors[2,2]*2))"
   ]
  },
  {
   "cell_type": "markdown",
   "metadata": {
    "colab_type": "text",
    "id": "psy_t6i2nlqF"
   },
   "source": [
    "## Complex roots\n",
    "\n",
    "$ \\arr{A} = \\begin{bmatrix} 1&2 \\\\ -2&1 \\end{bmatrix} $\n",
    "\n",
    "This is easy now that we know how to use ```np.linalg.eig```!"
   ]
  },
  {
   "cell_type": "code",
   "execution_count": 5,
   "metadata": {
    "colab": {
     "base_uri": "https://localhost:8080/",
     "height": 69
    },
    "colab_type": "code",
    "executionInfo": {
     "elapsed": 638,
     "status": "ok",
     "timestamp": 1580829064199,
     "user": {
      "displayName": "Zachary Ulissi",
      "photoUrl": "",
      "userId": "07633171379186475882"
     },
     "user_tz": 300
    },
    "id": "aoLJJp7HXPq6",
    "outputId": "48eaac70-6031-431a-d647-408d955cd189"
   },
   "outputs": [
    {
     "name": "stdout",
     "output_type": "stream",
     "text": [
      "[1.+2.j 1.-2.j]\n",
      "[[0.        -0.70710678j 0.        +0.70710678j]\n",
      " [0.70710678+0.j         0.70710678-0.j        ]]\n"
     ]
    }
   ],
   "source": [
    "A = np.array([[1,2],\n",
    "              [-2,1]])\n",
    "\n",
    "eigenvalues, eigenvectors = np.linalg.eig(A)\n",
    "\n",
    "print(eigenvalues)\n",
    "print(eigenvectors)"
   ]
  },
  {
   "cell_type": "code",
   "execution_count": 6,
   "metadata": {
    "colab": {
     "base_uri": "https://localhost:8080/",
     "height": 34
    },
    "colab_type": "code",
    "executionInfo": {
     "elapsed": 610,
     "status": "ok",
     "timestamp": 1580829160051,
     "user": {
      "displayName": "Zachary Ulissi",
      "photoUrl": "",
      "userId": "07633171379186475882"
     },
     "user_tz": 300
    },
    "id": "KkN1gk-Lwd-w",
    "outputId": "9834c745-6b6b-42ed-cac0-ba4088185179"
   },
   "outputs": [
    {
     "data": {
      "text/plain": [
       "(-3+4j)"
      ]
     },
     "execution_count": 6,
     "metadata": {},
     "output_type": "execute_result"
    }
   ],
   "source": [
    "(1+2.j)**2"
   ]
  },
  {
   "cell_type": "code",
   "execution_count": 0,
   "metadata": {
    "colab": {},
    "colab_type": "code",
    "id": "yIO8rpQbXLrK"
   },
   "outputs": [],
   "source": [
    "\n",
    "\n",
    "\n",
    "\n",
    "\n",
    "\n",
    "\n",
    "\n",
    "\n",
    "\n",
    "\n",
    "\n",
    "\n",
    "\n",
    "\n",
    "\n",
    "\n",
    "\n",
    "\n",
    "\n",
    "\n",
    "\n",
    "\n",
    "\n",
    "\n",
    "\n",
    "\n",
    "\n"
   ]
  },
  {
   "cell_type": "code",
   "execution_count": 7,
   "metadata": {
    "colab": {
     "base_uri": "https://localhost:8080/",
     "height": 68
    },
    "colab_type": "code",
    "executionInfo": {
     "elapsed": 389,
     "status": "ok",
     "timestamp": 1580763784751,
     "user": {
      "displayName": "Zachary Ulissi",
      "photoUrl": "",
      "userId": "07633171379186475882"
     },
     "user_tz": 300
    },
    "id": "V2Hl-hGd3HSZ",
    "outputId": "ee22f03e-be2c-4913-ce2a-6cb723fa5986"
   },
   "outputs": [
    {
     "name": "stdout",
     "output_type": "stream",
     "text": [
      "[1.+2.j 1.-2.j]\n",
      "[[0.        -0.70710678j 0.        +0.70710678j]\n",
      " [0.70710678+0.j         0.70710678-0.j        ]]\n"
     ]
    }
   ],
   "source": [
    "A = np.array([[1,2],[-2,1]])\n",
    "eigenvalues, eigenvectors = np.linalg.eig(A)\n",
    "\n",
    "print(eigenvalues)\n",
    "print(eigenvectors)"
   ]
  },
  {
   "cell_type": "markdown",
   "metadata": {
    "colab_type": "text",
    "id": "ZTz5NpmA3SRE"
   },
   "source": [
    "Notice that numpy is using \"j\" to indicate a complex number. Otherwise things look pretty simple!\n",
    "\n",
    "### Here are some examples of complex numbers:"
   ]
  },
  {
   "cell_type": "code",
   "execution_count": 0,
   "metadata": {
    "colab": {},
    "colab_type": "code",
    "id": "2ejtV1Z-XN2Z"
   },
   "outputs": [],
   "source": [
    "\n",
    "\n",
    "\n",
    "\n",
    "\n",
    "\n",
    "\n",
    "\n",
    "\n",
    "\n",
    "\n",
    "\n",
    "\n",
    "\n",
    "\n",
    "\n",
    "\n",
    "\n",
    "\n",
    "\n",
    "\n",
    "\n",
    "\n",
    "\n",
    "\n",
    "\n",
    "\n"
   ]
  },
  {
   "cell_type": "code",
   "execution_count": 8,
   "metadata": {
    "colab": {
     "base_uri": "https://localhost:8080/",
     "height": 68
    },
    "colab_type": "code",
    "executionInfo": {
     "elapsed": 443,
     "status": "ok",
     "timestamp": 1580764040379,
     "user": {
      "displayName": "Zachary Ulissi",
      "photoUrl": "",
      "userId": "07633171379186475882"
     },
     "user_tz": 300
    },
    "id": "6fdg-89m3Z3z",
    "outputId": "1b49acde-fc94-4336-d5f0-2330931e1c79"
   },
   "outputs": [
    {
     "name": "stdout",
     "output_type": "stream",
     "text": [
      "a=(1+2j)\n",
      "a+1=(2+2j)\n",
      "2a=(2+4j)\n"
     ]
    }
   ],
   "source": [
    "a = 1+2.j\n",
    "print('a=%s'%str(a))\n",
    "print('a+1=%s'%str(a+1))\n",
    "print('2a=%s'%str(2*a))"
   ]
  },
  {
   "cell_type": "markdown",
   "metadata": {
    "colab_type": "text",
    "id": "e3HtT5ElWxPn"
   },
   "source": [
    "# In-class problem \n",
    "\n",
    "Calculate the eigenvalues and eigenvectors for the matrix \n",
    "\n",
    "$\\arr{A} = \\begin{bmatrix} 0&9&-12 \\\\ -9&0&20 \\\\ 12&-20&0 \\end{bmatrix}$\n"
   ]
  },
  {
   "cell_type": "markdown",
   "metadata": {
    "colab_type": "text",
    "id": "WKXTJ4og4AYC"
   },
   "source": [
    "# Population eigenvalue problem\n",
    "\n",
    "Let's start with calculating the eigenvalues and eigenvectors of the population transition matrix $\\arr{A}$"
   ]
  },
  {
   "cell_type": "code",
   "execution_count": 0,
   "metadata": {
    "colab": {},
    "colab_type": "code",
    "id": "LKcdIx6RXUSL"
   },
   "outputs": [],
   "source": []
  },
  {
   "cell_type": "code",
   "execution_count": 0,
   "metadata": {
    "colab": {},
    "colab_type": "code",
    "id": "UI8xb7nVXTFW"
   },
   "outputs": [],
   "source": [
    "\n",
    "\n",
    "\n",
    "\n",
    "\n",
    "\n",
    "\n",
    "\n",
    "\n",
    "\n",
    "\n",
    "\n",
    "\n",
    "\n",
    "\n",
    "\n",
    "\n",
    "\n"
   ]
  },
  {
   "cell_type": "code",
   "execution_count": 9,
   "metadata": {
    "colab": {
     "base_uri": "https://localhost:8080/",
     "height": 86
    },
    "colab_type": "code",
    "executionInfo": {
     "elapsed": 628,
     "status": "ok",
     "timestamp": 1580829200129,
     "user": {
      "displayName": "Zachary Ulissi",
      "photoUrl": "",
      "userId": "07633171379186475882"
     },
     "user_tz": 300
    },
    "id": "0NtoFidD8gSg",
    "outputId": "f0808015-0535-49d1-8bdf-0ff4b8545924"
   },
   "outputs": [
    {
     "name": "stdout",
     "output_type": "stream",
     "text": [
      "[ 1.  -0.1  0.6]\n",
      "[[ 0.          0.40824829 -0.32444284]\n",
      " [ 0.         -0.81649658 -0.48666426]\n",
      " [ 1.          0.40824829  0.81110711]]\n"
     ]
    }
   ],
   "source": [
    "A = np.array([[0.3,0.2,0],\n",
    "              [0.6,0.2,0],\n",
    "              [0.1,0.6,1]])\n",
    "\n",
    "eigenvalues, eigenvectors = np.linalg.eig(A)\n",
    "\n",
    "print(eigenvalues)\n",
    "print(eigenvectors)"
   ]
  },
  {
   "cell_type": "markdown",
   "metadata": {
    "colab_type": "text",
    "id": "zmnCYg8X8uS_"
   },
   "source": [
    "Matches up with what we already know! \n",
    "\n",
    "Let's do a little example for a random starting population of 1000 people. "
   ]
  },
  {
   "cell_type": "code",
   "execution_count": 0,
   "metadata": {
    "colab": {},
    "colab_type": "code",
    "id": "oc4djFDmXV1V"
   },
   "outputs": [],
   "source": []
  },
  {
   "cell_type": "code",
   "execution_count": 0,
   "metadata": {
    "colab": {},
    "colab_type": "code",
    "id": "cbh4kxnJXVJK"
   },
   "outputs": [],
   "source": [
    "\n",
    "\n",
    "\n",
    "\n",
    "\n",
    "\n",
    "\n",
    "\n",
    "\n",
    "\n",
    "\n",
    "\n",
    "\n",
    "\n",
    "\n",
    "\n",
    "\n",
    "\n",
    "\n",
    "\n",
    "\n",
    "\n",
    "\n"
   ]
  },
  {
   "cell_type": "code",
   "execution_count": 10,
   "metadata": {
    "colab": {
     "base_uri": "https://localhost:8080/",
     "height": 34
    },
    "colab_type": "code",
    "executionInfo": {
     "elapsed": 825,
     "status": "ok",
     "timestamp": 1580829255895,
     "user": {
      "displayName": "Zachary Ulissi",
      "photoUrl": "",
      "userId": "07633171379186475882"
     },
     "user_tz": 300
    },
    "id": "N8ae7zP1-Mod",
    "outputId": "80e9de8d-3911-468d-b074-3210cc2affa4"
   },
   "outputs": [
    {
     "name": "stdout",
     "output_type": "stream",
     "text": [
      "Starting population: 389 alive, 565 sick, 46 dead \n"
     ]
    }
   ],
   "source": [
    "# Generate three random numbers\n",
    "p = np.random.rand(3)\n",
    "\n",
    "#Normalize the random numbers and multiple by 1000 so that they all add correctly.\n",
    "p = np.round(p/p.sum()*1000)\n",
    "\n",
    "print('Starting population: %d alive, %d sick, %d dead '%(p[0],p[1],p[2]))"
   ]
  },
  {
   "cell_type": "markdown",
   "metadata": {
    "colab_type": "text",
    "id": "ajr_GgEWAZPW"
   },
   "source": [
    "Now, let's increment the population:"
   ]
  },
  {
   "cell_type": "code",
   "execution_count": 0,
   "metadata": {
    "colab": {},
    "colab_type": "code",
    "id": "9KZb9URQXYsJ"
   },
   "outputs": [],
   "source": []
  },
  {
   "cell_type": "code",
   "execution_count": 11,
   "metadata": {
    "colab": {
     "base_uri": "https://localhost:8080/",
     "height": 34
    },
    "colab_type": "code",
    "executionInfo": {
     "elapsed": 631,
     "status": "ok",
     "timestamp": 1580829277199,
     "user": {
      "displayName": "Zachary Ulissi",
      "photoUrl": "",
      "userId": "07633171379186475882"
     },
     "user_tz": 300
    },
    "id": "hY0266YaAvvO",
    "outputId": "9b6c657b-a5bb-43f4-d003-f6d1ce311f8a"
   },
   "outputs": [
    {
     "name": "stdout",
     "output_type": "stream",
     "text": [
      "Starting population: 229 alive, 346 sick, 423 dead \n"
     ]
    }
   ],
   "source": [
    "p2 = A@p\n",
    "print('Starting population: %d alive, %d sick, %d dead '%(p2[0],p2[1],p2[2]))"
   ]
  },
  {
   "cell_type": "code",
   "execution_count": 12,
   "metadata": {
    "colab": {
     "base_uri": "https://localhost:8080/",
     "height": 34
    },
    "colab_type": "code",
    "executionInfo": {
     "elapsed": 593,
     "status": "ok",
     "timestamp": 1580829345092,
     "user": {
      "displayName": "Zachary Ulissi",
      "photoUrl": "",
      "userId": "07633171379186475882"
     },
     "user_tz": 300
    },
    "id": "yXEk70zSxQfu",
    "outputId": "3c7fa7e7-6bde-478e-871a-8e530f161e56"
   },
   "outputs": [
    {
     "name": "stdout",
     "output_type": "stream",
     "text": [
      "Starting population: 0 alive, 0 sick, 999 dead \n"
     ]
    }
   ],
   "source": [
    "p2 = np.linalg.matrix_power(A,20)@p\n",
    "print('Starting population: %d alive, %d sick, %d dead '%(p2[0],p2[1],p2[2]))"
   ]
  },
  {
   "cell_type": "markdown",
   "metadata": {
    "colab_type": "text",
    "id": "hT6RtWKtAyN6"
   },
   "source": [
    "Let's do this after n iterations:\n"
   ]
  },
  {
   "cell_type": "code",
   "execution_count": 0,
   "metadata": {
    "colab": {},
    "colab_type": "code",
    "id": "u3FKsDB3XbWZ"
   },
   "outputs": [],
   "source": []
  },
  {
   "cell_type": "code",
   "execution_count": 0,
   "metadata": {
    "colab": {},
    "colab_type": "code",
    "id": "BQJ1K1_FXavq"
   },
   "outputs": [],
   "source": [
    "\n",
    "\n",
    "\n",
    "\n",
    "\n",
    "\n",
    "\n",
    "\n",
    "\n",
    "\n",
    "\n",
    "\n",
    "\n",
    "\n",
    "\n",
    "\n",
    "\n",
    "\n",
    "\n",
    "\n",
    "\n",
    "\n",
    "\n",
    "\n",
    "\n",
    "\n",
    "\n",
    "\n",
    "\n"
   ]
  },
  {
   "cell_type": "code",
   "execution_count": 13,
   "metadata": {
    "colab": {
     "base_uri": "https://localhost:8080/",
     "height": 34
    },
    "colab_type": "code",
    "executionInfo": {
     "elapsed": 458,
     "status": "ok",
     "timestamp": 1580770208625,
     "user": {
      "displayName": "Zachary Ulissi",
      "photoUrl": "",
      "userId": "07633171379186475882"
     },
     "user_tz": 300
    },
    "id": "167zc7TFBuzM",
    "outputId": "b503a114-216b-4559-e7b9-52bdfb8fd0b3"
   },
   "outputs": [
    {
     "name": "stdout",
     "output_type": "stream",
     "text": [
      "Starting population: 0 alive, 0 sick, 999 dead \n"
     ]
    }
   ],
   "source": [
    "p2 = np.linalg.matrix_power(A,20)@p\n",
    "print('Starting population: %d alive, %d sick, %d dead '%(p2[0],p2[1],p2[2]))"
   ]
  },
  {
   "cell_type": "markdown",
   "metadata": {
    "colab_type": "text",
    "id": "XcFT5j5RByEq"
   },
   "source": [
    "Notice that everyone dies. This happens for any starting configuration. "
   ]
  },
  {
   "cell_type": "markdown",
   "metadata": {
    "colab_type": "text",
    "id": "VeJ5ItHUCKN9"
   },
   "source": [
    "## In-class problem: zombies\n",
    "\n",
    "We discover that there's a 20% chance of a dead person coming back from the dead (a zombie). Calculate the steady state distribution of live, sick, and dead people. "
   ]
  },
  {
   "cell_type": "code",
   "execution_count": 14,
   "metadata": {
    "colab": {
     "base_uri": "https://localhost:8080/",
     "height": 86
    },
    "colab_type": "code",
    "executionInfo": {
     "elapsed": 574,
     "status": "ok",
     "timestamp": 1580829684323,
     "user": {
      "displayName": "Zachary Ulissi",
      "photoUrl": "",
      "userId": "07633171379186475882"
     },
     "user_tz": 300
    },
    "id": "zJp0mPoKB0sI",
    "outputId": "ebdf3f35-082e-455c-a4f0-17e2daf33216"
   },
   "outputs": [
    {
     "name": "stdout",
     "output_type": "stream",
     "text": [
      "[-0.17015621  0.47015621  1.        ]\n",
      "[[ 0.34604809 -0.44068607  0.08630637]\n",
      " [-0.81348329 -0.37492736  0.3020723 ]\n",
      " [ 0.4674352   0.81561343  0.94937007]]\n"
     ]
    }
   ],
   "source": [
    "A = np.array([[0.3,0.2,0.0],\n",
    "              [0.6,0.2,0.2],\n",
    "              [0.1,0.6,0.8]])\n",
    "\n",
    "eigenvalues, eigenvectors = np.linalg.eig(A)\n",
    "\n",
    "print(eigenvalues)\n",
    "print(eigenvectors)"
   ]
  },
  {
   "cell_type": "code",
   "execution_count": 15,
   "metadata": {
    "colab": {
     "base_uri": "https://localhost:8080/",
     "height": 34
    },
    "colab_type": "code",
    "executionInfo": {
     "elapsed": 639,
     "status": "ok",
     "timestamp": 1580829704422,
     "user": {
      "displayName": "Zachary Ulissi",
      "photoUrl": "",
      "userId": "07633171379186475882"
     },
     "user_tz": 300
    },
    "id": "hX2ode91CZq8",
    "outputId": "4ebcdfaf-9ef5-461d-df83-bc7863919565"
   },
   "outputs": [
    {
     "name": "stdout",
     "output_type": "stream",
     "text": [
      "Starting population: 64 alive, 225 sick, 709 dead \n"
     ]
    }
   ],
   "source": [
    "p2 = np.linalg.matrix_power(A,20)@p\n",
    "print('Starting population: %d alive, %d sick, %d dead '%(p2[0],p2[1],p2[2]))"
   ]
  },
  {
   "cell_type": "code",
   "execution_count": 0,
   "metadata": {
    "colab": {},
    "colab_type": "code",
    "id": "ziLhlpnegYiT"
   },
   "outputs": [],
   "source": []
  },
  {
   "cell_type": "code",
   "execution_count": 0,
   "metadata": {
    "colab": {},
    "colab_type": "code",
    "id": "M88Er4H6gYGC"
   },
   "outputs": [],
   "source": []
  }
 ],
 "metadata": {
  "colab": {
   "collapsed_sections": [],
   "name": "7b-numerical-eigenvalues.ipynb",
   "provenance": []
  },
  "kernelspec": {
   "display_name": "Python 3",
   "name": "python3"
  },
  "language_info": {
   "codemirror_mode": {
    "name": "ipython",
    "version": 3
   },
   "file_extension": ".py",
   "mimetype": "text/x-python",
   "name": "python",
   "nbconvert_exporter": "python",
   "pygments_lexer": "ipython3",
   "version": "3.9.13"
  }
 },
 "nbformat": 4,
 "nbformat_minor": 0
}