{
 "cells": [
  {
   "cell_type": "markdown",
   "metadata": {
    "id": "9I1aTG9lH9TC"
   },
   "source": [
    "$$\\newcommand{\\arr}[1]{\\underline{\\underline{#1}}}$$    \n",
    "$$\\newcommand{\\vec}[1]{\\underline{#1}}$$   \n",
    "$$\\require{mhchem}$$"
   ]
  },
  {
   "cell_type": "markdown",
   "metadata": {},
   "source": [
    "# Stats continued and linear regression"
   ]
  },
  {
   "cell_type": "code",
   "execution_count": null,
   "metadata": {
    "id": "vqy-ZuwSwp4X"
   },
   "outputs": [],
   "source": [
    "# make our plot look a little prettier \n",
    "\n",
    "import seaborn as sns\n",
    "sns.set()"
   ]
  },
  {
   "cell_type": "markdown",
   "metadata": {
    "id": "qTVt3JgYBG8l"
   },
   "source": [
    "# Recap from last class\n",
    "\n",
    "- There are multiple types of distributions depending on whether the problem is discrete and the underlying physics generating the samples\n",
    "- Averaging lots of independent random variables (regardless of their distributions) tends to lead to Gaussian distributions\n",
    "- We can plot and fit distributions of any type. Be careful of binning errors, and think about whether PDF or CDF is the more useful way to visualize your distribution\n",
    "- If we have experimental data there are multiple ways we can fit the distribution:\n",
    "    - We could fit the cumulative distribution function (just like any curve fitting)\n",
    "    - We could look up estimators for the quantity we want for the specific distribution we're interested in\n",
    "    - (harder, not covered) we could use maximum likelihood estimation to derive an MLE estimator for the parameters\n",
    "- Estimators for quantitites we're interested in, with uncertainty on those measurements, allow us to compare distributions and forms the basis of tools like the Student t-test\n",
    "- Always think about the assumption you're making with various statistic tools (distributions, etc)\n",
    "    - Think about whether those assumptions are appropriate or not. \n",
    "    - It is often possible to directly sample the quantities for the assumed question and test your understanding/interpretation\n",
    "    - Common implicit assumption: all errors are Gaussian and independent and identically distributed (IID)"
   ]
  },
  {
   "cell_type": "markdown",
   "metadata": {
    "id": "H92FnMDiCEHo"
   },
   "source": [
    "# Confidence intervals on samples from a Gaussian distribution\n",
    "\n",
    "The most common thing we have to do as engineers is estimate the confidence interval from a set of repeated measurements. If we assume an unknown constant Gaussian noise is added to each data point, we want to calculate the 95% confidence interval. \n",
    "\n",
    "You now have the tools to calculate this. You can also do this more simply with scipy.stats.norm.interval."
   ]
  },
  {
   "cell_type": "code",
   "execution_count": 5,
   "metadata": {
    "colab": {
     "base_uri": "https://localhost:8080/"
    },
    "executionInfo": {
     "elapsed": 124,
     "status": "ok",
     "timestamp": 1650975244868,
     "user": {
      "displayName": "Zachary Ulissi",
      "userId": "07633171379186475882"
     },
     "user_tz": 240
    },
    "id": "-F6RNGpQE1gW",
    "outputId": "c5064e3f-d2cc-492b-89eb-78c3903c3752"
   },
   "outputs": [
    {
     "data": {
      "text/plain": [
       "(0.004418275090167456, 0.4721634801676413)"
      ]
     },
     "execution_count": 5,
     "metadata": {},
     "output_type": "execute_result"
    }
   ],
   "source": [
    "import numpy as np \n",
    "\n",
    "rng = np.random.default_rng()\n",
    "samples = rng.normal(0.2, 1.2, 100)\n",
    "\n",
    "from scipy import stats\n",
    "\n",
    "stats.norm.interval(alpha = 0.95,\n",
    "                    loc = samples.mean(),\n",
    "                    scale = samples.std()/np.sqrt(len(samples)))\n",
    "                    "
   ]
  },
  {
   "cell_type": "markdown",
   "metadata": {
    "id": "T9902J_9FnRX"
   },
   "source": [
    "You are welcome to use this to check your results on the homework! \n",
    "\n",
    "Don't be afraid to test whether your interpretation is correct by direct sampling. \n",
    "\n",
    "The interpretation is \"if we assume this data came from a gaussian distribution with the mean/std estimated from our data and we repeated the sampling, there is a 95% chance that the new estimated mean would be within this range\"."
   ]
  },
  {
   "cell_type": "markdown",
   "metadata": {
    "id": "1b52NAuZF-aT"
   },
   "source": [
    "# Linear Regression \n",
    "\n",
    "This section is partially adapted from the 06-623 lecture notes. \n",
    "\n",
    "I am sure you all have fit linear curves through experimental data. We will briefly review this, show that it is a linear algebra problem you can solve, and then show you can do the same thing with linear combinations of non-linear functions. \n",
    "\n"
   ]
  },
  {
   "cell_type": "markdown",
   "metadata": {
    "id": "OBm3_A5IGhRb"
   },
   "source": [
    "\n",
    "# Linear regression\n",
    "\n"
   ]
  },
  {
   "cell_type": "markdown",
   "metadata": {
    "id": "35axLcTKGhRc"
   },
   "source": [
    "In linear regression, we seek to find models in the form $y = a_{0} f_{0}(x) + a_{1} f_{1}(x) + ... + a_{n} f_{n}(x) + \\epsilon$, where $a_{i}$ are coefficients to be determined, and &epsilon; are the residual errors. We call this linear regression because the model is linear in the unknown coefficients $a_{i}$. The functions can be any function of $x$.\n",
    "\n",
    "If we are given some data as pairs of (x, y), we can construct a set of equations of the form:\n",
    "\n",
    "$[f_{0}(x_{i}), f_{1}(x_{i}), ..., f_{n}(x_{i})]\\cdot[a_{0}, a_{1}, ...,  a_{n}]^T = y_{i}$\n",
    "\n",
    "There will be one of these equations for every data point, so we end up with a matrix equation that looks like:\n",
    "\n",
    "$\\arr{X} \\vec{a} = \\vec{y}$\n",
    "\n",
    "There are *usually* more data points than in the vector of $\\mathbf{a}$, so the shapes of these arrays are not suitable to solve directly. \n",
    "\n",
    "To be a little more specific, suppose we have $m$ pairs of (x, y) data points, and we want to fit a model containing $n$ parameters. Then, the dimensions of the $\\arr{X}$ will be (m, n), the dimensions of $\\vec{a}$ will be (n, 1), and the dimensions of $\\vec{y}$ will be (m, 1).  We have more equations than unknowns here, and we cannot use `np.linalg.solve(X,y)` because $\\arr{X}$ is not square. \n",
    "\n",
    "We can modify the equation though if we *left multiply* each side of the equation by $\\arr{X}^T$.\n",
    "\n",
    "$\\arr{X}^T \\arr{X} \\vec{a} = \\arr{X}^T \\vec{y}$\n",
    "\n",
    "The array $\\arr{X}^T \\arr{X}$ now has the shape (n, m) \\* (m, n) = (n, n). The right hand side $\\arr{X}^T \\vec{y}$ has a shape of (n, m) \\* (n, 1) = (n, 1), and $\\mathbf{a}$ is still (n, 1). This new matrix equation can be solved efficiently with `A\\b`. We will not prove this, but solving this modified equation *is equivalent* to finding the set of parameters that minimizes the summed squared errors: $\\sum (\\arr{X}^T\\arr{X} \\cdot \\vec{a} - \\arr{X}^T\\vec{y})^2$.\n",
    "\n",
    "The parameters can then be found by linear algebra. Let's do this for our example. \n",
    "\n"
   ]
  },
  {
   "cell_type": "markdown",
   "metadata": {
    "id": "Bap52fgDIzPX"
   },
   "source": [
    "# Example for polynomial fitting using linear regression\n",
    "\n",
    "Let's start with some sample data collected from an experimental reactor."
   ]
  },
  {
   "cell_type": "code",
   "execution_count": 6,
   "metadata": {
    "colab": {
     "base_uri": "https://localhost:8080/",
     "height": 299
    },
    "executionInfo": {
     "elapsed": 593,
     "status": "ok",
     "timestamp": 1650976539686,
     "user": {
      "displayName": "Zachary Ulissi",
      "userId": "07633171379186475882"
     },
     "user_tz": 240
    },
    "id": "ZT6yRsw_I9hR",
    "outputId": "00e9209e-7156-4991-b97a-8030efd4e2c1"
   },
   "outputs": [
    {
     "data": {
      "text/plain": [
       "Text(0, 0.5, 'Concentration $C_A$')"
      ]
     },
     "execution_count": 6,
     "metadata": {},
     "output_type": "execute_result"
    },
    {
     "data": {
      "image/png": "[encoded data removed]",
      "text/plain": [
       "<Figure size 432x288 with 1 Axes>"
      ]
     },
     "metadata": {
      "needs_background": "light"
     },
     "output_type": "display_data"
    }
   ],
   "source": [
    "import matplotlib.pyplot as plt\n",
    "\n",
    "time = np.array([0.0, 50.0, 100.0, 150.0, 200.0, 250.0, 300.0])\n",
    "Ca = np.array([50.0, 38.0, 30.6, 25.6, 22.2, 19.5, 17.4])*1e-3\n",
    "\n",
    "plt.plot(time,Ca,'o')\n",
    "plt.xlabel('Time $t$')\n",
    "plt.ylabel('Concentration $C_A$')"
   ]
  },
  {
   "cell_type": "markdown",
   "metadata": {
    "id": "6MvUiR0pJFZf"
   },
   "source": [
    "Fit a fourth order polynomial to this data and determine the confidence interval for each parameter. This data is from example 5-1 in Fogler, Elements of Chemical Reaction Engineering.\n"
   ]
  },
  {
   "cell_type": "markdown",
   "metadata": {
    "id": "AsYTAwDKJGWg"
   },
   "source": [
    "## Linear regression (polynomial order 1)\n",
    "\n",
    "Let's start with the relatively easy case of fitting $C_a(t) = b_0 + b_1t$, where $b_0,b_1$ are the parameters we're trying to fit. This is equivalent to the linear algebra problem \n",
    "\\begin{align*}\n",
    "\\vec{y}=\\arr{X}\\vec{b}\n",
    "\\end{align*}\n",
    "where the first column of $X$ is 1, and the second column is $t$. This becomes a little more obvious if we just look at the data!\n"
   ]
  },
  {
   "cell_type": "code",
   "execution_count": 7,
   "metadata": {
    "colab": {
     "base_uri": "https://localhost:8080/"
    },
    "executionInfo": {
     "elapsed": 145,
     "status": "ok",
     "timestamp": 1650976626716,
     "user": {
      "displayName": "Zachary Ulissi",
      "userId": "07633171379186475882"
     },
     "user_tz": 240
    },
    "id": "npOOE-G6JnYP",
    "outputId": "156ca357-eb14-4c2d-a825-60c1f317765f"
   },
   "outputs": [
    {
     "name": "stdout",
     "output_type": "stream",
     "text": [
      "[[  1.   0.]\n",
      " [  1.  50.]\n",
      " [  1. 100.]\n",
      " [  1. 150.]\n",
      " [  1. 200.]\n",
      " [  1. 250.]\n",
      " [  1. 300.]]\n"
     ]
    }
   ],
   "source": [
    "X = np.array([time**0, time**1]).T\n",
    "\n",
    "print(X)"
   ]
  },
  {
   "cell_type": "markdown",
   "metadata": {
    "id": "a4MLnOEKJyCf"
   },
   "source": [
    "Imagine multiplying this matrix by a vector $\\vec{b}$. The first entry would be $b_0+b_10=b_0$. The second row would be $b_0+b_150$ etc. Now, we are going to form the linear algebra problem \n",
    "\n",
    "$\\arr{X}^T \\arr{X} \\vec{b} = \\arr{X}^T \\vec{y}$\n",
    "\n",
    "And then solve this!"
   ]
  },
  {
   "cell_type": "code",
   "execution_count": 8,
   "metadata": {
    "colab": {
     "base_uri": "https://localhost:8080/"
    },
    "executionInfo": {
     "elapsed": 116,
     "status": "ok",
     "timestamp": 1650976693447,
     "user": {
      "displayName": "Zachary Ulissi",
      "userId": "07633171379186475882"
     },
     "user_tz": 240
    },
    "id": "XaC2CI2VKWPw",
    "outputId": "de37cfe4-0d84-4242-a6db-7b8597b8a05d"
   },
   "outputs": [
    {
     "name": "stdout",
     "output_type": "stream",
     "text": [
      "[ 0.04438571 -0.00010229]\n"
     ]
    }
   ],
   "source": [
    "b = np.linalg.solve(X.T@X, X.T@Ca)\n",
    "\n",
    "print(b)"
   ]
  },
  {
   "cell_type": "markdown",
   "metadata": {
    "id": "VeV4s3uxKeb3"
   },
   "source": [
    "This is the best possible linear fit for our system, and we did it with linear algebra! Let's plot it."
   ]
  },
  {
   "cell_type": "code",
   "execution_count": 9,
   "metadata": {
    "colab": {
     "base_uri": "https://localhost:8080/",
     "height": 281
    },
    "executionInfo": {
     "elapsed": 428,
     "status": "ok",
     "timestamp": 1650976715878,
     "user": {
      "displayName": "Zachary Ulissi",
      "userId": "07633171379186475882"
     },
     "user_tz": 240
    },
    "id": "-bWKZBBQKjJO",
    "outputId": "1c29b928-7f4a-4756-c6e7-8f5d529637d1"
   },
   "outputs": [
    {
     "data": {
      "image/png": "[encoded data removed]",
      "text/plain": [
       "<Figure size 432x288 with 1 Axes>"
      ]
     },
     "metadata": {
      "needs_background": "light"
     },
     "output_type": "display_data"
    }
   ],
   "source": [
    "plt.plot(time,Ca,'o-')\n",
    "plt.plot(time, b[0]+time*b[1],'--')\n",
    "plt.xlabel('Time $t$')\n",
    "plt.ylabel('Concentration $C_A$')\n",
    "plt.show()"
   ]
  },
  {
   "cell_type": "markdown",
   "metadata": {
    "id": "5rBvjXmrLB5w"
   },
   "source": [
    "## Polynomial fit (fourth order)\n",
    "\n",
    "Now here is the really cool thing: we can do this for more complicated functions too as long as it's a linear combination. Let's try a fourth order fit. "
   ]
  },
  {
   "cell_type": "code",
   "execution_count": 24,
   "metadata": {
    "colab": {
     "base_uri": "https://localhost:8080/",
     "height": 281
    },
    "executionInfo": {
     "elapsed": 292,
     "status": "ok",
     "timestamp": 1650978865709,
     "user": {
      "displayName": "Zachary Ulissi",
      "userId": "07633171379186475882"
     },
     "user_tz": 240
    },
    "id": "kDzmbWA-LSq-",
    "outputId": "3237acbb-abc5-4c31-8e2d-9941c23d3e86"
   },
   "outputs": [
    {
     "data": {
      "image/png": "[encoded data removed]",
      "text/plain": [
       "<Figure size 432x288 with 1 Axes>"
      ]
     },
     "metadata": {
      "needs_background": "light"
     },
     "output_type": "display_data"
    }
   ],
   "source": [
    "X = np.array([time**0, time**1, time**2, time**3, np.exp(-time)]).T\n",
    "b = np.linalg.solve(X.T@X, X.T@Ca)\n",
    "\n",
    "# Calculate the fitted polynomial at 50 points between 0 and 300\n",
    "time_eval = np.linspace(0, 300)\n",
    "X_eval = np.array([time_eval**0, time_eval**1, time_eval**2, time_eval**3, np.exp(-time_eval)]).T\n",
    "\n",
    "# Plot the results\n",
    "plt.plot(time,Ca,'o-')\n",
    "plt.plot(time_eval, X_eval@b,'--')\n",
    "plt.xlabel('Time $t$')\n",
    "plt.ylabel('Concentration $C_A$')\n",
    "plt.show()"
   ]
  },
  {
   "cell_type": "code",
   "execution_count": null,
   "metadata": {
    "colab": {
     "base_uri": "https://localhost:8080/"
    },
    "executionInfo": {
     "elapsed": 446,
     "status": "ok",
     "timestamp": 1620304824869,
     "user": {
      "displayName": "Zachary Ulissi",
      "photoUrl": "",
      "userId": "07633171379186475882"
     },
     "user_tz": 240
    },
    "id": "h0F2dKsAsX6K",
    "outputId": "9e226be8-4e2d-4659-b155-787a22223245"
   },
   "outputs": [
    {
     "data": {
      "text/plain": [
       "array([ 4.82000000e-02, -2.37761905e-04,  7.10000000e-07, -8.66666667e-10,\n",
       "        1.80000000e-03])"
      ]
     },
     "execution_count": 29,
     "metadata": {
      "tags": []
     },
     "output_type": "execute_result"
    }
   ],
   "source": [
    "b"
   ]
  },
  {
   "cell_type": "markdown",
   "metadata": {
    "id": "POzALRttLpie"
   },
   "source": [
    "The function itself is obviously non-linear. However, because it is a linear combination of non-linear things, we can do this. We could add whatever basis functions we want into this if we wanted!"
   ]
  },
  {
   "cell_type": "code",
   "execution_count": null,
   "metadata": {
    "id": "mc5HMAtLsWtj"
   },
   "outputs": [],
   "source": []
  },
  {
   "cell_type": "code",
   "execution_count": 14,
   "metadata": {
    "colab": {
     "base_uri": "https://localhost:8080/",
     "height": 281
    },
    "executionInfo": {
     "elapsed": 369,
     "status": "ok",
     "timestamp": 1650978086949,
     "user": {
      "displayName": "Zachary Ulissi",
      "userId": "07633171379186475882"
     },
     "user_tz": 240
    },
    "id": "YJWcj7QsL3Bf",
    "outputId": "a32bf01c-273e-4827-94e9-b8e7f7f1918c"
   },
   "outputs": [
    {
     "data": {
      "image/png": "[encoded data removed]",
      "text/plain": [
       "<Figure size 432x288 with 1 Axes>"
      ]
     },
     "metadata": {
      "needs_background": "light"
     },
     "output_type": "display_data"
    }
   ],
   "source": [
    "X = np.array([time**0, time**1]).T\n",
    "b = np.linalg.solve(X.T@X, X.T@Ca)\n",
    "\n",
    "# Calculate the fitted polynomial at 50 points between 0 and 300\n",
    "time_eval = np.linspace(0, 300)\n",
    "X_eval = np.array([time_eval**0, time_eval**1]).T\n",
    "\n",
    "# Plot the results\n",
    "plt.plot(time,Ca,'o-')\n",
    "plt.plot(time_eval, X_eval@b,'--')\n",
    "plt.xlabel('Time $t$')\n",
    "plt.ylabel('Concentration $C_A$')\n",
    "plt.show()"
   ]
  },
  {
   "cell_type": "code",
   "execution_count": null,
   "metadata": {
    "colab": {
     "base_uri": "https://localhost:8080/"
    },
    "executionInfo": {
     "elapsed": 1240,
     "status": "ok",
     "timestamp": 1620306325851,
     "user": {
      "displayName": "Zachary Ulissi",
      "photoUrl": "",
      "userId": "07633171379186475882"
     },
     "user_tz": 240
    },
    "id": "spgtHIMZ8sIZ",
    "outputId": "e9ef7db7-c9a8-474c-bbce-b1581c054841"
   },
   "outputs": [
    {
     "data": {
      "text/plain": [
       "array([ 0.04438571, -0.00010229])"
      ]
     },
     "execution_count": 46,
     "metadata": {
      "tags": []
     },
     "output_type": "execute_result"
    }
   ],
   "source": [
    "b"
   ]
  },
  {
   "cell_type": "markdown",
   "metadata": {
    "id": "zIMk7E00MIoe"
   },
   "source": [
    "Here we can see that the best fit actually includes a little bit of the log function. "
   ]
  },
  {
   "cell_type": "markdown",
   "metadata": {
    "id": "Ne04Xh8PMZV9"
   },
   "source": [
    "## Linear regresion minimizes the sum squared error\n",
    "\n",
    "I claimed that solving this equation was equivalent to minimizing the summed squared errors. Here we demonstrate that is consistent with our observation for the first parameter.\n",
    "\n",
    "\n"
   ]
  },
  {
   "cell_type": "code",
   "execution_count": 11,
   "metadata": {
    "colab": {
     "base_uri": "https://localhost:8080/",
     "height": 297
    },
    "executionInfo": {
     "elapsed": 321,
     "status": "ok",
     "timestamp": 1650977252446,
     "user": {
      "displayName": "Zachary Ulissi",
      "userId": "07633171379186475882"
     },
     "user_tz": 240
    },
    "id": "j1DlrgFjMgI9",
    "outputId": "976f1b38-f445-4128-fc00-6f2ee38c3bad"
   },
   "outputs": [
    {
     "data": {
      "text/plain": [
       "Text(0, 0.5, 'SSE')"
      ]
     },
     "execution_count": 11,
     "metadata": {},
     "output_type": "execute_result"
    },
    {
     "data": {
      "image/png": "[encoded data removed]",
      "text/plain": [
       "<Figure size 432x288 with 1 Axes>"
      ]
     },
     "metadata": {
      "needs_background": "light"
     },
     "output_type": "display_data"
    }
   ],
   "source": [
    "X = np.array([time**0, time**1, time**2]).T\n",
    "b = np.linalg.solve(X.T@X,X.T@Ca)\n",
    "\n",
    "P = np.linspace(0.9*b[0],1.1*b[0])\n",
    "b_copy = b.copy()\n",
    "\n",
    "errors = []\n",
    "for p in P:\n",
    "    b_copy[0]=p\n",
    "    error = np.sum((Ca-X@b_copy)**2.)\n",
    "    errors.append(error)\n",
    "    \n",
    "plt.plot(P,errors)\n",
    "\n",
    "plt.xlabel('intercept, b[0]')\n",
    "plt.ylabel('SSE')"
   ]
  },
  {
   "cell_type": "code",
   "execution_count": 12,
   "metadata": {
    "colab": {
     "base_uri": "https://localhost:8080/"
    },
    "executionInfo": {
     "elapsed": 141,
     "status": "ok",
     "timestamp": 1650977272598,
     "user": {
      "displayName": "Zachary Ulissi",
      "userId": "07633171379186475882"
     },
     "user_tz": 240
    },
    "id": "Y79rq_UR6e6V",
    "outputId": "69b45ba9-42c6-4e61-b217-21b2eb2d7ead"
   },
   "outputs": [
    {
     "data": {
      "text/plain": [
       "array([ 4.89214286e-02, -2.11142857e-04,  3.62857143e-07])"
      ]
     },
     "execution_count": 12,
     "metadata": {},
     "output_type": "execute_result"
    }
   ],
   "source": [
    "b"
   ]
  },
  {
   "cell_type": "code",
   "execution_count": null,
   "metadata": {
    "colab": {
     "base_uri": "https://localhost:8080/"
    },
    "executionInfo": {
     "elapsed": 4338,
     "status": "ok",
     "timestamp": 1620301117376,
     "user": {
      "displayName": "Zachary Ulissi",
      "photoUrl": "",
      "userId": "07633171379186475882"
     },
     "user_tz": 240
    },
    "id": "LKfyE8MQNjKR",
    "outputId": "0fb54331-f23f-474d-ca41-dd60b94e1723"
   },
   "outputs": [
    {
     "name": "stdout",
     "output_type": "stream",
     "text": [
      "[ 4.98714286e-02 -2.74476190e-04  9.32857143e-07 -1.26666667e-09]\n"
     ]
    }
   ],
   "source": [
    "print(b)"
   ]
  },
  {
   "cell_type": "markdown",
   "metadata": {
    "id": "D45XFoKuN2yM"
   },
   "source": [
    "The minimum in the sum square error is precisely at the bottom of this well!"
   ]
  },
  {
   "cell_type": "markdown",
   "metadata": {
    "id": "N6cdW6mQPvIc"
   },
   "source": [
    "## Metrics to evaluate how well two models fit\n",
    "\n"
   ]
  },
  {
   "cell_type": "markdown",
   "metadata": {
    "id": "FRU0iEyOP2Ae"
   },
   "source": [
    "-   The error in the fit is defined as: $\\bf{e} = \\bf{y} - \\bf{X}\\cdot \\bf{p}$\n",
    "\n",
    "-   We can compute the summed squared error as $SSE = \\bf{e} \\cdot \\bf{e}$\n",
    "-   We define $SST = \\sum (\\bf{y} - \\overline{y})^2 = (\\bf{y} - \\overline{y})\\cdot(\\bf{y} - \\overline{y})$\n",
    "\n",
    "-   We can use that to compute $R^2 = 1 - SSE/SST$ which roughly corresponds to the fraction of variance in the data explained by the model.\n",
    "\n",
    "- Other common metrics include the root mean squared error, and the mean absolute error. \n",
    "-   Let us calculate each of these"
   ]
  },
  {
   "cell_type": "code",
   "execution_count": 25,
   "metadata": {
    "colab": {
     "base_uri": "https://localhost:8080/"
    },
    "executionInfo": {
     "elapsed": 1896,
     "status": "ok",
     "timestamp": 1650978876912,
     "user": {
      "displayName": "Zachary Ulissi",
      "userId": "07633171379186475882"
     },
     "user_tz": 240
    },
    "id": "x08kfyXFyf9B",
    "outputId": "37843486-aae9-4092-b3d3-4d6c017121e6"
   },
   "outputs": [
    {
     "name": "stdout",
     "output_type": "stream",
     "text": [
      "R^2 = 0.99997\n",
      "Mean absolute error = 0.000043\n",
      "RMSE = 0.000054\n"
     ]
    }
   ],
   "source": [
    "\n",
    "y = Ca\n",
    "e = Ca - np.dot(X,b)\n",
    "SSE = np.dot(e, e)\n",
    "\n",
    "yb = y - np.mean(y)\n",
    "SST = np.dot(yb, yb)\n",
    "\n",
    "Rsq = 1-SSE/SST\n",
    "\n",
    "print('R^2 = %1.5f'%Rsq)\n",
    "\n",
    "mean_absolute_error = np.mean(np.abs(e))\n",
    "\n",
    "print('Mean absolute error = %1.6f'%mean_absolute_error)\n",
    "\n",
    "root_mean_squared_error = np.sqrt(np.mean(e**2))\n",
    "\n",
    "print('RMSE = %1.6f'%root_mean_squared_error)"
   ]
  },
  {
   "cell_type": "markdown",
   "metadata": {
    "id": "3T3tmRm2swGV"
   },
   "source": [
    "We also made an assumption (implicitly) that the errors were Gaussian distributed and random. It's good to check that this is in fact the case. If the residuals do not look gaussian distributed and random, you are probably missing additional physics/effects/etc."
   ]
  },
  {
   "cell_type": "code",
   "execution_count": 26,
   "metadata": {
    "colab": {
     "base_uri": "https://localhost:8080/",
     "height": 279
    },
    "executionInfo": {
     "elapsed": 996,
     "status": "ok",
     "timestamp": 1650978880560,
     "user": {
      "displayName": "Zachary Ulissi",
      "userId": "07633171379186475882"
     },
     "user_tz": 240
    },
    "id": "y-Cn1i-rs87z",
    "outputId": "25514969-06bc-4fc6-95f8-e113410270e8"
   },
   "outputs": [
    {
     "data": {
      "image/png": "[encoded data removed]",
      "text/plain": [
       "<Figure size 432x288 with 1 Axes>"
      ]
     },
     "metadata": {
      "needs_background": "light"
     },
     "output_type": "display_data"
    }
   ],
   "source": [
    "plt.plot(time,e,'.--')\n",
    "plt.xlabel('Time')\n",
    "plt.ylabel('Residuals')\n",
    "plt.show()"
   ]
  },
  {
   "cell_type": "code",
   "execution_count": 27,
   "metadata": {
    "colab": {
     "base_uri": "https://localhost:8080/",
     "height": 336
    },
    "executionInfo": {
     "elapsed": 265,
     "status": "ok",
     "timestamp": 1650978884461,
     "user": {
      "displayName": "Zachary Ulissi",
      "userId": "07633171379186475882"
     },
     "user_tz": 240
    },
    "id": "jRXhzGhvCp3j",
    "outputId": "e669dd17-aee1-4225-93e2-5c5371ef9d0b"
   },
   "outputs": [
    {
     "name": "stdout",
     "output_type": "stream",
     "text": [
      "R^2 = 0.90734\n",
      "Mean absolute error = 0.002857\n",
      "RMSE = 0.003269\n"
     ]
    },
    {
     "data": {
      "image/png": "[encoded data removed]",
      "text/plain": [
       "<Figure size 432x288 with 1 Axes>"
      ]
     },
     "metadata": {
      "needs_background": "light"
     },
     "output_type": "display_data"
    }
   ],
   "source": [
    "X = np.array([time**0, time**1]).T\n",
    "b = np.linalg.solve(X.T@X,X.T@Ca)\n",
    "\n",
    "y = Ca\n",
    "e = Ca - np.dot(X,b)\n",
    "SSE = np.dot(e, e)\n",
    "\n",
    "yb = y - np.mean(y)\n",
    "SST = np.dot(yb, yb)\n",
    "\n",
    "Rsq = 1-SSE/SST\n",
    "\n",
    "print('R^2 = %1.5f'%Rsq)\n",
    "\n",
    "mean_absolute_error = np.mean(np.abs(e))\n",
    "\n",
    "print('Mean absolute error = %1.6f'%mean_absolute_error)\n",
    "\n",
    "root_mean_squared_error = np.sqrt(np.mean(e**2))\n",
    "\n",
    "print('RMSE = %1.6f'%root_mean_squared_error)\n",
    "\n",
    "plt.plot(time,e,'.--')\n",
    "plt.xlabel('Time')\n",
    "plt.ylabel('Residuals')\n",
    "plt.show()"
   ]
  },
  {
   "cell_type": "markdown",
   "metadata": {
    "id": "704-XYYsOY4f"
   },
   "source": [
    "# Confidence intervals on parameters in linear regression\n",
    "\n",
    "The confidence intervals reflect the range of values we are confident the true parameter lies in. Remember we are only *estimating* these parameters from a small amount of data.\n",
    "\n",
    "The assumption is basically that there is an unknown amount of gaussian noise that is being added to the fitted model to generate the data. Because of this noise, we will obtain a different estimate of the parameters $p$ every time we run the experiment. So, similar to how we estimated the mean and the variance of the estimate above, we can do something similar for the parameters here. \n",
    "\n",
    "The statistics is not so complicated, but it is complicated enough that I would suggest just using a good statistical package to do it for you. For linear really models, I really like [statsmodels](https://www.statsmodels.org/stable/index.html)\n"
   ]
  },
  {
   "cell_type": "code",
   "execution_count": 28,
   "metadata": {
    "colab": {
     "base_uri": "https://localhost:8080/"
    },
    "executionInfo": {
     "elapsed": 4181,
     "status": "ok",
     "timestamp": 1650979187993,
     "user": {
      "displayName": "Zachary Ulissi",
      "userId": "07633171379186475882"
     },
     "user_tz": 240
    },
    "id": "3qo_jB_bPbnE",
    "outputId": "8dda509a-9b99-41d5-b857-a6e8fc8574f1"
   },
   "outputs": [
    {
     "name": "stdout",
     "output_type": "stream",
     "text": [
      "Requirement already satisfied: statsmodels in /usr/local/lib/python3.7/dist-packages (0.10.2)\n",
      "Requirement already satisfied: patsy>=0.4.0 in /usr/local/lib/python3.7/dist-packages (from statsmodels) (0.5.2)\n",
      "Requirement already satisfied: pandas>=0.19 in /usr/local/lib/python3.7/dist-packages (from statsmodels) (1.3.5)\n",
      "Requirement already satisfied: scipy>=0.18 in /usr/local/lib/python3.7/dist-packages (from statsmodels) (1.4.1)\n",
      "Requirement already satisfied: numpy>=1.11 in /usr/local/lib/python3.7/dist-packages (from statsmodels) (1.21.6)\n",
      "Requirement already satisfied: python-dateutil>=2.7.3 in /usr/local/lib/python3.7/dist-packages (from pandas>=0.19->statsmodels) (2.8.2)\n",
      "Requirement already satisfied: pytz>=2017.3 in /usr/local/lib/python3.7/dist-packages (from pandas>=0.19->statsmodels) (2022.1)\n",
      "Requirement already satisfied: six in /usr/local/lib/python3.7/dist-packages (from patsy>=0.4.0->statsmodels) (1.15.0)\n"
     ]
    }
   ],
   "source": [
    "# Install the statsmodels toolbox \n",
    "!pip install statsmodels"
   ]
  },
  {
   "cell_type": "code",
   "execution_count": 30,
   "metadata": {
    "colab": {
     "base_uri": "https://localhost:8080/",
     "height": 500
    },
    "executionInfo": {
     "elapsed": 135,
     "status": "ok",
     "timestamp": 1650979631993,
     "user": {
      "displayName": "Zachary Ulissi",
      "userId": "07633171379186475882"
     },
     "user_tz": 240
    },
    "id": "s8opYjwuQtY-",
    "outputId": "6e925faf-168c-46bf-da75-0c369f5b1576"
   },
   "outputs": [
    {
     "name": "stderr",
     "output_type": "stream",
     "text": [
      "/usr/local/lib/python3.7/dist-packages/statsmodels/stats/stattools.py:71: ValueWarning: omni_normtest is not valid with less than 8 observations; 7 samples were given.\n",
      "  \"samples were given.\" % int(n), ValueWarning)\n"
     ]
    },
    {
     "data": {
      "text/html": [
       "<table class=\"simpletable\">\n",
       "<caption>OLS Regression Results</caption>\n",
       "<tr>\n",
       "  <th>Dep. Variable:</th>            <td>y</td>        <th>  R-squared:         </th> <td>   0.907</td>\n",
       "</tr>\n",
       "<tr>\n",
       "  <th>Model:</th>                   <td>OLS</td>       <th>  Adj. R-squared:    </th> <td>   0.889</td>\n",
       "</tr>\n",
       "<tr>\n",
       "  <th>Method:</th>             <td>Least Squares</td>  <th>  F-statistic:       </th> <td>   48.96</td>\n",
       "</tr>\n",
       "<tr>\n",
       "  <th>Date:</th>             <td>Tue, 26 Apr 2022</td> <th>  Prob (F-statistic):</th> <td>0.000918</td>\n",
       "</tr>\n",
       "<tr>\n",
       "  <th>Time:</th>                 <td>13:27:11</td>     <th>  Log-Likelihood:    </th> <td>  30.131</td>\n",
       "</tr>\n",
       "<tr>\n",
       "  <th>No. Observations:</th>      <td>     7</td>      <th>  AIC:               </th> <td>  -56.26</td>\n",
       "</tr>\n",
       "<tr>\n",
       "  <th>Df Residuals:</th>          <td>     5</td>      <th>  BIC:               </th> <td>  -56.37</td>\n",
       "</tr>\n",
       "<tr>\n",
       "  <th>Df Model:</th>              <td>     1</td>      <th>                     </th>     <td> </td>   \n",
       "</tr>\n",
       "<tr>\n",
       "  <th>Covariance Type:</th>      <td>nonrobust</td>    <th>                     </th>     <td> </td>   \n",
       "</tr>\n",
       "</table>\n",
       "<table class=\"simpletable\">\n",
       "<tr>\n",
       "    <td></td>       <th>coef</th>     <th>std err</th>      <th>t</th>      <th>P>|t|</th>  <th>[0.025</th>    <th>0.975]</th>  \n",
       "</tr>\n",
       "<tr>\n",
       "  <th>const</th> <td>    0.0444</td> <td>    0.003</td> <td>   16.843</td> <td> 0.000</td> <td>    0.038</td> <td>    0.051</td>\n",
       "</tr>\n",
       "<tr>\n",
       "  <th>x1</th>    <td>   -0.0001</td> <td> 1.46e-05</td> <td>   -6.997</td> <td> 0.001</td> <td>   -0.000</td> <td>-6.47e-05</td>\n",
       "</tr>\n",
       "</table>\n",
       "<table class=\"simpletable\">\n",
       "<tr>\n",
       "  <th>Omnibus:</th>       <td>   nan</td> <th>  Durbin-Watson:     </th> <td>   0.943</td>\n",
       "</tr>\n",
       "<tr>\n",
       "  <th>Prob(Omnibus):</th> <td>   nan</td> <th>  Jarque-Bera (JB):  </th> <td>   0.729</td>\n",
       "</tr>\n",
       "<tr>\n",
       "  <th>Skew:</th>          <td> 0.552</td> <th>  Prob(JB):          </th> <td>   0.695</td>\n",
       "</tr>\n",
       "<tr>\n",
       "  <th>Kurtosis:</th>      <td> 1.869</td> <th>  Cond. No.          </th> <td>    325.</td>\n",
       "</tr>\n",
       "</table><br/><br/>Warnings:<br/>[1] Standard Errors assume that the covariance matrix of the errors is correctly specified."
      ],
      "text/plain": [
       "<class 'statsmodels.iolib.summary.Summary'>\n",
       "\"\"\"\n",
       "                            OLS Regression Results                            \n",
       "==============================================================================\n",
       "Dep. Variable:                      y   R-squared:                       0.907\n",
       "Model:                            OLS   Adj. R-squared:                  0.889\n",
       "Method:                 Least Squares   F-statistic:                     48.96\n",
       "Date:                Tue, 26 Apr 2022   Prob (F-statistic):           0.000918\n",
       "Time:                        13:27:11   Log-Likelihood:                 30.131\n",
       "No. Observations:                   7   AIC:                            -56.26\n",
       "Df Residuals:                       5   BIC:                            -56.37\n",
       "Df Model:                           1                                         \n",
       "Covariance Type:            nonrobust                                         \n",
       "==============================================================================\n",
       "                 coef    std err          t      P>|t|      [0.025      0.975]\n",
       "------------------------------------------------------------------------------\n",
       "const          0.0444      0.003     16.843      0.000       0.038       0.051\n",
       "x1            -0.0001   1.46e-05     -6.997      0.001      -0.000   -6.47e-05\n",
       "==============================================================================\n",
       "Omnibus:                          nan   Durbin-Watson:                   0.943\n",
       "Prob(Omnibus):                    nan   Jarque-Bera (JB):                0.729\n",
       "Skew:                           0.552   Prob(JB):                        0.695\n",
       "Kurtosis:                       1.869   Cond. No.                         325.\n",
       "==============================================================================\n",
       "\n",
       "Warnings:\n",
       "[1] Standard Errors assume that the covariance matrix of the errors is correctly specified.\n",
       "\"\"\""
      ]
     },
     "execution_count": 30,
     "metadata": {},
     "output_type": "execute_result"
    }
   ],
   "source": [
    "import statsmodels.api as sm\n",
    "\n",
    "X = np.array([time**0, time**1]).T\n",
    "\n",
    "mod = sm.OLS(Ca, X)\n",
    "res = mod.fit()\n",
    "\n",
    "res.summary()"
   ]
  },
  {
   "cell_type": "code",
   "execution_count": null,
   "metadata": {
    "colab": {
     "base_uri": "https://localhost:8080/",
     "height": 626
    },
    "executionInfo": {
     "elapsed": 456,
     "status": "ok",
     "timestamp": 1620306663304,
     "user": {
      "displayName": "Zachary Ulissi",
      "photoUrl": "",
      "userId": "07633171379186475882"
     },
     "user_tz": 240
    },
    "id": "WbYeOC_iEgZx",
    "outputId": "fee7c144-3d92-48c4-e9d7-e2c44415273d"
   },
   "outputs": [
    {
     "name": "stderr",
     "output_type": "stream",
     "text": [
      "/usr/local/lib/python3.7/dist-packages/statsmodels/stats/stattools.py:71: ValueWarning: omni_normtest is not valid with less than 8 observations; 7 samples were given.\n",
      "  \"samples were given.\" % int(n), ValueWarning)\n"
     ]
    },
    {
     "data": {
      "text/html": [
       "<table class=\"simpletable\">\n",
       "<caption>OLS Regression Results</caption>\n",
       "<tr>\n",
       "  <th>Dep. Variable:</th>            <td>y</td>        <th>  R-squared:         </th> <td>   1.000</td> \n",
       "</tr>\n",
       "<tr>\n",
       "  <th>Model:</th>                   <td>OLS</td>       <th>  Adj. R-squared:    </th> <td>   1.000</td> \n",
       "</tr>\n",
       "<tr>\n",
       "  <th>Method:</th>             <td>Least Squares</td>  <th>  F-statistic:       </th> <td>2.590e+04</td>\n",
       "</tr>\n",
       "<tr>\n",
       "  <th>Date:</th>             <td>Thu, 06 May 2021</td> <th>  Prob (F-statistic):</th>  <td>0.00472</td> \n",
       "</tr>\n",
       "<tr>\n",
       "  <th>Time:</th>                 <td>13:11:03</td>     <th>  Log-Likelihood:    </th> <td>  63.005</td> \n",
       "</tr>\n",
       "<tr>\n",
       "  <th>No. Observations:</th>      <td>     7</td>      <th>  AIC:               </th> <td>  -114.0</td> \n",
       "</tr>\n",
       "<tr>\n",
       "  <th>Df Residuals:</th>          <td>     1</td>      <th>  BIC:               </th> <td>  -114.3</td> \n",
       "</tr>\n",
       "<tr>\n",
       "  <th>Df Model:</th>              <td>     5</td>      <th>                     </th>     <td> </td>    \n",
       "</tr>\n",
       "<tr>\n",
       "  <th>Covariance Type:</th>      <td>nonrobust</td>    <th>                     </th>     <td> </td>    \n",
       "</tr>\n",
       "</table>\n",
       "<table class=\"simpletable\">\n",
       "<tr>\n",
       "    <td></td>       <th>coef</th>     <th>std err</th>      <th>t</th>      <th>P>|t|</th>  <th>[0.025</th>    <th>0.975]</th>  \n",
       "</tr>\n",
       "<tr>\n",
       "  <th>const</th> <td>    0.0500</td> <td> 7.89e-05</td> <td>  633.581</td> <td> 0.001</td> <td>    0.049</td> <td>    0.051</td>\n",
       "</tr>\n",
       "<tr>\n",
       "  <th>x1</th>    <td>   -0.0003</td> <td> 8.24e-06</td> <td>  -36.838</td> <td> 0.017</td> <td>   -0.000</td> <td>   -0.000</td>\n",
       "</tr>\n",
       "<tr>\n",
       "  <th>x2</th>    <td> 1.508e-06</td> <td> 2.11e-07</td> <td>    7.164</td> <td> 0.088</td> <td>-1.17e-06</td> <td> 4.18e-06</td>\n",
       "</tr>\n",
       "<tr>\n",
       "  <th>x3</th>    <td>-5.052e-09</td> <td> 1.92e-09</td> <td>   -2.627</td> <td> 0.232</td> <td>-2.95e-08</td> <td> 1.94e-08</td>\n",
       "</tr>\n",
       "<tr>\n",
       "  <th>x4</th>    <td> 9.697e-12</td> <td> 7.26e-12</td> <td>    1.336</td> <td> 0.409</td> <td>-8.26e-11</td> <td> 1.02e-10</td>\n",
       "</tr>\n",
       "<tr>\n",
       "  <th>x5</th>    <td>-8.001e-15</td> <td> 9.65e-15</td> <td>   -0.829</td> <td> 0.559</td> <td>-1.31e-13</td> <td> 1.15e-13</td>\n",
       "</tr>\n",
       "</table>\n",
       "<table class=\"simpletable\">\n",
       "<tr>\n",
       "  <th>Omnibus:</th>       <td>   nan</td> <th>  Durbin-Watson:     </th> <td>   3.713</td>\n",
       "</tr>\n",
       "<tr>\n",
       "  <th>Prob(Omnibus):</th> <td>   nan</td> <th>  Jarque-Bera (JB):  </th> <td>   0.235</td>\n",
       "</tr>\n",
       "<tr>\n",
       "  <th>Skew:</th>          <td>-0.164</td> <th>  Prob(JB):          </th> <td>   0.889</td>\n",
       "</tr>\n",
       "<tr>\n",
       "  <th>Kurtosis:</th>      <td> 2.165</td> <th>  Cond. No.          </th> <td>2.64e+12</td>\n",
       "</tr>\n",
       "</table><br/><br/>Warnings:<br/>[1] Standard Errors assume that the covariance matrix of the errors is correctly specified.<br/>[2] The condition number is large, 2.64e+12. This might indicate that there are<br/>strong multicollinearity or other numerical problems."
      ],
      "text/plain": [
       "<class 'statsmodels.iolib.summary.Summary'>\n",
       "\"\"\"\n",
       "                            OLS Regression Results                            \n",
       "==============================================================================\n",
       "Dep. Variable:                      y   R-squared:                       1.000\n",
       "Model:                            OLS   Adj. R-squared:                  1.000\n",
       "Method:                 Least Squares   F-statistic:                 2.590e+04\n",
       "Date:                Thu, 06 May 2021   Prob (F-statistic):            0.00472\n",
       "Time:                        13:11:03   Log-Likelihood:                 63.005\n",
       "No. Observations:                   7   AIC:                            -114.0\n",
       "Df Residuals:                       1   BIC:                            -114.3\n",
       "Df Model:                           5                                         \n",
       "Covariance Type:            nonrobust                                         \n",
       "==============================================================================\n",
       "                 coef    std err          t      P>|t|      [0.025      0.975]\n",
       "------------------------------------------------------------------------------\n",
       "const          0.0500   7.89e-05    633.581      0.001       0.049       0.051\n",
       "x1            -0.0003   8.24e-06    -36.838      0.017      -0.000      -0.000\n",
       "x2          1.508e-06   2.11e-07      7.164      0.088   -1.17e-06    4.18e-06\n",
       "x3         -5.052e-09   1.92e-09     -2.627      0.232   -2.95e-08    1.94e-08\n",
       "x4          9.697e-12   7.26e-12      1.336      0.409   -8.26e-11    1.02e-10\n",
       "x5         -8.001e-15   9.65e-15     -0.829      0.559   -1.31e-13    1.15e-13\n",
       "==============================================================================\n",
       "Omnibus:                          nan   Durbin-Watson:                   3.713\n",
       "Prob(Omnibus):                    nan   Jarque-Bera (JB):                0.235\n",
       "Skew:                          -0.164   Prob(JB):                        0.889\n",
       "Kurtosis:                       2.165   Cond. No.                     2.64e+12\n",
       "==============================================================================\n",
       "\n",
       "Warnings:\n",
       "[1] Standard Errors assume that the covariance matrix of the errors is correctly specified.\n",
       "[2] The condition number is large, 2.64e+12. This might indicate that there are\n",
       "strong multicollinearity or other numerical problems.\n",
       "\"\"\""
      ]
     },
     "execution_count": 50,
     "metadata": {
      "tags": []
     },
     "output_type": "execute_result"
    }
   ],
   "source": [
    "import statsmodels.api as sm\n",
    "\n",
    "X = np.array([time**0, time**1, time**2, time**3, time**4, time**5]).T\n",
    "\n",
    "mod = sm.OLS(Ca, X)\n",
    "res = mod.fit()\n",
    "\n",
    "res.summary()"
   ]
  },
  {
   "cell_type": "markdown",
   "metadata": {
    "id": "peni6LmNxSZt"
   },
   "source": [
    "This gives us tons of information. The most important is the 95% confidence intervals for each parameter. Note that the estimate for the parameters is exactly the same as the one we found above!\n",
    "\n"
   ]
  },
  {
   "cell_type": "code",
   "execution_count": 32,
   "metadata": {
    "colab": {
     "base_uri": "https://localhost:8080/"
    },
    "executionInfo": {
     "elapsed": 211,
     "status": "ok",
     "timestamp": 1650979791449,
     "user": {
      "displayName": "Zachary Ulissi",
      "userId": "07633171379186475882"
     },
     "user_tz": 240
    },
    "id": "8h2G2MhvxafZ",
    "outputId": "f4c73780-22a3-4eed-d298-e4adb844c29d"
   },
   "outputs": [
    {
     "data": {
      "text/plain": [
       "array([[ 6.94491837e-06, -3.20534694e-08],\n",
       "       [-3.20534694e-08,  2.13689796e-10]])"
      ]
     },
     "execution_count": 32,
     "metadata": {},
     "output_type": "execute_result"
    }
   ],
   "source": [
    "res.cov_params()"
   ]
  },
  {
   "cell_type": "markdown",
   "metadata": {
    "id": "-G9PWORiz3Xl"
   },
   "source": [
    "## In-class assignment\n",
    "\n",
    "Fit a quadratic polynomial ($y=ax^2 +bx +c$) to the following data manually.\n",
    "\n",
    "Then, fit it with statsmodels and get the uncertainty in the final parameters.\n",
    "\n",
    "Check the coefficient on the quadratic term; is it clear if the quadratic term is actually necessary?\n"
   ]
  },
  {
   "cell_type": "code",
   "execution_count": 35,
   "metadata": {
    "colab": {
     "base_uri": "https://localhost:8080/",
     "height": 283
    },
    "executionInfo": {
     "elapsed": 1026,
     "status": "ok",
     "timestamp": 1650980230426,
     "user": {
      "displayName": "Zachary Ulissi",
      "userId": "07633171379186475882"
     },
     "user_tz": 240
    },
    "id": "fy-qiU362KjB",
    "outputId": "765dfdcd-2c81-411e-d600-92ae0c4e68e0"
   },
   "outputs": [
    {
     "data": {
      "text/plain": [
       "[<matplotlib.lines.Line2D at 0x7f2be31de890>]"
      ]
     },
     "execution_count": 35,
     "metadata": {},
     "output_type": "execute_result"
    },
    {
     "data": {
      "image/png": "[encoded data removed]",
      "text/plain": [
       "<Figure size 432x288 with 1 Axes>"
      ]
     },
     "metadata": {
      "needs_background": "light"
     },
     "output_type": "display_data"
    }
   ],
   "source": [
    "x = np.array([0, 0.5, 1, 1.5, 2.0, 3.0, 4.0, 6.0, 10])\n",
    "y = np.array([0, -0.157, -0.315, -0.472, -0.629, -0.942, -1.255, -1.884, -3.147])\n",
    "\n",
    "\n",
    "plt.plot(x,y,'o-')"
   ]
  },
  {
   "cell_type": "code",
   "execution_count": 36,
   "metadata": {
    "colab": {
     "base_uri": "https://localhost:8080/",
     "height": 521
    },
    "executionInfo": {
     "elapsed": 12,
     "status": "ok",
     "timestamp": 1650980230642,
     "user": {
      "displayName": "Zachary Ulissi",
      "userId": "07633171379186475882"
     },
     "user_tz": 240
    },
    "id": "lfH54lOQ2Zv_",
    "outputId": "0e78c60b-4421-4ae4-d155-e38f909542a2"
   },
   "outputs": [
    {
     "name": "stderr",
     "output_type": "stream",
     "text": [
      "/usr/local/lib/python3.7/dist-packages/scipy/stats/stats.py:1535: UserWarning: kurtosistest only valid for n>=20 ... continuing anyway, n=9\n",
      "  \"anyway, n=%i\" % int(n))\n"
     ]
    },
    {
     "data": {
      "text/html": [
       "<table class=\"simpletable\">\n",
       "<caption>OLS Regression Results</caption>\n",
       "<tr>\n",
       "  <th>Dep. Variable:</th>            <td>y</td>        <th>  R-squared:         </th> <td>   1.000</td> \n",
       "</tr>\n",
       "<tr>\n",
       "  <th>Model:</th>                   <td>OLS</td>       <th>  Adj. R-squared:    </th> <td>   1.000</td> \n",
       "</tr>\n",
       "<tr>\n",
       "  <th>Method:</th>             <td>Least Squares</td>  <th>  F-statistic:       </th> <td>4.042e+06</td>\n",
       "</tr>\n",
       "<tr>\n",
       "  <th>Date:</th>             <td>Tue, 26 Apr 2022</td> <th>  Prob (F-statistic):</th> <td>4.09e-19</td> \n",
       "</tr>\n",
       "<tr>\n",
       "  <th>Time:</th>                 <td>13:37:10</td>     <th>  Log-Likelihood:    </th> <td>  51.242</td> \n",
       "</tr>\n",
       "<tr>\n",
       "  <th>No. Observations:</th>      <td>     9</td>      <th>  AIC:               </th> <td>  -96.48</td> \n",
       "</tr>\n",
       "<tr>\n",
       "  <th>Df Residuals:</th>          <td>     6</td>      <th>  BIC:               </th> <td>  -95.89</td> \n",
       "</tr>\n",
       "<tr>\n",
       "  <th>Df Model:</th>              <td>     2</td>      <th>                     </th>     <td> </td>    \n",
       "</tr>\n",
       "<tr>\n",
       "  <th>Covariance Type:</th>      <td>nonrobust</td>    <th>                     </th>     <td> </td>    \n",
       "</tr>\n",
       "</table>\n",
       "<table class=\"simpletable\">\n",
       "<tr>\n",
       "    <td></td>       <th>coef</th>     <th>std err</th>      <th>t</th>      <th>P>|t|</th>  <th>[0.025</th>    <th>0.975]</th>  \n",
       "</tr>\n",
       "<tr>\n",
       "  <th>const</th> <td>   -0.0011</td> <td>    0.001</td> <td>   -1.700</td> <td> 0.140</td> <td>   -0.003</td> <td>    0.000</td>\n",
       "</tr>\n",
       "<tr>\n",
       "  <th>x1</th>    <td>   -0.3131</td> <td>    0.000</td> <td> -829.147</td> <td> 0.000</td> <td>   -0.314</td> <td>   -0.312</td>\n",
       "</tr>\n",
       "<tr>\n",
       "  <th>x2</th>    <td>   -0.0001</td> <td> 3.69e-05</td> <td>   -3.987</td> <td> 0.007</td> <td>   -0.000</td> <td>-5.69e-05</td>\n",
       "</tr>\n",
       "</table>\n",
       "<table class=\"simpletable\">\n",
       "<tr>\n",
       "  <th>Omnibus:</th>       <td> 3.557</td> <th>  Durbin-Watson:     </th> <td>   0.933</td>\n",
       "</tr>\n",
       "<tr>\n",
       "  <th>Prob(Omnibus):</th> <td> 0.169</td> <th>  Jarque-Bera (JB):  </th> <td>   0.990</td>\n",
       "</tr>\n",
       "<tr>\n",
       "  <th>Skew:</th>          <td> 0.013</td> <th>  Prob(JB):          </th> <td>   0.610</td>\n",
       "</tr>\n",
       "<tr>\n",
       "  <th>Kurtosis:</th>      <td> 1.376</td> <th>  Cond. No.          </th> <td>    78.3</td>\n",
       "</tr>\n",
       "</table><br/><br/>Warnings:<br/>[1] Standard Errors assume that the covariance matrix of the errors is correctly specified."
      ],
      "text/plain": [
       "<class 'statsmodels.iolib.summary.Summary'>\n",
       "\"\"\"\n",
       "                            OLS Regression Results                            \n",
       "==============================================================================\n",
       "Dep. Variable:                      y   R-squared:                       1.000\n",
       "Model:                            OLS   Adj. R-squared:                  1.000\n",
       "Method:                 Least Squares   F-statistic:                 4.042e+06\n",
       "Date:                Tue, 26 Apr 2022   Prob (F-statistic):           4.09e-19\n",
       "Time:                        13:37:10   Log-Likelihood:                 51.242\n",
       "No. Observations:                   9   AIC:                            -96.48\n",
       "Df Residuals:                       6   BIC:                            -95.89\n",
       "Df Model:                           2                                         \n",
       "Covariance Type:            nonrobust                                         \n",
       "==============================================================================\n",
       "                 coef    std err          t      P>|t|      [0.025      0.975]\n",
       "------------------------------------------------------------------------------\n",
       "const         -0.0011      0.001     -1.700      0.140      -0.003       0.000\n",
       "x1            -0.3131      0.000   -829.147      0.000      -0.314      -0.312\n",
       "x2            -0.0001   3.69e-05     -3.987      0.007      -0.000   -5.69e-05\n",
       "==============================================================================\n",
       "Omnibus:                        3.557   Durbin-Watson:                   0.933\n",
       "Prob(Omnibus):                  0.169   Jarque-Bera (JB):                0.990\n",
       "Skew:                           0.013   Prob(JB):                        0.610\n",
       "Kurtosis:                       1.376   Cond. No.                         78.3\n",
       "==============================================================================\n",
       "\n",
       "Warnings:\n",
       "[1] Standard Errors assume that the covariance matrix of the errors is correctly specified.\n",
       "\"\"\""
      ]
     },
     "execution_count": 36,
     "metadata": {},
     "output_type": "execute_result"
    }
   ],
   "source": [
    "import statsmodels.api as sm\n",
    "\n",
    "X = np.array([x**0, x**1, x**2]).T\n",
    "\n",
    "mod = sm.OLS(y, X)\n",
    "res = mod.fit()\n",
    "\n",
    "res.summary()"
   ]
  },
  {
   "cell_type": "code",
   "execution_count": 37,
   "metadata": {
    "colab": {
     "base_uri": "https://localhost:8080/",
     "height": 500
    },
    "executionInfo": {
     "elapsed": 235,
     "status": "ok",
     "timestamp": 1650980335909,
     "user": {
      "displayName": "Zachary Ulissi",
      "userId": "07633171379186475882"
     },
     "user_tz": 240
    },
    "id": "fotOQlvR0GwI",
    "outputId": "2acef2b2-abc6-4436-8171-0919d81cbee9"
   },
   "outputs": [
    {
     "name": "stderr",
     "output_type": "stream",
     "text": [
      "/usr/local/lib/python3.7/dist-packages/scipy/stats/stats.py:1535: UserWarning: kurtosistest only valid for n>=20 ... continuing anyway, n=9\n",
      "  \"anyway, n=%i\" % int(n))\n"
     ]
    },
    {
     "data": {
      "text/html": [
       "<table class=\"simpletable\">\n",
       "<caption>OLS Regression Results</caption>\n",
       "<tr>\n",
       "  <th>Dep. Variable:</th>            <td>y</td>        <th>  R-squared:         </th> <td>   1.000</td> \n",
       "</tr>\n",
       "<tr>\n",
       "  <th>Model:</th>                   <td>OLS</td>       <th>  Adj. R-squared:    </th> <td>   1.000</td> \n",
       "</tr>\n",
       "<tr>\n",
       "  <th>Method:</th>             <td>Least Squares</td>  <th>  F-statistic:       </th> <td>2.584e+06</td>\n",
       "</tr>\n",
       "<tr>\n",
       "  <th>Date:</th>             <td>Tue, 26 Apr 2022</td> <th>  Prob (F-statistic):</th> <td>9.52e-21</td> \n",
       "</tr>\n",
       "<tr>\n",
       "  <th>Time:</th>                 <td>13:38:55</td>     <th>  Log-Likelihood:    </th> <td>  45.417</td> \n",
       "</tr>\n",
       "<tr>\n",
       "  <th>No. Observations:</th>      <td>     9</td>      <th>  AIC:               </th> <td>  -86.83</td> \n",
       "</tr>\n",
       "<tr>\n",
       "  <th>Df Residuals:</th>          <td>     7</td>      <th>  BIC:               </th> <td>  -86.44</td> \n",
       "</tr>\n",
       "<tr>\n",
       "  <th>Df Model:</th>              <td>     1</td>      <th>                     </th>     <td> </td>    \n",
       "</tr>\n",
       "<tr>\n",
       "  <th>Covariance Type:</th>      <td>nonrobust</td>    <th>                     </th>     <td> </td>    \n",
       "</tr>\n",
       "</table>\n",
       "<table class=\"simpletable\">\n",
       "<tr>\n",
       "    <td></td>       <th>coef</th>     <th>std err</th>      <th>t</th>      <th>P>|t|</th>  <th>[0.025</th>    <th>0.975]</th>  \n",
       "</tr>\n",
       "<tr>\n",
       "  <th>const</th> <td>    0.0006</td> <td>    0.001</td> <td>    0.738</td> <td> 0.485</td> <td>   -0.001</td> <td>    0.003</td>\n",
       "</tr>\n",
       "<tr>\n",
       "  <th>x1</th>    <td>   -0.3145</td> <td>    0.000</td> <td>-1607.619</td> <td> 0.000</td> <td>   -0.315</td> <td>   -0.314</td>\n",
       "</tr>\n",
       "</table>\n",
       "<table class=\"simpletable\">\n",
       "<tr>\n",
       "  <th>Omnibus:</th>       <td> 0.655</td> <th>  Durbin-Watson:     </th> <td>   1.353</td>\n",
       "</tr>\n",
       "<tr>\n",
       "  <th>Prob(Omnibus):</th> <td> 0.721</td> <th>  Jarque-Bera (JB):  </th> <td>   0.585</td>\n",
       "</tr>\n",
       "<tr>\n",
       "  <th>Skew:</th>          <td> 0.450</td> <th>  Prob(JB):          </th> <td>   0.747</td>\n",
       "</tr>\n",
       "<tr>\n",
       "  <th>Kurtosis:</th>      <td> 2.136</td> <th>  Cond. No.          </th> <td>    6.40</td>\n",
       "</tr>\n",
       "</table><br/><br/>Warnings:<br/>[1] Standard Errors assume that the covariance matrix of the errors is correctly specified."
      ],
      "text/plain": [
       "<class 'statsmodels.iolib.summary.Summary'>\n",
       "\"\"\"\n",
       "                            OLS Regression Results                            \n",
       "==============================================================================\n",
       "Dep. Variable:                      y   R-squared:                       1.000\n",
       "Model:                            OLS   Adj. R-squared:                  1.000\n",
       "Method:                 Least Squares   F-statistic:                 2.584e+06\n",
       "Date:                Tue, 26 Apr 2022   Prob (F-statistic):           9.52e-21\n",
       "Time:                        13:38:55   Log-Likelihood:                 45.417\n",
       "No. Observations:                   9   AIC:                            -86.83\n",
       "Df Residuals:                       7   BIC:                            -86.44\n",
       "Df Model:                           1                                         \n",
       "Covariance Type:            nonrobust                                         \n",
       "==============================================================================\n",
       "                 coef    std err          t      P>|t|      [0.025      0.975]\n",
       "------------------------------------------------------------------------------\n",
       "const          0.0006      0.001      0.738      0.485      -0.001       0.003\n",
       "x1            -0.3145      0.000  -1607.619      0.000      -0.315      -0.314\n",
       "==============================================================================\n",
       "Omnibus:                        0.655   Durbin-Watson:                   1.353\n",
       "Prob(Omnibus):                  0.721   Jarque-Bera (JB):                0.585\n",
       "Skew:                           0.450   Prob(JB):                        0.747\n",
       "Kurtosis:                       2.136   Cond. No.                         6.40\n",
       "==============================================================================\n",
       "\n",
       "Warnings:\n",
       "[1] Standard Errors assume that the covariance matrix of the errors is correctly specified.\n",
       "\"\"\""
      ]
     },
     "execution_count": 37,
     "metadata": {},
     "output_type": "execute_result"
    }
   ],
   "source": [
    "import statsmodels.api as sm\n",
    "\n",
    "X = np.array([x**0, x**1]).T\n",
    "\n",
    "mod = sm.OLS(y, X)\n",
    "res = mod.fit()\n",
    "\n",
    "res.summary()"
   ]
  },
  {
   "cell_type": "code",
   "execution_count": null,
   "metadata": {
    "id": "9_Q6tdjJJOtz"
   },
   "outputs": [],
   "source": []
  },
  {
   "cell_type": "markdown",
   "metadata": {
    "id": "Ol2ayOLbfQI_"
   },
   "source": [
    "# Summary\n",
    "\n",
    "- We showed that linear regression (fitting a linear combination of functions) is essentially a linear algebra problem\n",
    "    - First we find the augmented matrix, where each row is a datapoint and each column is a feature (1, X, logx, etc)\n",
    "    - Then we solve $\\arr{X}^T \\arr{X} \\vec{a} = \\arr{X}^T \\vec{y}$\n",
    "    - This solution is the one that minimizes the sum squared error\n",
    "- If we want parameter estimates, then it's probably best to use a package like statsmodel. \n"
   ]
  },
  {
   "cell_type": "code",
   "execution_count": null,
   "metadata": {
    "id": "_-cFtRWbz2co"
   },
   "outputs": [],
   "source": []
  }
 ],
 "metadata": {
  "colab": {
   "collapsed_sections": [],
   "name": "25-statistics-continue-linear-regression.ipynb",
   "provenance": []
  },
  "kernelspec": {
   "display_name": "Python 3 (ipykernel)",
   "language": "python",
   "name": "python3"
  },
  "language_info": {
   "codemirror_mode": {
    "name": "ipython",
    "version": 3
   },
   "file_extension": ".py",
   "mimetype": "text/x-python",
   "name": "python",
   "nbconvert_exporter": "python",
   "pygments_lexer": "ipython3",
   "version": "3.9.13"
  }
 },
 "nbformat": 4,
 "nbformat_minor": 4
}
