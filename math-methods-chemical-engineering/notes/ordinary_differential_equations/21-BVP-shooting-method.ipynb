{
 "cells": [
  {
   "cell_type": "markdown",
   "metadata": {
    "id": "eZOQ1nBAKB2g"
   },
   "source": [
    "# The Shooting Method for Solving BVPs\n",
    "\n",
    "Let's go back to that pirate defense problem from last class. We figured out that it wasn't possible to hit the pirate ship with a cannonball speed of 40 m/s, regardless of how we aimed the cannon. Let's try and solve this again using the same method we used before for finding steady states to a problem, `root`.\n",
    "\n",
    "\\begin{align}\n",
    "\\frac{d}{dt}\\begin{bmatrix}x\\\\z\\\\v_x\\\\v_z \\end{bmatrix} = \n",
    "\\begin{bmatrix} v_x\\\\v_z\\\\-rv_x\\\\-rv_z-g\\end{bmatrix} \\rightarrow \\text{physics with air friction}\n",
    "\\end{align}\n",
    "\\begin{align}\n",
    "x(t=0) = 0\\\\\n",
    "z(t=0) = H\\\\\n",
    "z(x=L) = 0 \n",
    "\\end{align}\n",
    "\n"
   ]
  },
  {
   "cell_type": "code",
   "execution_count": null,
   "metadata": {
    "colab": {
     "base_uri": "https://localhost:8080/",
     "height": 296
    },
    "executionInfo": {
     "elapsed": 353,
     "status": "ok",
     "timestamp": 1649765232100,
     "user": {
      "displayName": "Zachary Ulissi",
      "userId": "07633171379186475882"
     },
     "user_tz": 240
    },
    "id": "hS6-yiHFKb14",
    "outputId": "7973b283-a9f7-442d-ac50-2661a6d4081f"
   },
   "outputs": [
    {
     "data": {
      "text/plain": [
       "Text(0, 0.5, 'Height [m]')"
      ]
     },
     "execution_count": 25,
     "metadata": {},
     "output_type": "execute_result"
    },
    {
     "data": {
      "image/png": "[encoded data removed]",
      "text/plain": [
       "<Figure size 432x288 with 1 Axes>"
      ]
     },
     "metadata": {
      "needs_background": "light"
     },
     "output_type": "display_data"
    }
   ],
   "source": [
    "import numpy as np\n",
    "import matplotlib.pyplot as plt\n",
    "from scipy.integrate import solve_ivp\n",
    "\n",
    "g = 9.8 #m/s^2\n",
    "r = 0.1 #1/s\n",
    "\n",
    "def diff_eq(t, y):\n",
    "  x, z, vx, vz = y\n",
    "\n",
    "  return [vx,\n",
    "          vz,\n",
    "          -r*vx,\n",
    "          -r*vz-g]\n",
    "\n",
    "tspan = [0, 10] # t=0s to 10s\n",
    "\n",
    "v = 40 \n",
    "theta = 5/360*2*np.pi\n",
    "y0 = [0,100,v*np.cos(theta), v*np.sin(theta)]\n",
    "t_eval = np.linspace(0,10)\n",
    "\n",
    "sol = solve_ivp(diff_eq, tspan, y0, t_eval=t_eval)\n",
    "\n",
    "# plot z vs x\n",
    "plt.plot(sol.y[0,:], sol.y[1,:])\n",
    "plt.plot(200,0,'ok')\n",
    "plt.xlabel('Distance [m]')\n",
    "plt.ylabel('Height [m]')\n",
    "\n",
    "\n"
   ]
  },
  {
   "cell_type": "markdown",
   "metadata": {
    "id": "F1qR7YZbLYeo"
   },
   "source": [
    "## Reformulate the ODE\n",
    "\n",
    "As posed, this is a little difficult to solve, since we don't know exactly how long to integrate for to hit the pirate ship. Let's solve for all of the variables in terms of derivatives with respect to the horizontal position. \n",
    "\n",
    "\\begin{align}\n",
    "\\frac{d}{dx}\\begin{bmatrix}x\\\\z\\\\v_x\\\\v_z \\end{bmatrix} =\\frac{dt}{dx}\\frac{d}{dt}\\begin{bmatrix}x\\\\z\\\\v_x\\\\v_z \\end{bmatrix}= \\frac{1}{v_x}\\frac{d}{dt}\\begin{bmatrix}x\\\\z\\\\v_x\\\\v_z \\end{bmatrix}=\\frac{1}{v_x}\\begin{bmatrix} v_x\\\\v_z\\\\-rv_x\\\\-rv_z-g\\end{bmatrix} =\n",
    "\\begin{bmatrix} 1\\\\v_z/v_x\\\\-r\\\\(-rv_z-g)/v_x\\end{bmatrix} \n",
    "\\end{align}\n",
    "\n",
    "We don't even need the first equation anymore (of course $d/dx(x)=1$), so we're left with \n",
    "\\begin{align}\n",
    "\\frac{d}{dx}\\begin{bmatrix}z\\\\v_x\\\\v_z \\end{bmatrix} =\n",
    "\\begin{bmatrix} v_z/v_x\\\\-r\\\\(-rv_z-g)/v_x\\end{bmatrix} \n",
    "\\end{align}\n"
   ]
  },
  {
   "cell_type": "code",
   "execution_count": null,
   "metadata": {
    "colab": {
     "base_uri": "https://localhost:8080/",
     "height": 300
    },
    "executionInfo": {
     "elapsed": 439,
     "status": "ok",
     "timestamp": 1649768582854,
     "user": {
      "displayName": "Zachary Ulissi",
      "userId": "07633171379186475882"
     },
     "user_tz": 240
    },
    "id": "MtmxbVC_LWK6",
    "outputId": "9dead3e0-baaf-4c60-8919-ca61d074e38b"
   },
   "outputs": [
    {
     "data": {
      "text/plain": [
       "(0.0, 200.0)"
      ]
     },
     "execution_count": 51,
     "metadata": {},
     "output_type": "execute_result"
    },
    {
     "data": {
      "image/png": "[encoded data removed]",
      "text/plain": [
       "<Figure size 432x288 with 1 Axes>"
      ]
     },
     "metadata": {
      "needs_background": "light"
     },
     "output_type": "display_data"
    }
   ],
   "source": [
    "import numpy as np\n",
    "import matplotlib.pyplot as plt\n",
    "from scipy.integrate import solve_ivp\n",
    "\n",
    "g = 9.8 #m/s^2\n",
    "r = 0.1 #1/s\n",
    "\n",
    "def diffeq(x, y):\n",
    "  z, vx, vz = y\n",
    "  return [vz/vx,\n",
    "          -r,\n",
    "          (-r*vz-g)/vx]\n",
    "\n",
    "\n",
    "v = 47.5 \n",
    "theta = 45/360*2*np.pi\n",
    "y0 = [100,v*np.cos(theta), v*np.sin(theta)]\n",
    "\n",
    "sol = solve_ivp(diffeq,\n",
    "                [0,200],\n",
    "                y0,\n",
    "                t_eval=np.linspace(0,200))\n",
    "\n",
    "plt.plot(sol.t, sol.y[0,:])\n",
    "plt.xlabel('Distance from shore [m]')\n",
    "plt.ylabel('Height [m]')\n",
    "plt.xlim([0,200])\n",
    "plt.ylim([0,200])\n",
    "\n",
    "\n"
   ]
  },
  {
   "cell_type": "markdown",
   "metadata": {
    "id": "hhUUsLGdOnzW"
   },
   "source": [
    "Great! Now all we have to do is figure out the final height at x=200, and make that equal to zero. First, let's just see what the final height is at x=200."
   ]
  },
  {
   "cell_type": "code",
   "execution_count": null,
   "metadata": {
    "colab": {
     "base_uri": "https://localhost:8080/"
    },
    "executionInfo": {
     "elapsed": 16,
     "status": "ok",
     "timestamp": 1649763996071,
     "user": {
      "displayName": "Zachary Ulissi",
      "userId": "07633171379186475882"
     },
     "user_tz": 240
    },
    "id": "rlHIdw3fOnzY",
    "outputId": "648d1f1e-79c0-4e0e-9363-af405d560f04"
   },
   "outputs": [
    {
     "name": "stdout",
     "output_type": "stream",
     "text": [
      "The final height is 251.88 m\n"
     ]
    }
   ],
   "source": [
    "print('The final height is %1.2f m'%sol.y[0,-1]) "
   ]
  },
  {
   "cell_type": "markdown",
   "metadata": {
    "id": "KV9EkoD0Opn0"
   },
   "source": [
    "Let's see what happens when we try to use 40 m/s now. Try going even lower. What do you see? *What* happens?"
   ]
  },
  {
   "cell_type": "code",
   "execution_count": null,
   "metadata": {
    "id": "IELDN1XiOQHG"
   },
   "outputs": [],
   "source": []
  },
  {
   "cell_type": "markdown",
   "metadata": {
    "id": "_r47XjBFNNAr"
   },
   "source": [
    "Great! Now all we have to do is figure out the final height at x=200, and make that equal to zero. First, let's just see what the final height is at x=200."
   ]
  },
  {
   "cell_type": "code",
   "execution_count": null,
   "metadata": {
    "id": "CEfx0uiJNV2u"
   },
   "outputs": [],
   "source": []
  },
  {
   "cell_type": "markdown",
   "metadata": {
    "id": "m9OiLX2OOyKE"
   },
   "source": [
    "## Root finding to solve the BVP\n",
    "\n",
    "Ok, now we're in a great position to find the exact angle or initial conditions that will solve this BVP. Let's remind ourselves how `fsolve` works. \n",
    "\n",
    "https://docs.scipy.org/doc/scipy/reference/generated/scipy.optimize.fsolve.html\n",
    "\n",
    "fsolve will take a function $\\vec{y}=f(\\vec{x})$, and try to find the $\\vec{x}$ such that $\\vec{y}=0$. If we can phrase our problem in terms of this one, `fsolve` will give us the answer!\n",
    "\n"
   ]
  },
  {
   "cell_type": "code",
   "execution_count": null,
   "metadata": {
    "colab": {
     "base_uri": "https://localhost:8080/"
    },
    "executionInfo": {
     "elapsed": 678,
     "status": "ok",
     "timestamp": 1649771208655,
     "user": {
      "displayName": "Zachary Ulissi",
      "userId": "07633171379186475882"
     },
     "user_tz": 240
    },
    "id": "qLy7MuH3PYDk",
    "outputId": "4fba5a1e-b871-4909-e763-6738c061de66"
   },
   "outputs": [
    {
     "name": "stdout",
     "output_type": "stream",
     "text": [
      "30.00000000000000000, 50.00000000000000000\n",
      "30.00000000000000000, 50.00000000000000000\n",
      "30.00000000000000000, 50.00000000000000000\n",
      "30.00000044703483582, 50.00000000000000000\n",
      "30.00000000000000000, 50.00000074505805969\n",
      "30.00000037837282107, 50.00000000000000000\n",
      "30.00000029954225411, 50.00000000000000000\n",
      "[30.00000038 50.        ]\n"
     ]
    }
   ],
   "source": [
    "import numpy as np\n",
    "import matplotlib.pyplot as plt\n",
    "from scipy.integrate import solve_ivp\n",
    "\n",
    "g = 9.8 #m/s^2\n",
    "r = 0.1 #1/s\n",
    "\n",
    "def diffeq(x, y):\n",
    "  z, vx, vz = y\n",
    "  return [vz/vx,\n",
    "          -r,\n",
    "          (-r*vz-g)/vx]\n",
    "\n",
    "\n",
    "def BVP_satisfy(x):\n",
    "  v, theta_deg = x\n",
    "  theta_rad = theta_deg/360*2*np.pi\n",
    "  y0 = [100,v*np.cos(theta_rad), v*np.sin(theta_rad)]\n",
    "  \n",
    "  sol = solve_ivp(diffeq,\n",
    "                [0,200],\n",
    "                y0,\n",
    "                t_eval=np.linspace(0,200))\n",
    "\n",
    "  print(f'{v:1.17f}, {theta_deg:1.17f}')\n",
    "  return [sol.y[0,-1],\n",
    "          0]\n",
    "\n",
    "fsolve_sol = fsolve(BVP_satisfy,[30,50])\n",
    "\n",
    "print(fsolve_sol)\n"
   ]
  },
  {
   "cell_type": "code",
   "execution_count": null,
   "metadata": {
    "colab": {
     "base_uri": "https://localhost:8080/",
     "height": 300
    },
    "executionInfo": {
     "elapsed": 535,
     "status": "ok",
     "timestamp": 1649771227999,
     "user": {
      "displayName": "Zachary Ulissi",
      "userId": "07633171379186475882"
     },
     "user_tz": 240
    },
    "id": "89RpwkzyxUgc",
    "outputId": "4a6edd2b-9005-4c83-bb83-db31f9aaa4cf"
   },
   "outputs": [
    {
     "data": {
      "text/plain": [
       "-2963.0196131412335"
      ]
     },
     "execution_count": 76,
     "metadata": {},
     "output_type": "execute_result"
    },
    {
     "data": {
      "image/png": "[encoded data removed]",
      "text/plain": [
       "<Figure size 432x288 with 1 Axes>"
      ]
     },
     "metadata": {
      "needs_background": "light"
     },
     "output_type": "display_data"
    }
   ],
   "source": [
    "import numpy as np\n",
    "import matplotlib.pyplot as plt\n",
    "from scipy.integrate import solve_ivp\n",
    "\n",
    "g = 9.8 #m/s^2\n",
    "r = 0.1 #1/s\n",
    "\n",
    "def diffeq(x, y):\n",
    "  z, vx, vz = y\n",
    "  return [vz/vx,\n",
    "          -r,\n",
    "          (-r*vz-g)/vx]\n",
    "\n",
    "\n",
    "v = 30\n",
    "theta = 50/360*2*np.pi\n",
    "y0 = [100,v*np.cos(theta), v*np.sin(theta)]\n",
    "\n",
    "sol = solve_ivp(diffeq,\n",
    "                [0,200],\n",
    "                y0,\n",
    "                t_eval=np.linspace(0,200))\n",
    "\n",
    "plt.plot(sol.t, sol.y[0,:])\n",
    "plt.xlabel('Distance from shore [m]')\n",
    "plt.ylabel('Height [m]')\n",
    "plt.xlim([0,200])\n",
    "plt.ylim([0,200])\n",
    "\n",
    "sol.y[0,-1]\n"
   ]
  },
  {
   "cell_type": "markdown",
   "metadata": {
    "id": "YKnx-ta4QIZj"
   },
   "source": [
    "We guessed 49 m/s, and it found that actually 48.6 m/s worked best for hitting the pirate ship. Let's plot the guess solution and the final solution. "
   ]
  },
  {
   "cell_type": "code",
   "execution_count": null,
   "metadata": {
    "id": "fi5F7rA3S0Xx"
   },
   "outputs": [],
   "source": []
  },
  {
   "cell_type": "markdown",
   "metadata": {
    "id": "rpSQUI9uUqn2"
   },
   "source": [
    "There are many initial conditions that will satisfy the final boundary conditions in this problem. "
   ]
  },
  {
   "cell_type": "code",
   "execution_count": null,
   "metadata": {
    "id": "KAChUsOtJBdx"
   },
   "outputs": [],
   "source": []
  },
  {
   "cell_type": "markdown",
   "metadata": {
    "id": "rSqb__P9JtXO"
   },
   "source": [
    "## Summary of the shooting method to solve BVPs\n",
    "\n",
    "This method of solving BVPs is called the shooting method, because you guess initial conditions and shoot over to other values to check whether they work or now. The key steps are:\n",
    "1. You have to be able to solve the IVP first, assuming you know the initial conditions. If you have mistakes in the IVP, you won't get any farther than that.\n",
    "2. Once you have the IVP integration working, you can try adjusting the initial conditions a little to see what happens and make sure everything is working correctly.\n",
    "3. When you are confident about your solution, write a function for `root` that takes in initial conditions you have to guess, and returns all zeros when the boundary conditions are satisfied. This could be integrating to a fixed point, and calculating how far the boundary conditions are from the desired values.\n",
    "4. Use `root` to vary the initial conditions and find a solution. \n",
    "5. Try a few different guesses for the initial conditions, to see if there are multiple solutions available.\n",
    "\n",
    "This is a more complex problem then we've done in the past, because it requires three different levels of numerics:\n",
    "* numpy/arrays/etc for coding the system of differential equations\n",
    "* `solve_ivp` to integrate those differential equations\n",
    "* `root` to adjust initial conditions and solve the problem.\n",
    "\n",
    "There are other methods of solving BVPs numerically which use a grid of points from the initial to final independent variable. We won't cover those here, but you can look into them with `solve_bvp`. It will handle the boundary condition solution for you, but the downside is that you have to worry about a mesh of points. \n",
    "\n"
   ]
  },
  {
   "cell_type": "code",
   "execution_count": null,
   "metadata": {
    "colab": {
     "base_uri": "https://localhost:8080/",
     "height": 355
    },
    "executionInfo": {
     "elapsed": 4904,
     "status": "ok",
     "timestamp": 1649771282832,
     "user": {
      "displayName": "Zachary Ulissi",
      "userId": "07633171379186475882"
     },
     "user_tz": 240
    },
    "id": "AhUq1UhDAd1f",
    "outputId": "df4f4703-faa1-46ce-8c3d-d1d187e25c4a"
   },
   "outputs": [
    {
     "name": "stderr",
     "output_type": "stream",
     "text": [
      "/usr/local/lib/python3.7/dist-packages/scipy/optimize/minpack.py:162: RuntimeWarning: The iteration is not making good progress, as measured by the \n",
      "  improvement from the last ten iterations.\n",
      "  warnings.warn(msg, RuntimeWarning)\n"
     ]
    },
    {
     "data": {
      "text/plain": [
       "[<matplotlib.lines.Line2D at 0x7f5a51ac54d0>]"
      ]
     },
     "execution_count": 77,
     "metadata": {},
     "output_type": "execute_result"
    },
    {
     "data": {
      "image/png": "[encoded data removed]",
      "text/plain": [
       "<Figure size 432x288 with 1 Axes>"
      ]
     },
     "metadata": {
      "needs_background": "light"
     },
     "output_type": "display_data"
    }
   ],
   "source": [
    "import numpy as np\n",
    "import matplotlib.pyplot as plt\n",
    "from scipy.integrate import solve_ivp\n",
    "\n",
    "g = 9.8 #m/s^2\n",
    "r = 0.1 #1/s\n",
    "\n",
    "def diffeq(x, y):\n",
    "  z, vx, vz = y\n",
    "  return [vz/vx,\n",
    "          -r,\n",
    "          (-r*vz-g)/vx]\n",
    "\n",
    "\n",
    "def BVP_satisfy(x):\n",
    "  v, theta_deg = x\n",
    "  theta_rad = theta_deg/360*2*np.pi\n",
    "  y0 = [100,v*np.cos(theta_rad), v*np.sin(theta_rad)]\n",
    "  \n",
    "  sol = solve_ivp(diffeq,\n",
    "                [0,200],\n",
    "                y0,\n",
    "                t_eval=np.linspace(0,200),\n",
    "                atol=1e-8,\n",
    "                rtol=1e-8)\n",
    "\n",
    "  # print(f'{v:1.17f}, {theta_deg:1.17f}')\n",
    "  return [sol.y[0,-1],\n",
    "          0]\n",
    "\n",
    "final_params = [fsolve(BVP_satisfy,[30,theta_guess]) for theta_guess in np.linspace(-20,50)]\n",
    "\n",
    "stacked_parameters = np.stack(final_params)\n",
    "\n",
    "plt.plot(stacked_parameters[:,1],stacked_parameters[:,0],'o')"
   ]
  },
  {
   "cell_type": "markdown",
   "metadata": {
    "id": "rBGQFnsACXbw"
   },
   "source": [
    "# Chemical Engineering Example\n"
   ]
  },
  {
   "cell_type": "markdown",
   "metadata": {
    "id": "bhQvfiWmCckS"
   },
   "source": [
    "<img src=\"https://docs.google.com/drawings/d/e/2PACX-1vSf2jVdqbl_bfEDKJRTToTinA-WikP4MJbZv8E-t8GKjxe9CNSQMRdO9Vinb2YBDz8qLcpk1Fi5I2iq/pub?w=106&h=182\">\n",
    "\\begin{align}\n",
    "2A \\leftrightarrow B\\\\\n",
    "B \\rightarrow 2C\n",
    "\\end{align}\n",
    "At $t=0$, operator add 5 mol of $A$ into a 5L vessel that contained an unknown amount of $B$ and $C$ beforehand. After 5 minutes, we stopped the reactor and measured\n",
    "\\begin{align}\n",
    "C_B = 0.02 M\\\\\n",
    "C_C = 2 M\n",
    "\\end{align}\n",
    "\n",
    "How much $B$/$C$ was initially in tank?\\\n",
    "How much A left at the end?\n",
    "\n",
    "First, let's get this into a set of differential equations\n",
    "\\begin{align}\n",
    "\\frac{dC_A}{dt} &= -2k_1C_A^2+2k_{-1}C_B\\\\\n",
    "\\frac{dC_B}{dt} &= k_1C_A^2-k_{-1}C_B - k_2C_B\\\\\n",
    "\\frac{dC_C}{dt} &= 2k_2C_B \n",
    "\\end{align}\n",
    "\n",
    "We also need the boundary conditions.\n",
    "\\begin{align}\n",
    "C_A(t=0) &= 1M\\\\\n",
    "C_B(t=t_f) &= 0.02M\\\\\n",
    "C_C(t=t_f) &= 2 M\\\\\n",
    "k_1 =1 [1/M/min], k_2 &= 1[1/min], k_{-1}=0.2[1/min]\n",
    "\\end{align}\n",
    "\n",
    "This is a set of nonlinear coupled ODE's, so it would be hard to solve analytically. Our best best is to use numerical methods, but the boundary conditions are specified at both t=0 and $t=t_f$. We're going to have to use `solve_ivp` and `root`.\n"
   ]
  },
  {
   "cell_type": "code",
   "execution_count": null,
   "metadata": {
    "id": "HNuKCNaDrKvu"
   },
   "outputs": [],
   "source": []
  },
  {
   "cell_type": "markdown",
   "metadata": {
    "id": "kkV6rVU0vZ1_"
   },
   "source": [
    "Now, specify a function that will take in one vector $x$ containing the initial conditions for $C_B$ and $C_C$ and return how far the final conditions for those concentrations are from the known final values. Use this with `root` to find the initial conditions and solve for the final concentration profile. "
   ]
  },
  {
   "cell_type": "code",
   "execution_count": null,
   "metadata": {
    "id": "D-9pM1bmrsNc"
   },
   "outputs": [],
   "source": []
  },
  {
   "cell_type": "code",
   "execution_count": null,
   "metadata": {
    "id": "nIsjwJ3XsFLD"
   },
   "outputs": [],
   "source": []
  },
  {
   "cell_type": "code",
   "execution_count": null,
   "metadata": {
    "id": "sNWdrmFsS5nr"
   },
   "outputs": [],
   "source": []
  }
 ],
 "metadata": {
  "colab": {
   "collapsed_sections": [],
   "name": "21-BVP-shooting-method.ipynb",
   "provenance": []
  },
  "kernelspec": {
   "display_name": "Python 3 (ipykernel)",
   "language": "python",
   "name": "python3"
  },
  "language_info": {
   "codemirror_mode": {
    "name": "ipython",
    "version": 3
   },
   "file_extension": ".py",
   "mimetype": "text/x-python",
   "name": "python",
   "nbconvert_exporter": "python",
   "pygments_lexer": "ipython3",
   "version": "3.9.13"
  },
  "org": {
   "KEYWORDS": "scipy.optimize.minimize"
  }
 },
 "nbformat": 4,
 "nbformat_minor": 4
}
