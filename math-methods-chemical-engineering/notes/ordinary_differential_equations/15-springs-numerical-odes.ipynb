{
 "cells": [
  {
   "cell_type": "markdown",
   "metadata": {
    "id": "HJX2Js8UxsEI"
   },
   "source": [
    "$$\\newcommand{\\arr}[1]{\\underline{\\underline{#1}}}$$    \n",
    "$$\\newcommand{\\vec}[1]{\\underline{#1}}$$   \n",
    "$$\\require{mhchem}$$"
   ]
  },
  {
   "cell_type": "markdown",
   "metadata": {
    "id": "bOd5pUnj9YP_"
   },
   "source": [
    "# Introduction to Numerical Solution of Differential Equations\n",
    "\n",
    "\n",
    "* We'll start with simple $1^\\circ$ ODE Initial Value Problem (IVP)\n",
    "\\begin{align}\n",
    "\\frac{dy}{dt} = -y, && y(t=0) = 1\n",
    "\\end{align}\n",
    "We've solved this already\n",
    "\\begin{align}\n",
    "y = \\exp(-x)\n",
    "\\end{align}\n",
    "* How would you do this without being able to solve differential equation? The Taylor expansion is a related concept, so let's quickly review that.\n",
    "\n",
    "For today, we're going to solve differential equations of the form\n",
    "\\begin{align}\n",
    "\\frac{dy}{dt}=f(t, y)\n",
    "\\end{align}\n",
    "\n",
    "\n"
   ]
  },
  {
   "cell_type": "markdown",
   "metadata": {
    "id": "eYb6PJ5ms6zX"
   },
   "source": [
    "\n",
    "## Benefits of analytical/numerical methods"
   ]
  },
  {
   "cell_type": "markdown",
   "metadata": {
    "id": "Xf4TB9LDs6zf"
   },
   "source": [
    "Analytical | Numerical\n",
    "--- | ---\n",
    " \\+ exact solution | - approximation to real solution\n",
    " \\+ tells you which parameters are important | - black box\n",
    " \\+ functional form (engineering insight) | - hard to check if answer is correct\n",
    " + solve for all parameters | - programming bugs\n",
    " - slow (can take days to work out solution) | \\+ fast to implement\n",
    " - Algebra mistakes | \\+ solve very hard equations\n",
    " - Still have to plot a solution at end | \\+ good to solve engineering problems at specific set of parameters etc.\n",
    " \\- very hard for complicated ODE's\n",
    "\n",
    " Places where you will use these skills:\n",
    "* Homework in this class\n",
    "* Group project\n",
    "* **Reactor engineering (A LOT)**\n",
    "* Heat/Mass Transfer\n",
    "* Process Control\n",
    "* MS Core courses (if you do the 5th year MS!)\n"
   ]
  },
  {
   "cell_type": "markdown",
   "metadata": {
    "id": "uE5NGbQyLvWw"
   },
   "source": [
    "## Review of Taylor Expansions\n",
    "\n",
    "* We have a complicated function (based on info at one point) that we want to  approximate. The Taylor series is a polynomial approxiamation of $f$:\n",
    "\\begin{align}\n",
    "\\hat{f} = a + bx + cx^2 + dx^3\n",
    "\\end{align}\n",
    "The simplest approximation is $\\hat{f} = a$. Let's demonstrate with $f(x) = \\exp(x)$\n",
    "\n",
    "* Each coefficient is obtained by matching derivatives\n",
    "\\begin{align}\n",
    "\\hat{f}(x=0) = a = f(x=0)\\\\\n",
    "\\frac{d\\hat{f}}{dx}\\bigg|_{x=0} = b = \\frac{df}{dx}\\bigg|_{x=0}\\\\\n",
    "\\frac{d^2\\hat{f}}{dx^2}\\bigg|_{x=0} = 2c = \\frac{d^2}{dx^2}\\bigg|_{x=0}\n",
    "\\end{align}\n",
    "And so on.."
   ]
  },
  {
   "cell_type": "markdown",
   "metadata": {
    "id": "a65nCXlPDcE3"
   },
   "source": [
    "## Euler's Method"
   ]
  },
  {
   "cell_type": "markdown",
   "metadata": {
    "id": "5JQrs1CkDf3h"
   },
   "source": [
    "\n",
    "\n",
    "* Simplest possible scheme - use the Taylor expansion to move from one point to the next for integrating. Start with definition of derivative:\n",
    "\\begin{align}\n",
    "\\frac{dy}{dt}\\bigg|_{t=0} = \\frac{y(t=h) - y(t=0)}{h - 0}\\\\\n",
    "\\frac{dy}{dt}\\bigg|_{t=0} = \\frac{y(t_1) - y(t_0)}{t_1 - t_0}\n",
    "\\end{align}\n",
    "Let's rearrange\n",
    "\\begin{align}\n",
    "y(t_1) = \\frac{dy}{dt}\\bigg|_{t_0}(t_1-t_0) + y(t_0) \\ \\rightarrow \\text{  ODE gives us this!}\n",
    "\\end{align}\n",
    "$\\underline{\\text{Ex}}$ : $\\frac{dy}{dt} = - y$,  $\\hspace{1cm}y(t=0) = 1$\n",
    "\\begin{align}\n",
    "y(t&=0) = 1\\\\\n",
    "y(t_1) &= \\frac{dy}{dt}\\bigg|_{t=0} (t_1 - 0) + y(t = 0)\\\\\n",
    "&= -y \\bigg|_{t=0}t_1 + 1\n",
    "\\end{align}\n",
    "Evaluate error for Euler approximation\n",
    "\\begin{align}\n",
    "y(t) = \\exp(-t) \\leftarrow \\text{  known}\\\\\n",
    "y(\\Delta t) = y(0) + \\Delta t \\frac{dy}{dt}\\bigg|_{t=0} + \\frac{\\Delta t^2}{2} \\frac{d^2y}{dt^2}\\bigg|_{t=0} + ...\\\\\n",
    "\\frac{y(\\Delta t) - y(0)}{\\Delta t} = \\frac{dy}{dt}\\bigg|_{t=0} + \\frac{\\Delta t}{2} \\frac{d^2y}{dt^2}\\bigg|_{t=0} + ...\n",
    "\\end{align}\n",
    "We are neglecting the second order terms and beyond. Error decays proportional to $\\Delta t$!\n"
   ]
  },
  {
   "cell_type": "markdown",
   "metadata": {
    "id": "dq2qjQhN1XGk"
   },
   "source": [
    "## Example: integrate to t=2 for $y'=-y$ using Euler's method "
   ]
  },
  {
   "cell_type": "markdown",
   "metadata": {
    "id": "Seq8YUunNDrN"
   },
   "source": [
    "#### Stepsize of 1"
   ]
  },
  {
   "cell_type": "markdown",
   "metadata": {
    "id": "-GQp0bA3PGGV"
   },
   "source": [
    "$t=0, y(0)=1$\n",
    "\n",
    "dy/dt (t=0) = -1\n",
    "\n",
    "y(t=1) = -1 * 1 + 1 = 0\n",
    "\n",
    "y = e^-1\n",
    "\n",
    "y(t=2) = -0 * 1 + 0 = 0\n",
    "\n",
    "y = e^(-2)\n",
    "\n",
    "\n"
   ]
  },
  {
   "cell_type": "markdown",
   "metadata": {
    "id": "Y04oZXoDNHpD"
   },
   "source": [
    "## stepsize of 1/2\n"
   ]
  },
  {
   "cell_type": "markdown",
   "metadata": {
    "id": "1gwBck0sM9nS"
   },
   "source": [
    "\n",
    "t = 0 -> t=1/2\n",
    "\n",
    "y(t=1/2) = -y(t=0) * 1/2 + y(t=0) = -1*1/2 + 1 = 1/2\n",
    "\n",
    "y(t=1) = -y(t=1/2) * 1/2 + y(t=1/2) = -1/2 * 1/2 + 1/2 = 1/4\n",
    "\n",
    "y(t=3/2) = -y(t=1) * 1/2 + y(t=1) = -1/4 * 1/2 + 1/4 = 1/8\n",
    "\n",
    "y(t=2) = -y(t=3/2) * 1/2 + y(t=3/2) = -1/8*1/2 + 1/8 = 1/16"
   ]
  },
  {
   "cell_type": "markdown",
   "metadata": {
    "id": "S7x2PSI40YRt"
   },
   "source": [
    "## Implementation of Euler's method in python\n",
    "\n",
    "First, let's define a function that represents what we want to integrate, of the form $y'=F(t,y)$"
   ]
  },
  {
   "cell_type": "code",
   "execution_count": null,
   "metadata": {
    "colab": {
     "base_uri": "https://localhost:8080/"
    },
    "executionInfo": {
     "elapsed": 288,
     "status": "ok",
     "timestamp": 1647351264254,
     "user": {
      "displayName": "Zachary Ulissi",
      "photoUrl": "https://lh3.googleusercontent.com/a/default-user=s64",
      "userId": "07633171379186475882"
     },
     "user_tz": 240
    },
    "id": "Bm06lXjX0xTd",
    "outputId": "5b57cc60-00c6-4ad2-9911-29d0226f1a75"
   },
   "outputs": [],
   "source": [
    "# Define the function we want to integrate\n",
    "def yprime(t,y):\n",
    "  return -y\n",
    "\n",
    "# try y' at t=0, y=1\n",
    "yprime(1/2,1/2)"
   ]
  },
  {
   "cell_type": "markdown",
   "metadata": {
    "id": "nnyikdc3086M"
   },
   "source": [
    "Now, we will write a function that loops through a range of times, and keeps adding the slope each time. "
   ]
  },
  {
   "cell_type": "code",
   "execution_count": null,
   "metadata": {
    "id": "SGfYBVOQ0RVx"
   },
   "outputs": [],
   "source": [
    "def euler_integrate(func, t, y0):\n",
    "  # func: the function to integrate, of the form\n",
    "  #       y'=F(t,y)\n",
    "  # y0:   the initial function value\n",
    "  # t:    the range of times to evaluate\n",
    "\n",
    "  y = [y0]\n",
    "  dt = t[1]-t[0]\n",
    "\n",
    "  #Loop through and implement the update\n",
    "  for new_time in t[1:]:\n",
    "\n",
    "    # current y\n",
    "    current_y = y[-1]\n",
    "\n",
    "    #Get the current derivative\n",
    "    yprime=func(new_time,current_y)\n",
    "\n",
    "    #Update y, fill this in\n",
    "    updated_y = yprime*dt + current_y\n",
    "\n",
    "    #Save the y\n",
    "    y.append(updated_y)\n",
    "\n",
    "  return y\n"
   ]
  },
  {
   "cell_type": "markdown",
   "metadata": {
    "id": "d-U3xvEZ1RAq"
   },
   "source": [
    "Let's test this function for a step size of 0.5"
   ]
  },
  {
   "cell_type": "code",
   "execution_count": null,
   "metadata": {
    "colab": {
     "base_uri": "https://localhost:8080/",
     "height": 296
    },
    "executionInfo": {
     "elapsed": 826,
     "status": "ok",
     "timestamp": 1647351307053,
     "user": {
      "displayName": "Zachary Ulissi",
      "photoUrl": "https://lh3.googleusercontent.com/a/default-user=s64",
      "userId": "07633171379186475882"
     },
     "user_tz": 240
    },
    "id": "ki6JIXDP1Dmu",
    "outputId": "2e79b779-cef6-48fe-8516-c1febd3b34f4"
   },
   "outputs": [],
   "source": [
    "import numpy as np\n",
    "\n",
    "# Generate a range of t from 0 to 2, with a timestep of 0.5\n",
    "t = np.arange(0,2.1,.01)\n",
    "\n",
    "# Use or ne function\n",
    "y = euler_integrate(yprime, \n",
    "                    t=t, \n",
    "                    y0=1)\n",
    "\n",
    "#Plot the results\n",
    "plt.plot(t,y,'ok', label='Numerical Sol''n to dy/dt=-y, y(t=0)=1')\n",
    "plt.xlabel('t')\n",
    "plt.ylabel('Numerical Sol''n to dy/dt=-y, y(t=0)=1')\n",
    "\n",
    "t=np.linspace(0,2,100)\n",
    "\n",
    "plt.plot(t,np.exp(-t),'k-', label='full solution, $e^{-t}$')\n",
    "plt.legend()\n",
    "plt.xlabel('t')\n",
    "plt.ylabel('y')"
   ]
  },
  {
   "cell_type": "markdown",
   "metadata": {
    "id": "td4R-XcZx2cA"
   },
   "source": [
    "Let's play around with the step size and see how the error at t=2 changes"
   ]
  },
  {
   "cell_type": "code",
   "execution_count": null,
   "metadata": {
    "colab": {
     "base_uri": "https://localhost:8080/"
    },
    "executionInfo": {
     "elapsed": 2286,
     "status": "ok",
     "timestamp": 1617279446419,
     "user": {
      "displayName": "Zachary Ulissi",
      "photoUrl": "",
      "userId": "07633171379186475882"
     },
     "user_tz": 240
    },
    "id": "EZRXwmt7yLRE",
    "outputId": "0ec4a2e7-708c-4503-cfbb-056cf6450f21"
   },
   "outputs": [],
   "source": [
    "t = np.arange(0,2.01,0.0001)\n",
    "y = euler_integrate(yprime, t, 1)\n",
    "\n",
    "print('Error of f(x=2) = %f'%abs(y[-1]-np.exp(-t[-1])))"
   ]
  },
  {
   "cell_type": "code",
   "execution_count": null,
   "metadata": {
    "colab": {
     "base_uri": "https://localhost:8080/",
     "height": 300
    },
    "executionInfo": {
     "elapsed": 1078,
     "status": "ok",
     "timestamp": 1647351324548,
     "user": {
      "displayName": "Zachary Ulissi",
      "photoUrl": "https://lh3.googleusercontent.com/a/default-user=s64",
      "userId": "07633171379186475882"
     },
     "user_tz": 240
    },
    "id": "CAOV_WEyxza8",
    "outputId": "8abd7d08-2e7d-4bf1-f032-135cd7bff579"
   },
   "outputs": [],
   "source": [
    "# Scan over a range of time steps\n",
    "\n",
    "for dt in [1,.5,.1,.05,.01]:\n",
    "\n",
    "  # Calculate the solution\n",
    "  t = np.arange(0,2.01,dt)\n",
    "  y = euler_integrate(yprime, t, 1)\n",
    "\n",
    "  # Plot the error (difference beteween analytical \n",
    "  # solution and numerical solution)\n",
    "  plt.loglog(dt,abs(y[-1]-np.exp(-t[-1])),'ok')\n",
    "\n",
    "# Plot a simple -1 log scaling to show the error drops\n",
    "dt=np.logspace(-2,0);\n",
    "plt.plot(dt,dt/10,'k--',label='Slope 1')\n",
    "\n",
    "plt.xlabel('Time Step')\n",
    "plt.ylabel('Error at t=2 for y\\'=-y, y(0)=1')\n",
    "plt.legend()"
   ]
  },
  {
   "cell_type": "markdown",
   "metadata": {
    "id": "kNu2MajzYNg1"
   },
   "source": [
    "## Realistic Method: Runge-Kutta"
   ]
  },
  {
   "cell_type": "markdown",
   "metadata": {
    "id": "UQJZDbEGYRIj"
   },
   "source": [
    "* There are many possible ways to approximate these differential equations. Euler is very simple and not widely used in practice. Two other methods are implemented below in the notes if you're interested; they're better than Euler but worse than what I'm about to show you. \n",
    "* Which method you use depends on your problem and limitations/constraints. \n",
    "* The Runge-Kutta method works very well and is widely used in practice, and is a reasonable trade-off in Order, complexity, speed etc. This is an $O(\\Delta t^4)$ method - extemely powerful.\\\n",
    "Def:\n",
    "\\begin{align}\n",
    "k_1 &= \\Delta t \\cdot f(t^N, y^N)\\\\\n",
    "k_2 &= \\Delta t \\cdot f\\left(t^N+\\frac{\\Delta t}{2}, y^N + \\frac{k_1}{2}\\right)\\\\\n",
    "k_3 &= \\Delta t \\cdot f\\left(t^N+\\frac{\\Delta t}{2}, y^N + \\frac{k_2}{2}\\right)\\\\\n",
    "k_4 &= \\Delta t \\cdot f(t^N+\\Delta t, y^N + k_3)\\\\\n",
    "y^{N+1} &= y^N + \\frac{k_1}{6} + \\frac{k_2}{3} + \\frac{k_3}{3} +  \\frac{k_4}{6}\n",
    "\\end{align}\n",
    "\n",
    "Remember f(t, y) is the ODE!\n",
    "\n",
    "Very similar to ODE45 in Matlab if you've ever used that.\n"
   ]
  },
  {
   "cell_type": "markdown",
   "metadata": {
    "id": "YXqanBqFgC9-"
   },
   "source": [
    "# Numerical integration in scipy\n",
    "\n",
    "* scipy contains a well-rounded ODE integration method ``scipy.integrate.solve_ivp``. It works pretty much the same as the other methods we've seen in terms of functional form. Linke here: https://docs.scipy.org/doc/scipy/reference/generated/scipy.integrate.solve_ivp.html#scipy.integrate.solve_ivp\n",
    "* The only additional trick is that this method can figure out a reasonable guess for the step size\n",
    "\n"
   ]
  },
  {
   "cell_type": "code",
   "execution_count": null,
   "metadata": {
    "colab": {
     "base_uri": "https://localhost:8080/",
     "height": 296
    },
    "executionInfo": {
     "elapsed": 346,
     "status": "ok",
     "timestamp": 1647350647745,
     "user": {
      "displayName": "Zachary Ulissi",
      "photoUrl": "https://lh3.googleusercontent.com/a/default-user=s64",
      "userId": "07633171379186475882"
     },
     "user_tz": 240
    },
    "id": "bwIUBCWMhXHy",
    "outputId": "ff8d6ffa-875a-414d-e725-fe751c7d6696"
   },
   "outputs": [],
   "source": [
    "from scipy.integrate import solve_ivp\n",
    "\n",
    "def yprime(t,y):\n",
    "  return -y\n",
    "\n",
    "sol = solve_ivp(yprime, [0,2], [1])\n",
    "\n",
    "plt.plot(sol.t,sol.y[0,:],'ok',label='solve_ivp')\n",
    "\n",
    "t = np.linspace(0,2,100)\n",
    "plt.plot(t,np.exp(-t),'k-', label='full solution, $e^{-t}$')\n",
    "\n",
    "plt.xlabel('t')\n",
    "plt.ylabel('y')\n",
    "plt.legend()\n"
   ]
  },
  {
   "cell_type": "markdown",
   "metadata": {
    "id": "JbvgKM3Xicgg"
   },
   "source": [
    "We can also do the same thing and get it to evaluate at a bunch of points. "
   ]
  },
  {
   "cell_type": "code",
   "execution_count": null,
   "metadata": {
    "colab": {
     "base_uri": "https://localhost:8080/",
     "height": 296
    },
    "executionInfo": {
     "elapsed": 342,
     "status": "ok",
     "timestamp": 1647350752206,
     "user": {
      "displayName": "Zachary Ulissi",
      "photoUrl": "https://lh3.googleusercontent.com/a/default-user=s64",
      "userId": "07633171379186475882"
     },
     "user_tz": 240
    },
    "id": "4NCcApiujHV5",
    "outputId": "67bf4233-a8e4-4dcd-a7df-ac8b97a2b21d"
   },
   "outputs": [],
   "source": [
    "from scipy.integrate import solve_ivp\n",
    "\n",
    "# The differential equation function - has to be f(t,y)!\n",
    "def yprime(t,y, k):\n",
    "  return -k*y\n",
    "\n",
    "# Let's specify the range over which we want regular spaced solutions\n",
    "t = np.linspace(0,2,20)\n",
    "\n",
    "sol = solve_ivp(yprime, # the function to integrate\n",
    "                [0,2], # the time range to integrate over\n",
    "                [1], # the initial condition; it's a vector because solve_ivp is actually set up for coupled ODEs\n",
    "                t_eval=t,# if we want it to evaluate the solution at regular points\n",
    "                args=(2,)) \n",
    "\n",
    "# Plot the solution - note that sol.t is where the solution was actually evaluated\n",
    "# and sol.y is the solution. We take the first row of the solution here, since \n",
    "# solve_ivp is really set up to solve systems of equations\n",
    "plt.plot(sol.t,\n",
    "         sol.y[0,:], \n",
    "         'ok', # black circles\n",
    "         label='solve_ivp',\n",
    "         )\n",
    "\n",
    "# Plot the analytical solution\n",
    "t = np.linspace(0,2,100)\n",
    "plt.plot(t,np.exp(-2*t),'k-', label='full solution, $e^{-t}$')\n",
    "\n",
    "plt.xlabel('t')\n",
    "plt.ylabel('y')\n",
    "plt.legend()\n"
   ]
  },
  {
   "cell_type": "markdown",
   "metadata": {
    "id": "dwUJfZncjMu4"
   },
   "source": [
    "## Troubleshooting solve_ivp and extra options\n",
    "\n",
    "### Tolerances\n",
    "solve_ivp is trying to estimate and control the error for you! rtol is the relative tolerance in the function (eg % error in the numbers coming out). \n",
    "* atol is the absolute tolerance (I want the concentration +/- 0.00001). \n",
    "* rtol is $10^{-3}$ and atols is $10^{-6}$. \n",
    "* If your concentration is on the scale of 0.000000001 M, you will have a problem! \n",
    "  * Best solution - change units or rescale your problem so your variables are close to 1\n",
    "  * Possible solution - make you atol really small and hope it solves things\n",
    "* If decreasing rtol/atol changes your solution, they're not set tightly enough or you have other problems! \n",
    "\n",
    "### Failures in integration with RK45\n",
    "The solve_ivp documentation has some nice comments for what to do it things go wrong:\n",
    "\n",
    "``If not sure, first try to run ‘RK45’. If it makes unusually many iterations, diverges, or fails, your problem is likely to be stiff and you should use ‘Radau’ or ‘BDF’. ‘LSODA’ can also be a good universal choice, but it might be somewhat less convenient to work with as it wraps old Fortran code``\n",
    "\n",
    "## Practical tips:\n",
    "* Very important to check whether the answer is reasonable\n",
    "* If you solve a problem with $\\Delta t = 0.1$ (or some other number), always check that your answer does not change with $\\Delta t = \\frac{0.1}{2}$\n",
    "* Before solving a problem with numerical methods, make sure you can correctly code the RHS of the equation.\n",
    "* If you are getting strange results, try a stiff solver instead. See the notes in t\n"
   ]
  },
  {
   "cell_type": "markdown",
   "metadata": {
    "id": "-6JYlqSD5SbT"
   },
   "source": [
    "# Intuition for second order linear ODE's: spring example\n",
    "\n",
    "## Simple spring\n",
    "\n",
    "You probably solved oscillating springs in your physics class. As a reminder, \n",
    "\\begin{align*}\n",
    "F=ma=m\\frac{d^2x}{dt^2}\n",
    "\\end{align*}\n",
    "A spring is defined by a restoring force $$F=-kx$$. Without any other forces, this leads to \n",
    "\\begin{align*}\n",
    "m\\frac{d^2x}{dt^2}=-kx\n",
    "\\end{align*} \n",
    "or \n",
    "\\begin{align*}\n",
    "x''=-\\frac{k}{m}x\n",
    "\\end{align*}\n",
    "We can solve this! We know the solution is \\begin{align*}\n",
    "x=A\\sin\\left(\\sqrt{\\frac{k}{m}}x\\right)+B\\cos\\left(\\sqrt{\\frac{k}{m}}x\\right)\n",
    "\\end{align*}\n",
    "We recover the spring oscillation right away.\n",
    "\n",
    "## Spring with drag\n",
    "\n",
    "Let's consider a spring with a drag force on the end, which is proportional to how quick the weight is moving. Now we have\n",
    "\\begin{align*}\n",
    "m\\frac{d^2x}{dt^2}=-kx-c\\frac{dx}{dt}\n",
    "\\end{align*} \n",
    "We can solve this too! Rearranging:\n",
    "\\begin{align*}\n",
    "\\frac{d^2x}{dt^2}+\\frac{c}{m}\\frac{dx}{dt}+\\frac{k}{m}x=0\n",
    "\\end{align*} \n",
    "\n",
    "Rather than solve all of these by hand, let's just do it numerically. Suppose $m=1$ kg, $k=5$ kg/s$^2$. The initial condition is x=0 and $x'=5$ m/s.\n",
    "\n",
    "Solve and plot for the solution with c=0 kg/s and c=1 kg/s. Try varying c. What happens if c gets large?\n",
    "\n",
    "\n"
   ]
  },
  {
   "cell_type": "code",
   "execution_count": null,
   "metadata": {
    "colab": {
     "base_uri": "https://localhost:8080/",
     "height": 282
    },
    "executionInfo": {
     "elapsed": 629,
     "status": "ok",
     "timestamp": 1647352003702,
     "user": {
      "displayName": "Zachary Ulissi",
      "photoUrl": "https://lh3.googleusercontent.com/a/default-user=s64",
      "userId": "07633171379186475882"
     },
     "user_tz": 240
    },
    "id": "0Sx36v5e7NTM",
    "outputId": "a284869f-a5b1-4397-fc6a-8ceba5c09884"
   },
   "outputs": [],
   "source": [
    "import matplotlib.pyplot as plt\n",
    "from scipy.integrate import solve_ivp\n",
    "import numpy as np\n",
    "\n",
    "\n",
    "y0 = [0, 5] #y, y'\n",
    "t = [0,20]\n",
    "\n",
    "def yprime(t, y, m, k, c):\n",
    "  y, yprime = y \n",
    "\n",
    "  return [yprime, #dy/dx = y'\n",
    "          -c/m*yprime-k/m*y ] #dyprime/dx = y''\n",
    "\n",
    "t_eval = np.linspace(0,20,100)\n",
    "\n",
    "\n",
    "sol = solve_ivp(yprime, t, y0, t_eval = t_eval, args = (1, 5, 10))\n",
    "plt.plot(sol.t, sol.y.T[:,0]) #plot only the first column of solutions e.g. y'"
   ]
  },
  {
   "cell_type": "markdown",
   "metadata": {
    "id": "BnlzvLZz9DVD"
   },
   "source": [
    "Now, let's add some damping to this. "
   ]
  },
  {
   "cell_type": "code",
   "execution_count": null,
   "metadata": {
    "id": "oHHMzPaDObLx"
   },
   "outputs": [],
   "source": [
    "import matplotlib.pyplot as plt\n",
    "from scipy.integrate import solve_ivp\n",
    "import numpy as np\n",
    "\n",
    "y0 = [0, 5] #y, y'\n",
    "t = [0,20]\n",
    "\n",
    "def yprime(t, y, m, k, c):\n",
    "  y, yprime = y \n",
    "\n",
    "  return [yprime, #dy/dx = y'\n",
    "          -c/m*yprime-k/m*y ] #dyprime/dx = y''\n",
    "\n",
    "t_eval = np.linspace(0,20,100)\n",
    "\n",
    "\n",
    "sol = solve_ivp(yprime, t, y0, t_eval = t_eval, args = (1, 5, 5))\n",
    "plt.plot(sol.t, sol.y.T[:,0]) #plot only the first column of solutions e.g. y'"
   ]
  },
  {
   "cell_type": "markdown",
   "metadata": {
    "id": "C5Y3jx-c-ABW"
   },
   "source": [
    "If we make $c$ too large, we get under-damped behavior!"
   ]
  },
  {
   "cell_type": "markdown",
   "metadata": {
    "id": "-D_keyfw9Prn"
   },
   "source": [
    "## Driving force\n",
    "\n",
    "Now, let's add an external force. \n",
    "\\begin{align*}\n",
    "m\\frac{d^2x}{dt^2}=-kx-c\\frac{dx}{dt}+F(t)\n",
    "\\end{align*} \n",
    "Rearranging:\n",
    "\\begin{align*}\n",
    "\\frac{d^2x}{dt^2}+\\frac{c}{m}\\frac{dx}{dt}+\\frac{k}{m}x=\\frac{F(t)}{m}\n",
    "\\end{align*} \n",
    "\n",
    "Try solving and plotting for $F(t)=\\sin(t)$ and $F(t)=100\\sin(8t)$."
   ]
  },
  {
   "cell_type": "code",
   "execution_count": null,
   "metadata": {
    "id": "ufYewKAkRNpL"
   },
   "outputs": [],
   "source": []
  },
  {
   "cell_type": "markdown",
   "metadata": {
    "id": "SK_x9qgX9KOJ"
   },
   "source": [
    "# Bonus methods to help understand where Runge-Kutta comes from"
   ]
  },
  {
   "cell_type": "markdown",
   "metadata": {
    "id": "P_ntLQQC0fBc"
   },
   "source": [
    "## Euler's method with second derivatives\n",
    "\n",
    "We truncated the approximation at the first derivative in the Euler scheme. An obvious question is whether using the second derivative would improve things?\n",
    "\n",
    "For example, let's propose a new method:\n",
    "\\begin{align}\n",
    "y(t) - y(t_0) = \\Delta t \\frac{dy}{dt}\\bigg|_{t = t_0} + \\frac{\\Delta t^2}{2} \\frac{d^2y}{dt^2}\\bigg|_{t = t_0}\n",
    "\\end{align}\n",
    "We have a new term, if we know $\\frac{d^2y}{dt^2}\\bigg|_{t=t_0}$. Now the order should be better as $\\Delta t^2$"
   ]
  },
  {
   "cell_type": "markdown",
   "metadata": {
    "id": "a67G_iDGJjLD"
   },
   "source": [
    "### Example with second order\n",
    "$y(t_1) = -t + 1$\\\n",
    "or more generally:\n",
    "\\begin{align}\n",
    "y(t_1) = -y (t_0) (t_1 - t_0) + y(t_0)\n",
    "\\end{align}\n",
    "Remember, this only really holds for $t_1 - t_0 \\rightarrow 0$\n",
    "\n",
    "<img src=\"https://docs.google.com/drawings/d/e/2PACX-1vSgJC6gobNTNfiWxOfOGH1RhSYBz1tefW9Nbmbdul4yPxR7FZjQBe1bfFgy_SaWqiYI6c4Y7nwg2ryw/pub?w=558&h=283\">"
   ]
  },
  {
   "cell_type": "markdown",
   "metadata": {
    "id": "pw5U0aYfbIaA"
   },
   "source": [
    "### Python implementation of the second order Euler method"
   ]
  },
  {
   "cell_type": "code",
   "execution_count": null,
   "metadata": {
    "colab": {
     "base_uri": "https://localhost:8080/",
     "height": 296
    },
    "executionInfo": {
     "elapsed": 3378,
     "status": "ok",
     "timestamp": 1617279447539,
     "user": {
      "displayName": "Zachary Ulissi",
      "photoUrl": "",
      "userId": "07633171379186475882"
     },
     "user_tz": 240
    },
    "id": "3NG9TtP6bJ8g",
    "outputId": "27021a5f-eb1a-4eda-ae1b-3d7cf1648cf1"
   },
   "outputs": [],
   "source": [
    "# Define the function we want to integrate\n",
    "def yprime_yprimeprime(t,y):\n",
    "  #return y', y''\n",
    "  return -y, y\n",
    "\n",
    "\n",
    "def euler_2nd_derivative_integrate(func, t, y0):\n",
    "\n",
    "  y = [y0]\n",
    "  current_time = t[0]\n",
    "  dt = t[1]-t[0]\n",
    "\n",
    "  #Loop through and implement the update\n",
    "  for new_time in t[1:]:\n",
    "\n",
    "    current_y = y[-1]\n",
    "\n",
    "    #Get the current derivative\n",
    "    yprime, yprimeprime=func(t,current_y)\n",
    "\n",
    "    #Find the current step size\n",
    "    updated_y = current_y + dt*yprime + dt**2/2*yprimeprime\n",
    "\n",
    "    #Save the y\n",
    "    y.append(updated_y)\n",
    "\n",
    "  return y\n",
    "\n",
    "t = np.arange(0,2.1,0.5)\n",
    "y = euler_integrate(yprime, t, 1)\n",
    "plt.plot(t,y,'ok', label='1st-order Euler Sol''n')\n",
    "\n",
    "y = euler_2nd_derivative_integrate(yprime_yprimeprime, t, 1)\n",
    "plt.plot(t,y,'or', label='2nd-order Euler Sol''n')\n",
    "\n",
    "t = np.linspace(0,2,100)\n",
    "plt.plot(t,np.exp(-t),'k-', label='full solution, $e^{-t}$')\n",
    "\n",
    "plt.xlabel('t')\n",
    "plt.ylabel('y')\n",
    "plt.legend()\n"
   ]
  },
  {
   "cell_type": "markdown",
   "metadata": {
    "id": "BklxCIXUbnDL"
   },
   "source": [
    "Let's see how accurate this new method is with respect to step size!"
   ]
  },
  {
   "cell_type": "code",
   "execution_count": null,
   "metadata": {
    "colab": {
     "base_uri": "https://localhost:8080/",
     "height": 300
    },
    "executionInfo": {
     "elapsed": 4350,
     "status": "ok",
     "timestamp": 1617279448524,
     "user": {
      "displayName": "Zachary Ulissi",
      "photoUrl": "",
      "userId": "07633171379186475882"
     },
     "user_tz": 240
    },
    "id": "PY0-ZPMebtH6",
    "outputId": "03516ed7-44f1-4bdb-866a-82d334fbbc8c"
   },
   "outputs": [],
   "source": [
    "# Scan over a range of time steps\n",
    "\n",
    "for dt in [1,.5,.1,.05,.01]:\n",
    "\n",
    "  # Calculate the solution\n",
    "  t = np.arange(0,2.01,dt)\n",
    "  y = euler_integrate(yprime, t, 1)\n",
    "\n",
    "  # Plot the error (difference beteween analytical \n",
    "  # solution and numerical solution)\n",
    "  plt.loglog(dt,abs(y[-1]-np.exp(-t[-1])),'ok')\n",
    "\n",
    "  # Calculate the solution\n",
    "  t = np.arange(0,2.01,dt)\n",
    "  y = euler_2nd_derivative_integrate(yprime_yprimeprime, t, 1)\n",
    "\n",
    "  # Plot the error (difference beteween analytical \n",
    "  # solution and numerical solution)\n",
    "  plt.loglog(dt,abs(y[-1]-np.exp(-t[-1])),'or')\n",
    "\n",
    "# Plot a simple -1 log scaling to show the error drops\n",
    "dt=np.logspace(-2,0);\n",
    "plt.plot(dt,dt/10,'k--',label='First order Euler')\n",
    "\n",
    "dt=np.logspace(-2,0);\n",
    "plt.plot(dt,dt**2./20,'r--', label='Euler with 2nd Derivatives')\n",
    "\n",
    "plt.xlabel('Time Step')\n",
    "plt.ylabel('Error at t=2 for y\\'=-y, y(0)=1')\n",
    "plt.legend()"
   ]
  },
  {
   "cell_type": "markdown",
   "metadata": {
    "id": "UE_2BZuLOS94"
   },
   "source": [
    "\n",
    "## Mid-point method\n",
    "\n",
    "* So, we have a method that allows us to integrate forward as long as our step size is small enough. However, we want the step size to be large to keep our method fast. What can we do to improve this?\n",
    "\n",
    "* We showed an example of a second order method if we know the second derivative to help in our Taylor series. We can so similarly well with other schemes.\n",
    "\n",
    "<img src=\"https://docs.google.com/drawings/d/e/2PACX-1vRnHTAakWpLwYKmHHkSQtfEcBe9IYZse9Sz3DLt5paAkwYClrhBRzp88uAr4BxIFrn_2qA5YYmOhOhj/pub?w=460&amp;h=808\">"
   ]
  },
  {
   "cell_type": "markdown",
   "metadata": {
    "id": "4fIx9SanQedA"
   },
   "source": [
    "The problem here is that $\\frac{dy}{dt}\\bigg|_{t=0}$ is not a good approximation everywhere in the interval and expectedly at the end. So, let's make a better approximation. Let's take a step half way across the interval using the first approximation.\n",
    "\\begin{align}\n",
    "y(\\Delta t) = y(0) + \\Delta t \\frac{dy}{dt} \\bigg|_{t = \\frac{\\Delta t}{2}}\\\\\n",
    "\\frac{dy}{dt}\\bigg|_{t = \\frac{\\Delta t}{2}} = \\frac{dy}{dt}\\bigg|_{t=0} + \\left( \\frac{\\Delta t}{2}\\right) \\frac{d^2y}{dt^2}\\bigg|_{t=0} + \\frac{1}{2} \\left( \\frac{\\Delta t}{2}\\right)^2 \\frac{d^3y}{dt^3}\\bigg|_{t=0} + ...\\\\\n",
    "y(\\Delta t) = y(t=0) + \\Delta t \\left(\\frac{dy}{dt}\\bigg|_{t=0} + \\frac{\\Delta t}{2} \\frac{d^2}{dt^2}\\bigg|_{t=0} + ... \\right)\n",
    "\\end{align}\n",
    "Last full term is the approximation of mid-point slope. Thus, mid-point method is an $O(\\Delta t^2)$ method without using any information from the second derivative. Proposed process:\n",
    "\\begin{align}\n",
    "y_{N+\\frac{1}{2}} = y_N + \\frac{\\Delta t}{2} \\frac{dy}{dt}\\bigg|_N\\\\\n",
    "y_{N+1} = y_N + \\Delta t \\frac{dy}{dt}\\bigg|_{N+\\frac{1}{2}}\n",
    "\\end{align}\n",
    "$\\underline{\\text{Ex}}$:  $\\frac{dy}{dt} = -y, \\hspace{1cm} y(t=0)=1$\n",
    "\\begin{align}\n",
    "y_{N+\\frac{1}{2}} = 1 + \\frac{\\Delta t}{2} \\frac{dy}{dt}\\bigg|_{t=0} = 1 - \\frac{\\Delta t}{2}\\\\\n",
    "y_{N+1} = 1 + \\Delta t \\left(- \\left(1 - \\frac{\\Delta t}{2} \\right) \\right) = 1 - \\Delta t \\left(1 - \\frac{\\Delta t}{2} \\right) \n",
    "\\end{align}"
   ]
  },
  {
   "cell_type": "markdown",
   "metadata": {
    "id": "TR_8tSGeb6g-"
   },
   "source": [
    "### Python implementation of the mid-point method\n",
    "\n",
    "\n"
   ]
  },
  {
   "cell_type": "code",
   "execution_count": null,
   "metadata": {
    "id": "0dzEWI3EcAM8"
   },
   "outputs": [],
   "source": [
    "def midpoint_integrate(func, t, y0):\n",
    "  # func: the function to integrate, of the form\n",
    "  #       y'=F(t,y)\n",
    "  # y0:   the initial function value\n",
    "  # t:    the range of times to evaluate\n",
    "\n",
    "  y = [y0]\n",
    "  dt = t[1]-t[0]\n",
    "\n",
    "  #Loop through and implement the update\n",
    "  for new_time in t[1:]:\n",
    "\n",
    "    current_y = y[-1]\n",
    "\n",
    "    #Get the current derivative\n",
    "    yprime=func(t,current_y)\n",
    "\n",
    "    #Get the mid-point\n",
    "    yN12= current_y + yprime * dt/2\n",
    "\n",
    "    #Get the derivative at the mid-point\n",
    "    yprimeN12= func(t+dt/2, yN12) # fill this in\n",
    "\n",
    "    #Take the full step\n",
    "    updated_y= current_y + dt*yprimeN12 # fill this in\n",
    "\n",
    "    #Save the y\n",
    "    y.append(updated_y)\n",
    "\n",
    "  return y\n"
   ]
  },
  {
   "cell_type": "code",
   "execution_count": null,
   "metadata": {
    "colab": {
     "base_uri": "https://localhost:8080/",
     "height": 296
    },
    "executionInfo": {
     "elapsed": 4676,
     "status": "ok",
     "timestamp": 1617279448862,
     "user": {
      "displayName": "Zachary Ulissi",
      "photoUrl": "",
      "userId": "07633171379186475882"
     },
     "user_tz": 240
    },
    "id": "W2qSS2lZfHc_",
    "outputId": "b72bef57-ccc2-430f-d7fb-c6d159b06ec6"
   },
   "outputs": [],
   "source": [
    "t = np.arange(0,2.1,0.5)\n",
    "y = euler_integrate(yprime, t, 1)\n",
    "plt.plot(t,y,'ok', label='1st-order Euler Sol''n')\n",
    "\n",
    "y = euler_2nd_derivative_integrate(yprime_yprimeprime, t, 1)\n",
    "plt.plot(t,y,'or', label='2nd-order Euler Sol''n')\n",
    "\n",
    "y = midpoint_integrate(yprime, t, 1)\n",
    "plt.plot(t,y,'ob', markersize=2, label='Mid-point method Sol''n')\n",
    "\n",
    "t = np.linspace(0,2,100)\n",
    "plt.plot(t,np.exp(-t),'k-', label='full solution, $e^{-t}$')\n",
    "\n",
    "plt.xlabel('t')\n",
    "plt.ylabel('y')\n",
    "plt.legend()\n"
   ]
  },
  {
   "cell_type": "code",
   "execution_count": null,
   "metadata": {
    "colab": {
     "base_uri": "https://localhost:8080/",
     "height": 300
    },
    "executionInfo": {
     "elapsed": 5535,
     "status": "ok",
     "timestamp": 1617279449734,
     "user": {
      "displayName": "Zachary Ulissi",
      "photoUrl": "",
      "userId": "07633171379186475882"
     },
     "user_tz": 240
    },
    "id": "t0CPfxN1dlJS",
    "outputId": "b5aa2c7d-fd14-4b25-9d20-afe2ac69fce9"
   },
   "outputs": [],
   "source": [
    "# Scan over a range of time steps\n",
    "\n",
    "for dt in [1,.5,.1,.05,.01]:\n",
    "\n",
    "  # Calculate the solution\n",
    "  t = np.arange(0,2.01,dt)\n",
    "  y = euler_integrate(yprime, t, 1)\n",
    "\n",
    "  # Plot the error (difference beteween analytical \n",
    "  # solution and numerical solution)\n",
    "  plt.loglog(dt,abs(y[-1]-np.exp(-t[-1])),'ok')\n",
    "\n",
    "  # Calculate the solution\n",
    "  y = euler_2nd_derivative_integrate(yprime_yprimeprime, t, 1)\n",
    "\n",
    "  # Plot the error (difference beteween analytical \n",
    "  # solution and numerical solution)\n",
    "  plt.loglog(dt,abs(y[-1]-np.exp(-t[-1])),'or')\n",
    "\n",
    "  # Calculate the solution\n",
    "  y = midpoint_integrate(yprime, t, 1)\n",
    "\n",
    "  # Plot the error (difference beteween analytical \n",
    "  # solution and numerical solution)\n",
    "  plt.loglog(dt,abs(y[-1]-np.exp(-t[-1])),'ob', markersize=3)\n",
    "\n",
    "# Plot a simple -1 log scaling to show the error drops\n",
    "dt=np.logspace(-2,0);\n",
    "plt.plot(dt,dt/10,'k--',label='First order Euler')\n",
    "\n",
    "dt=np.logspace(-2,0);\n",
    "plt.plot(dt,dt**2./20,'r--', label='Euler with 2nd Derivatives, or Mid-Point')\n",
    "\n",
    "plt.xlabel('Time Step')\n",
    "plt.ylabel('Error at t=2 for y\\'=-y, y(0)=2')\n",
    "plt.legend()"
   ]
  },
  {
   "cell_type": "markdown",
   "metadata": {
    "id": "59fTs9fq9ipz"
   },
   "source": [
    "# Numerical Taylor expansions\n",
    "* We have a complicated function (based on info at one point) that we want to  approximate. The Taylor series is a polynomial approxiamation of $f$:\n",
    "\\begin{align}\n",
    "\\hat{f} = a + bx + cx^2 + dx^3\n",
    "\\end{align}\n",
    "The simplest approximation is $\\hat{f} = a$. Let's demonstrate with $f(x) = \\exp(x)$\n",
    "\n",
    "* Each coefficient is obtained by matching derivatives\n",
    "\\begin{align}\n",
    "\\hat{f}(x=0) = a = f(x=0)\\\\\n",
    "\\frac{d\\hat{f}}{dx}\\bigg|_{x=0} = b = \\frac{df}{dx}\\bigg|_{x=0}\\\\\n",
    "\\frac{d^2\\hat{f}}{dx^2}\\bigg|_{x=0} = 2c = \\frac{d^2}{dx^2}\\bigg|_{x=0}\n",
    "\\end{align}\n",
    "And so on.."
   ]
  },
  {
   "cell_type": "code",
   "execution_count": null,
   "metadata": {
    "colab": {
     "base_uri": "https://localhost:8080/",
     "height": 279
    },
    "executionInfo": {
     "elapsed": 997,
     "status": "ok",
     "timestamp": 1647341273639,
     "user": {
      "displayName": "Zachary Ulissi",
      "photoUrl": "https://lh3.googleusercontent.com/a/default-user=s64",
      "userId": "07633171379186475882"
     },
     "user_tz": 240
    },
    "id": "Gh_zbgEqAEjR",
    "outputId": "4a04da05-4348-4c28-ea4b-75ce95b31c54"
   },
   "outputs": [],
   "source": [
    "import numpy as np\n",
    "import matplotlib.pyplot as plt\n",
    "\n",
    "x = np.linspace(0,2)\n",
    "f1 = np.ones(len(x))\n",
    "f2 = 1 + x\n",
    "f3 = 1 + x + x**2 / 2\n",
    "f4 = 1 + x + x**2 / 2 + x**3 / 6\n",
    "f = np.exp(x)\n",
    "plt.plot(x, f1, '--', label = '$\\hat{f}$ = 1')\n",
    "plt.plot(x, f2, '--', label = '$\\hat{f} = 1 + x$')\n",
    "plt.plot(x, f3, '--', label = '$\\hat{f} = 1 + x + x^2 / 2$')\n",
    "plt.plot(x, f4, '--', label = '$\\hat{f} = 1 + x + x^2/2 + x^3/6$')\n",
    "plt.plot(x, f, 'k', label = 'exp(x)')\n",
    "plt.xlabel('x')\n",
    "plt.ylabel('F')\n",
    "plt.legend()\n",
    "plt.show()"
   ]
  },
  {
   "cell_type": "markdown",
   "metadata": {
    "id": "hoiC-5Pyyzni"
   },
   "source": [
    "## Example of taylor expansion in python\n",
    "\n",
    "Rather than explicitly coding the Taylor expansion, let's make a little function to do this for us. "
   ]
  },
  {
   "cell_type": "code",
   "execution_count": null,
   "metadata": {
    "colab": {
     "base_uri": "https://localhost:8080/"
    },
    "executionInfo": {
     "elapsed": 786,
     "status": "ok",
     "timestamp": 1617279444846,
     "user": {
      "displayName": "Zachary Ulissi",
      "photoUrl": "",
      "userId": "07633171379186475882"
     },
     "user_tz": 240
    },
    "id": "aj3edDcqy_ux",
    "outputId": "a96bd087-1f86-4376-a37f-d4cb51847145"
   },
   "outputs": [],
   "source": [
    "from scipy.special import factorial\n",
    "\n",
    "def taylor_exp(x,N):\n",
    "  # this function evaluates the taylor expansion of exp(x)\n",
    "\n",
    "  # x is a range of x to evaluate at\n",
    "  # N is the order of the taylor expansion\n",
    "\n",
    "  y=0.0\n",
    "\n",
    "  # Loop over N, adding terms \n",
    "  for n in range(N):\n",
    "      y = y + x**n/factorial(n)\n",
    "\n",
    "  # return the final approximation to y\n",
    "  return y\n",
    "\n",
    "#Test the function for x=2 at order 1    \n",
    "taylor_exp(x=2,N=6)"
   ]
  },
  {
   "cell_type": "markdown",
   "metadata": {
    "id": "WkBNiyPmzCY-"
   },
   "source": [
    "Using this function, we plot the the curves from before."
   ]
  },
  {
   "cell_type": "code",
   "execution_count": null,
   "metadata": {
    "colab": {
     "base_uri": "https://localhost:8080/",
     "height": 296
    },
    "executionInfo": {
     "elapsed": 1245,
     "status": "ok",
     "timestamp": 1617279445319,
     "user": {
      "displayName": "Zachary Ulissi",
      "photoUrl": "",
      "userId": "07633171379186475882"
     },
     "user_tz": 240
    },
    "id": "STWCpGT3zM8M",
    "outputId": "a3848c88-cfa1-4fd1-bab8-bb2697a23a56"
   },
   "outputs": [],
   "source": [
    "import matplotlib.pyplot as plt\n",
    "import numpy as np\n",
    "\n",
    "# Choose 100 points to evaluate\n",
    "x = np.linspace(0,2,100)\n",
    "\n",
    "# For each order 1 to 5, compute teh approximation and plot\n",
    "for n in range(1,8):\n",
    "  plt.plot(x,taylor_exp(x,n),'--', label='taylor series order %d'%n)\n",
    "\n",
    "# Plot the known (analytical exp(x) ) expression\n",
    "plt.plot(x,np.exp(x),'r',label='exp(x)')\n",
    "\n",
    "# Add x/y labels and legend\n",
    "plt.xlabel('x')\n",
    "plt.ylabel('f=exp(x)')\n",
    "plt.legend()"
   ]
  },
  {
   "cell_type": "markdown",
   "metadata": {
    "id": "3CAlI1phwKlE"
   },
   "source": [
    "There's even a scipy function that will estimate the polynomial terms in the Taylor expansion at a point for an arbitrary function!"
   ]
  },
  {
   "cell_type": "code",
   "execution_count": null,
   "metadata": {
    "colab": {
     "base_uri": "https://localhost:8080/",
     "height": 296
    },
    "executionInfo": {
     "elapsed": 1544,
     "status": "ok",
     "timestamp": 1617279445632,
     "user": {
      "displayName": "Zachary Ulissi",
      "photoUrl": "",
      "userId": "07633171379186475882"
     },
     "user_tz": 240
    },
    "id": "QCwtli91vmg6",
    "outputId": "153d21f0-7ac0-41a9-c724-4095fdee8b44"
   },
   "outputs": [],
   "source": [
    "import matplotlib.pyplot as plt\n",
    "import numpy as np\n",
    "from scipy.interpolate import approximate_taylor_polynomial \n",
    "\n",
    "# Choose 100 points to evaluate\n",
    "x = np.linspace(0,3,100)\n",
    "\n",
    "def myfunc(x):\n",
    "  return np.sin(x)*np.exp(x)\n",
    "\n",
    "# For each order 1 to 5, compute teh approximation and plot\n",
    "for n in range(1,8):\n",
    "  p = approximate_taylor_polynomial(myfunc, 0, n, scale=0.1)\n",
    "  plt.plot(x,np.polyval(p, x),'--', label='taylor series order %d'%(n+1))\n",
    "\n",
    "# Plot the known (analytical exp(x) ) expression\n",
    "plt.plot(x,myfunc(x),'r',label='sin(x)exp(x)')\n",
    "\n",
    "# Add x/y labels and legend\n",
    "plt.xlabel('x')\n",
    "plt.ylabel('f=np.sin(x)*np.exp(x)')\n",
    "plt.legend()"
   ]
  },
  {
   "cell_type": "markdown",
   "metadata": {
    "id": "J8gsu2yszTTE"
   },
   "source": [
    "The Taylor expansion is an approximation to the true solution. Clearly, the answer at $x=2$ gets better as the order of the approximation increases. Let's plot the difference between the true solution and the approximation for various order n"
   ]
  },
  {
   "cell_type": "code",
   "execution_count": null,
   "metadata": {
    "colab": {
     "base_uri": "https://localhost:8080/",
     "height": 298
    },
    "executionInfo": {
     "elapsed": 2028,
     "status": "ok",
     "timestamp": 1617279446128,
     "user": {
      "displayName": "Zachary Ulissi",
      "photoUrl": "",
      "userId": "07633171379186475882"
     },
     "user_tz": 240
    },
    "id": "6W1Fsp6HOOhJ",
    "outputId": "a8e48819-00db-4709-ac4a-17f1fb07435e"
   },
   "outputs": [],
   "source": [
    "x=2\n",
    "for n in range(1,30):\n",
    "  #Calculate the difference between the true solution and approximate solution at x=2\n",
    "  error = np.abs(np.exp(x)-taylor_exp(x,n))\n",
    "\n",
    "  #plot the error\n",
    "  plt.semilogy(n,error,'ok')\n",
    "\n",
    "# add x/y labels\n",
    "plt.xlabel('Terms in Taylor Series')\n",
    "plt.ylabel('Error in Taylor approx, abs[f(x=2)-exp(x=2)]')"
   ]
  },
  {
   "cell_type": "markdown",
   "metadata": {
    "id": "TWDd0Xs2zpLq"
   },
   "source": [
    "* Notice how the error gets smaller and smaller as the number of points goes. \n",
    "\n",
    "* However, this only works so far, and eventually the error saturates. This is because of how numbers are stored in a computer. Floating point numbers are stored as (on a 32-bit computer):\n",
    "\\begin{align}\n",
    "1.362597134568123 \\times 10^{+36} && \\text{(15 decimal places and power of 10)}\n",
    "\\end{align}\n",
    "* Since there's only 16 demical places, we can't really get any more accurate than that. \n",
    "\n",
    "\n"
   ]
  }
 ],
 "metadata": {
  "colab": {
   "collapsed_sections": [
    "SK_x9qgX9KOJ",
    "UE_2BZuLOS94",
    "TR_8tSGeb6g-",
    "59fTs9fq9ipz"
   ],
   "name": "15-springs-numerical-odes.ipynb",
   "provenance": []
  },
  "kernelspec": {
   "display_name": "Python 3 (ipykernel)",
   "language": "python",
   "name": "python3"
  },
  "language_info": {
   "codemirror_mode": {
    "name": "ipython",
    "version": 3
   },
   "file_extension": ".py",
   "mimetype": "text/x-python",
   "name": "python",
   "nbconvert_exporter": "python",
   "pygments_lexer": "ipython3",
   "version": "3.9.13"
  }
 },
 "nbformat": 4,
 "nbformat_minor": 4
}
