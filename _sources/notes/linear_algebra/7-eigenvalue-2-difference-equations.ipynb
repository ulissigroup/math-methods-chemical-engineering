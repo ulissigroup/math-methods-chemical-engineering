{
 "cells": [
  {
   "cell_type": "markdown",
   "metadata": {
    "id": "2aPZHIS50jeb"
   },
   "source": [
    "$$\\newcommand{\\arr}[1]{\\underline{\\underline{#1}}}$$    \n",
    "$$\\newcommand{\\vec}[1]{\\underline{#1}}$$   \n",
    "$$\\require{mhchem}$$"
   ]
  },
  {
   "cell_type": "markdown",
   "metadata": {},
   "source": [
    "# Eigenvalues/Eigenvectors continued, and application of eigenvalues to difference equations"
   ]
  },
  {
   "cell_type": "markdown",
   "metadata": {
    "id": "ws7RgRsL1EjW"
   },
   "source": [
    "# $\\underline{Ex}$: Symmetric matrix ($\\lambda$ always real)"
   ]
  },
  {
   "cell_type": "markdown",
   "metadata": {
    "id": "_2-bLBSO1bs_"
   },
   "source": [
    "* A real square matrix $\\arr{A}=[a_{jk}]$ is symmetric if $\\arr{A}^T = \\arr{A}\\implies$ thus $a_{kj}=a_{jk}$\\\n",
    "$\\arr{A}=\\begin{bmatrix} -5&2\\\\2&-2 \\end{bmatrix}$\\\n",
    "Eigenvalues:\n",
    "\\begin{align}\n",
    "|\\arr{A}-\\lambda\\arr{I}|=0\\\\\n",
    "\\left|\\begin{array}{} -5-\\lambda&2 \\\\2&-2-\\lambda \\end{array} \\right|=0\\\\\n",
    "&=(-5-\\lambda)(-2-\\lambda)-4\\\\\n",
    "&=10+5\\lambda+2\\lambda+\\lambda^2-4\\\\\n",
    "&=\\lambda^2+7\\lambda+6\\\\\n",
    "&=(\\lambda+6)(\\lambda+1)\\\\\n",
    "\\implies \\lambda_1=-6 ;\\hspace{1cm} \\lambda_2 = -1\n",
    "\\end{align}\n",
    "* The eigenvalues of symmetric matrices are always real.\\\n",
    "Eigenvectors:\\\n",
    "For $\\lambda_1=-6$, \n",
    "\\begin{align}\n",
    "(\\arr{A} + 6\\arr{I})\\vec{x}^{(1)} = \\vec{0}\\\\\n",
    "\\begin{bmatrix} 1&2\\\\2&4 \\end{bmatrix} \\rightarrow \\left[ \\begin{array}{rr|r} 1&2&0\\\\0&0&0\\end{array} \\right]\\\\\n",
    "\\implies x_1 + 2x_2 = 0\\\\\n",
    "x_1 = -2x_2\\\\\n",
    "x^{(1)}=[-2, 1]^T \n",
    "\\end{align}\n",
    "\n",
    "For $\\lambda_2=-1$, \n",
    "\\begin{align}\n",
    "(\\arr{A} + \\arr{I})\\vec{x}^{(2)} = \\vec{0}\\\\\n",
    "\\begin{bmatrix} -4&2\\\\2&-1 \\end{bmatrix} \\rightarrow \\left[ \\begin{array}{rr|r} 0&0&0\\\\2&-1&0\\end{array} \\right]\\\\\n",
    "\\implies 2x_1 - x_2 = 0\\\\\n",
    "x_2 = 2x_1\\\\\n",
    "x^{(1)}=[1, 2]^T \n",
    "\\end{align}\n",
    "Eigenspace:\n",
    "\\begin{align}\n",
    "\\vec{x}=\\vec{0}; && \\lambda=-6, \\vec{x} = \\begin{bmatrix} -2\\\\1 \\end{bmatrix}; && \\lambda=-1, \\vec{x} = \\begin{bmatrix} 1\\\\2 \\end{bmatrix}\n",
    "\\end{align}"
   ]
  },
  {
   "cell_type": "markdown",
   "metadata": {
    "id": "IX3Q_EMg7VLT"
   },
   "source": [
    "\n",
    "# $\\underline{Ex}:$ A skew symmetric matrix ($\\lambda=0$ or complex)\n",
    "$\\rightarrow \\arr{A}^T = -\\arr{A}$  $\\hspace{0.5cm}(a_{ij}=-a_{ji})$\\\n",
    "$\\arr{A} = \\begin{bmatrix} 0&9&-12 \\\\ -9&0&20 \\\\ 12&-20&0 \\end{bmatrix}$\n",
    "* Find eigenvalues by solving $|\\arr{A} - \\lambda \\arr{I}| = 0$\n",
    "\\begin{align}\n",
    "\\left|\\begin{array}{} -\\lambda&9&-12 \\\\ -9&-\\lambda&20 \\\\ 12&-20&-\\lambda \\end{array}\n",
    "\\right| = 0\\\\\n",
    "-\\lambda \\left|\\begin{array}{} -\\lambda&20\\\\-20&-\\lambda \\end{array}\\right|\n",
    "-9 \\left|\\begin{array}{} -9&20\\\\12&-\\lambda \\end{array}\\right|\n",
    "-12 \\left|\\begin{array}{} -9&-\\lambda\\\\12&-20 \\end{array}\\right| = 0\\\\\n",
    "-\\lambda(\\lambda^2+400) -9 (9\\lambda - 240) -12 (180 + 12\\lambda) = 0\\\\\n",
    "-\\lambda^3 - 400\\lambda - 81\\lambda + 2160 - 2160 - 144\\lambda = 0\\\\\n",
    "-\\lambda^3 - 625\\lambda = 0\\\\\n",
    "\\lambda(\\lambda^2 + 625) = 0\\\\\n",
    "\\end{align}\n",
    "\\begin{align}\n",
    "\\lambda_1= 0 && \\lambda_2 = 25i && \n",
    "\\lambda_2 = -25i\n",
    "\\end{align}\n",
    "* The eigenvalues of skew-symmetric matrices are always complex or zero.\n",
    "* Find eigenvectors:\n",
    "  1. Find $\\vec{x}^{(1)}$ from $(\\arr{A} - 0\\arr{I}) = \\vec{0}$\n",
    "  \\begin{align}\n",
    "  \\left[ \\begin{array}{rrr|r} 0&9&-12&0 \\\\ -9&0&20&0 \\\\ 12&-20&0&0 \\end{array}\n",
    "  \\right]\n",
    "  \\end{align}\n",
    "  Swap rows:\n",
    "  \\begin{bmatrix}\n",
    "  12&-20&0 \\\\ -9&0&20 \\\\ 0&9&-12\n",
    "  \\end{bmatrix}\n",
    "  $R_3 = \\frac{1}{3}R_3$ ; $R_1 = \\frac{1}{4}R_1$:\n",
    "  \\begin{bmatrix}\n",
    "  3&-5&0 \\\\ -9&0&20 \\\\ 0&3&-4\n",
    "  \\end{bmatrix}\n",
    "  $R_2 = R_2 +3R_1$, $R_3 = 5R_3$:\n",
    "  \\begin{bmatrix}\n",
    "  3&-5&0 \\\\ 0&-15&20 \\\\ 0&15&-20\n",
    "  \\end{bmatrix}\n",
    "  $R_3 = R_3 + R_2$:\n",
    "  \\begin{bmatrix}\n",
    "  3&-5&0 \\\\ 0&-15&20 \\\\ 0&0&0\n",
    "  \\end{bmatrix}\n",
    "  $R_2 = \\frac{1}{5} R_2$\\\n",
    "  \\begin{align}\n",
    "  \\left[ \\begin{array}{rrr|r} 3&-5&0&0 \\\\ 0&-3&4&0 \\\\ 0&0&0&0 \\end{array}\n",
    "  \\right]\n",
    "  \\end{align}\n",
    "  \\begin{align}\n",
    "  \\implies 3x_1 - 5x_2 = 0\\\\\n",
    "  -3x_2 + 4x_3 = 0\\\\\n",
    "  \\implies x_2 = \\frac{4}{3}x_3\\\\\n",
    "  x_1 = \\frac{20}{9}x_3\\\\\n",
    "  \\end{align}\n",
    "\n",
    "  \\begin{align}\n",
    "  \\lambda_1 = 0, && \\arr{x}^{(1)} = \\begin{bmatrix}20\\\\12\\\\9 \\end{bmatrix}\n",
    "  \\end{align}\n",
    "  Note these are the off-diagonal terms\\\n",
    "  $\\vec{x}^{(2)}$ and $\\vec{x}^{(3)}$ will be complex. Practice finding them @ home."
   ]
  },
  {
   "cell_type": "markdown",
   "metadata": {
    "id": "ryTeFQEDIr92"
   },
   "source": [
    "* Eigenspace of $\\arr{A}$ is:\n",
    "\\begin{align}\n",
    "\\vec{x} = \\vec{0}; && 0, \\begin{bmatrix} 20 \\\\ 12 \\\\9 \\end{bmatrix}; && 25i, \\begin{bmatrix} -0.33 + 0.55i \\\\ -0.20 - 0.92i \\\\ 1 \\end{bmatrix} && -25i, \\begin{bmatrix} -0.33 - 0.55i \\\\ -0.20 + 0.92i \\\\ 1\\end{bmatrix} \n",
    "\\end{align}\n",
    "Note the complex conjugate vectors.\n"
   ]
  },
  {
   "cell_type": "markdown",
   "metadata": {
    "id": "xt1oy6AeKAuy"
   },
   "source": [
    "# Final Example with Triangular Matrix:\n",
    "\n"
   ]
  },
  {
   "cell_type": "markdown",
   "metadata": {
    "id": "AScmp215KJZQ"
   },
   "source": [
    "$\\arr{A} = \\begin{bmatrix} 1&0&0 \\\\ -9&2&0 \\\\ 12&1&-3 \\end{bmatrix} \\rightarrow$ lower triangular matrix, $a_{ij} = 0$ if $j>1$\n",
    "* Eigenvalues from $|\\arr{A}-\\lambda \\arr{I}| = 0$\n",
    "\\begin{align}\n",
    "\\left|\n",
    "\\begin{array}{}\n",
    "1-\\lambda&0&0 \\\\ -9&2-\\lambda&0 \\\\ 12&1& -3-\\lambda\n",
    "\\end{array}\n",
    "\\right| = 0\\\\\n",
    "(1-\\lambda)\\left| \\begin{array}{} 2-\\lambda&0\\\\1&3-\\lambda \\end{array}\\right|=0\\\\\n",
    "(1-\\lambda)(2-\\lambda)(3-\\lambda)=0\\\\\n",
    "\\end{align}\n",
    "\\begin{align}\n",
    "\\implies \\lambda_1 = 1,&& \\lambda_2 = 2,&& \\lambda_3 = -3\n",
    "\\end{align}\n",
    "* For upper or lower triangular matrices, eigenvalues will be diagonal elements."
   ]
  },
  {
   "cell_type": "markdown",
   "metadata": {
    "id": "JKkdtG0sM9-9"
   },
   "source": [
    "# One Application of the Eigenvalue Problem"
   ]
  },
  {
   "cell_type": "markdown",
   "metadata": {
    "id": "3lym3e0dNC7Z"
   },
   "source": [
    "* \"Difference\" Equations (Recurrance Relations)\n",
    "  * Can be used to solve problems in population dynamics, digital signal processing and economics.\n",
    "  * We will use one here to determine how quickly people die from a plague.\n",
    "* First we must understand that the eigenvectors of any n-dimentional problem form a basis for $R^n$. In 3D space for example, we often think of $[1, 0, 0], [0, 1, 0]$ & $[0, 0, 1]$ as basis vectors of $R^n$. Eigenvectors also form a basis because they are always linearly independent.\n",
    "\n",
    "<img src=\"https://docs.google.com/drawings/d/e/2PACX-1vQOiIlP4wyJlZRcYfFNs3iyuMo8zzmDVS5fe3DFiW2ZtPgw01dv-t7nYIslQ9CtOnSt8wTzmBQmBUZH/pub?w=960&h=720\">\n",
    "\n",
    "* Because eigenvectors form a basis, we can write any vector, $\\vec{z}$, as \n",
    "\\begin{align}\n",
    "\\vec{z} = c_1 \\vec{x_1}+ c_2 \\vec{x_2} + ... c_n \\vec{x_n} && \\text{for scalars $c_1 ... c_n$}\\\\\n",
    "\\end{align}\n",
    "\n",
    "\\begin{align}\n",
    "e.g. [2,4,3] &= 2[1, 0, 0] + 4[0, 1, 0] + 3[0, 0, 1]\\\\\n",
    "&=-25[-2, -1, -1] -13[3, 3, 1] -9[1, -2, 1]\n",
    "\\end{align}\n",
    "\n",
    "\\begin{align}\n",
    "\\therefore \\arr{A}\\vec{z} &= \\arr{A}(c_1 \\vec{x_1} + c_2 \\vec{x_2}+...c_n \\vec{x_n})\\\\\n",
    "&= c_1\\arr{A}\\vec{x_1} + c_2\\arr{A}\\vec{x_2} + ... c_n\\arr{A}\\vec{x_n}\n",
    "\\end{align}\n",
    "\n"
   ]
  },
  {
   "cell_type": "markdown",
   "metadata": {
    "id": "NxqHWPmnTUEa"
   },
   "source": [
    "But, since $\\arr{A}\\vec{x_n} = \\lambda_n\\vec{x_n}$, we can greatly simplify:\n",
    "\\begin{align}\n",
    "\\arr{A}\\vec{z} = c_1\\lambda_1\\vec{x_1} + c_2\\lambda_2\\vec{x_2} + ... + c_n\\lambda_n \\vec{x_n}\n",
    "\\end{align}\n",
    "$\\therefore$ If we know $\\arr{A}$, finding its eigenvalues and vectors will help us find $\\vec{z}$\n",
    "* This becomes interesting when wanting to multiply an eigenvector $\\vec{x}$ by powers of $\\arr{A}$. For example:\n",
    "\\begin{align}\n",
    "\\arr{A}^2\\vec{x} = \\lambda^2\\vec{x} && (\\arr{A}\\arr{A}\\vec{x} = \\arr{A}\\lambda\\vec{x} = \\lambda\\arr{A}\\vec{x} = \\lambda\\lambda\\vec{x} = \\lambda^2\\vec{x})\\\\\n",
    "\\arr{A}^3\\vec{x} = \\lambda^3\\vec{x}\\\\\n",
    "\\arr{A}^k\\vec{x} = \\lambda^k\\vec{x}\n",
    "\\end{align}\n",
    "then, $\\arr{A}^k\\vec{z} = c_1\\lambda_1^k\\arr{x_1} + c_2\\lambda_2^k\\vec{x_2} + ... + c_n\\lambda_n^k\\vec{x_n}$\n",
    "* We are interested in equations of the form $\\arr{A}^k\\vec{z}$ because it can tell us how some initial state represented by vector $\\vec{z}$ changes on a recurrant basis. For example, if $\\arr{z_0}$ represents the initial state of a population and $\\arr{A}$ tells us how the population changes each year then after 1 year: \n",
    "\\begin{align}\n",
    "\\vec{z_1} = \\arr{A}\\vec{z_0} \n",
    "\\end{align}\n",
    "And after 2 years:\n",
    "\\begin{align}\n",
    "\\vec{z_2} &= \\arr{A}\\vec{z_1} = \\arr{A}\\arr{A}\\vec{z_0}\\\\\n",
    "\\vec{z_2} &= \\arr{A}^2\\vec{z_0}\n",
    "\\end{align}\n",
    "And after k years:\n",
    "\\begin{align}\n",
    "\\vec{z_k} = \\arr{A}^k\\vec{z_0} &&\\rightarrow \\text{this type of equation is called a difference equation} \n",
    "\\end{align}"
   ]
  },
  {
   "cell_type": "markdown",
   "metadata": {
    "id": "S4MwKU4_Zf-t"
   },
   "source": [
    "$\\textbf{Problem:}$ A fearsome new strain of Ebola strikes the island of Niihau, HI with population of 200. People can be categorized as healthy, sick or dead. Each year, the plague causes 60% of healthy people to get sick and another 10% of healthy people to die. Only 30% stay healthy. This strain of Ebola is difficult to cure, and so 60% of sick people die each year, 20% become healthy and 20% will remain sick. \n",
    "  * Determine the equation that predicts how many people are healthy, sick and dead after k years.\n",
    "  * How many years will it take before only 20 people remain alive on Niihau?"
   ]
  },
  {
   "cell_type": "markdown",
   "metadata": {
    "id": "1qnjwWoycabz"
   },
   "source": [
    "* Begin by setting up variables and equations:\\\n",
    "Let $z_1(k)$ = number of healthy people after k years\\\n",
    "$z_2(k)$ = number of sick people after k years\\\n",
    "$z_3(k)$ = number of dead people after k years\\\n",
    "$\\implies$ 3 types of people, 3 dimensions\n",
    "\n",
    "* Then info in problem tells us:\\\n",
    "HEALTHY\n",
    "\\begin{align}\n",
    "z_1(k+1) = 0.3z_1(k) + 0.2 z_2(k)\n",
    "\\end{align}\n",
    "  * In a given year $(k+1)$, the number of healthy people equals 30% of the healthy people from the previous year $(k)$ + 20% of the sick people from the previous year $(k)$.\n",
    "\n",
    "  SICK\n",
    "\\begin{align}\n",
    "z_2(k+1) = 0.6 z_1(k) + 0.2 z_2(k)\n",
    "\\end{align}\n",
    "\n",
    "  DEAD\n",
    "\\begin{align}\n",
    "z_3(k+1) = 0.1 z_1(k) + 0.6 z_2(k) + z_3(k)\\\\ & \\rightarrow \\text{All dead people stay dead}\n",
    "\\end{align}"
   ]
  },
  {
   "cell_type": "markdown",
   "metadata": {
    "id": "DMVqCxs8e8v2"
   },
   "source": [
    "So if $\\vec{z_k} = \\begin{bmatrix} z_1(k) \\\\ z_2(k) \\\\ z_3(k) \\end{bmatrix}$, then this problem is asking us to solve the difference equaiton \n",
    "\\begin{align}\n",
    "\\vec{z_k} = \\arr{A}\\vec{z_{k-1}} = \\arr{A}^k\\vec{z_0}\n",
    "\\end{align}\n",
    "  * Let's write the initial population vector in terms of eigenvalues and vectors of $\\arr{A}$.\n",
    "\\begin{align}\n",
    "\\vec{z_k} = c_1\\lambda_1^k\\vec{x_1} + c_2\\lambda_2^k\\vec{x_2} + c_3\\lambda_3^k\\vec{x_3}\n",
    "\\end{align}\n",
    "\n",
    "  * Need to find eigenvalues and eigenvectors of $\\arr{A} = \\begin{bmatrix} 0.3&0.2&0 \\\\ 0.6&0.2&0 \\\\ 0.1&0.6&1 \\end{bmatrix}$\n",
    "  \\begin{align}\n",
    "  \\lambda_1 = -0.1, && \\vec{x}^T = [1, -2, 1]\\\\\n",
    "  \\lambda_2 = 0.6, && \\vec{x}^T = [-2, -3, 5]\\\\\n",
    "  \\lambda_1 = 1, && \\vec{x}^T = [0, 0, 1]\n",
    "  \\end{align}\n",
    "  * Finally we can find the $c_n$ values by expressing the initial population vector, $\\vec{z_0} = \\begin{bmatrix} 200\\\\0\\\\0 \\end{bmatrix}$ in terms of the eigenvector basis.\n",
    "\\begin{align}\n",
    "\\vec{z_0} &= \\frac{600}{7}\\vec{x_1} - \\frac{400}{7}\\vec{x_2} + 200 \\vec{x_3}\\\\\n",
    "\\begin{bmatrix}200\\\\0\\\\0\\end{bmatrix} &= \\frac{600}{7}\\begin{bmatrix}1\\\\-2\\\\1\\end{bmatrix} - \\frac{400}{7}\\begin{bmatrix}-2\\\\-3\\\\5\\end{bmatrix} + 200 \\begin{bmatrix}0\\\\0\\\\1\\end{bmatrix}\n",
    "\\end{align}\n",
    "Here the coefficients represent $c_1, c_2$ and $c_3$ respectively.\n",
    "\\begin{align}\n",
    "\\therefore \\vec{z_k} = \\frac{600}{7}(-0.1)^k\\begin{bmatrix}1\\\\-2\\\\1\\end{bmatrix} - \\frac{400}{7}(0.6)^k\\begin{bmatrix}-2\\\\-3\\\\5\\end{bmatrix} + 200(1)^k\\begin{bmatrix}0\\\\0\\\\1\\end{bmatrix}\n",
    "\\end{align}"
   ]
  },
  {
   "cell_type": "markdown",
   "metadata": {
    "id": "Z7DV-ZyImMUo"
   },
   "source": [
    "   * Finally, to determine how long it will take to have only 20 people remaining, we can plug in some values of $k$.\n",
    "   * Rounded to the nearest person:\n",
    "  \\begin{align}\n",
    "   \\vec{z_0} = \\begin{bmatrix} 200\\\\0\\\\0 \\end{bmatrix} && \\vec{z_1} = \\begin{bmatrix} 60\\\\120\\\\20 \\end{bmatrix}\\\\\n",
    "   \\vec{z_2} = \\begin{bmatrix} 42\\\\60\\\\98 \\end{bmatrix} && \\vec{z_3} = \\begin{bmatrix} 25\\\\37\\\\138 \\end{bmatrix}\\\\\n",
    "   \\vec{z_4} = \\begin{bmatrix} 15\\\\22\\\\163 \\end{bmatrix} && \\vec{z_5} = \\begin{bmatrix} 9\\\\13\\\\178 \\end{bmatrix}\\\\\n",
    "   \\vec{z_6} = \\begin{bmatrix} 5\\\\8\\\\187 \\end{bmatrix}\n",
    "  \\end{align}\n",
    "  * After 6 years, only 13 people remain (less than 10% of original population)\n",
    "\n",
    "  <img src=\"https://docs.google.com/drawings/d/e/2PACX-1vSjI8TG1ArprwlXWkPPKSoIacb_CbaemjDjFTcYCBfr-YdSEPhM02mitp1NW8uwvcDKh_xDrT_24DdS/pub?w=960&h=720\">"
   ]
  }
 ],
 "metadata": {
  "colab": {
   "collapsed_sections": [],
   "name": "7-eigenvalue-2-difference-equations.ipynb",
   "provenance": []
  },
  "kernelspec": {
   "display_name": "Python 3 (ipykernel)",
   "language": "python",
   "name": "python3"
  },
  "language_info": {
   "codemirror_mode": {
    "name": "ipython",
    "version": 3
   },
   "file_extension": ".py",
   "mimetype": "text/x-python",
   "name": "python",
   "nbconvert_exporter": "python",
   "pygments_lexer": "ipython3",
   "version": "3.9.13"
  }
 },
 "nbformat": 4,
 "nbformat_minor": 4
}
