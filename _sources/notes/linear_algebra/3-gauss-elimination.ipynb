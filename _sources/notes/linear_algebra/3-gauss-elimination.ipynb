{
 "cells": [
  {
   "cell_type": "markdown",
   "metadata": {
    "id": "gatzvzgLC4sf"
   },
   "source": [
    "$$\\newcommand{\\arr}[1]{\\underline{\\underline{#1}}}$$    \n",
    "$$\\newcommand{\\vec}[1]{\\underline{#1}}$$   \n",
    "$$\\require{mhchem}$$\n"
   ]
  },
  {
   "cell_type": "markdown",
   "metadata": {},
   "source": [
    "# Intro to Gauss Elimination"
   ]
  },
  {
   "cell_type": "markdown",
   "metadata": {
    "id": "MNdVYaRpblTr"
   },
   "source": [
    "## Return to Systems of Equations"
   ]
  },
  {
   "cell_type": "markdown",
   "metadata": {
    "id": "jlREyfhSbmCq"
   },
   "source": [
    "Now that we understand matrix multiplication, let's go back to linear systems of equations:\n",
    "\\begin{align*}\n",
    "\\begin{bmatrix}\n",
    "a_{11}&a_{12}&\\dots&a_{1n}\\\\\n",
    "a_{21}&a_{22}&\\dots&a_{2n}\\\\\n",
    "\\vdots&\\vdots&\\vdots&\\vdots\\\\\n",
    "a_{m1}&a_{m2}&\\dots&a_{mn}\n",
    "\\end{bmatrix}\n",
    "\\begin{bmatrix}\n",
    "x_1\\\\x_2\\\\\\vdots\\\\x_n\n",
    "\\end{bmatrix}=\n",
    "\\begin{bmatrix}\n",
    "b_1\\\\b_2\\\\\\vdots\\\\b_m\n",
    "\\end{bmatrix}\n",
    "\\end{align*}\n",
    "\n",
    "This is an $mxn$ matrix multiplied by a nx1 vector, resulting in an mx1 vector. An example is the same system of equations we've solved before:\n",
    "\\begin{align*}\n",
    "\\begin{bmatrix}\n",
    "2&1&3\\\\\n",
    "1&-2&0\n",
    "\\end{bmatrix}\n",
    "\\begin{bmatrix}\n",
    "x_1\\\\x_2\\\\x_3\n",
    "\\end{bmatrix}=\n",
    "\\begin{bmatrix}\n",
    "-1\\\\4\n",
    "\\end{bmatrix}\\\\\n",
    "\\begin{bmatrix}\n",
    "2x_1+x_2+3x_3\\\\\n",
    "x_1-2x_2+0x_3\n",
    "\\end{bmatrix}=\n",
    "\\begin{bmatrix}\n",
    "-1\\\\4\n",
    "\\end{bmatrix}\n",
    "\\end{align*}\n",
    "\n",
    "\n",
    "We've talked a lot about how we were going to use linear algebra to solve systems of equations, so it's time to actually solve them!"
   ]
  },
  {
   "cell_type": "markdown",
   "metadata": {
    "id": "utEP5cvAdh_-"
   },
   "source": [
    "## Gauss Elimination\n"
   ]
  },
  {
   "cell_type": "markdown",
   "metadata": {
    "id": "GmIsfpB0ft7Q"
   },
   "source": [
    "\n",
    "This is a standard method for solving linear systems. It is not the only way you can do it. Let's do an example without matrices first:\n",
    "\\begin{align*}\n",
    "2x_1+5x_2=2\\\\\n",
    "4x_1+3x_2=18\n",
    "\\end{align*}\n",
    "or \n",
    "\\begin{align*}\n",
    "\\begin{bmatrix}\n",
    "2&5\\\\4&3\n",
    "\\end{bmatrix}\\begin{bmatrix}\n",
    "x_1\\\\x_2\n",
    "\\end{bmatrix}&=\n",
    "\\begin{bmatrix}\n",
    "2\\\\18\n",
    "\\end{bmatrix}\n",
    "\\end{align*}\n",
    "\n",
    "* Let's first solve for one variable, then solve for the other using back substitution\n",
    "* One approach is to multiple first equation by 2, then subtract the second equation:\n",
    "\\begin{align*}\n",
    "4x_1+10x_2=4\\\\\n",
    "-[4x_1+3x_2=18]\\\\\n",
    "\\rule{4cm}{0.4pt}\\\\\n",
    "\\rightarrow 7x_2=-14\\\\\n",
    "x_2=-2\n",
    "\\end{align*}\n",
    "* We can now use this result to find that $x_1=6$. After some operations, we arrived at the system of equations:\n",
    "\\begin{align*}\n",
    "x_1&=6\\\\\n",
    "x_2&=-2\\\\\n",
    "\\begin{bmatrix}\n",
    "1&0\\\\0&1\n",
    "\\end{bmatrix}\\begin{bmatrix}\n",
    "x_1\\\\x_2\n",
    "\\end{bmatrix}&=\n",
    "\\begin{bmatrix}\n",
    "6\\\\-2\n",
    "\\end{bmatrix}\n",
    "\\end{align*}\n",
    "* This approach involved manipulation of whole equations, one at a time."
   ]
  },
  {
   "cell_type": "markdown",
   "metadata": {
    "id": "-PIgFTWXeila"
   },
   "source": [
    "## Elementary Operation for Equations\n",
    "\n",
    "These are allowed when solving equations:\n",
    "\n",
    "1.   Interchange of two equations (no effect!)\n",
    "2.   Addition or subtraction of one equation with another\n",
    "3. Multiplication of an equation by a non-zero constant. Q: Why is this only for non-zero?\n",
    "\n",
    "This is essentially the rules for Gauss elimination but with equations instead of matricies. Let's do them side by side. The same elementary operations apply to matrices, just substitute \"equation\" for \"row\"!\n"
   ]
  },
  {
   "cell_type": "markdown",
   "metadata": {
    "id": "bGhEs5muf1lH"
   },
   "source": [
    "### Examples\n",
    "\n",
    "Standard system of linear system of equations: \n",
    "\\begin{align*}\n",
    "\\begin{array}{r}\n",
    "x_1+2x_2-x_3=4\\\\\n",
    "4x_2-2x_3=-2\\\\\n",
    "x_1-2x_2+3x_3=0\n",
    "\\end{array}\n",
    "\\end{align*}\n",
    "\n",
    "\n"
   ]
  },
  {
   "cell_type": "markdown",
   "metadata": {
    "id": "jTFx2Gc5YpFt"
   },
   "source": [
    "#### Form the augmented matrix\n",
    "\n",
    "First, we represent this as $\\arr{A}$ and $\\vec{b}$\n",
    "\\begin{align*}\n",
    "\\arr{A}=\\begin{bmatrix} \n",
    "1&2&-1\\\\\n",
    "0&4&-2\\\\\n",
    "1&-2&3\n",
    "\\end{bmatrix} && \\vec{b}= \n",
    "\\begin{bmatrix}\n",
    "4\\\\\n",
    "-2\\\\\n",
    "0\n",
    "\\end{bmatrix}\n",
    "\\end{align*}\n",
    "\n",
    "We then form an augmented matrix $\\arr{\\tilde{A}}=[\\arr{A}:\\vec{b}]$:\n",
    "\\begin{align*}\n",
    "\\begin{array}{r}\n",
    "x_1+2x_2-x_3=4\\\\\n",
    "4x_2-2x_3=-2\\\\\n",
    "x_1-2x_2+3x_3=0\n",
    "\\end{array}&& \\left[\\begin{array}{rrr|r}\n",
    "1&2&-1&4\\\\\n",
    "0&4&-2&-2\\\\\n",
    "1&-2&3&0\n",
    "\\end{array}\\right]\n",
    "\\end{align*}\n"
   ]
  },
  {
   "cell_type": "markdown",
   "metadata": {
    "id": "YYltDIpOYvsY"
   },
   "source": [
    "\n",
    "#### Augmented matrix to upper triangular form\n",
    "\n"
   ]
  },
  {
   "cell_type": "markdown",
   "metadata": {
    "id": "Fj6FNr07YxqI"
   },
   "source": [
    "\n",
    "Example procedure for Gauss Elimination \n",
    "* Let's swap rows two and three\n",
    "\\begin{align*}\n",
    "\\begin{array}{r}\n",
    "x_1+2x_2-x_3=4\\\\\n",
    "x_1-2x_2+3x_3=0\\\\\n",
    "4x_2-2x_3=-2\n",
    "\\end{array}&& \\left[\\begin{array}{rrr|r}\n",
    "1&2&-1&4\\\\\n",
    "1&-2&3&0\\\\\n",
    "0&4&-2&-2\n",
    "\\end{array}\\right]\n",
    "\\end{align*}\n",
    "\n",
    "* Subtract row 1 from row 2 and replace row 2\n",
    "\\begin{align*}\n",
    "\\begin{array}{r}\n",
    "x_1+2x_2-x_3=4\\\\\n",
    "-4x_2+4x_3=-4\\\\\n",
    "4x_2-2x_3=-2\n",
    "\\end{array}&& \\left[\\begin{array}{rrr|r}\n",
    "1&2&-1&4\\\\\n",
    "0&-4&4&-4\\\\\n",
    "0&4&-2&-2\n",
    "\\end{array}\\right]\n",
    "\\end{align*}\n",
    "\n",
    "*  Add rows 2 and 3 to replace row 3\n",
    "\\begin{align*}\n",
    "\\begin{array}{r}\n",
    "x_1+2x_2-x_3=4\\\\\n",
    "-4x_2+4x_3=-4\\\\\n",
    "2x_3=-6\n",
    "\\end{array}&& \\left[\\begin{array}{rrr|r}\n",
    "1&2&-1&4\\\\\n",
    "0&-4&4&-4\\\\\n",
    "0&0&2&-6\\end{array}\\right]\n",
    "\\end{align*}\n",
    "\n",
    "\n",
    "**This matrix is now in upper triangular form! Only the diagonal and things above it are occupied. Notice it would now be pretty easy to solve this system.**"
   ]
  },
  {
   "cell_type": "markdown",
   "metadata": {
    "id": "4itqgFNFY0q5"
   },
   "source": [
    "#### Upper triangular to row echelon form"
   ]
  },
  {
   "cell_type": "markdown",
   "metadata": {
    "id": "MjMBUJuBY5QK"
   },
   "source": [
    "*  Divide row 3 by 2 and row 2 by -4\n",
    "\\begin{align*}\n",
    "\\begin{array}{r}\n",
    "x_1+2x_2-x_3=4\\\\\n",
    "x_2-x_3=1\\\\\n",
    "x_3=-3\n",
    "\\end{array}&& \\left[\\begin{array}{rrr|r}\n",
    "1&2&-1&4\\\\\n",
    "0&1&-1&1\\\\\n",
    "0&0&1&-3\\end{array}\\right]\n",
    "\\end{align*}\n",
    "\n",
    "**The matrix is now in \"row echelon\" or \"echelon\" form!**\n",
    "* The first non-zero entry of each row is 1\n",
    "* Any rows of all zeros must be at the bottom of the matrix\n",
    "* Rows with more leading zeros must be underneath those with less\n",
    "\n",
    "We could solve this pretty easily but it  would still take some algebra. Almost there! "
   ]
  },
  {
   "cell_type": "markdown",
   "metadata": {
    "id": "yCWMfmX9ZDef"
   },
   "source": [
    "#### Echelon to reduced row echelon form"
   ]
  },
  {
   "cell_type": "markdown",
   "metadata": {
    "id": "sr2jFboNZIA6"
   },
   "source": [
    "*  Add rows 2&3 to replace row 2\n",
    "\\begin{align*}\n",
    "\\begin{array}{r}\n",
    "x_1+2x_2-x_3=4\\\\\n",
    "x_2=-2\\\\\n",
    "x_3=-3\n",
    "\\end{array}&& \\left[\\begin{array}{rrr|r}\n",
    "1&2&-1&4\\\\\n",
    "0&1&0&-2\\\\\n",
    "0&0&1&-3\\end{array}\\right]\n",
    "\\end{align*}\n",
    "*  Add rows 1&3 to replace row 1\n",
    "\\begin{align*}\n",
    "\\begin{array}{r}`\n",
    "x_1+2x_2=1\\\\\n",
    "x_2=-2\\\\\n",
    "x_3=-3\n",
    "\\end{array}&& \\left[\\begin{array}{rrr|r}\n",
    "1&2&0&1\\\\\n",
    "0&1&0&-2\\\\\n",
    "0&0&1&-3\\end{array}\\right]\n",
    "\\end{align*}\n",
    "*  Subtract 2x row 2 from row 1 to replace row 1\n",
    "\\begin{align*}\n",
    "\\begin{array}{r}\n",
    "x_1=5\\\\\n",
    "x_2=-2\\\\\n",
    "x_3=-3\n",
    "\\end{array}&& \\left[\\begin{array}{rrr|r}\n",
    "1&0&0&5\\\\\n",
    "0&1&0&-2\\\\\n",
    "0&0&1&-3\\end{array}\\right]\n",
    "\\end{align*}\n",
    "\n",
    "The \"solved\" matrix is now in \"reduced row echelon form\" or \"reduced echelon\" form. \n",
    "* Satisfies the definition of echelon form\n",
    "* **AND** the 1st non-zero entry in each row is the only non-zero entry in each column!\n"
   ]
  },
  {
   "cell_type": "markdown",
   "metadata": {
    "id": "A77GLyQWWziC"
   },
   "source": [
    "## Summary of steps"
   ]
  },
  {
   "cell_type": "markdown",
   "metadata": {
    "id": "-qh5gzsIaZcU"
   },
   "source": [
    "1. Convert equations into an augmented matrix\n",
    "2. Put the matrix in upper triangular form\n",
    "  * Start by converting element $a_{11}$ to a 1\n",
    "  * Use row 1 to convert elements $a_{j1}$ to zeros\n",
    "  * Convert any other elements below the diagonal to zero if possible\n",
    "3. Put matrix in echelon form by converting diagonal elements to 1\n",
    "4. Put matrix in reduced row echelon form by converting as many elements above the diagonal as possible to zero \n"
   ]
  },
  {
   "cell_type": "markdown",
   "metadata": {
    "id": "_ED4jbeLazu2"
   },
   "source": [
    "## In-class example\n",
    "\n",
    "Convert the following system of equations to reduced row echelon form\n",
    "\n",
    "\\begin{align*}\n",
    "2x_1+4x_2&=-4\\\\\n",
    "3x_1-x_2&=8\n",
    "\\end{align*}\n"
   ]
  },
  {
   "cell_type": "markdown",
   "metadata": {
    "id": "SGLWLQeDbOUF"
   },
   "source": [
    "### Solution\n",
    "\n",
    "* Form $[\\arr{A}|\\vec{b}]$\n",
    "\\begin{align*}\n",
    "\\left[\\begin{array}{rr|r}\n",
    "2&4&-4\\\\\n",
    "3&-1&8\n",
    "\\end{array}\\right]\n",
    "\\end{align*}\n",
    "* $R_1=1/2R_1$\n",
    "\\begin{align*}\n",
    "\\left[\\begin{array}{rr|r}\n",
    "1&2&-2\\\\\n",
    "3&-1&8\n",
    "\\end{array}\\right]\n",
    "\\end{align*}\n",
    "* $R_2=R_2-3R_1$ **Upper triangular!**\n",
    "\\begin{align*}\n",
    "\\left[\\begin{array}{rr|r}\n",
    "1&2&-2\\\\\n",
    "0&-7&14\n",
    "\\end{array}\\right]\n",
    "\\end{align*}\n",
    "* $R_2=-1/7R_2$ **Echelon form!**\n",
    "\\begin{align*}\n",
    "\\left[\\begin{array}{rr|r}\n",
    "1&2&-2\\\\\n",
    "0&1&-2\n",
    "\\end{array}\\right]\n",
    "\\end{align*}\n",
    "* $R_1=R_1-2R_2$ **Reduced echelon!**\n",
    "\\begin{align*}\n",
    "\\left[\\begin{array}{rr|r}\n",
    "1&0&2\\\\\n",
    "0&1&-2\n",
    "\\end{array}\\right]\n",
    "\\end{align*}\n",
    "\n",
    "\n",
    "Final solution:\n",
    "\n",
    "\\begin{align*}\n",
    "x_1=2\\\\\n",
    "x_2=-2\n",
    "\\end{align*}\n",
    "\n",
    "Last thing: check that this solution works for each equation!"
   ]
  },
  {
   "cell_type": "markdown",
   "metadata": {
    "id": "Nfd193-T8EPZ"
   },
   "source": [
    "## Gauss elimination as a test for linear independence\n"
   ]
  },
  {
   "cell_type": "markdown",
   "metadata": {
    "id": "SfHII73Yfo6m"
   },
   "source": [
    "\n",
    "In addition to solving sets of linear equations, Gauss elimination is a powerful way to look for **linear independence**\n",
    "* For example, $x_1+3x_2=-1$ and $2x_1+6x_2=-2$ are not linearly independent. That is, they both contain the same information!\n",
    "\n",
    "* For equations and variables, systems can be:\n",
    "  * **Underdetermined:** Less equations than unknowns (m<n)\n",
    "  * **Overdetermined:** More equations that unknowns (m>n)\n",
    "  * **Determined** Same # of equations as unknowns (m=n)\n",
    "\n",
    "* Gauss elimination will work for all of these scenarios\n",
    "* Possible solution scenarios are:\n",
    "  * Infinite solutions\n",
    "  * A unique solution\n",
    "  * No solution\n",
    "\n",
    "* For two unknowns, we can draw this as lines:\n",
    "\n",
    "<img src=\"https://docs.google.com/drawings/d/e/2PACX-1vSfDcBCxRtHnHRryC0HlWY51Tsad1g8QmZ0BQj-ksCBpGUtNjGIL52eyNa52huXKzL7T0PWHtHKe1UL/pub?w=659&amp;h=249\">\n",
    "\n",
    "* For two unknowns, we either have 0, 1, or infinited solutions (can't have 2 solutions for example)\n",
    "\n"
   ]
  },
  {
   "cell_type": "markdown",
   "metadata": {
    "id": "8OtMQROdfqFO"
   },
   "source": [
    "### Examples for underdetermined systems"
   ]
  },
  {
   "cell_type": "markdown",
   "metadata": {
    "id": "7HfAl6XpjKK6"
   },
   "source": [
    "#### Example 1\n",
    "\n",
    "\\begin{align*}\n",
    "x_1+x_2+x_3+x_4+x_5&=2\\\\\n",
    "x_1+x_2+x_3+2x_4+2x_5&=3\\\\\n",
    "x_1+x_2+x_3+2x_4+3x_5&=2\n",
    "\\end{align*}\n",
    "\n",
    "Three equations, five unknowns. Suspicious!"
   ]
  },
  {
   "cell_type": "markdown",
   "metadata": {
    "id": "AZEwvKX1gMfe"
   },
   "source": [
    " Let's get this to reduced echelon form:\n",
    "\n",
    "\n",
    "* Form $[\\arr{A}|\\vec{b}]$\n",
    "\\begin{align*}\n",
    "\\left[\\begin{array}{rrrrr|r}\n",
    "1&1&1&1&1&2\\\\\n",
    "1&1&1&2&2&3\\\\\n",
    "1&1&1&2&3&2\n",
    "\\end{array}\\right]\n",
    "\\end{align*}\n",
    "* $R_2=R_2-R_1$, $R_3=R_3-R_1$\n",
    "\\begin{align*}\n",
    "\\left[\\begin{array}{rrrrr|r}\n",
    "1&1&1&1&1&2\\\\\n",
    "0&0&0&1&1&1\\\\\n",
    "0&0&0&1&2&0\n",
    "\\end{array}\\right]\n",
    "\\end{align*}\n",
    "* $R_3=R_3-R_2$ **Echelon form!**\n",
    "\\begin{align*}\n",
    "\\left[\\begin{array}{rrrrr|r}\n",
    "1&1&1&1&1&2\\\\\n",
    "0&0&0&1&1&1\\\\\n",
    "0&0&0&0&1&-1\n",
    "\\end{array}\\right]\n",
    "\\end{align*}\n",
    "Notice that there are extra blocks of zeros in row 2/3. This will lead to infinite solutions!\n",
    "* $R_1=R_1-R_3$, $R_2=R_2-R_3$\n",
    "\\begin{align*}\n",
    "\\left[\\begin{array}{rrrrr|r}\n",
    "1&1&1&1&0&3\\\\\n",
    "0&0&0&1&0&2\\\\\n",
    "0&0&0&0&1&-1\n",
    "\\end{array}\\right]\n",
    "\\end{align*}\n",
    "* $R_1=R_1-R_2$ **Reduced echelon!**\n",
    "\\begin{align*}\n",
    "\\left[\\begin{array}{rrrrr|r}\n",
    "1&1&1&0&0&1\\\\\n",
    "0&0&0&1&0&2\\\\\n",
    "0&0&0&0&1&-1\n",
    "\\end{array}\\right]\n",
    "\\end{align*}\n",
    "* This corresponds to the system of equations\n",
    "\\begin{align*}\n",
    "x_1+x_2+x_3=1\\\\\n",
    "x_4=2\\\\\n",
    "x_5=-1\n",
    "\\end{align*}\n",
    "* This means that the solution vector \n",
    "\\begin{align*}\n",
    "\\vec{x}=\\begin{bmatrix}\n",
    "\\alpha\\\\ \\beta\\\\ 1-\\alpha-\\beta\\\\ 2\\\\-1\n",
    "\\end{bmatrix}\n",
    "\\end{align*}\n",
    "\n",
    "**for any values $\\alpha, \\beta$!!**. \n",
    "* There are an infinite number of solutions, which is usually but not always the case with an underdetermined system!\n"
   ]
  },
  {
   "cell_type": "markdown",
   "metadata": {
    "id": "76Gmn-1ajNiZ"
   },
   "source": [
    "#### Example 2\n",
    "\n",
    "Let's do another example!\n",
    "\n",
    "\\begin{align*}\n",
    "x_1+2x_2+x_3&=1\\\\\n",
    "2x_1+4x_2+2x_3&=3\n",
    "\\end{align*}"
   ]
  },
  {
   "cell_type": "markdown",
   "metadata": {
    "id": "2SO-82afjQDL"
   },
   "source": [
    "\n",
    "\n",
    "* Two equations, three unknowns\n",
    "* Form $[\\arr{A}|\\vec{b}]$\n",
    "\\begin{align*}\n",
    "\\left[\\begin{array}{rrr|r}\n",
    "1&2&1&1\\\\\n",
    "2&4&2&3\n",
    "\\end{array}\\right]\n",
    "\\end{align*}\n",
    "* $R_2=R_2-2R_1$\n",
    "\\begin{align*}\n",
    "\\left[\\begin{array}{rrr|r}\n",
    "1&2&1&1\\\\\n",
    "0&0&0&1\n",
    "\\end{array}\\right]\n",
    "\\end{align*}\n",
    "* $0\\neq 1$, so there is no solution and this is an inconsistent system!!!"
   ]
  },
  {
   "cell_type": "markdown",
   "metadata": {
    "id": "ZllpZ2ZXh5o4"
   },
   "source": [
    "### Overdetermined systems"
   ]
  },
  {
   "cell_type": "markdown",
   "metadata": {
    "id": "bze4pMYCj8mR"
   },
   "source": [
    "#### Example 1\n",
    "\n",
    "\n",
    "\\begin{align*}\n",
    "x_1+2x_2=1\\\\\n",
    "x_1+4x_2=5\\\\\n",
    "x_1+3x_2=3\n",
    "\\end{align*}\n"
   ]
  },
  {
   "cell_type": "markdown",
   "metadata": {
    "id": "DFk0JuydkDpd"
   },
   "source": [
    "\n",
    "* Three equations, two unknowns. Suspicious!\n",
    "* Form $[\\arr{A}|\\vec{b}]$\n",
    "\\begin{align*}\n",
    "\\left[\\begin{array}{rr|r}\n",
    "1&2&1\\\\\n",
    "1&4&5\\\\\n",
    "1&3&3\n",
    "\\end{array}\\right]\n",
    "\\end{align*}\n",
    "* $R_2=R_2-R_1$, $R_3=R_3-R_1$\n",
    "\\begin{align*}\n",
    "\\left[\\begin{array}{rr|r}\n",
    "1&2&1\\\\\n",
    "0&2&4\\\\\n",
    "0&1&2\n",
    "\\end{array}\\right]\n",
    "\\end{align*}\n",
    "* $R_3=R_3-1/2R_2$, $R_2=1/2R_2$\n",
    "\\begin{align*}\n",
    "\\left[\\begin{array}{rr|r}\n",
    "1&2&1\\\\\n",
    "0&1&2\\\\\n",
    "0&0&0\n",
    "\\end{array}\\right]\n",
    "\\end{align*}\n",
    "Note the last equation doesn't really have any information! \n",
    "* $R_1=R_1-2R_2$\n",
    "\\begin{align*}\n",
    "\\left[\\begin{array}{rr|r}\n",
    "1&0&-3\\\\\n",
    "0&1&2\\\\\n",
    "0&0&0\n",
    "\\end{array}\\right]\n",
    "\\end{align*}\n",
    "\n",
    "* The solution is thus $x_1=-3, x_2=2$. One unique solution!"
   ]
  },
  {
   "cell_type": "markdown",
   "metadata": {
    "id": "ZIFMcmmKj-oN"
   },
   "source": [
    "#### Example 2\n",
    "\n",
    "\\begin{align*}\n",
    "x_1+2x_2+x_3=1\\\\\n",
    "2x_1-x_2+x_3=2\\\\\n",
    "4x_1+3x_2+3x_3=4\\\\\n",
    "3x_1+x_2+2x_3=3\n",
    "\\end{align*}"
   ]
  },
  {
   "cell_type": "markdown",
   "metadata": {
    "id": "weYenQM7k--3"
   },
   "source": [
    "\n",
    "* Four equations, three unknowns. Suspicious!\n",
    "* Form $[\\arr{A}|\\vec{b}]$\n",
    "\\begin{align*}\n",
    "\\left[\\begin{array}{rrr|r}\n",
    "1&2&1&1\\\\\n",
    "2&-1&1&2\\\\\n",
    "4&3&3&4\\\\\n",
    "3&1&2&3\n",
    "\\end{array}\\right]\n",
    "\\end{align*}\n",
    "* $R_2=R_2-2R_1$, $R_3=R_3-4R_1$, $R_4=R_4-3R_1$\n",
    "\\begin{align*}\n",
    "\\left[\\begin{array}{rrr|r}\n",
    "1&2&1&1\\\\\n",
    "0&-5&-1&0\\\\\n",
    "0&-5&-1&0\\\\\n",
    "0&-5&-1&0\n",
    "\\end{array}\\right]\n",
    "\\end{align*}\n",
    "* $R_2=-1/5R_2$, $R_3=R_3-R_2$, $R_4=R_4-R_2$\n",
    "\\begin{align*}\n",
    "\\left[\\begin{array}{rrr|r}\n",
    "1&2&1&1\\\\\n",
    "0&1&1/5&0\\\\\n",
    "0&0&0&0\\\\\n",
    "0&0&0&0\n",
    "\\end{array}\\right]\n",
    "\\end{align*}\n",
    "* $R_1=R_1-2R_2$\n",
    "\\begin{align*}\n",
    "\\left[\\begin{array}{rrr|r}\n",
    "1&0&3/5&1\\\\\n",
    "0&1&1/5&0\\\\\n",
    "0&0&0&0\\\\\n",
    "0&0&0&0\n",
    "\\end{array}\\right]\n",
    "\\end{align*}\n",
    "\n",
    "This corresponds to\n",
    "\\begin{align*}\n",
    "x_1+\\frac{3}{5}x_3&=1\\\\\n",
    "x_2+\\frac{1}{5}x_3&=0\n",
    "\\end{align*} \n",
    "The solution can be written as\n",
    "\\begin{align*}\n",
    "\\vec{x}=\\begin{bmatrix}\n",
    "1-\\frac{3}{5}\\alpha\\\\\n",
    "\\frac{-1}{5}\\alpha\\\\\n",
    "\\alpha\n",
    "\\end{bmatrix}\n",
    "\\end{align*}\n",
    "\n",
    "**Infinite number of solutions!!**"
   ]
  },
  {
   "cell_type": "markdown",
   "metadata": {
    "id": "sFe8g2B1mjU0"
   },
   "source": [
    "#### Example 3\n",
    "\n",
    "\n",
    "\\begin{align*}\n",
    "x_1+x_2=1\\\\\n",
    "x_1-x_2=3\\\\\n",
    "-x_1+2x_2=-2\n",
    "\\end{align*}\n"
   ]
  },
  {
   "cell_type": "markdown",
   "metadata": {
    "id": "nhB9uKNkmo3v"
   },
   "source": [
    "\n",
    "* Three equations, two unknowns. Suspicious!\n",
    "* Form $[\\arr{A}|\\vec{b}]$\n",
    "\\begin{align*}\n",
    "\\left[\\begin{array}{rr|r}\n",
    "1&1&1\\\\\n",
    "1&-1&3\\\\\n",
    "-1&2&-2\n",
    "\\end{array}\\right]\n",
    "\\end{align*}\n",
    "* $R_2=R_2-R_1$, $R_3=R_3+R_1$\n",
    "\\begin{align*}\n",
    "\\left[\\begin{array}{rr|r}\n",
    "1&1&1\\\\\n",
    "0&-2&2\\\\\n",
    "0&3&-1\n",
    "\\end{array}\\right]\n",
    "\\end{align*}\n",
    "* $R_2=\\frac{-1}{2}R_2$, $R_3=R_3/3$\n",
    "\\begin{align*}\n",
    "\\left[\\begin{array}{rr|r}\n",
    "1&1&0\\\\\n",
    "0&1&-1\\\\\n",
    "0&1&-1/3\n",
    "\\end{array}\\right]\n",
    "\\end{align*}\n",
    "* $R_3=R_3-R_2$\n",
    "\\begin{align*}\n",
    "\\left[\\begin{array}{rr|r}\n",
    "1&1&1\\\\\n",
    "0&1&-1\\\\\n",
    "0&0&-2/3\n",
    "\\end{array}\\right]\n",
    "\\end{align*}\n",
    "* $0\\neq -2/3$. **Inconsistent, no solutions!!**"
   ]
  },
  {
   "cell_type": "markdown",
   "metadata": {
    "id": "z83USt-qnl7L"
   },
   "source": [
    "## Final notes\n",
    "\n",
    "* Underdetermined systems\n",
    "  * Often infinite solutions\n",
    "  * Can be infinite, no solution, or one solution\n",
    "* Over-determined system\n",
    "  * Often no solution\n",
    "  * Can be infinite, no solution, or one solution\n",
    "* Determined system\n",
    "  * Often one solution\n",
    "  * Can be infinite, no solution, or one solution\n",
    "\n",
    "**Homogeneous systems (when $\\vec{b}=0$) always has at least one solution! ($\\vec{x}=\\vec{0}$)**"
   ]
  },
  {
   "cell_type": "code",
   "execution_count": null,
   "metadata": {
    "id": "kGNKtbETuBRY"
   },
   "outputs": [],
   "source": []
  }
 ],
 "metadata": {
  "colab": {
   "collapsed_sections": [
    "_ED4jbeLazu2",
    "7HfAl6XpjKK6",
    "76Gmn-1ajNiZ",
    "bze4pMYCj8mR",
    "ZIFMcmmKj-oN",
    "sFe8g2B1mjU0"
   ],
   "name": "3-gauss-elimination.ipynb",
   "provenance": []
  },
  "kernelspec": {
   "display_name": "Python 3 (ipykernel)",
   "language": "python",
   "name": "python3"
  },
  "language_info": {
   "codemirror_mode": {
    "name": "ipython",
    "version": 3
   },
   "file_extension": ".py",
   "mimetype": "text/x-python",
   "name": "python",
   "nbconvert_exporter": "python",
   "pygments_lexer": "ipython3",
   "version": "3.9.13"
  }
 },
 "nbformat": 4,
 "nbformat_minor": 4
}
