{
 "cells": [
  {
   "cell_type": "markdown",
   "metadata": {
    "id": "VuOZLgSIiurH"
   },
   "source": [
    "$$\\newcommand{\\arr}[1]{\\underline{\\underline{#1}}}$$    \n",
    "$$\\newcommand{\\vec}[1]{\\underline{#1}}$$   \n",
    "$$\\require{mhchem}$$"
   ]
  },
  {
   "cell_type": "markdown",
   "metadata": {},
   "source": [
    "# Eigenvalue and Eigenvectors"
   ]
  },
  {
   "cell_type": "markdown",
   "metadata": {
    "id": "TTjjOltk4k6A"
   },
   "source": [
    "## Recap from last class"
   ]
  },
  {
   "cell_type": "markdown",
   "metadata": {
    "id": "EA6r78gM4vy8"
   },
   "source": [
    "System of linear equations represented as:\n",
    "\\begin{align}\n",
    "\\arr{A}\\vec{x} = \\vec{b}\n",
    "\\end{align}\n",
    "* Non-homogeneous system if $\\vec{b}\\neq\\vec{0}$\n",
    "  * If $\\det(\\arr{A})\\neq0$ (e.g. $\\arr{A}$ is invertible), then a unique solution exists.\n",
    "\n",
    "* Homogeneous system if $\\vec{b}=\\vec{0}$\n",
    "  * If $\\det(\\arr{A})\\neq0 \\rightarrow$ has only the trivial solution $\\vec{x} = \\vec{0}$\n",
    "  * If $\\det(\\arr{A})=0 \\rightarrow$ also has a series of nontrivial solutions"
   ]
  },
  {
   "cell_type": "markdown",
   "metadata": {
    "id": "KwwczmEKK0UN"
   },
   "source": [
    "##  Intro to eigenvalues and eigenvectors"
   ]
  },
  {
   "cell_type": "markdown",
   "metadata": {
    "id": "zMbiplBlMEI-"
   },
   "source": [
    "* For engineering applications, eigenvalue problems are among the most important problems concerning matrices.\n",
    "  * For example, wherever there are vibrations, there are eigenvalues, which are the natural frequencies of the vibration.\n",
    "  * If you've ever tuned a guitar, you've solved an eigenvalue problem!\n",
    "  * Google's page-rank algorithm for determining which pages are important is also built on eigenvectors of a very specific matrix.\n",
    "  * Quantum mechanics\n",
    "  * Face detection\n",
    "\n",
    "* For the following expression:\n",
    "\\begin{align}\n",
    "\\arr{A}\\vec{x}=\\lambda \\vec{x} \n",
    "\\end{align}\n",
    "$\\vec{x}=0$ is always a solution (trivial)\\\n",
    "If $\\vec{x}\\neq0$ exists, then $\\lambda=$ eigenvalue of $\\arr{A}$ and $\\vec{x}=$ eigenvector of $\\arr{A}$.\n",
    "* Often, there are are many eigenvectors, which together with the $\\vec{0}$ vector, form the eigenspace of $\\arr{A}$.\n",
    "* How do we find $\\lambda$'s and associated $\\vec{x}$'s? What do they mean?"
   ]
  },
  {
   "cell_type": "markdown",
   "metadata": {
    "id": "KP3KnG21PSPh"
   },
   "source": [
    "* To find $\\lambda$, rearrange our key equation:\n",
    "\\begin{align}\n",
    "\\arr{A}\\vec{x} = \\lambda\\vec{x}\\\\\n",
    "\\arr{A}\\vec{x} - \\lambda\\vec{x} = \\vec{0}\n",
    "\\end{align}\n",
    "$\\arr{A}$ is matrix and $\\lambda$ a scalar, but we can factor out $\\vec{x}$ using $\\arr{I}$.\n",
    "\\begin{align}\n",
    "(\\arr{A} - \\lambda\\arr{I})\\vec{x}= \\vec{0}\n",
    "\\end{align}\n",
    "This is a homogeneous system. We just learned that if the determinant of the matrix on the LHS is zero, then there is a non-trivial solution that is actually a series.\\\n",
    "$\\therefore$ if $|\\arr{A} - \\lambda\\arr{I}|=0$,\\\n",
    "then there is a non trivial value of $\\vec{x}$ and a set of $\\lambda$, $\\vec{x}$ that satisfy $\\arr{A}\\vec{x}=\\lambda\\vec{x}$\n"
   ]
  },
  {
   "cell_type": "markdown",
   "metadata": {
    "id": "04LuBx5URp0W"
   },
   "source": [
    "## Example for a 2x2 matrix\n",
    "\n",
    "$\\arr{A} = \\begin{bmatrix}-5 & 0\\\\ 1 & 2\\end{bmatrix}$\n"
   ]
  },
  {
   "cell_type": "markdown",
   "metadata": {
    "id": "Oof47x8-ViDl"
   },
   "source": [
    "We want \n",
    "\\begin{align}\n",
    "|\\arr{A} - \\lambda\\arr{I}|=0\\\\\n",
    "\\left|\n",
    "\\begin{bmatrix}\n",
    "-5 & 0\\\\\n",
    "1 & 2\n",
    "\\end{bmatrix}\n",
    "-\\lambda \n",
    "\\begin{bmatrix}\n",
    "1&0\\\\\n",
    "0&1\n",
    "\\end{bmatrix}\n",
    "\\right| = 0\\\\\n",
    "\\\\\n",
    "\\left|\n",
    "\\begin{array}{}\n",
    "-5-\\lambda&0\\\\\n",
    "1&2-\\lambda\n",
    "\\end{array}\n",
    "\\right| = 0\n",
    "\\end{align}\n",
    "\\begin{align}\n",
    "(-5-\\lambda)(2-\\lambda)-0 = 0\\\\\n",
    "(-5-\\lambda)(2-\\lambda)= \\lambda^2 + 3 \\lambda - 10 = 0 \\\\\n",
    "\\end{align}\n",
    "which is the \"characteristic equation\" of $\\arr{A}$.\n",
    "* Equation is satisfied by $\\lambda_1=2$; $\\lambda_2=-5$\n",
    "* Now, there is one eigenvector assiciated with each eigenvalue: $\\vec{x}^{(1)}$ and $\\vec{x}^{(2)}$\n",
    "* Let's start with $\\lambda_1=2$:\n",
    "\\begin{align}\n",
    "(\\arr{A} - 2 \\arr{I})\\vec{x}^{(1)} &= \\vec{0}\\\\\n",
    "\\left(\n",
    "\\begin{bmatrix}\n",
    "-5 & 0\\\\\n",
    "1 & 2\n",
    "\\end{bmatrix}\n",
    "-\\begin{bmatrix}\n",
    "2 & 0\\\\\n",
    "0 & 2\n",
    "\\end{bmatrix}\n",
    "\\right)\n",
    "\\begin{bmatrix}\n",
    "x_1^{(1)}\\\\\n",
    "x_2^{(1)}\n",
    "\\end{bmatrix}&=\n",
    "\\begin{bmatrix}\n",
    "0\\\\0\n",
    "\\end{bmatrix}\\\\\n",
    "\\begin{bmatrix}\n",
    "-7 & 0\\\\\n",
    "1 & 0\n",
    "\\end{bmatrix}\n",
    "\\begin{bmatrix}\n",
    "x_1^{(1)}\\\\\n",
    "x_2^{(1)}\n",
    "\\end{bmatrix}&=\n",
    "\\begin{bmatrix}\n",
    "0\\\\0\n",
    "\\end{bmatrix}\\\\\n",
    "-7x_1^{(1)}&=0\\\\\n",
    "x_1^{(1)}&=0\n",
    "\\end{align}\n",
    "$\\therefore x_1^{(1)} =0$ and $x_1^{(2)}$ can be anything but zero since solution is non-trivial.\\\n",
    "$\\therefore \\vec{x}^{(1)} = \\begin{bmatrix}0\\\\\\alpha\\end{bmatrix}$ where $\\alpha\\neq 0$. This $\\vec{x}^{(1)}$ is married to $\\lambda_1=2$.\n",
    "\n"
   ]
  },
  {
   "cell_type": "markdown",
   "metadata": {
    "id": "jckUlzl0fvsJ"
   },
   "source": [
    "* Now, $\\lambda_2=-5:$ \n",
    "\\begin{align}\n",
    "(\\arr{A} - (-5) \\arr{I})\\vec{x}^{(2)} &= \\vec{0}\\\\\n",
    "\\left(\\begin{bmatrix}-5 & 0\\\\1 & 2\\end{bmatrix}\n",
    "+\\begin{bmatrix}5 & 0\\\\0 & 5\\end{bmatrix}\\right)\n",
    "\\begin{bmatrix}x_1^{(2)}\\\\x_2^{(2)}\\end{bmatrix}&=\n",
    "\\begin{bmatrix}0\\\\0\\end{bmatrix}\\\\\n",
    "\\begin{bmatrix}0 & 0\\\\1 & 7\\end{bmatrix}\n",
    "\\begin{bmatrix}x_1^{(2)}\\\\x_2^{(2)}\\end{bmatrix}&=\n",
    "\\begin{bmatrix}0\\\\0\\end{bmatrix}\\\\\n",
    "\\end{align}\n",
    "Which gives $0=0$ and \n",
    "\\begin{align}\n",
    "x_1^{(2)} + 7 x_2^{(2)} = 0\\\\ \n",
    "x_1^{(2)} = -7 x_2^{(2)}\n",
    "\\end{align}\n",
    "$\\therefore \\vec{x}^{(2)} = \\begin{bmatrix}-7\\beta\\\\ \\beta \\end{bmatrix}$, where $\\beta \\neq 0$. This $\\vec{x}^{(2)}$ is married to $\\lambda_2 = -5$"
   ]
  },
  {
   "cell_type": "markdown",
   "metadata": {
    "id": "Bjjah1tEl2Ls"
   },
   "source": [
    "* Make sure to check that $\\lambda + \\vec{x}$ 's satisfy the original equation\\\n",
    "\\begin{align}\n",
    "\\arr{A}\\vec{x} = \\lambda \\vec{x}\\\\\n",
    "\\end{align}\n",
    "\\begin{align}\n",
    "\\lambda_1=2 && \\text{and} && \\lambda_2 = -5\\\\\n",
    "\\end{align}\n",
    "\\\n",
    "\\begin{align}\n",
    "\\begin{bmatrix}-5 & 0\\\\1 & 2\\end{bmatrix}\n",
    "\\begin{bmatrix}0\\\\ \\alpha \\end{bmatrix}=\n",
    "2 \\begin{bmatrix}0\\\\ \\alpha \\end{bmatrix} && \\text{and} &&\n",
    "\\begin{bmatrix}-5 & 0\\\\1 & 2\\end{bmatrix}\n",
    "\\begin{bmatrix}-7 \\beta\\\\ \\beta \\end{bmatrix}=\n",
    "-5 \\begin{bmatrix}-7 \\beta \\\\ \\beta \\end{bmatrix}\n",
    "\\end{align}\n",
    "\\\n",
    "\\begin{align}\n",
    "\\begin{bmatrix} 0 \\\\ 2 \\alpha \\end{bmatrix} = \\begin{bmatrix} 0 \\\\ 2 \\alpha \\end{bmatrix} &&\\text{and}&&\n",
    "\\begin{bmatrix} 35 \\beta \\\\ -5 \\end{bmatrix} = \\begin{bmatrix}  35 \\beta \\\\ -5\\end{bmatrix}\n",
    "\\end{align}\n",
    "\n",
    "* Eigenspaces are:\n",
    "\\begin{array}{}\n",
    "\\begin{bmatrix} 0\\\\0 \\end{bmatrix} ; & 2,\\begin{bmatrix} 0\\\\ \\alpha \\end{bmatrix}; & -5, \\begin{bmatrix} -7 \\beta \\\\ \\beta \\end{bmatrix}\n",
    "\\end{array}\n",
    "\n",
    "The basis of two non zero eignspaces are $\\begin{bmatrix} 0 \\\\ 1\\end{bmatrix}$ and $\\begin{bmatrix} -7 \\\\ 1\\end{bmatrix}$ respectively."
   ]
  },
  {
   "cell_type": "markdown",
   "metadata": {
    "id": "T9GpRDbNqsLL"
   },
   "source": [
    "## Recap \n",
    "\n",
    "* For any n$\\times$n matrix with $\\text{rank}(\\arr{A})=n$, you'll get an $n^{(th)}$ degree polynomial to solve in $\\lambda$ from $|\\arr{A} - \\lambda \\arr{I}| = 0$. \n",
    "* An n$\\times$n matrix has at least one $\\lambda$ and $n$ distinct $\\lambda$ 's.\n",
    "* Recap to solving eigenvalue problems:\n",
    "  1. Set up $|\\arr{A} - \\lambda \\arr{I}| = 0$\n",
    "  2. Determine the characteristic equation to solve for $\\lambda$\n",
    "  3. For each $\\lambda$, determine $\\vec{x}$\n",
    "\n"
   ]
  },
  {
   "cell_type": "markdown",
   "metadata": {
    "id": "FjEBEtKeXE1m"
   },
   "source": [
    "## Example for a 3x3\n",
    "\n",
    "* Let's try a larger example:\\\n",
    "$\\arr{A} = \\begin{bmatrix}6&10&6 \\\\ 0&8&12 \\\\ 0&0&2 \\end{bmatrix} \\rightarrow$ we want $\\lambda$, $\\vec{x}$ such that $\\arr{A} \\vec{x} = \\lambda \\vec{x}$\n"
   ]
  },
  {
   "cell_type": "markdown",
   "metadata": {
    "id": "svCJ5iM3xQ4e"
   },
   "source": [
    "\\begin{align}\n",
    "|\\arr{A} - \\lambda \\arr{I}|  &= \\begin{bmatrix}6 - \\lambda&10&6 \\\\ 0&8 - \\lambda&12 \\\\ 0&0&2 - \\lambda \\end{bmatrix}\\\\\n",
    "\\end{align}\n",
    "We choose to work with column 1\n",
    "\\begin{align}\n",
    "&=(6-\\lambda)\\left|\\begin{array}{} 8 - \\lambda & 12 \\\\ 0 & 2 - \\lambda \\end{array} \\right|\n",
    "- 0 \\left|\\begin{array}{} 10 & 6 \\\\ 0 & 2 - \\lambda \\end{array} \\right|\n",
    "+ 0 \\left|\\begin{array}{} 10 & 6 \\\\ 8 - \\lambda & 12 \\end{array} \\right|\\\\\n",
    "&= (6-\\lambda) [(8 - \\lambda)(2-\\lambda) - 0]\\\\\n",
    "0 &= (6-\\lambda)(8-\\lambda)(2-\\lambda)\\\\\n",
    "\\end{align}\n",
    "\\\n",
    "We don't really need to go further unless we want expanded characteristic equation.\n",
    "\\begin{align}\n",
    "0 &= \\lambda^3 -16 \\lambda^2 + 76\\lambda - 96\n",
    "\\end{align}\n",
    "\n",
    "$\\therefore$ eigenvalues are:\n",
    "\\begin{array}{}\n",
    "\\lambda_1=6, & \\lambda_2=8, & \\lambda_3=3\n",
    "\\end{array}\n",
    "We can get maximum of 3 eigenvalues since $n=3$\n",
    "* Now, find $\\vec{x}^{(i)}$ for each $\\lambda_i$ using $(\\arr{A}- \\lambda_i \\arr{I})\\vec{x}^{(i)} = \\vec{0}$\n",
    "  1. For $\\lambda_1=6$:\n",
    "  \\begin{align}\n",
    "  \\begin{bmatrix} 0&10&6 \\\\ 0&2&12 \\\\ 0&0&-4 \\end{bmatrix}\n",
    "  \\begin{bmatrix} x_1 \\\\ x_2 \\\\ x_3 \\end{bmatrix} = \n",
    "  \\begin{bmatrix} 0 \\\\ 0 \\\\ 0 \\end{bmatrix}\n",
    "  \\end{align}\n",
    "  Which gives:\n",
    "  \\begin{align}\n",
    "  10x_2 + 6x_3 = 0;\\\\\n",
    "  2 x_2 + 12 x_3 = 0;\\\\\n",
    "  -4x_3 = 0\n",
    "  \\end{align}\n",
    "  \n",
    "  \\begin{align}\n",
    "  \\implies x_3 = x_2 = 0 &&\\text{and}&& \\text{$x_1=$arbitrary}\n",
    "  \\end{align}\n",
    "\n",
    "  \\begin{align}\n",
    "  \\vec{x}^{(1)} = \\begin{bmatrix} \\alpha \\\\ 0 \\\\ 0 \\end{bmatrix} & \\text{, where $\\alpha\\neq0$}\n",
    "  \\end{align}\n",
    "  or the basis vector $\\vec{x}^{(1)} = \\begin{bmatrix} 1 \\\\ 0 \\\\ 0 \\end{bmatrix}$ (really a series of solutions)\n",
    "\n",
    "  2. For $\\lambda_2=8$:\n",
    "  \\begin{align}\n",
    "  \\begin{bmatrix} -2&10&6 \\\\ 0&0&12 \\\\ 0&0&-6 \\end{bmatrix}\n",
    "  \\begin{bmatrix} x_1 \\\\ x_2 \\\\ x_3 \\end{bmatrix} = \n",
    "  \\begin{bmatrix} 0 \\\\ 0 \\\\ 0 \\end{bmatrix}\n",
    "  \\end{align}\n",
    "  Which gives:\n",
    "  \\begin{align}\n",
    "  -2x_1 + 10x_2 + 6x_3= 0;\\\\\n",
    "  12x_3 = 0;\\\\\n",
    "  -6x_3 = 0\n",
    "  \\end{align}\n",
    "  \n",
    "  \\begin{align}\n",
    "  \\implies x_3 = 0, && x_1 = 5x_2 + 3x_3 &&\\text{and}&& \\text{$x_2=$arbitrary}\n",
    "  \\end{align}\n",
    "\n",
    "  \\begin{align}\n",
    "  \\vec{x}^{(2)} = \\begin{bmatrix} 5\\beta \\\\ \\beta \\\\ 0 \\end{bmatrix}& \\text{, $\\beta\\neq0$}\n",
    "  \\end{align}\n",
    "  or the basis vector $\\vec{x}^{(2)} = \\begin{bmatrix} 5 \\\\ 1 \\\\ 0 \\end{bmatrix}$\n",
    "\n",
    "  3. For $\\lambda_3=2$:\n",
    "  \\begin{align}\n",
    "  \\begin{bmatrix} 4&10&6 \\\\ 0&6&12 \\\\ 0&0&0 \\end{bmatrix}\n",
    "  \\begin{bmatrix} x_1 \\\\ x_2 \\\\ x_3 \\end{bmatrix} = \n",
    "  \\begin{bmatrix} 0 \\\\ 0 \\\\ 0 \\end{bmatrix}\n",
    "  \\end{align}\n",
    "  Which gives:\n",
    "  \\begin{align}\n",
    "  4x_1 + 10x_2 + 6x_3 = 0;\\\\\n",
    "  6x_2 + 12x_3 = 0;\\\\\n",
    "  0 = 0\n",
    "  \\end{align}\n",
    "  \n",
    "  \\begin{align}\n",
    "  \\implies x_2 &= -2 x_3;\\\\\n",
    "  x_1 &= -\\frac{10}{4}(-2x_3) - \\frac{6}{4}x_3 \\\\\n",
    "  &= 5x_3 -\\frac{3}{2}x_3\\\\\n",
    "  x_1 &= \\frac{7}{2}x_3\n",
    "  \\end{align}\n",
    "\n",
    "  \\begin{align}\n",
    "  \\vec{x}^{(3)} = \\begin{bmatrix} \\frac{7}{2}\\delta \\\\ -2\\delta \\\\ \\delta \\end{bmatrix}& \\text{, $\\delta\\neq0$}\n",
    "  \\end{align}\n",
    "  or the basis vector $\\vec{x}^{(3)} = \\begin{bmatrix} \\frac{7}{2} \\\\ -2 \\\\ 1 \\end{bmatrix} = \\begin{bmatrix} 7 \\\\ -4 \\\\ 2 \\end{bmatrix}$"
   ]
  },
  {
   "cell_type": "markdown",
   "metadata": {
    "id": "JmjfUMp-3bNs"
   },
   "source": [
    "Eigenspace corresponding to $\\arr{A}$ :\n",
    "\\begin{array}{}\n",
    "6, \\begin{bmatrix} 1\\\\0\\\\0 \\end{bmatrix} ; & 8,\\begin{bmatrix} 5\\\\1\\\\0 \\end{bmatrix}; & 2, \\begin{bmatrix} 7\\\\-4\\\\2\\end{bmatrix} ; & \\vec{x}=\\vec{0}\n",
    "\\end{array}"
   ]
  },
  {
   "cell_type": "markdown",
   "metadata": {
    "id": "DAODSYzpjaAo"
   },
   "source": [
    "# Example with a double root \n",
    "\n",
    "Consider $\\arr{A}=\\begin{bmatrix}-2&2&-3\\\\2&1&-6\\\\-1&-2&0\\end{bmatrix}$\n"
   ]
  },
  {
   "cell_type": "markdown",
   "metadata": {
    "id": "T7XsjryLXZNZ"
   },
   "source": [
    "\n",
    "## Find the characteristic equation\n",
    "\n",
    "\\begin{align*}\n",
    "|\\arr{A}-\\lambda\\arr{I}|&=0\\\\\n",
    "\\begin{vmatrix}\n",
    "-2-\\lambda&2&-3\\\\2&1-\\lambda&-6\\\\-1&-2&0-\\lambda\n",
    "\\end{vmatrix}&=0\n",
    "\\end{align*}\n",
    "\n",
    "Calculating this, we get $\\lambda^3+\\lambda^2-21\\lambda-45=0$.  No way for us to calculate this easily by hand! \n",
    "\n",
    "Using python, we find the roots are $\\lambda_1=5,\\lambda_2=\\lambda_3=-3$. Note the double root!\n",
    "\n",
    "##  Find the eigenvector for $\\lambda_1=5$, corresponding to $(\\arr{A}-5\\arr{I})\\vec{x}^{(1)}=\\vec{0}$\n",
    "\\begin{align*}\n",
    "\\begin{bmatrix}\n",
    "-7&2&-3\\\\\n",
    "2&-4&-6\\\\\n",
    "1&-2&-5\n",
    "\\end{bmatrix}\\begin{bmatrix}x_1\\\\x_2\\\\x_3\\end{bmatrix}=\\begin{bmatrix}0\\\\0\\\\0\\end{bmatrix}\n",
    "\\end{align*}\n",
    "\n",
    "We need to use Gauss Elimination to solve this:\n",
    "* $R_1=R_2/2, R_2=R_1$\n",
    "\\begin{align*}\n",
    "\\begin{bmatrix}\n",
    "1&-2&-3\\\\\n",
    "-7&2&-3\\\\\n",
    "-1&-2&-5\n",
    "\\end{bmatrix}\n",
    "\\end{align*}\n",
    "* $R_2=R_2+7R_1$, $R_3=R_3+R_1$\n",
    "\\begin{align*}\n",
    "\\begin{bmatrix}\n",
    "1&-2&-3\\\\\n",
    "0&-12&-24\\\\\n",
    "0&-4&-8\n",
    "\\end{bmatrix}\n",
    "\\end{align*}\n",
    "* $R_3=-R_3/4, R_2=-R_2/12$\n",
    "\\begin{align*}\n",
    "\\begin{bmatrix}\n",
    "1&-2&-3\\\\\n",
    "0&1&2\\\\\n",
    "0&1&2\n",
    "\\end{bmatrix}\n",
    "\\end{align*}\n",
    "* $R_3=R_3-R_2, R_1=R_1+2R_2$\n",
    "\\begin{align*}\n",
    "\\begin{bmatrix}\n",
    "1&0&1\\\\\n",
    "0&1&2\\\\\n",
    "0&0&0\n",
    "\\end{bmatrix}\n",
    "\\end{align*}\n",
    "\n",
    "So $x_1+x_3=0$ and $x_2+2x_3=0$. Let's let $x_3=1$. That gives us $x_1=-\\alpha$ and $x_2=-2\\alpha$, so\n",
    "\\begin{align*}\n",
    "\\vec{x}^{(1)}=\\begin{bmatrix}\n",
    "-1\\\\-2\\\\1\n",
    "\\end{bmatrix}\n",
    "\\end{align*}\n",
    "\n",
    "We can do a quick check that this is correct: \n",
    "\\begin{align*}\n",
    "\\arr{A}\\vec{x}^{(1)}=\\begin{bmatrix}-2&2&-3\\\\2&1&-6\\\\-1&-2&0\\end{bmatrix}\\begin{bmatrix}\n",
    "-1\\\\-2\\\\1\n",
    "\\end{bmatrix}=\\begin{bmatrix}\n",
    "-5\\\\-10\\\\5\n",
    "\\end{bmatrix}=5\\begin{bmatrix}\n",
    "-1\\\\-2\\\\1\n",
    "\\end{bmatrix}\n",
    "\\end{align*}\n",
    "\n",
    "## Eigenvector for $\\lambda_2=\\lambda_3=-3$\n",
    "\n",
    "For these, we get:\n",
    "\\begin{align*}\n",
    "\\begin{bmatrix}\n",
    "1&2&-3\\\\\n",
    "2&4&-6\\\\\n",
    "-2&2&3\n",
    "\\end{bmatrix}\\begin{bmatrix}x_1\\\\x_2\\\\x_3\\end{bmatrix}=\\begin{bmatrix}0\\\\0\\\\0\\end{bmatrix}\n",
    "\\end{align*}\n",
    "After Gauss elimination we get:\n",
    "\\begin{align*}\n",
    "\\begin{bmatrix}\n",
    "1&2&-3\\\\\n",
    "0&0&0\\\\\n",
    "0&0&0\n",
    "\\end{bmatrix}\\begin{bmatrix}x_1\\\\x_2\\\\x_3\\end{bmatrix}=\\begin{bmatrix}0\\\\0\\\\0\\end{bmatrix}\n",
    "\\end{align*}\n",
    "This tells us that $x_1+2x_2-3x_3=0$. This has one equation and three unknowns! So, let's write our system as a system of three equations:\n",
    "\\begin{align*}\n",
    "x_1&=-2x_2+3x_2\\\\\n",
    "x_2&=x_2\\\\\n",
    "x_3&=x_3\n",
    "\\end{align*}\n",
    "We can write this as three linearly independent vectors:\n",
    "\\begin{align*}\n",
    "\\vec{x}=\\begin{bmatrix}\n",
    "x_1\\\\x_2\\\\x_3\n",
    "\\end{bmatrix}=x_2\\begin{bmatrix}\n",
    "-2\\\\1\\\\0\n",
    "\\end{bmatrix}+x_3\\begin{bmatrix}\n",
    "3\\\\0\\\\1\n",
    "\\end{bmatrix}\n",
    "\\end{align*}\n",
    "where $x_2$ and $x_3$ are arbitrary. This gives us two eigenvectors:\n",
    "\\begin{align*}\n",
    "\\vec{x}^{(2)}=\\begin{bmatrix}\n",
    "-2\\\\1\\\\0\n",
    "\\end{bmatrix}&&\\vec{x}^{(3)}=\\begin{bmatrix}\n",
    "3\\\\0\\\\1\n",
    "\\end{bmatrix}\n",
    "\\end{align*}\n",
    "\n",
    "So, the fulll eigenspace of $\\arr{A}$ is \n",
    "\\begin{align*}\n",
    "\\vec{x}=\\vec{0} && 5,\\begin{bmatrix}\n",
    "-1\\\\-2\\\\1\n",
    "\\end{bmatrix} && -3, \\begin{bmatrix}\n",
    "-2\\\\1\\\\0\n",
    "\\end{bmatrix},\\begin{bmatrix}\n",
    "3\\\\0\\\\1\n",
    "\\end{bmatrix}\n",
    "\\end{align*}"
   ]
  },
  {
   "cell_type": "markdown",
   "metadata": {
    "id": "9V-csKsXkDCL"
   },
   "source": [
    "# Recap of the characteristic equation\n",
    "\n",
    "$|\\arr{A}-\\lambda \\arr{I}|=0$ gives us the characteristic  equation of $\\arr{A}$, which is a polynomial. An nth order polynomial has several solution possibilities:\n",
    "* $n$ distinct, real roots\n",
    "* redundant, real roots\n",
    "* complex (i.e. imaginary) roots"
   ]
  },
  {
   "cell_type": "markdown",
   "metadata": {
    "id": "IDCc0I4O7tr3"
   },
   "source": [
    "# Consider the case of complex roots:\n",
    "$ \\arr{A} = \\begin{bmatrix} 1&2 \\\\ -2&1 \\end{bmatrix} $\n",
    "## Find $\\lambda$ 's by solving $|\\arr{A} - \\lambda \\vec{x}|$ = 0\n",
    "\\begin{align}\n",
    "\\left|\\begin{array}{} 1 - \\lambda & 2 \\\\ -2 & 1 - \\lambda\\end{array}\\right| = 0\\\\\n",
    "(1-\\lambda)^2 + 4 = 0 && \\rightarrow \\lambda^2 -2\\lambda + 5 = 0 \\text{(characteristic equation of $\\arr{A}$)}\\\\\n",
    "(1-\\lambda)^2 = -4\\\\\n",
    "1 - \\lambda = \\pm \\sqrt{-4}\\\\\n",
    "\\lambda = 1 \\pm 2i && \\rightarrow \\text{imaginary roots always appear as complex conjugates}\\\\\n",
    "\\implies \\lambda_1 = 1 + 2i\\\\ \\lambda_2 = 1 - 2i\n",
    "\\end{align}"
   ]
  },
  {
   "cell_type": "markdown",
   "metadata": {
    "id": "dWcvfbXT-_1z"
   },
   "source": [
    "### Now find eigenvectors:\n",
    "  1. Find $\\vec{x}^{(1)}$ by solving $(\\arr{A} - \\lambda_1 \\arr{I}) \\vec{x} = \\vec{0}$\n",
    "  \\begin{align}\n",
    "  \\begin{bmatrix}1 - (1+2i)&2\\\\-2&1-(1+2i)\\end{bmatrix} \\begin{bmatrix} x_1\\\\x_2\\end{bmatrix} = \\begin{bmatrix} 0\\\\0 \\end{bmatrix}\\\\\n",
    "  \\left[\\begin{array}{rr|r}\n",
    "  -2i&2&0\\\\-2&-2i&0\n",
    "  \\end{array}\n",
    "  \\right]\n",
    "  \\end{align}\n",
    "*   $R_1 = \\frac{1}{2}R_1$ and $R_2=\\frac{1}{2}iR_2$:\n",
    "  \\begin{align}\n",
    "  \\left[\n",
    "    \\begin{array}{rr|r}\n",
    "    -i & 1 & 0\\\\\n",
    "    -i & 1 & 0 \\end{array}\n",
    "  \\right]\n",
    "  \\end{align}\n",
    "    * $R_2 = R_2 - R_1$:\n",
    "  \\begin{align}\n",
    "  \\left[\n",
    "    \\begin{array}{rr|r}\n",
    "    -i & 1 & 0\\\\\n",
    "    0 & 0 & 0 \\end{array}\n",
    "  \\right]\\\\\n",
    "  \\implies -ix_1 + x_2 = 0\\\\\n",
    "  x_2 = ix_1\\\\\n",
    "  \\vec{x}^{(1)} = \\begin{bmatrix} \\alpha \\\\ i   \\alpha\\end{bmatrix} \\text{where $\\alpha\\neq0$}\\\\\n",
    "  \\end{align}\n",
    "or, \n",
    " \\begin{align}\n",
    " \\vec{x}^{(1)} = \\begin{bmatrix} 1 \\\\ i \\end{bmatrix}\n",
    " \\end{align} \n",
    "  2. Find $\\vec{x}^{(2)}$ by solving $(\\arr{A} - \\lambda_2 \\arr{I}) \\vec{x} = \\vec{0}$\n",
    "  \\begin{align}\n",
    "  \\begin{bmatrix}1 - (1-2i)&2\\\\-2&1-(1-2i)\\end{bmatrix} \\begin{bmatrix} x_1\\\\x_2\\end{bmatrix} = \\begin{bmatrix} 0\\\\0 \\end{bmatrix}\\\\\n",
    "  \\left[\\begin{array}{rr|r}\n",
    "  2i&2&0\\\\-2&2i&0\n",
    "  \\end{array}\n",
    "  \\right]\n",
    "  \\end{align}\n",
    "  $R_1 = \\frac{1}{2}R_1$ and $R_2=\\frac{1}{2}iR_2$:\n",
    "  \\begin{align}\n",
    "  \\left[\n",
    "    \\begin{array}{rr|r}\n",
    "    i & 1 & 0\\\\\n",
    "    -i & -1 & 0 \\end{array}\n",
    "  \\right]\n",
    "  \\end{align}\n",
    "  $R_2 = R_2 + R_1$:\n",
    "  \\begin{align}\n",
    "  \\left[\n",
    "    \\begin{array}{rr|r}\n",
    "    i & 1 & 0\\\\\n",
    "    0 & 0 & 0 \\end{array}\n",
    "  \\right]\\\\\n",
    "  \\vec{x}^{(2)} = \\begin{bmatrix} \\alpha \\\\\n",
    "   -i\\alpha\\end{bmatrix} \\text{where $\\alpha\\neq0$}\\\\\n",
    "  \\end{align}\n",
    "or, \n",
    " \\begin{align}\n",
    " \\vec{x}^{(2)} = \\begin{bmatrix} 1\\\\-i \\end{bmatrix}\n",
    " \\end{align} \n"
   ]
  },
  {
   "cell_type": "markdown",
   "metadata": {
    "id": "n-TgVxeiK-Zr"
   },
   "source": [
    "$\\therefore$ Eigenspace of $A$ is \n",
    "\\begin{align}\n",
    "\\vec{x}=\\vec{0}; && (1 + 2i), \\begin{bmatrix}1\\\\i \\end{bmatrix} ; && (1-2i), \\begin{bmatrix}1\\\\-i \\end{bmatrix}\n",
    "\\end{align}"
   ]
  }
 ],
 "metadata": {
  "colab": {
   "collapsed_sections": [
    "04LuBx5URp0W",
    "FjEBEtKeXE1m",
    "DAODSYzpjaAo"
   ],
   "name": "6-eigenvalues-1.ipynb",
   "provenance": []
  },
  "kernelspec": {
   "display_name": "Python 3 (ipykernel)",
   "language": "python",
   "name": "python3"
  },
  "language_info": {
   "codemirror_mode": {
    "name": "ipython",
    "version": 3
   },
   "file_extension": ".py",
   "mimetype": "text/x-python",
   "name": "python",
   "nbconvert_exporter": "python",
   "pygments_lexer": "ipython3",
   "version": "3.9.13"
  }
 },
 "nbformat": 4,
 "nbformat_minor": 4
}
