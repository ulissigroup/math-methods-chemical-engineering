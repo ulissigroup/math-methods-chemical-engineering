{
 "cells": [
  {
   "cell_type": "markdown",
   "metadata": {
    "id": "4o7aOZG4Xy6h"
   },
   "source": [
    "$$\\newcommand{\\arr}[1]{\\underline{\\underline{#1}}}$$    \n",
    "$$\\newcommand{\\vec}[1]{\\underline{#1}}$$   \n",
    "$$\\require{mhchem}$$"
   ]
  },
  {
   "cell_type": "markdown",
   "metadata": {
    "id": "Js_ieF9JX0mU"
   },
   "source": [
    "# Second Order Differential Equations"
   ]
  },
  {
   "cell_type": "markdown",
   "metadata": {
    "id": "cUvCmakXYBKW"
   },
   "source": [
    "* Occur in many important applications: fluid mechanics, diffusion, heat transport, statics and circuit theory.\\\n",
    "In general $F(y'',y',y,x)=0$ where $y'' = \\frac{d^2y}{dx^2}$\n",
    "* Analytical solutions are possible (usually) only when $2^\\circ$ ODE is linear. Exceptions are two special types of $2^\\circ$ ODE that can be solved by change of variables to make $1^\\circ$ ODE. "
   ]
  },
  {
   "cell_type": "markdown",
   "metadata": {
    "id": "kvPR5pfoY-IU"
   },
   "source": [
    "## Linear $2^\\circ$ ODE:"
   ]
  },
  {
   "cell_type": "markdown",
   "metadata": {
    "id": "Sb1niIesZCmf"
   },
   "source": [
    "\\begin{align}\n",
    "y'' + p(x) y' + q(x) y = r(x)\n",
    "\\end{align}\n",
    "where $p(x), q(x)$ and $r(x)$ are any functions of $x$.\\\n",
    "$\\rightarrow$ if $y''$ has a coefficient, divide through.\n",
    "\n",
    "* Linear $2^\\circ$ ODEs come in two flavors:\n",
    "  1. $r(x) = 0 \\implies$ homogeneous\n",
    "  2. $r(x) \\neq 0 \\implies$ non-homogeneous\n",
    "\n",
    "$\\rightarrow$ We will begin with homogeneous equations. We will later show that once homogeneous equation has been solved, we can always solve the non-homogeneous one. \n",
    "* Because $2^\\circ$ ODEs typically require two integrations, we will have two constants of integration. \\\n",
    "$\\therefore$ We need two initial/boundary conditions to find particular solutions. \n",
    "\\begin{align}\n",
    "\\text{usually} && y(x_0) = k1 &&\\text{&} && y'(x_0) = k_2\\\\\n",
    "\\text{sometimes} && y(x_0) = k1 &&\\text{&} && y(x_1) = k_2\\\\\n",
    "\\end{align}\n",
    "* Let's begin by considering a simple example of a homogeneous linear $2^\\circ$ ODE:\n",
    "\\begin{align}\n",
    "y'' - y = 0 \\implies y'' = y\n",
    "\\end{align}\n",
    "Second derivative is the same as the function itself. Can you think of any solutions?\n",
    "1. $y(x) = e^x$\n",
    "2. $y(x) = e^{-x}$\n",
    "3. Multiples: $y(x) = c_1 e^x$ or $y(x) = c_2e^{-x}$\n",
    "4. Sum: $y(x) = c_1 e^x + c_2 e^{-x}$\\\n",
    "check: $y' = c_1 e^x - c_2 e^{-x}$ \\\n",
    "$\\hspace{1cm}$ $y'' = c_1e^x + c_2 e^{-x} \\implies y'' = y$ for all values of $c_1$ and $c_2$\n",
    "* Once we noticed that $y_1 = e^x$ and $y_2 = e^{-x}$ are solutions, it follows that the general linear combination is also a solution.\n",
    "  * Since $c_1$ and $c_2$ are arbitrary, this gives a double infinity family of solutions.\n",
    "  * $y_1(x)$ and $y_2(x)$ form a basis $\\rightarrow$ they are linearly independent.\n",
    "  * Let's pick out a particular member of the $\\infty$ solution family that also satisfies a set of initial conditions:\n",
    "  \\begin{align}\n",
    "  y(0) = 2 && \\text{and} &&y'(0) = -1\n",
    "  \\end{align}\n",
    "  These specify the value and slope of the function ar $x=0$\\\n",
    "  IC 1: \n",
    "  \\begin{align}\n",
    "  y(0) = &2 = c_1 e^0 + c_2 e^{-0}\\\\\n",
    "  &2 = c_1 + c_2 \\implies c_1 = 2 - c_2\n",
    "  \\end{align}\n",
    "  IC 2:\n",
    "  \\begin{align}\n",
    "  y'(0) = -1 &= c_1 e^0 - c_2 e^{-0}\\\\\n",
    "  -1 &= c_1 - c_2\\\\\n",
    "  c_2 &= (2-c_2) + 1\\\\\n",
    "  2c_2 &= 3 \\\\\n",
    "  \\implies c_2 = \\frac{3}{2}\\\\\n",
    "  c_1 = \\frac{1}{2}\n",
    "  \\end{align}\n",
    "  then, $y(x) = \\frac{1}{2} e^x + \\frac{3}{2}e^{-x}$"
   ]
  },
  {
   "cell_type": "markdown",
   "metadata": {
    "id": "V1wltj4Xik5X"
   },
   "source": [
    "### Solution Basis"
   ]
  },
  {
   "cell_type": "markdown",
   "metadata": {
    "id": "n1tbygkWinhf"
   },
   "source": [
    "Consider $y(x) = c_1 e^x + c_2 e^{-x}$\\\n",
    "or more generally $y(x) = c_1y_1(x) + c_2y_2(x)$\\\n",
    "$\\implies$ provided that $y_1(x)$ and $y_2(x)$ are linearly independent, they form a basis for the ODE solution. Similar concept to a basis of vectors\\\n",
    "$\\implies$ $y_1(x)$ and $y_2(x)$ are linearly independent as long as $\\frac{y_1(x)}{y_2(x)}\\neq $ constant"
   ]
  },
  {
   "cell_type": "markdown",
   "metadata": {
    "id": "k_xp_-guk8ds"
   },
   "source": [
    "Let's consider a general homogeneous linear $2^\\circ$ ODE with constant coefficients\n",
    "\\begin{align}\n",
    "y'' + a y' + by = 0\n",
    "\\end{align}\n",
    "with arbitrary, real coefficients (not functions of x)\n",
    "* Based on our exprience with simple case, let us seek exponential solutions. Let's suppose $y(x) = e^{\\lambda x}$ where $r$ is to be determined.\\\n",
    "then, $y' = \\lambda e^{\\lambda x}$ and $y'' = \\lambda^2 e^{\\lambda x}$\n",
    "* Substituting these into our $2^\\circ$ ODE gives:\n",
    "\\begin{align}\n",
    "\\lambda^2 e^{\\lambda x} + a \\lambda e^{\\lambda x} + b e^{\\lambda x} = 0\\\\\n",
    "(\\lambda^2 + a\\lambda + b) e^{\\lambda x} = 0\n",
    "\\end{align}\n",
    "Since $e^{\\lambda x} \\neq 0$ :\n",
    "\\begin{align}\n",
    "\\lambda^2 + a\\lambda + b = 0 && \\rightarrow \\text{characteristic equation of the linear ODE}\n",
    "\\end{align}\n",
    "Any $\\lambda$ that is a root will give an ODE solution\n",
    "\\begin{align}\n",
    "\\lambda_1 = \\frac{1}{2}(-a + \\sqrt{a^2 - 4b})\\\\\n",
    "\\lambda_2 = \\frac{1}{2}(-a - \\sqrt{a^2 - 4b})\n",
    "\\end{align}\n",
    "* The characteristic equation is a quadratic equation with real coefficients. We will have three variations on the two roots:\n",
    "1. real and different $(a^2 - 4b > 0)$\n",
    "2. real but repeated $(a^2 - 4b = 0)$\n",
    "3. complex conjugates $(a^2 - 4b < 0)$\n"
   ]
  },
  {
   "cell_type": "markdown",
   "metadata": {
    "id": "nhanz58xJw02"
   },
   "source": [
    "### Example (Case 1) Two real and different roots\n",
    "\n",
    " $y'' + 2y' - 3y = 0$ ; $y(0) = 1$ and $y'(0) = 4$\n",
    "\n",
    " $y(x) = c_1 e^{\\lambda_1 x} + c_2 e^{\\lambda_2 x}$ is the general solution\\\n"
   ]
  },
  {
   "cell_type": "markdown",
   "metadata": {
    "id": "Vpza0YhlrqR1"
   },
   "source": [
    "Either solve characteristic equation: \n",
    "\\begin{align}\n",
    "\\lambda^2 + a\\lambda + b = 0\\\\\n",
    "\\lambda^2 + 2\\lambda - 3 = 0\\\\\n",
    "(\\lambda + 3)(\\lambda - 1) = 0 && \\implies \\lambda_1 = 1; \\lambda_2 = -3\n",
    "\\end{align}\n",
    "or with formula:\n",
    "\\begin{align}\n",
    "\\lambda &= \\frac{1}{2}(-a \\pm \\sqrt{a^2 - 4b})\\\\\n",
    "&= \\frac{1}{2}(-2 \\pm \\sqrt{4 + 12})\\\\\n",
    "&= -1 \\pm 2 \\implies \\lambda_1 = 1 ; \\lambda_2 = -3\n",
    "\\end{align}\n",
    "then, \n",
    "\\begin{align}\n",
    "y(x) = c_1e^x + c_2 e^{-3x} && \\text{(general solution)}\n",
    "\\end{align}\n",
    "Let's double check that this works:\n",
    "\\begin{align}\n",
    "y' = c_1e^x - 3c_2e^{-3x}\\\\\n",
    "y'' = c_1e^x + 9c_2e^{-3x}\n",
    "\\end{align}\n",
    "ODE: \n",
    "\\begin{align}\n",
    "y'' + 2y' - 3y = 0\\\\\n",
    "\\end{align}\n",
    "\\begin{align}\n",
    "(c_1e^x + 9c_2e^{-3x}) + 2(c_1e^x - 3c_2e^{-3x}) - 3(c_1e^x + c_2e^{-3x}) = 0\\\\\n",
    "(1+2-3)c_1e^x + (9-6-3)c_3e^{-3x} = 0\n",
    "\\end{align}\n",
    "Both coefficients on LHS are 0.\\\n",
    "Now we need a particular solution\n",
    "\\begin{align}\n",
    "y(0) = 1 &= c_1e^0 + c_2e^{-3\\cdot 0}\\\\\n",
    "1 &= c_1 + c_2 \\implies c_2 = 1 - c_1\\\\\n",
    "y'(0) = 4 &= c_1e^0 - 3c_2e^{-3\\cdot 0}\\\\\n",
    "4 &= c_1 - 3(1-c_1)\\\\\n",
    "7 &= 4c_1\\\\\n",
    "c_1 &= \\frac{7}{4} \\\\\n",
    "c_2 &= -\\frac{3}{4}\\\\\n",
    "\\therefore y(x) &= \\frac{7}{4}e^x - \\frac{3}{4}e^{-3x} && \\text{particular solution}\n",
    "\\end{align}"
   ]
  },
  {
   "cell_type": "markdown",
   "metadata": {
    "id": "TNuMcce0uLTu"
   },
   "source": [
    "### Example (Case 2): Real, double roots\n",
    "\\begin{align}\n",
    "y'' + a y' + by= 0\n",
    "\\end{align}\n"
   ]
  },
  {
   "cell_type": "markdown",
   "metadata": {
    "id": "i2vSVJXrKKIy"
   },
   "source": [
    "in the special circumstance that $b = \\frac{1}{4}a^2$ the characteristic equation is $\\lambda^2 + a\\lambda + b = 0$ where\n",
    "\\begin{align}\n",
    "\\lambda &= \\frac{1}{2}(-a \\pm \\sqrt{a^2 - 4b})\\\\\n",
    "&= \\frac{1}{2}(-a \\pm \\sqrt{a^2 - 4\\cdot \\frac{1}{4}a^2})\\\\\n",
    "\\lambda &= -\\frac{1}{2}a \\implies y(x) = c_1e^{-\\frac{1}{2}ax}\n",
    "\\end{align}\n",
    "That's great but it's only one solution (half of our basis). We need another linearly independent solution.\n",
    "Fortunately, there is a method to obtain a basis if one solution is known:"
   ]
  },
  {
   "cell_type": "markdown",
   "metadata": {
    "id": "SMxxg7GwvkWV"
   },
   "source": [
    "### Reduction of Order"
   ]
  },
  {
   "cell_type": "markdown",
   "metadata": {
    "id": "eYCNoMaww17w"
   },
   "source": [
    "* To obtain $y_2(x)$ we set\n",
    "\\begin{align}\n",
    "y_2(x) = u(x)y_1(x) \\implies \\text{need to determine $u(x)$}\n",
    "\\end{align}\n",
    "then, \n",
    "\\begin{align}\n",
    "y_2' = u' \\cdot y_1 + u \\cdot y_1' && \\text{(chain rule / product differentiation)}\n",
    "\\end{align}\n",
    "and \n",
    "\\begin{align}\n",
    "y_2'' &= u'' \\cdot y_1 + u' \\cdot y_1' + u'\\cdot y_1' + u \\cdot y_1''\\\\\n",
    "&= u''y_1 + 2u'y_1' + uy_1''\n",
    "\\end{align}\n",
    "* OK, let's plug those terms back into our general linear homogeneous $2^\\circ$ ODE:\n",
    "\\begin{align}\n",
    "y'' + p(x)y' + q(x)y = 0\n",
    "\\end{align}\n",
    "\\begin{align}\n",
    "u''y_1 + 2u'y_1' + uy_1'' + p(u'y_1 + uy_1') + q\\cdot uy_1 = 0\n",
    "\\end{align}\n",
    "* Rearrange strategically:\n",
    "\\begin{align}\n",
    "u''y_1 + u'(2y_1' + py_1) + u(y_1'' + py_1' + qy_1) = 0\n",
    "\\end{align}\n",
    "\\begin{align}\n",
    "u'' + u'\\left(\\frac{2y_1' + py_1}{y_1}\\right) = 0\n",
    "\\end{align}"
   ]
  },
  {
   "cell_type": "markdown",
   "metadata": {
    "id": "7naHArDJbTKC"
   },
   "source": [
    "* Now since we have $u''$ and $u'$ (but no $u$), we can reduce the order.\\\n",
    "Let $U = u'$ and $U' = u''$. Now,\n",
    "\\begin{align}\n",
    "U' + \\left(\\frac{2y_1'}{y_1} + p \\right) U = 0 && \\implies \\text{separable!}\\\\\n",
    "\\int \\frac{dU}{U} = \\int - \\left(\\frac{2y_1'}{y_1} + p \\right)dx\\\\\n",
    "\\ln U = -2 \\ln y_1 - \\int p dx\\\\\n",
    "U = \\frac{1}{y_1^2} \\exp \\left[-\\int p dx \\right] \n",
    "\\end{align}\n",
    "Since $U = u'$, then\n",
    "\\begin{align}\n",
    "u = \\int U dx = \\int \\frac{1}{y_1^2}\\exp \\left[ -\\int p dx \\right] dx\n",
    "\\end{align}\n",
    "Integral looks ugly but it's known since we know $p$ and already found $y_1$\n",
    "* Now that we have $u(x)$, we obtain our second solution, allowing us to complete our basis:\n",
    "\\begin{align}\n",
    "y_2(x) = u(x) \\cdot y_1(x)\n",
    "\\end{align}\n",
    "and\n",
    "\\begin{align}\n",
    "y(x) = c_1y_1(x) + c_2u(x)y_1(x)\n",
    "\\end{align}\n",
    "$\\rightarrow$ Now let's use reduction of order to solve a linear homogeneous $2^\\circ$ ODE with double roots:\\\n"
   ]
  },
  {
   "cell_type": "markdown",
   "metadata": {
    "id": "JUX4x3K4dXPW"
   },
   "source": [
    "### Example\n",
    "\n",
    "$y'' - y' + 0.25 y = 0$ ; $y(0) = 2$ and $y'(0) = \\frac{1}{3}$\n"
   ]
  },
  {
   "cell_type": "markdown",
   "metadata": {
    "id": "UUtVh4gDgVi2"
   },
   "source": [
    "We can either\n",
    "1. Solve characteristic equation\n",
    "\\begin{align}\n",
    "\\lambda^2 + a \\lambda + b &= 0\\\\\n",
    "\\lambda^2 - \\lambda + \\frac{1}{4} &= 0\\\\\n",
    "(\\lambda - \\frac{1}{2})^2 &= 0 \\implies \\lambda_1 = \\lambda_2 = \\frac{1}{2} \n",
    "\\end{align}\n",
    "2. Use formula\n",
    "\\begin{align}\n",
    "\\lambda &= \\frac{1}{2}(-a \\pm \\sqrt{a^2 - 4b})\\\\\n",
    "&= \\frac{1}{2}(1 \\pm \\sqrt{1-1})\\\\\n",
    "\\lambda &= \\frac{1}{2}\\\\\n",
    "y_1(x) &= e^{\\frac{1}{2}x}\n",
    "\\end{align}\n",
    "need reduction of variables to find $y_2(x) = u(x)y_1(x)$\n",
    "\n",
    "\\begin{align}\n",
    "u(x) &= \\int \\frac{1}{y_1^2} \\exp\\left[ -\\int p dx \\right]dx\\\\\n",
    "&= \\int \\frac{1}{e^x}\\exp\\left[-\\int -1 dx \\right] dx\\\\\n",
    "&= \\int e^{-x} \\cdot e^x dx\\\\\n",
    "u(x) &= x\n",
    "\\end{align}\n",
    "\n",
    "\\begin{align}\n",
    "\\therefore y_2(x) = x e^{\\frac{1}{2}x}\n",
    "\\end{align}\n",
    "and \n",
    "\\begin{align}\n",
    "y(x) = c_1 e^{\\frac{1}{2}x} + c_2 x e^{\\frac{1}{2}x} && \\text{general solution}\n",
    "\\end{align}\n",
    "Now, \n",
    "\\begin{align}\n",
    "y(0) = 2 = c_1 e^0 + c_2 \\cdot 0 \\cdot e^0 \\implies c_1 = 2\\\\\n",
    "y'(0) = \\frac{1}{3} = \\frac{1}{2}c_1 e^0 + c_2( e^0 + 0 \\cdot e^0)\\\\\n",
    "\\frac{1}{3} = \\frac{1}{2} \\cdot 2 + c_2 \\implies c_2 = -\\frac{2}{3} \n",
    "\\end{align}\n",
    "and \n",
    "\\begin{align}\n",
    "y(x) = 2 e^{\\frac{1}{2}x} - \\frac{2}{3} x e^{\\frac{1}{2}x} && \\text{particular solution}\n",
    "\\end{align}\n"
   ]
  },
  {
   "cell_type": "markdown",
   "metadata": {
    "id": "uhXa61fOdg7D"
   },
   "source": [
    "### Example: Case 3 (Complex roots)\n",
    "\n",
    "$y'' + ay' + by = 0$ (second order, homogeneous, linear with constant coefficients)"
   ]
  },
  {
   "cell_type": "markdown",
   "metadata": {
    "id": "ZlQf0j2tlcmM"
   },
   "source": [
    "\n",
    "$\\rightarrow$ complex roots when the characteristic equation $\\lambda^2 + a \\lambda + b = 0$ yields\n",
    "\\begin{align}\n",
    "\\lambda = \\frac{1}{2}(-a \\pm \\sqrt{a^2 - 4b}) && \\text{where } a^2 - 4b < 0\n",
    "\\end{align}\n",
    "Then,\n",
    "\\begin{align}\n",
    "\\sqrt{a^2 - 4b} &= \\sqrt{-1} \\cdot \\sqrt{4b - a^2}\\\\\n",
    "&= i \\cdot \\sqrt{4} \\cdot \\sqrt{b - \\frac{1}{4}a^2}\\\\\n",
    "&= 2i\\sqrt{b - \\frac{1}{4}a^2}\\\\\n",
    "\\therefore \\lambda &= \\frac{1}{2}\\left(-a \\pm 2i \\sqrt{b - \\frac{1}{4}a^2}\\right)\\\\\n",
    "&= -\\frac{1}{2}a \\pm \\frac{1}{2} \\cdot 2i \\sqrt{b - \\frac{1}{4}a^2}\\\\\n",
    "\\lambda &= -\\frac{1}{2}a \\pm i \\omega && \\text{where } \\omega = \\sqrt{b - \\frac{1}{4}a^2} \n",
    "\\end{align}\n",
    "$\\omega$ is always real.\n",
    "\\begin{align}\n",
    "y(x) &= c_1 e^{\\lambda_1 x} + c_2 e^{\\lambda_2 x}\\\\\n",
    "&= c_1 e^{-\\frac{a}{2}x} e^{i\\omega x} + c_2 e^{-\\frac{a}{2}x} e^{-i \\omega x}\n",
    "\\end{align}\n",
    "How to evaluate imaginary exponentials?\n"
   ]
  },
  {
   "cell_type": "markdown",
   "metadata": {
    "id": "bcV8Ys1SqJhq"
   },
   "source": [
    "### (Aside) Complex exponentials"
   ]
  },
  {
   "cell_type": "markdown",
   "metadata": {
    "id": "1Tc2lA7WqVKr"
   },
   "source": [
    "* For any complex number $z = s + it$,\\\n",
    "$e^z = e^{s + it} = e^se^{it} \\equiv e^s(\\cos t + i\\sin t)$\\\\\n",
    "\\begin{align}\n",
    "e^{it} \\equiv \\cos (t) + i\\sin (t) && \\text{Euler formula}\n",
    "\\end{align}\n",
    "* Look at $e^{it}$:\n",
    "\\begin{align}\n",
    "t = 0 \\implies e^{i0} = \\cos (0) + i \\sin(0) = 1\\\\\n",
    "t = \\frac{\\pi}{2} \\implies e^{i \\frac{\\pi}{2}} = \\cos (\\frac{\\pi}{2}) + i \\sin(\\frac{\\pi}{2}) = i\\\\\n",
    "t = \\pi \\implies e^{i\\pi} = \\cos(\\pi) + i \\sin (\\pi) = -1\n",
    "\\end{align}\n",
    "$\\rightarrow e^{it}$ oscillates back and forth into imaginary space.\n",
    "* Derivative:\n",
    "\\begin{align}\n",
    "\\frac{d}{dt}e^{it} &= \\frac{d}{dt}(\\cos t + i\\sin t)\\\\\n",
    "&= -\\sin t + i \\cos t\\\\\n",
    "&= i (i \\sin t + \\cos t)\\\\\n",
    "\\frac{d}{dt}e^{it} &= i e^{it}\n",
    "\\end{align}\n",
    "So,\n",
    "\\begin{align}\n",
    "y(x) = e^{-\\frac{a}{2}x}(c_1 e^{i\\omega x} + c_2 e^{-i \\omega x})\n",
    "\\end{align}\n",
    "and \n",
    "\\begin{align}\n",
    "e^{i\\omega x} &= \\cos(\\omega x) + i\\sin(\\omega x)\\\\\n",
    "e^{-i\\omega x} &= \\cos(-\\omega x) + i\\sin(-\\omega x)\\\\\n",
    "&= \\cos(\\omega x) - i \\sin(\\omega x) && \\text{(properties of sin and cos)}\n",
    "\\end{align}"
   ]
  },
  {
   "cell_type": "markdown",
   "metadata": {
    "id": "en8uLoT_uegU"
   },
   "source": [
    "Now,\n",
    "\\begin{align}\n",
    "y(x) &= e^{-\\frac{a}{2}x}[c_1(\\cos(\\omega x) + i\\sin(\\omega x)) + c_2(\\cos(\\omega x) - i\\sin(\\omega x))]\\\\\n",
    "&= e^{-\\frac{a}{2}x} [(c_1 + c_2) \\cos(\\omega x) + (c_1 - c_2) i \\sin(\\omega x)]\n",
    "\\end{align}\n",
    "Looks messy, but remember, we can pick any basis as long as it solves the ODE.\n",
    "* If\n",
    "\\begin{align}\n",
    "y_1 = e^{-\\frac{a}{2}x}e^{i\\omega x} = e^{-\\frac{a}{2}x}[\\cos(\\omega x) + i\\sin(\\omega x)]\\\\\n",
    "y_2 = e^{-\\frac{a}{2}x}e^{-i\\omega x} = e^{-\\frac{a}{2}x}[\\cos(\\omega x) - i\\sin(\\omega x)]\n",
    "\\end{align}\n",
    "Let's define \n",
    "\\begin{align}\n",
    "y_3 &= \\frac{1}{2}(y_1 + y_2) \\implies\\text{OK because it's a linear combo}\\\\\n",
    "&= \\frac{1}{2}e^{-\\frac{a}{2}x}[\\cos\\omega x + i\\sin\\omega x + \\cos\\omega x -i\\sin\\omega x]\\\\\n",
    "&= \\frac{1}{2}e^{-\\frac{a}{2}x} \\cdot 2 \\cos\\omega x\\\\\n",
    "y_3 &= e^{-\\frac{a}{2}x} \\cdot \\cos\\omega x \\implies \\text{real solution}\n",
    "\\end{align}\n",
    "and \n",
    "\\begin{align}\n",
    "y_4 &= -\\frac{1}{2}i(y_1 - y_2)\\\\\n",
    "&= -\\frac{1}{2}ie^{-\\frac{a}{2}x}[\\cos\\omega x + i\\sin\\omega x - \\cos\\omega x + i\\sin\\omega x]\\\\\n",
    "&= -\\frac{1}{2} i e^{-\\frac{a}{2}x}\\cdot 2i\\sin\\omega x\\\\\n",
    "y_4 &= e^{-\\frac{a}{2}x} \\sin\\omega x \\implies \\text{real solution}\n",
    "\\end{align}\n",
    "Then, we can say\n",
    "\\begin{align}\n",
    "y(x) &= Ay_3(x) + B y_4(x) && \\text{general solution}\\\\\n",
    "y(x) &= e^{-\\frac{a}{2}x}[A\\sin(\\omega x) + B\\cos(\\omega x)] && \\omega = \\sqrt{b - \\frac{1}{4}a^2}\n",
    "\\end{align}\n",
    "where $A$ and $B$ are our arbitrary constants. All components of the solution are real."
   ]
  },
  {
   "cell_type": "code",
   "execution_count": null,
   "metadata": {
    "id": "VWn7DQHqmya8"
   },
   "outputs": [],
   "source": []
  }
 ],
 "metadata": {
  "colab": {
   "collapsed_sections": [],
   "name": "12-second-order-odes.ipynb",
   "provenance": []
  },
  "kernelspec": {
   "display_name": "Python 3 (ipykernel)",
   "language": "python",
   "name": "python3"
  },
  "language_info": {
   "codemirror_mode": {
    "name": "ipython",
    "version": 3
   },
   "file_extension": ".py",
   "mimetype": "text/x-python",
   "name": "python",
   "nbconvert_exporter": "python",
   "pygments_lexer": "ipython3",
   "version": "3.9.13"
  }
 },
 "nbformat": 4,
 "nbformat_minor": 4
}
