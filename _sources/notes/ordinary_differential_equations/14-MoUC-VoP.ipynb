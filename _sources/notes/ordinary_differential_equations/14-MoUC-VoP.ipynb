{
 "cells": [
  {
   "cell_type": "markdown",
   "metadata": {
    "id": "G_J7FG_27Yn4"
   },
   "source": [
    "$$\\newcommand{\\arr}[1]{\\underline{\\underline{#1}}}$$    \n",
    "$$\\newcommand{\\vec}[1]{\\underline{#1}}$$   \n",
    "$$\\require{mhchem}$$"
   ]
  },
  {
   "cell_type": "markdown",
   "metadata": {},
   "source": [
    "# Method of Undetermined Coefficient and Variations of Parameters"
   ]
  },
  {
   "cell_type": "markdown",
   "metadata": {
    "id": "q4IExGVSQ0ap"
   },
   "source": [
    "## Method of Undetermined Coefficients (sec 2.9)\n",
    "\\begin{align}\n",
    "y'' + ay' + by = r(x)\n",
    "\\end{align}\n",
    "* If $r(x)$ is a function s.t. $r'(x)$ is like $r(x)$, e.g. $e^{\\lambda x}$, $\\sin(\\omega x)$, $\\cos(\\omega x)$, $x^n$... we can choose $y_P(x)$ based on $r(x)$ \\\n",
    " "
   ]
  },
  {
   "cell_type": "markdown",
   "metadata": {
    "id": "ovycE4yxVtcx"
   },
   "source": [
    "## Rules (from textbook)\n",
    "\n",
    "\n",
    "Table 2.1: \n",
    "\n",
    "If $r(x)=$ | Choose $y_P(x)=$\n",
    "--- | ---\n",
    "$$ke^{rx}$$ | $$ce^{rx}$$\n",
    "$kx^n$ ($n=0,1,2...$)| $K_nx^n + K_{n-1}x^{n-1} + ... + K_1x + K_0$\n",
    "$k\\cos(\\omega x)$ or $k\\sin(\\omega x)$ | $K\\cos(\\omega x) + M\\sin(\\omega x)$\n",
    "$ke^{\\alpha x}\\cos(\\omega x)$ or $ke^{\\alpha x}\\sin(\\omega x)$ | $e^{\\alpha x}(K\\cos(\\omega x) + M\\sin(\\omega x))$\n",
    "\n",
    "\n",
    "Here are some additional rules; we'll see why these are important later:\n",
    "\n",
    "* **Basic Rule**. If $r(x)$ is one of the functions in the first column in Table 2.1, choose in the same line and determine its undetermined coefficients by substituting $y_p$ and its derivatives into the differential equation.\n",
    "* **Modification Rule**. If a term in your choice for $y_p$ happens to be a solution of the homogeneous ODE corresponding to (4), multiply this term by x (or by  $x^2$ if this solution corresponds to a double root of the characteristic equation of the homogeneous ODE).\n",
    "* **Sum Rule**. If is a sum of functions in the first column of Table 2.1, choose for the sum of the functions in the corresponding lines of the\n",
    "second column."
   ]
  },
  {
   "cell_type": "markdown",
   "metadata": {
    "id": "0SL_qwYnZxDY"
   },
   "source": [
    "$\\underline{\\text{Recap}}$:\n",
    "* Given $y'' + ay' + by = r(x) \\hspace{3cm} (*)$\n",
    "* Solve $y'' + ay' + by = 0$ to get $y_H(x) = c_1y_1 + c_2y_2$\n",
    "* Then choose $y_P(x)$ based on $r(x)$\n",
    "\\begin{align}\n",
    "y(x) = c_1y_1 + c_2y_2 + y_P\\\\\n",
    "y'(x) = c_1y_1' + c_2y_2' + y_p'\\\\\n",
    "y''(x) = c_1y_1'' + c_2y_2'' + y_p''\n",
    "\\end{align}\n",
    "* Plug back into $(*)$ to check:\n",
    "\\begin{align}\n",
    "(c_1y_1'' + c_2y_2'' + y_P'') + a(c_1y_1' + c_2y_2' + y_P') + b(c_1y_1 + c_2y_2 + y_P) = r(x)\\\\\n",
    "c_1(y_1'' + ay_1' + by_1) + c_2(y_2'' + ay_2' + by_2) + y_P'' + ay_P' + by_P = r(x)\n",
    "\\end{align}\n",
    "Therefore, $y_P'' + ay_P' + by_P = r(x)$ and $y_P$ is a linear solution to the problem (which is why only some functions work)"
   ]
  },
  {
   "cell_type": "markdown",
   "metadata": {
    "id": "-JvrHlbtcKF1"
   },
   "source": [
    "### Example: $y'' + 2y' - 3y = 4e^{2x}$\n"
   ]
  },
  {
   "cell_type": "markdown",
   "metadata": {
    "id": "5AUk87UCkvP9"
   },
   "source": [
    "\n",
    "\\begin{align}\n",
    "y(x) = y_H(x) + y_P(x)\n",
    "\\end{align}\n",
    "1. Find $y_H(x)$\n",
    "\\begin{align}\n",
    "\\lambda^2 + 2\\lambda - 3 &= 0\\\\\n",
    "(\\lambda + 3)(\\lambda - 1) &= 0 \\implies \\lambda_1 = 1; \\hspace{0.5cm} \\lambda_2 = -3\n",
    "\\end{align}\n",
    "\\begin{align}\n",
    "\\therefore y_H(x) = c_1e^x + c_2 e^{-3x}\n",
    "\\end{align}\n",
    "2. Choose $y_P(x)$ based on $r(x)$\\\n",
    "$\\implies$ Since $r(x) = 4e^{2x}$, let's pick $y_p(x) = Ke^{2x}$, where $K$ is the undetermined coefficient (not arbitrary)\n",
    "3. Find $K$ from non-homogeneous ODE\n",
    "\\begin{align}\n",
    "y_P'' + 2y_p' - 3y_p = 4e^{2x}\\\\\n",
    "y_p' = 2Ke^{2x}\\\\\n",
    "y_P'' = 4Ke^{2x}\n",
    "\\end{align}\n",
    "\\begin{align}\n",
    "\\implies 4Ke^{2x} + 4Ke^{2x} - 3Ke^{2x} = 4e^{2x}\\\\\n",
    "5K = 4\\\\\n",
    "K = \\frac{4}{5}\n",
    "\\end{align}\n",
    "4. Write down general solution\n",
    "\\begin{align}\n",
    "y(x) = y_H(x) + y_P(x)\\\\\n",
    "y(x) = c_1e^x + c_2e^{-3x} + \\frac{4}{5}e^{2x}\n",
    "\\end{align}\n",
    "Still need 2 IC's to find $c_1$ and $c_2$"
   ]
  },
  {
   "cell_type": "markdown",
   "metadata": {
    "id": "jYFvAv4lzDGc"
   },
   "source": [
    "## Non-homogeneous Linear $2^\\circ$ ODEs Continued"
   ]
  },
  {
   "cell_type": "markdown",
   "metadata": {
    "id": "1Gpmw0jOI8HE"
   },
   "source": [
    "$\\underline{\\text{Caution}}$: If you choose a $y_P(x)$ that is not linearly independent of $y_1$ and $y_2$, things will go wrong.\n",
    "\n",
    "### Example: $y'' - 4y = 4e^{2x}$\n"
   ]
  },
  {
   "cell_type": "markdown",
   "metadata": {
    "id": "ojUsrlmbk3jw"
   },
   "source": [
    "1. Solve $y'' - 4y = 0$\n",
    "\\begin{align}\n",
    "\\lambda^2 - 4 &= 0 \\implies \\lambda_1 = 2; \\hspace{0.5cm} \\lambda_2 = -2\\\\\n",
    "y_H(x) &= c_1e^{2x} + c_2 e^{-2x}\n",
    "\\end{align}\n",
    "2. Choose $y_P(x)$ based on $r(x)$\\\n",
    "Since $r(x) = 4e^{2x}$, choose $y_P(x) = Ke^{2x}$ as before.\\\n",
    "SPOILER: $Ke^{2x}$ is not linearly independent of $y_1(x) = e^{2x}$\n",
    "3. Find $K$ from non-homogeneous ODE\n",
    "\\begin{align}\n",
    "y_P'' - 4y_P = 4e^{2x}\\\\\n",
    "y_P' = 2Ke^{2x}\\\\\n",
    "y_P'' = 4Ke^{2x}\\\\\n",
    "\\implies 4Ke^{2x} - 4Ke^{2x} = 4e^{2x}\\\\\n",
    "0 = 4e^{2x} \\hspace{2cm} ??\n",
    "\\end{align}\n",
    "Step back:\n",
    "* If $y_p$ isn't linearly independent, it can be absorbed into $y_H(x)$.\n",
    "\n",
    "\\begin{align}\n",
    "y(x) &= c_1e^{2x} + c_2e^{-2x} + Ke^{2x}\\\\\n",
    "&= (c_1 + K)e^{2x} + c_2 e^{-2x} \\implies \\text{no undefined coefficient}\n",
    "\\end{align}\n",
    "* Solution: If $y_P(x)$ is linearly dependent on $y_1(x)$ or $y_2(x)$, multiply $y_P(x)$ by $x$ to obtain a linearly independent new $y_P(x)$ based on Reduction of Order.\\\n",
    "Therefore, choose $y_P(x) = Kxe^{2x}$. Then,\n",
    "\\begin{align}\n",
    "y_P'(x) &= Ke^{2x} + 2Kxe^{2x}\\\\\n",
    "y_P''(x) &= 2Ke^{2x} + 2Ke^{2x} + 4Kxe^{2x}\\\\\n",
    "&= 4Ke^{2x} + 4Kxe^{2x}\n",
    "\\end{align}\n",
    "\n",
    "3. Find $K$ \n",
    "\\begin{align}\n",
    "y_P'' - 4y_P = 4e^{2x}\\\\\n",
    "4Ke^{2x} + 4Kxe^{2x} - 4Kxe^{2x} = 4e^{2x}\\\\\n",
    "4K = 4\\\\\n",
    "K=1\\\\\n",
    "\\therefore y_P(x) = xe^{2x}\n",
    "\\end{align}\n",
    "4. General Solution\n",
    "\\begin{align}\n",
    "y(x) &= y_H(x) + y_P(x)\\\\\n",
    "y(x) &= c_1e^{2x} + c_2e^{-2x} + xe^{2x}\n",
    "\\end{align}"
   ]
  },
  {
   "cell_type": "markdown",
   "metadata": {
    "id": "TkGMb0jlNYTF"
   },
   "source": [
    "* Another place to be careful:\\\n",
    "$\\implies$ Double roots yields a homogeneous solution\n",
    "\\begin{align}\n",
    "y_H(x) = c_1e^{\\lambda x} + c_2xe^{\\lambda x}\n",
    "\\end{align}\n",
    "$\\implies$ Again, you must be careful to select $y_P(x)$ s.t. it is linearly independent.\\\n",
    "$\\implies$ if $r(x) \\propto e^{\\lambda x} $ or $xe^{\\lambda x}$, then $y_P(x) = Kx^2e^{\\lambda x}$ (Obtained from a second reduction of order)"
   ]
  },
  {
   "cell_type": "markdown",
   "metadata": {
    "id": "j2iYgDoIOpvB"
   },
   "source": [
    "### More complex example: $y'' + 2y' -3y = -3x^2 + \\sin(x)$\n",
    "\n"
   ]
  },
  {
   "cell_type": "markdown",
   "metadata": {
    "id": "WSCAWvZHlKtN"
   },
   "source": [
    "\n",
    "1. Solve the homogeneous ODE\n",
    "\\begin{align}\n",
    "y'' + 2y' - 3y = 0\\\\\n",
    "\\lambda^2 + 2\\lambda -3 = 0\\\\\n",
    "(\\lambda+3)(\\lambda-1) = 0 && \\implies \\lambda_1 = 1, \\hspace{0.5cm} \\lambda_2 = -3\\\\\n",
    "y_H(x) = c_1e^x + c_2e^{-3x}\n",
    "\\end{align}\n",
    "2. Choose $y_P(x)$ based on $r(x)$\\\n",
    "$\\underline{\\text{Rule}}$: If $r(X)$ is a sum of wo functions, then $y_P(x)$ should be a sum of the corresponding functions.\n",
    "\\begin{align}\n",
    "r(x) &= -3x^2 + \\sin(x)\\\\\n",
    "\\therefore y_P(x) &= Ax^2 + Bx + C + K\\sin(x) + M\\cos(x)\n",
    "\\end{align}\n",
    "3. Find undetermined coefficients from ODE\n",
    "\\begin{align}\n",
    "y_P' &= 2Ax + B + K\\cos(x) - M\\sin(x)\\\\\n",
    "y_P'' &= 2A - K\\sin(x) - M\\cos(x)\n",
    "\\end{align}\n",
    "* Plugging into ODE:\n",
    "\\begin{align}\n",
    "2A - K\\sin(x) - M\\cos(x) + 2[2Ax + B + K\\cos(x) - M\\sin(x)] - 3[Ax^2 + Bx + C + K\\sin(x) + M\\cos(x)] = -3x^2 + \\sin(x)\n",
    "\\end{align}\n",
    "* Rearrange to collect 'like' terms\n",
    "\\begin{align}\n",
    "-3Ax^2 + (4A - 3B)x + (2A + 2B - 3C) + (-K -2M -3K)\\sin(x) + (-M + 2K -3M)\\cos(x) = -3x^2 + \\sin(x)\n",
    "\\end{align}\n",
    "\n",
    "* Determine the values of the coefficients on each $f(x)$ that will solve the equation\n",
    "  1. $-3Ax^2 = -3x^2 \\implies A = 1$ \n",
    "  2. $(4A-3B)x - 0$ because $r(x)$ has no '$x$' term . Hence, $4-3B = 0 \\implies B = \\frac{4}{3}$\n",
    "  3. $2A + 2B - 3C = 0 \\implies 2+\\frac{8}{3} - 3C = 0 \\implies C=\\frac{14}{9}$\n",
    "  4.  $-K -2M -3K = 1 \\implies 2M = -4K -1 \\implies M = -2K -\\frac{1}{2}$\n",
    "  5. \n",
    "  \\begin{align}\n",
    "  -M + 2K -3M = 0\\\\\n",
    "  2K = 4M\\\\\n",
    "  K = 2(-2K-\\frac{1}{2}) = -4K-1\\\\\n",
    "  \\implies K = -\\frac{1}{5}\\\\\n",
    "  \\implies M = -\\frac{1}{10}\n",
    "  \\end{align} \n",
    "  \\begin{align}\n",
    "  \\therefore y_P(x) = -3x^2 + \\frac{4}{3}x + \\frac{14}{9}-\\frac{1}{10}(2\\sin x + \\cos x)\n",
    "  \\end{align}\n",
    "\n",
    "4. Write down the general solution\n",
    "\\begin{align}\n",
    "y(x) &= y_H(x) + y_P(x)\\\\\n",
    "&= c_1e^x + c_2e^{-3x} + y_P(x)\n",
    "\\end{align}"
   ]
  },
  {
   "cell_type": "markdown",
   "metadata": {
    "id": "_DlYrC4pyeIG"
   },
   "source": [
    "## Variation of Parameters\n",
    "* Non-homogeneous, linear $2^\\circ$ ODEs are solvable with Method of Undetermined Coefficients only when $r(x)$ is one of the functions discussed.\n",
    "* If $r(x)$ is something different, we need an alternate method $\\rightarrow$ variation of parameters.\n",
    "* Requires calculation of the Wronskian of the ODE\n",
    "  * The value of the Wronskian answers the question: Does a solution exist for the homogeneous equation $y'' + p(x)y' + q(x)y = 0$ ? (specifically at initial condition $x=x_0$)\\\n",
    "For $y(x) = c_1y_1(x) + c_2y_2(x)$, the Wronskian is defined as a determinant:\n",
    "\\begin{align}\n",
    "W(y_1,y_2) \\equiv \\left|\\begin{array}{} y_1 & y_2 \\\\ y_1' & y_2'\\end{array}\\right| = y_1y_2' - y_2y_1'\n",
    "\\end{align}\n",
    "* If $W(y_1,y_2) = 0$ at $x=x_0$, then $y_1$ and $y_2$ are linearly dependent $\\rightarrow$ not good\n",
    "* If $W(y_1,y_2) \\neq 0$ on the interval of interest, which includes $x_0$, then the solutions $y_1$ and $y_2$ are linearly independent.\n",
    "\n",
    "\n"
   ]
  },
  {
   "cell_type": "markdown",
   "metadata": {
    "id": "oORm-FHQn_3B"
   },
   "source": [
    "### Example\n"
   ]
  },
  {
   "cell_type": "markdown",
   "metadata": {
    "id": "GSRDDxDVm58b"
   },
   "source": [
    "Constant coefficient case with 2 distinct roots: $y_1=\\lambda_1e^{\\lambda_1 x}$ and $y_2 = \\lambda_2e^{\\lambda_2 x}$\n",
    "\\begin{align}\n",
    "\\therefore y_1' = \\lambda_1 e^{\\lambda_1x} && \\& && y_2' = \\lambda_2e^{\\lambda_2x}\n",
    "\\end{align}\n",
    "\\begin{align}\n",
    "W(y_1,y_2) &= e^{\\lambda_1 x}\\cdot \\lambda_2e^{\\lambda_2x} - e^{\\lambda_2 x} \\cdot \\lambda_1 e^{\\lambda_1x}\\\\\n",
    "&= (\\lambda_2 - \\lambda_1)e^{(\\lambda_1 + \\lambda_2)x} \n",
    "\\end{align}\n",
    "which never equals zero except for $\\lambda_2 = \\lambda_1$ which by definition is not the case. Therefore, solution exists for all initial conditions."
   ]
  },
  {
   "cell_type": "markdown",
   "metadata": {
    "id": "sf1nBwqQT0NX"
   },
   "source": [
    "## Variation of Parameters (sec 2.10)\n",
    "For solving $y'' + p(x)y' + q(x)y = r(x)$\\\n",
    "where $p(x)$, $q(x)$ and $r(x)$ are continuous over some interval $I$.\\\n",
    "$\\implies$ Based on same idea as reduction of order\n",
    "* First, find $y_H(x) = c_1y_1 + c_2y_2$\n",
    "* Then we will base $y_P(x)$ on $y_H(x)$, $\\underline{\\text{not}}$ $r(x)$ like before\n",
    "\\begin{align}\n",
    "y_P(x) = u(x)y_1(x) + v(x)y_2(x) \\hspace{3cm} (*)\n",
    "\\end{align}\n",
    "where $u(x)$ and $v(x)$ are \"parameters\" that replace $c_1$ and $c_2$ in $y_H(x)$\n",
    "\\begin{align}\n",
    "y_P' = u'y_1 + uy_1' + v'y_2 + vy_2'\n",
    "\\end{align}\n",
    "  * Since there is only one equation $(*)$ for $y_P(x)$ and two unknown functions ($u(x)$ and $v(x)$), there will likely be many choices of $u$ and $v$ that will work.\n",
    "  * However, we can impose an additional constraint (since there is an extra degree of freedom) if we like\n",
    "  * Choose this constraint to help simplify the solution method\n",
    "  \\begin{align}\n",
    "  u'y_1 + v'y_2 = 0\n",
    "  \\end{align}\n",
    "  That simplifies our first derivative\n",
    "  \\begin{align}\n",
    "  y_p' = uy_1' + vy_2'\n",
    "  \\end{align}\n",
    "  then,\n",
    "  \\begin{align}\n",
    "  y_p'' = uy_1'' + u'y_1' + vy_2'' + v'y_2'\n",
    "  \\end{align}\n",
    "* We can then plug these terms back into non-homogeneous ODE:\n",
    "\\begin{align}\n",
    "y_p'' + p(x)y_p' + q(x)y_p = r(x) \\\\\n",
    "(uy_1'' + u'y_1' + vy_2'' + v'y_2') + p(x)(uy_1' + vy_2') + q(x)(uy_1 + vy_2) = r(x)\n",
    "\\end{align}\n",
    "* Rearrange strategically:\n",
    "\\begin{align}\n",
    "u(y_1'' + py_1' + qy_1) + v(y_2'' + py_2' + qy_2) + u'y_1' + v'y_2' = r(x)\n",
    "\\end{align}\n",
    "By definition, $y_1$ and $y_2$ are solutions of homogeneous equation so $y_1''+py_1'+qy_1=0$ and $y_2''+py_2'+qy_2$. Thus\n",
    "\\begin{align}\n",
    "\\therefore u'y_1' + v'y_2' &= r\\\\\n",
    "u'y_1 + v'y_2 &= 0 \\text{ [from above]}\n",
    "\\end{align}\n",
    "We now have two equations with two unknowns $u$ and $v$\n",
    "\\begin{align}\n",
    "\\begin{bmatrix}y_1 & y_2\\\\ y_1' & y_2'\\end{bmatrix} \\begin{bmatrix} u' \\\\ v' \\end{bmatrix} = \\begin{bmatrix} 0 \\\\ r \\end{bmatrix}\n",
    "\\end{align}\n",
    "* Could solve by Gauss Elimination or by something called Cramer's rule, which says\\\n",
    "for $\\begin{bmatrix} a_{11} & a_{12} \\\\ a_{21} & a_{22} \\end{bmatrix} \\begin{bmatrix} x_1 \\\\ x_2 \\end{bmatrix} = \\begin{bmatrix} b_1 \\\\b_2 \\end{bmatrix}$\\\n",
    "that\n",
    "\\begin{align}\n",
    "x_1 =\\frac{ \\left| \\begin{array}{} b_1 & a_{12} \\\\ b_2 & a_{22}\\end{array}\\right|} \n",
    "{\\left| \\begin{array}{} a_{11} & a_{12} \\\\ a_{21} & a_{22}\\end{array}\\right| } \\hspace{0.5cm}\\text{&} \\hspace{0.5cm}\n",
    "x_2 = \\frac{ \\left| \\begin{array}{} a_{11} & b_1 \\\\ a_{21} & b_2\\end{array}\\right|} \n",
    "{\\left| \\begin{array}{} a_{11} & a_{12} \\\\ a_{21} & a_{22}\\end{array}\\right| }\n",
    "\\end{align}\n",
    "\n",
    "\n"
   ]
  },
  {
   "cell_type": "markdown",
   "metadata": {
    "id": "EqZvXYD7cUAD"
   },
   "source": [
    "\\begin{align}\n",
    "\\therefore u' = \\frac{ \\left| \\begin{array}{} 0 & y_2 \\\\ r & y_2'\\end{array}\\right|} \n",
    "{\\left| \\begin{array}{} y_1 & y_2 \\\\ y_1' & y_2'\\end{array}\\right| }\n",
    "= \\frac{-ry_2}{W}\n",
    "\\end{align}\n",
    "and \n",
    "\\begin{align}\n",
    "v' = \\frac{ \\left| \\begin{array}{} y_1 & 0 \\\\ y_1' & r\\end{array}\\right|} \n",
    "{\\left| \\begin{array}{} y_1 & y_2 \\\\ y_1' & y_2'\\end{array}\\right| }\n",
    "= \\frac{ry_1}{W}\\\\\n",
    "\\therefore u(x) = \\int \\frac{-r(x)y_2(x)}{W}dx\\\\\n",
    "v(x) = \\int \\frac{r(x)y_1(x)}{W}dx\n",
    "\\end{align}\n",
    "and then\n",
    "\\begin{align}\n",
    "y(x) &= y_H(x) + y_P(x)\\\\\n",
    "y(x) &= c_1y_1 + c_2y_2 + uy_1 + vy_2\n",
    "\\end{align}\n",
    "Therefore, V.O.P can be written as:\n",
    "\\begin{align}\n",
    "y(x) = \\left[c_1 + \\int \\frac{-ry_2}{W} dx \\right]y_1 + \\left[c_2 + \\int \\frac{ry_1}{W} dx \\right] y_2 && \\text{general solution}\n",
    "\\end{align}\n",
    "* Nice solution technique because it's general and can be used for any $r(x)$"
   ]
  },
  {
   "cell_type": "markdown",
   "metadata": {
    "id": "fSQrzQ9AgGN2"
   },
   "source": [
    "### Example \n",
    "\n",
    "First, let's do one that can be solved with MUC or VoP\n",
    "\\begin{align}\n",
    "y'' + y = x\n",
    "\\end{align}\n",
    "\n"
   ]
  },
  {
   "cell_type": "markdown",
   "metadata": {
    "id": "yzDjcFAQqI5A"
   },
   "source": [
    "for either solution method, solve $y''+y=0$ first\n",
    "\\begin{align}\n",
    "\\lambda^2 + 1 = 0 \\implies \\lambda^2 = -1 \\implies \\lambda = \\pm i\\\\\n",
    "a = 0, \\hspace{0.5cm} b = 1 \\implies \\omega = \\sqrt{b - \\frac{1}{4}a^2} = 1\\\\\n",
    "\\end{align}\n",
    "\\begin{align}\n",
    "y_H(x) &= e^{-\\frac{a}{2}}[c_1\\sin(\\omega x) + c_2\\cos(\\omega x)]\\\\\n",
    "&= c_1\\sin x + c_2 \\cos x\n",
    "\\end{align}\n",
    "1. if using MUC, choose\n",
    "\\begin{align}\n",
    "y_P(x) = Ax + B\\\\\n",
    "y_P' = A\\\\\n",
    "y_P'' = 0\\\\\n",
    "\\end{align}\n",
    "substitute,\n",
    "\\begin{align}\n",
    "y_P'' + y_P = x\\\\\n",
    "0 + Ax + B = x \\\\\n",
    "\\implies A = 1, \\hspace{0.5cm} B = 0\\\\\n",
    "\\therefore y_P(x) = +x\n",
    "\\end{align}\n",
    "and \n",
    "\\begin{align}\n",
    "y(x) = c_1\\sin x + c_2\\cos x + x\n",
    "\\end{align}\n",
    "2. if using VoP, then \n",
    "\\begin{align}\n",
    "y_P(x) = u(x)\\sin(x) + v(x)\\cos(x)\n",
    "\\end{align}\n",
    "where\n",
    "\\begin{align}\n",
    "u(x) = \\int \\frac{-r(x)y_2(x)}{W}dx\\\\\n",
    "v(x) = \\int \\frac{r(x)y_1(x)}{W}dx\n",
    "\\end{align}\n",
    "* We know $r(x)$, $y(x)$ and $y_2(x)$. Let's find the Wronskian\n",
    "\\begin{align}\n",
    "y_1 = \\sin x\\\\\n",
    "y_1' = \\cos x \\\\\n",
    "y_2 = \\cos x\\\\\n",
    "y_2' = -\\sin x\n",
    "\\end{align}\n",
    "Hence, \n",
    "\\begin{align}\n",
    "W(y_1, y_2) &= y_1y_2' - y_2y_1'\\\\\n",
    "&= -\\sin^2x - \\cos^2x\\\\\n",
    "&= -(\\sin^2x + \\cos^2x)\\\\\n",
    "&= -1\\\\\n",
    "\\therefore u(x) &= \\int r(x)y_2(x)dx\\\\\n",
    "&= \\int x\\cos x dx\\\\\n",
    "&=\\cos x + x\\sin x\\\\\n",
    "v(x) &= -\\int r(x) y_1(x) dx\\\\\n",
    "&=-\\int x \\cdot \\sin x dx\\\\\n",
    "&= -\\sin x + x\\cos x && \\text{(integration by parts)}\n",
    "\\end{align}\n",
    "\n",
    "Then, \n",
    "\\begin{align}\n",
    "y_P &= u\\sin x + v\\cos x\\\\\n",
    "&= (\\cos x + x\\sin x)\\cdot \\sin x + (x \\cos x - \\sin x) \\cos x\\\\\n",
    "&= x (\\sin^2x + \\cos^2x) \\\\\n",
    "&= x\n",
    "\\end{align}\n",
    "and \n",
    "\\begin{align}\n",
    "\\therefore y(x) &= y_H(x) + y_P(x)\\\\\n",
    "y(x) &= c_1\\sin(x) + c_2\\cos(x) + x && \\text{same answer :)}\n",
    "\\end{align}\n",
    "$\\underline{\\text{Ques}}$: Which method would you prefer in this case? What if we had many undefined coefficients?"
   ]
  },
  {
   "cell_type": "markdown",
   "metadata": {
    "id": "qBkY-NLurN1Q"
   },
   "source": [
    "### Example\n",
    "\n",
    "Now an example for which we can't use MUC\n",
    "\\begin{align}\n",
    "y'' -2y' + y = \\frac{12e^x}{x^3}\n",
    "\\end{align}\n"
   ]
  },
  {
   "cell_type": "markdown",
   "metadata": {
    "id": "rq7JlqpgnTt4"
   },
   "source": [
    "1. Solve homogeneous case\n",
    "\\begin{align}\n",
    "\\lambda^2 - 2\\lambda + 1 = 0\\\\\n",
    "(\\lambda - 1)^2 = 0 \\implies \\lambda = 1\\\\\n",
    "\\therefore y_H(x) = c_1e^x + c_2xe^x\n",
    "\\end{align}\n",
    "2. Assume $y_P(x) = u(x)y_1(x) + v(x)y_2(x)$\n",
    "  * Find Wronskian\n",
    "  \\begin{align}\n",
    "  y_1 = e^x, &\\hspace{0.5cm} y_1' = e^x\\\\\n",
    "  y_2 = xe^x, &\\hspace{0.5cm} y_2' = e^x(x+1)  \n",
    "  \\end{align}\n",
    "  Hence,\n",
    "  \\begin{align}\n",
    "  W(y_1,y_2) &= y_1y_2' - y_2y_1'\\\\\n",
    "  &= e^{2x}(x+1) - xe^{2x}\\\\\n",
    "  &= xe^{2x} + e^{2x} - xe^{2x}\\\\\n",
    "  W &= e^{2x}\n",
    "  \\end{align}\n",
    "  * Then\n",
    "  \\begin{align}\n",
    "  u(x) &= \\int \\frac{-r(x)y_2(x)}{W} dx\\\\\n",
    "  &= -\\int \\frac{12e^x}{x^3} \\cdot \\frac{xe^x}{e^{2x}}dx\\\\\n",
    "  &= -12 \\int x^{-2}dx\\\\\n",
    "  u(x) &= 12x^{-1}\\\\\n",
    "  v(x) &= \\int\\frac{r(x)y_1(x)}{W} dx\\\\\n",
    "  &= \\int \\frac{12e^x}{x^3} \\cdot \\frac{e^x}{e^{2x}} dx\\\\\n",
    "  &= 12\\int x^{-3}\\\\\n",
    "  v(x) &= -6x^{-2}\n",
    "  \\end{align}\n",
    "3. Write down general solution\n",
    "\\begin{align}\n",
    "y(x) &= y_H + y_P\\\\\n",
    "&= (c_1 + u)y_1 + (c_2 + v)y_2\\\\\n",
    "&= \\left(c_1 + \\frac{12}{x}\\right)e^x + \\left(c_2 - \\frac{6}{x^2}\\right)xe^x\\\\\n",
    "y(x) &= (c_1 + c_2x)e^x + \\frac{6}{x}e^x\n",
    "\\end{align}\n",
    "Still need two IC's to find particular solution"
   ]
  }
 ],
 "metadata": {
  "colab": {
   "collapsed_sections": [],
   "name": "14-MoUC-VoP.ipynb",
   "provenance": []
  },
  "kernelspec": {
   "display_name": "Python 3 (ipykernel)",
   "language": "python",
   "name": "python3"
  },
  "language_info": {
   "codemirror_mode": {
    "name": "ipython",
    "version": 3
   },
   "file_extension": ".py",
   "mimetype": "text/x-python",
   "name": "python",
   "nbconvert_exporter": "python",
   "pygments_lexer": "ipython3",
   "version": "3.9.13"
  }
 },
 "nbformat": 4,
 "nbformat_minor": 4
}
